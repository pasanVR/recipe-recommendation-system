{
 "cells": [
  {
   "cell_type": "code",
   "execution_count": 6,
   "id": "44789adb",
   "metadata": {},
   "outputs": [
    {
     "name": "stdout",
     "output_type": "stream",
     "text": [
      "\n",
      "Topic  0\n",
      "salt, oil, pepper, kosher, olive, sugar, garlic, black, butter, juice, red, lemon, unsalted, thinly, leaves, cloves, white, vinegar, onion, vegetable\n",
      "\n",
      "Topic  1\n",
      "sugar, butter, unsalted, vanilla, cream, extract, baking, temperature, room, egg, salt, chocolate, eggs, milk, heavy, granulated, water, chilled, cinnamon, pure\n",
      "\n",
      "Topic  2\n",
      "juice, lemon, sugar, lime, oil, orange, thinly, zest, leaves, sauce, water, ginger, cilantro, peel, minced, mint, green, halved, seeds, soy\n",
      "\n",
      "Topic  3\n",
      "lemon, juice, salt, olive, pepper, kosher, zest, black, extravirgin, unsalted, sea, parsley, freshly, butter, orange, peel, atleaf, parmesan, coarse, chives\n",
      "\n",
      "Topic  4\n",
      "olive, oil, extravirgin, cheese, butter, parsley, garlic, unsalted, temperature, room, tomatoes, vanilla, cloves, extract, dry, italian, cream, baking, chocolate, wine\n",
      "\n",
      "Topic  5\n",
      "oil, kosher, salt, olive, vinegar, thinly, seeds, sugar, vegetable, extravirgin, sesame, baking, toasted, extract, vanilla, coconut, removed, spray, torn, chocolate\n",
      "\n",
      "Topic  6\n",
      "red, thinly, vinegar, sugar, pepper, wine, halved, cream, lengthwise, crushed, vanilla, bell, akes, olive, cheese, extravirgin, slices, leaves, heavy, thick\n",
      "\n",
      "Topic  7\n",
      "pepper, sugar, black, cream, minced, water, diced, oil, red, vanilla, dried, egg, bell, heavy, extract, onion, vegetable, sea, tomatoes, salt\n",
      "\n",
      "Topic  8\n",
      "cloves, seeds, dried, leaves, garlic, kosher, chiles, crushed, salt, cream, cumin, removed, coarsely, olive, tomatoes, vanilla, oregano, cori, extravirgin, bay\n",
      "\n",
      "Topic  9\n",
      "leaves, cream, cheese, thinly, lime, coarsely, heavy, cilantro, chocolate, black, milk, whipping, basil, sauce, slices, halved, green, vanilla, stems, corn\n",
      "\n",
      "Topic  0\n",
      "pepper, black, salt, freshly, cayenne, sea, paprika, akes, mustard, diced, onion, cream, bell, thyme, yellow, cracked, potatoes, chives, celery, mayonnaise\n",
      "\n",
      "Topic  1\n",
      "butter, unsalted, temperature, room, baking, salt, eggs, cheese, milk, softened, pan, dry, coarsely, white, egg, soda, slices, cold, vegetable, bread\n",
      "\n",
      "Topic  2\n",
      "lemon, juice, zest, orange, lime, peel, mint, wedges, sugar, water, garnish, squeezed, ice, parsley, honey, yogurt, chilled, meyer, clove, leaves\n",
      "\n",
      "Topic  3\n",
      "oil, sauce, vegetable, rice, ginger, soy, lime, sesame, seeds, cilantro, toasted, minced, ions, juice, asian, sugar, fish, green, coconut, chile\n",
      "\n",
      "Topic  4\n",
      "oil, olive, extravirgin, garlic, cheese, parsley, tomatoes, clove, parmesan, salt, trimmed, drained, sea, basil, halved, italian, bread, slices, baby, coarsely\n",
      "\n",
      "Topic  5\n",
      "garlic, cloves, dried, chicken, onion, minced, white, broth, water, dry, thyme, bay, diced, parsley, tomatoes, coarsely, onions, chiles, cumin, leaves\n",
      "\n",
      "Topic  6\n",
      "red, vinegar, wine, pepper, crushed, onion, akes, bell, white, peppers, seeds, sherry, dry, diced, tomatoes, cider, apple, halved, yellow, balsamic\n",
      "\n",
      "Topic  7\n",
      "thinly, leaves, halved, lengthwise, crosswise, stems, trimmed, mint, torn, removed, green, coarsely, thick, slices, basil, cilantro, tender, head, ions, white\n",
      "\n",
      "Topic  8\n",
      "kosher, salt, seeds, coarse, removed, white, sea, vinegar, coarsely, milk, flaky, serving, vegetable, yogurt, honey, plain, oz, cori, crushed, mustard\n",
      "\n",
      "Topic  9\n",
      "sugar, cream, vanilla, extract, egg, salt, heavy, chocolate, baking, water, granulated, milk, cinnamon, eggs, chilled, light, pure, whipping, bittersweet, temperature\n"
     ]
    }
   ],
   "source": [
    "import pandas as pd\n",
    "import numpy as np\n",
    "import matplotlib.pyplot as plt\n",
    "import seaborn as sns\n",
    "import pickle\n",
    "import nltk\n",
    "from sklearn.feature_extraction.text import CountVectorizer\n",
    "from sklearn.decomposition import TruncatedSVD, NMF\n",
    "from sklearn.metrics.pairwise import cosine_similarity\n",
    "from nltk.corpus import stopwords\n",
    "import functions\n",
    "\n",
    "# Set up for matplotlib inline\n",
    "%matplotlib inline\n",
    "\n",
    "# Load Data\n",
    "rbdata_ar = pd.read_csv('CleanedRecipes.csv')\n",
    "rbdata_ar.index = range(len(rbdata_ar))\n",
    "data = rbdata_ar.loc[:, ['Title', 'Ingredients', 'Instructions','CleanIngredients','Image_Name']]\n",
    "data = data.dropna(how='any')\n",
    "data.index = range(len(data))\n",
    "\n",
    "# Define stopwords\n",
    "stopwords_nltk = stopwords.words('english')\n",
    "#stopwords_nltk.extend(['ADVERTISEMENT', 'advertisement'])\n",
    "\n",
    "# Process ingredients column\n",
    "data_ingr = data['CleanIngredients'].apply(functions.regex_nodigits_new)\n",
    "stopwords_ingr = stopwords_nltk + ['tablespoon', 'teaspoon', 'cup', 'ounce', 'pound', 'tablespoons', 'teaspoons', 'cups', 'ounces', 'pounds', 'inch', 'inches']\n",
    "\n",
    "# Vectorize ingredients\n",
    "corpus = data_ingr\n",
    "ct_vectorizer = CountVectorizer(stop_words=stopwords_ingr)\n",
    "ingr_ct = ct_vectorizer.fit_transform(corpus)\n",
    "\n",
    "# Apply LSA\n",
    "lsa_10 = TruncatedSVD(10)\n",
    "ct_lsa_10 = lsa_10.fit_transform(ingr_ct)\n",
    "functions.display_topics(lsa_10, ct_vectorizer.get_feature_names(), 20)\n",
    "\n",
    "# Apply NMF\n",
    "nmf_10 = NMF(n_components=10, init='nndsvda', max_iter=14000, tol=1e-4)\n",
    "rb_nmf_10 = nmf_10.fit_transform(ingr_ct)\n",
    "functions.display_topics(nmf_10, ct_vectorizer.get_feature_names(), 20)"
   ]
  },
  {
   "cell_type": "code",
   "execution_count": 7,
   "id": "e4872d84",
   "metadata": {},
   "outputs": [
    {
     "data": {
      "text/plain": [
       "0        ['chicken kosher salt acorn sage rosemary unsa...\n",
       "1        ['egg whites potatoes kosher salt black pepper...\n",
       "2        ['milk milk garlic onion paprika black pepper ...\n",
       "3        ['Italian loaf olive oil sweet Italian sausage...\n",
       "4        ['sugar water oz bon oz lemon juice apple butt...\n",
       "                               ...                        \n",
       "13483    ['cocoa doubleacting baking salt eggs granulat...\n",
       "13484    ['lemon butternut dice olive oil onion Israeli...\n",
       "13485    ['Leftover katsuo bushi from making katsuo bus...\n",
       "13486    ['unsalted butter baby spinach feta crumbled n...\n",
       "13487    ['poblano chiles tomatoes juice garlic cloves ...\n",
       "Name: CleanIngredients, Length: 13488, dtype: object"
      ]
     },
     "execution_count": 7,
     "metadata": {},
     "output_type": "execute_result"
    }
   ],
   "source": [
    "data_ingr"
   ]
  },
  {
   "cell_type": "code",
   "execution_count": 8,
   "id": "b2bb785e",
   "metadata": {},
   "outputs": [],
   "source": [
    "# Compute similarity matrix\n",
    "similarity = cosine_similarity(ct_lsa_10)"
   ]
  },
  {
   "cell_type": "code",
   "execution_count": 9,
   "id": "3ee611a8",
   "metadata": {},
   "outputs": [],
   "source": [
    "pickle.dump(ct_vectorizer, open('Artifacts/ct_vectorizer.pkl', 'wb'))\n",
    "pickle.dump(lsa_10, open('Artifacts/lsa_10.pkl', 'wb'))\n",
    "pickle.dump(ct_lsa_10, open('Artifacts/ct_lsa_10.pkl', 'wb'))"
   ]
  },
  {
   "cell_type": "code",
   "execution_count": 10,
   "id": "4cfbfb31",
   "metadata": {},
   "outputs": [],
   "source": [
    "pickle.dump(data, open('Artifacts/RecipeList.pkl', 'wb'))\n",
    "pickle.dump(similarity, open('Artifacts/similarity.pkl', 'wb'))"
   ]
  },
  {
   "cell_type": "code",
   "execution_count": 13,
   "id": "a00a743a",
   "metadata": {},
   "outputs": [
    {
     "name": "stdout",
     "output_type": "stream",
     "text": [
      "Recipe Title: Brown Bag Chicken\n",
      "Ingredients: ['One 3- to 3 1/2-pound chicken', 'Sea salt and freshly ground black pepper', '1 onion, cut in half', '4 sprigs fresh rosemary', '1 tablespoon ground hot Hungarian paprika']\n",
      "Instructions: Preheat the oven to 400°F.\n",
      "Rinse the chicken, pat dry, and remove any excess fat. Sprinkle generously with salt and pepper to taste inside and out. Place the onion and rosemary inside the cavity and rub the outside of the chicken with the paprika.\n",
      "Lay a standard-size brown paper grocery bag on its side and place the chicken inside, tying the top of the bag closed with kitchen string. Place the bagged chicken on a rimmed baking sheet in the lower third of the oven, so you have plenty of room at the top. Cook for 1 1/2 hours, remove the chicken from the oven, and carefully open the bag to release the steam. Check for doneness by inserting an internal thermometer in the thickest part of the thigh; it should read about 165°F and the juices should run clear when the thigh is pierced with the tip of a small knife. Let rest for about 10 minutes before carving. Slice the breasts and cut the wings, legs, and thighs into pieces. Serve warm.\n",
      "\n",
      "Recipe Title: Turkey Matzo Ball Soup\n",
      "Ingredients: ['2 eggs', '2 tablespoons chicken fat (or melted butter, unless you’re keeping a kosher kitchen)', '1/4 cup matzo meal', '1/4 cup panko breadcrumbs', '1 teaspoon salt, plus more to taste', '2 tablespoons seltzer', '2 quarts turkey stock (or strong chicken stock)', '1 large carrot, peeled and cut into chunks', '2 sprigs dill, finely chopped', 'Freshly ground black pepper to taste']\n",
      "Instructions: In a medium to large mixing bowl, beat the eggs until they are uniformly yellow. Whisk in the fat, then stir in the matzo meal, panko and teaspoon of salt and mix gently to combine. Add the seltzer, gently mix again, then cover and chill in refrigerator for 30 minutes.\n",
      "Bring the stock to a boil in a wide pot with a lid. Remove the matzo mixture from the refrigerator and use moist hands to gently form the mixture into 1-inch diameter balls. Add them to the boiling stock, along with the carrot and the dill. Reduce the heat to a high simmer, cover and let cook undisturbed for 30 minutes.\n",
      "Taste the broth and season with salt and pepper as needed. Serve immediately.\n",
      "\n",
      "Recipe Title: Jerk Chicken\n",
      "Ingredients: ['2 teaspoons allspice, ground', '1 teaspoon cinnamon, ground', '1/2 teaspoon nutmeg, ground', '1 onion, large, cut into eighths (about 1/2 pound)', '4 scallions, cut into fourths', '1 Scotch bonnet chile, seeded', '1/2 teaspoon dark rum', '1 teaspoon salt, or to taste', '1 teaspoon freshly ground black pepper, or to taste', '8 chicken breasts, boneless, skinless']\n",
      "Instructions: Preheat the oven to 375°F.\n",
      "Combine the allspice, cinnamon, nutmeg, onion, scallions, chile, rum, salt, and pepper in a food processor. Process until the mixture forms a thick salsa-like mixture.\n",
      "Rub the mixture on each chicken breast and place the chicken in a zipper-lock plastic bag. Squeeze out the air and seal the bag. Refrigerate for 10 minutes.\n",
      "Spray the rack of a roasting pan with non-stick spray and place in the pan.\n",
      "Arrange the chicken on the rack, and bake for 12 minutes. Flip the chicken and cook another 15 minutes until cooked through. Serve warm.\n",
      "\n",
      "Recipe Title: Crispy Oven-Fried Chicken\n",
      "Ingredients: ['1/3 cup 1% buttermilk', '1/4 cup finely chopped fresh chives', '1 teaspoon Dijon mustard', '1/4 teaspoon hot sauce', '4 bone-in chicken breasts (about 12 ounces each)', '1/2 teaspoon salt', '1/2 teaspoon freshly ground black pepper', '1/2 cup dried bread crumbs']\n",
      "Instructions: 1. In a medium bowl, whisk together the buttermilk, chives, mustard, and hot sauce. Remove the skin from the chicken breasts, add the chicken to the bowl, and let it soak for at least 30 minutes or overnight.\n",
      "2. Preheat the oven to 425°F. Spray a rimmed baking sheet with cooking spray.\n",
      "3. Remove the chicken from the marinade and season it with salt and pepper. Place the bread crumbs in a wide, shallow bowl. Dip the chicken into the bread crumbs and toss well to coat. Place the chicken on the prepared baking sheet. Spray the chicken generously with cooking spray and bake until it is just cooked through, 25 to 30 minutes.\n",
      "\n",
      "Recipe Title: Roast Rack of Lamb with Natural Jus\n",
      "Ingredients: ['1 american rack of lamb or 2 new zealand racks of lamb', 'salt and pepper to taste', 'trimmings from the rack or 1 pound (450 grams) lamb stew meat cut into 1/2-inch (1 cm) pieces', 'broth or water as needed']\n",
      "Instructions: 1. Season the lamb and allow it to come to room temperature. Preheat the oven to 450°F (230°C).\n",
      "2. Spread the lamb trimmings or stew meat over the bottom of a roasting pan just large enough to hold the rack and roast until lightly browned, about 30 minutes.\n",
      "3. Place the rack on top of the trimmings (this base of trimmings is called a fonçage) and slide into the oven. Roast until springy to the touch, about 25 minutes. Let rest, loosely covered with aluminum foil, for 15 minutes.\n",
      "4. Put the roasting pan on top of the stove and pour over a cup (250 milliliters) of broth. Bring to a boil and boil until a brown crust of caramelized juices forms on the roasting pan. Pour out any liquid fat floating on top. Deglaze again with a cup (250 milliliters) of broth and scrape up the juices. Repeat the caramelization as many times as practical before deglazing a final time. Pass the jus in a sauce boat at the table.\n",
      "\n"
     ]
    }
   ],
   "source": [
    "# Function to recommend recipes\n",
    "def recommend(ingredients):\n",
    "    # Load precomputed data and similarity matrix\n",
    "    data = pickle.load(open('Artifacts/RecipeList.pkl', 'rb'))\n",
    "    similarity = pickle.load(open('Artifacts/similarity.pkl', 'rb'))\n",
    "    \n",
    "    # Process the input ingredients\n",
    "    input_ingr = functions.regex_nodigits_new(ingredients)\n",
    "    input_vector = ct_vectorizer.transform([input_ingr])\n",
    "    \n",
    "    # Compute similarity scores\n",
    "    input_lsa = lsa_10.transform(input_vector)\n",
    "    scores = cosine_similarity(input_lsa, ct_lsa_10)\n",
    "    \n",
    "    # Get top 5 similar recipes\n",
    "    indices = np.argsort(scores[0])[::-1][1:6]\n",
    "    \n",
    "    # Display the recommended recipes\n",
    "    for idx in indices:\n",
    "        print(f\"Recipe Title: {data.iloc[idx]['Title']}\")\n",
    "        print(f\"Ingredients: {data.iloc[idx]['Ingredients']}\")\n",
    "        print(f\"Instructions: {data.iloc[idx]['Instructions']}\\n\")\n",
    "\n",
    "# Example usage\n",
    "recommend(\"eggs, salt, flour, pepper, onion, chilies, chicken\")"
   ]
  },
  {
   "cell_type": "code",
   "execution_count": null,
   "id": "c82770dc",
   "metadata": {},
   "outputs": [],
   "source": []
  }
 ],
 "metadata": {
  "kernelspec": {
   "display_name": "Python 3",
   "language": "python",
   "name": "python3"
  },
  "language_info": {
   "codemirror_mode": {
    "name": "ipython",
    "version": 3
   },
   "file_extension": ".py",
   "mimetype": "text/x-python",
   "name": "python",
   "nbconvert_exporter": "python",
   "pygments_lexer": "ipython3",
   "version": "3.8.8"
  }
 },
 "nbformat": 4,
 "nbformat_minor": 5
}
