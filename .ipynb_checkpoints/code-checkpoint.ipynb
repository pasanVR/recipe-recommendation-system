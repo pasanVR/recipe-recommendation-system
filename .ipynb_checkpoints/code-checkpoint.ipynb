{
 "cells": [
  {
   "cell_type": "markdown",
   "metadata": {},
   "source": [
    "# Loading and cleaning text data\n",
    "## Import libraries"
   ]
  },
  {
   "cell_type": "code",
   "execution_count": 1,
   "metadata": {
    "ExecuteTime": {
     "end_time": "2019-11-15T07:04:57.284308Z",
     "start_time": "2019-11-15T07:04:53.396289Z"
    }
   },
   "outputs": [
    {
     "name": "stdout",
     "output_type": "stream",
     "text": [
      "Populating the interactive namespace from numpy and matplotlib\n"
     ]
    }
   ],
   "source": [
    "import pandas as pd\n",
    "import numpy as np\n",
    "\n",
    "import matplotlib.pyplot as plt\n",
    "import seaborn as sns\n",
    "%matplotlib inline\n",
    "\n",
    "# import sklearn\n",
    "from sklearn.feature_extraction.text import CountVectorizer \n",
    "from sklearn.feature_extraction.text import TfidfVectorizer  # TF-IDF\n",
    "from sklearn.preprocessing import scale\n",
    "from sklearn.cluster import KMeans\n",
    "from sklearn.decomposition import TruncatedSVD\n",
    "from sklearn.decomposition import NMF\n",
    "from sklearn.metrics.pairwise import cosine_similarity\n",
    "\n",
    "import nltk\n",
    "from nltk.corpus import stopwords \n",
    "from nltk.stem import LancasterStemmer, PorterStemmer\n",
    "from nltk.stem import WordNetLemmatizer\n",
    "#import spacy #for faster tokenization and lemmatization\n",
    "\n",
    "from sklearn.model_selection import train_test_split\n",
    "from sklearn.metrics import confusion_matrix\n",
    "\n",
    "import re\n",
    "import string\n",
    "\n",
    "import functions\n",
    "\n",
    "%pylab inline"
   ]
  },
  {
   "cell_type": "markdown",
   "metadata": {},
   "source": [
    "## Loading the RecipeBox dataset\n",
    "\n",
    "\n",
    "### allrecipes"
   ]
  },
  {
   "cell_type": "code",
   "execution_count": 6,
   "metadata": {
    "ExecuteTime": {
     "end_time": "2019-11-15T07:05:14.703901Z",
     "start_time": "2019-11-15T07:04:57.289470Z"
    }
   },
   "outputs": [],
   "source": [
    "#the three files are scraped from foodnetwork, epicurious, and allrecipes.com\n",
    "#start with allrecipes.com - took 18.4s to load, can consider putting it into database?\n",
    "rbdata_ar = pd.read_csv('Food Ingredients and Recipe Dataset with Image Name Mapping.csv')\n",
    "#rbdata_ar = pd.read_json(r'/Users/xinrucheng/Documents/GitHub/metisproject04/data/raw/recipes_raw/recipes_raw_nosource_ar.json')"
   ]
  },
  {
   "cell_type": "code",
   "execution_count": 7,
   "metadata": {
    "ExecuteTime": {
     "end_time": "2019-11-15T07:05:14.780333Z",
     "start_time": "2019-11-15T07:05:14.706092Z"
    }
   },
   "outputs": [
    {
     "data": {
      "text/html": [
       "<div>\n",
       "<style scoped>\n",
       "    .dataframe tbody tr th:only-of-type {\n",
       "        vertical-align: middle;\n",
       "    }\n",
       "\n",
       "    .dataframe tbody tr th {\n",
       "        vertical-align: top;\n",
       "    }\n",
       "\n",
       "    .dataframe thead th {\n",
       "        text-align: right;\n",
       "    }\n",
       "</style>\n",
       "<table border=\"1\" class=\"dataframe\">\n",
       "  <thead>\n",
       "    <tr style=\"text-align: right;\">\n",
       "      <th></th>\n",
       "      <th>Id</th>\n",
       "      <th>Title</th>\n",
       "      <th>Ingredients</th>\n",
       "      <th>Instructions</th>\n",
       "      <th>Image_Name</th>\n",
       "      <th>Cleaned_Ingredients</th>\n",
       "    </tr>\n",
       "  </thead>\n",
       "  <tbody>\n",
       "    <tr>\n",
       "      <th>0</th>\n",
       "      <td>0</td>\n",
       "      <td>Miso-Butter Roast Chicken With Acorn Squash Pa...</td>\n",
       "      <td>['1 (3½–4-lb.) whole chicken', '2¾ tsp. kosher...</td>\n",
       "      <td>Pat chicken dry with paper towels, season all ...</td>\n",
       "      <td>miso-butter-roast-chicken-acorn-squash-panzanella</td>\n",
       "      <td>['1 (3½–4-lb.) whole chicken', '2¾ tsp. kosher...</td>\n",
       "    </tr>\n",
       "    <tr>\n",
       "      <th>1</th>\n",
       "      <td>1</td>\n",
       "      <td>Crispy Salt and Pepper Potatoes</td>\n",
       "      <td>['2 large egg whites', '1 pound new potatoes (...</td>\n",
       "      <td>Preheat oven to 400°F and line a rimmed baking...</td>\n",
       "      <td>crispy-salt-and-pepper-potatoes-dan-kluger</td>\n",
       "      <td>['2 large egg whites', '1 pound new potatoes (...</td>\n",
       "    </tr>\n",
       "    <tr>\n",
       "      <th>2</th>\n",
       "      <td>2</td>\n",
       "      <td>Thanksgiving Mac and Cheese</td>\n",
       "      <td>['1 cup evaporated milk', '1 cup whole milk', ...</td>\n",
       "      <td>Place a rack in middle of oven; preheat to 400...</td>\n",
       "      <td>thanksgiving-mac-and-cheese-erick-williams</td>\n",
       "      <td>['1 cup evaporated milk', '1 cup whole milk', ...</td>\n",
       "    </tr>\n",
       "    <tr>\n",
       "      <th>3</th>\n",
       "      <td>3</td>\n",
       "      <td>Italian Sausage and Bread Stuffing</td>\n",
       "      <td>['1 (¾- to 1-pound) round Italian loaf, cut in...</td>\n",
       "      <td>Preheat oven to 350°F with rack in middle. Gen...</td>\n",
       "      <td>italian-sausage-and-bread-stuffing-240559</td>\n",
       "      <td>['1 (¾- to 1-pound) round Italian loaf, cut in...</td>\n",
       "    </tr>\n",
       "    <tr>\n",
       "      <th>4</th>\n",
       "      <td>4</td>\n",
       "      <td>Newton's Law</td>\n",
       "      <td>['1 teaspoon dark brown sugar', '1 teaspoon ho...</td>\n",
       "      <td>Stir together brown sugar and hot water in a c...</td>\n",
       "      <td>newtons-law-apple-bourbon-cocktail</td>\n",
       "      <td>['1 teaspoon dark brown sugar', '1 teaspoon ho...</td>\n",
       "    </tr>\n",
       "  </tbody>\n",
       "</table>\n",
       "</div>"
      ],
      "text/plain": [
       "   Id                                              Title  \\\n",
       "0   0  Miso-Butter Roast Chicken With Acorn Squash Pa...   \n",
       "1   1                    Crispy Salt and Pepper Potatoes   \n",
       "2   2                        Thanksgiving Mac and Cheese   \n",
       "3   3                 Italian Sausage and Bread Stuffing   \n",
       "4   4                                       Newton's Law   \n",
       "\n",
       "                                         Ingredients  \\\n",
       "0  ['1 (3½–4-lb.) whole chicken', '2¾ tsp. kosher...   \n",
       "1  ['2 large egg whites', '1 pound new potatoes (...   \n",
       "2  ['1 cup evaporated milk', '1 cup whole milk', ...   \n",
       "3  ['1 (¾- to 1-pound) round Italian loaf, cut in...   \n",
       "4  ['1 teaspoon dark brown sugar', '1 teaspoon ho...   \n",
       "\n",
       "                                        Instructions  \\\n",
       "0  Pat chicken dry with paper towels, season all ...   \n",
       "1  Preheat oven to 400°F and line a rimmed baking...   \n",
       "2  Place a rack in middle of oven; preheat to 400...   \n",
       "3  Preheat oven to 350°F with rack in middle. Gen...   \n",
       "4  Stir together brown sugar and hot water in a c...   \n",
       "\n",
       "                                          Image_Name  \\\n",
       "0  miso-butter-roast-chicken-acorn-squash-panzanella   \n",
       "1         crispy-salt-and-pepper-potatoes-dan-kluger   \n",
       "2         thanksgiving-mac-and-cheese-erick-williams   \n",
       "3          italian-sausage-and-bread-stuffing-240559   \n",
       "4                 newtons-law-apple-bourbon-cocktail   \n",
       "\n",
       "                                 Cleaned_Ingredients  \n",
       "0  ['1 (3½–4-lb.) whole chicken', '2¾ tsp. kosher...  \n",
       "1  ['2 large egg whites', '1 pound new potatoes (...  \n",
       "2  ['1 cup evaporated milk', '1 cup whole milk', ...  \n",
       "3  ['1 (¾- to 1-pound) round Italian loaf, cut in...  \n",
       "4  ['1 teaspoon dark brown sugar', '1 teaspoon ho...  "
      ]
     },
     "execution_count": 7,
     "metadata": {},
     "output_type": "execute_result"
    }
   ],
   "source": [
    "rbdata_ar.head() #need to swap rows and columns\n",
    "#features are title, ingredients, instructions, and picture_link(not needed?)"
   ]
  },
  {
   "cell_type": "code",
   "execution_count": 8,
   "metadata": {
    "ExecuteTime": {
     "end_time": "2019-11-15T07:05:14.857531Z",
     "start_time": "2019-11-15T07:05:14.782949Z"
    }
   },
   "outputs": [],
   "source": [
    "#rb_ar=rbdata_ar.T #can just do pandas transpose, don't need to set orient parameter in read_json!\n",
    "#rb_ar.head()"
   ]
  },
  {
   "cell_type": "code",
   "execution_count": 9,
   "metadata": {
    "ExecuteTime": {
     "end_time": "2019-11-15T07:05:14.902756Z",
     "start_time": "2019-11-15T07:05:14.860080Z"
    }
   },
   "outputs": [
    {
     "name": "stdout",
     "output_type": "stream",
     "text": [
      "<class 'pandas.core.frame.DataFrame'>\n",
      "RangeIndex: 13496 entries, 0 to 13495\n",
      "Data columns (total 6 columns):\n",
      " #   Column               Non-Null Count  Dtype \n",
      "---  ------               --------------  ----- \n",
      " 0   Id                   13496 non-null  int64 \n",
      " 1   Title                13491 non-null  object\n",
      " 2   Ingredients          13496 non-null  object\n",
      " 3   Instructions         13488 non-null  object\n",
      " 4   Image_Name           13496 non-null  object\n",
      " 5   Cleaned_Ingredients  13496 non-null  object\n",
      "dtypes: int64(1), object(5)\n",
      "memory usage: 632.8+ KB\n"
     ]
    }
   ],
   "source": [
    "#rb_ar.info()\n",
    "rbdata_ar.info()"
   ]
  },
  {
   "cell_type": "code",
   "execution_count": 10,
   "metadata": {
    "ExecuteTime": {
     "end_time": "2019-11-15T07:05:14.968439Z",
     "start_time": "2019-11-15T07:05:14.906343Z"
    }
   },
   "outputs": [
    {
     "data": {
      "text/html": [
       "<div>\n",
       "<style scoped>\n",
       "    .dataframe tbody tr th:only-of-type {\n",
       "        vertical-align: middle;\n",
       "    }\n",
       "\n",
       "    .dataframe tbody tr th {\n",
       "        vertical-align: top;\n",
       "    }\n",
       "\n",
       "    .dataframe thead th {\n",
       "        text-align: right;\n",
       "    }\n",
       "</style>\n",
       "<table border=\"1\" class=\"dataframe\">\n",
       "  <thead>\n",
       "    <tr style=\"text-align: right;\">\n",
       "      <th></th>\n",
       "      <th>Id</th>\n",
       "      <th>Title</th>\n",
       "      <th>Ingredients</th>\n",
       "      <th>Instructions</th>\n",
       "      <th>Image_Name</th>\n",
       "      <th>Cleaned_Ingredients</th>\n",
       "    </tr>\n",
       "  </thead>\n",
       "  <tbody>\n",
       "    <tr>\n",
       "      <th>0</th>\n",
       "      <td>0</td>\n",
       "      <td>Miso-Butter Roast Chicken With Acorn Squash Pa...</td>\n",
       "      <td>['1 (3½–4-lb.) whole chicken', '2¾ tsp. kosher...</td>\n",
       "      <td>Pat chicken dry with paper towels, season all ...</td>\n",
       "      <td>miso-butter-roast-chicken-acorn-squash-panzanella</td>\n",
       "      <td>['1 (3½–4-lb.) whole chicken', '2¾ tsp. kosher...</td>\n",
       "    </tr>\n",
       "    <tr>\n",
       "      <th>1</th>\n",
       "      <td>1</td>\n",
       "      <td>Crispy Salt and Pepper Potatoes</td>\n",
       "      <td>['2 large egg whites', '1 pound new potatoes (...</td>\n",
       "      <td>Preheat oven to 400°F and line a rimmed baking...</td>\n",
       "      <td>crispy-salt-and-pepper-potatoes-dan-kluger</td>\n",
       "      <td>['2 large egg whites', '1 pound new potatoes (...</td>\n",
       "    </tr>\n",
       "    <tr>\n",
       "      <th>2</th>\n",
       "      <td>2</td>\n",
       "      <td>Thanksgiving Mac and Cheese</td>\n",
       "      <td>['1 cup evaporated milk', '1 cup whole milk', ...</td>\n",
       "      <td>Place a rack in middle of oven; preheat to 400...</td>\n",
       "      <td>thanksgiving-mac-and-cheese-erick-williams</td>\n",
       "      <td>['1 cup evaporated milk', '1 cup whole milk', ...</td>\n",
       "    </tr>\n",
       "    <tr>\n",
       "      <th>3</th>\n",
       "      <td>3</td>\n",
       "      <td>Italian Sausage and Bread Stuffing</td>\n",
       "      <td>['1 (¾- to 1-pound) round Italian loaf, cut in...</td>\n",
       "      <td>Preheat oven to 350°F with rack in middle. Gen...</td>\n",
       "      <td>italian-sausage-and-bread-stuffing-240559</td>\n",
       "      <td>['1 (¾- to 1-pound) round Italian loaf, cut in...</td>\n",
       "    </tr>\n",
       "    <tr>\n",
       "      <th>4</th>\n",
       "      <td>4</td>\n",
       "      <td>Newton's Law</td>\n",
       "      <td>['1 teaspoon dark brown sugar', '1 teaspoon ho...</td>\n",
       "      <td>Stir together brown sugar and hot water in a c...</td>\n",
       "      <td>newtons-law-apple-bourbon-cocktail</td>\n",
       "      <td>['1 teaspoon dark brown sugar', '1 teaspoon ho...</td>\n",
       "    </tr>\n",
       "  </tbody>\n",
       "</table>\n",
       "</div>"
      ],
      "text/plain": [
       "   Id                                              Title  \\\n",
       "0   0  Miso-Butter Roast Chicken With Acorn Squash Pa...   \n",
       "1   1                    Crispy Salt and Pepper Potatoes   \n",
       "2   2                        Thanksgiving Mac and Cheese   \n",
       "3   3                 Italian Sausage and Bread Stuffing   \n",
       "4   4                                       Newton's Law   \n",
       "\n",
       "                                         Ingredients  \\\n",
       "0  ['1 (3½–4-lb.) whole chicken', '2¾ tsp. kosher...   \n",
       "1  ['2 large egg whites', '1 pound new potatoes (...   \n",
       "2  ['1 cup evaporated milk', '1 cup whole milk', ...   \n",
       "3  ['1 (¾- to 1-pound) round Italian loaf, cut in...   \n",
       "4  ['1 teaspoon dark brown sugar', '1 teaspoon ho...   \n",
       "\n",
       "                                        Instructions  \\\n",
       "0  Pat chicken dry with paper towels, season all ...   \n",
       "1  Preheat oven to 400°F and line a rimmed baking...   \n",
       "2  Place a rack in middle of oven; preheat to 400...   \n",
       "3  Preheat oven to 350°F with rack in middle. Gen...   \n",
       "4  Stir together brown sugar and hot water in a c...   \n",
       "\n",
       "                                          Image_Name  \\\n",
       "0  miso-butter-roast-chicken-acorn-squash-panzanella   \n",
       "1         crispy-salt-and-pepper-potatoes-dan-kluger   \n",
       "2         thanksgiving-mac-and-cheese-erick-williams   \n",
       "3          italian-sausage-and-bread-stuffing-240559   \n",
       "4                 newtons-law-apple-bourbon-cocktail   \n",
       "\n",
       "                                 Cleaned_Ingredients  \n",
       "0  ['1 (3½–4-lb.) whole chicken', '2¾ tsp. kosher...  \n",
       "1  ['2 large egg whites', '1 pound new potatoes (...  \n",
       "2  ['1 cup evaporated milk', '1 cup whole milk', ...  \n",
       "3  ['1 (¾- to 1-pound) round Italian loaf, cut in...  \n",
       "4  ['1 teaspoon dark brown sugar', '1 teaspoon ho...  "
      ]
     },
     "execution_count": 10,
     "metadata": {},
     "output_type": "execute_result"
    }
   ],
   "source": [
    "#reset index because don't want the scraped link as index\n",
    "rbdata_ar.index = range(len(rbdata_ar))\n",
    "rbdata_ar.head() "
   ]
  },
  {
   "cell_type": "markdown",
   "metadata": {},
   "source": [
    "## Data cleaning\n",
    "\n",
    "### drop nulls from recipebox \n",
    "\n",
    "1. Clean allrecipes data"
   ]
  },
  {
   "cell_type": "code",
   "execution_count": 11,
   "metadata": {
    "ExecuteTime": {
     "end_time": "2019-11-15T07:05:49.318123Z",
     "start_time": "2019-11-15T07:05:49.289194Z"
    },
    "scrolled": true
   },
   "outputs": [
    {
     "data": {
      "text/html": [
       "<div>\n",
       "<style scoped>\n",
       "    .dataframe tbody tr th:only-of-type {\n",
       "        vertical-align: middle;\n",
       "    }\n",
       "\n",
       "    .dataframe tbody tr th {\n",
       "        vertical-align: top;\n",
       "    }\n",
       "\n",
       "    .dataframe thead th {\n",
       "        text-align: right;\n",
       "    }\n",
       "</style>\n",
       "<table border=\"1\" class=\"dataframe\">\n",
       "  <thead>\n",
       "    <tr style=\"text-align: right;\">\n",
       "      <th></th>\n",
       "      <th>Title</th>\n",
       "      <th>Ingredients</th>\n",
       "      <th>Instructions</th>\n",
       "      <th>Image_Name</th>\n",
       "    </tr>\n",
       "  </thead>\n",
       "  <tbody>\n",
       "    <tr>\n",
       "      <th>0</th>\n",
       "      <td>Miso-Butter Roast Chicken With Acorn Squash Pa...</td>\n",
       "      <td>['1 (3½–4-lb.) whole chicken', '2¾ tsp. kosher...</td>\n",
       "      <td>Pat chicken dry with paper towels, season all ...</td>\n",
       "      <td>miso-butter-roast-chicken-acorn-squash-panzanella</td>\n",
       "    </tr>\n",
       "    <tr>\n",
       "      <th>1</th>\n",
       "      <td>Crispy Salt and Pepper Potatoes</td>\n",
       "      <td>['2 large egg whites', '1 pound new potatoes (...</td>\n",
       "      <td>Preheat oven to 400°F and line a rimmed baking...</td>\n",
       "      <td>crispy-salt-and-pepper-potatoes-dan-kluger</td>\n",
       "    </tr>\n",
       "    <tr>\n",
       "      <th>2</th>\n",
       "      <td>Thanksgiving Mac and Cheese</td>\n",
       "      <td>['1 cup evaporated milk', '1 cup whole milk', ...</td>\n",
       "      <td>Place a rack in middle of oven; preheat to 400...</td>\n",
       "      <td>thanksgiving-mac-and-cheese-erick-williams</td>\n",
       "    </tr>\n",
       "    <tr>\n",
       "      <th>3</th>\n",
       "      <td>Italian Sausage and Bread Stuffing</td>\n",
       "      <td>['1 (¾- to 1-pound) round Italian loaf, cut in...</td>\n",
       "      <td>Preheat oven to 350°F with rack in middle. Gen...</td>\n",
       "      <td>italian-sausage-and-bread-stuffing-240559</td>\n",
       "    </tr>\n",
       "    <tr>\n",
       "      <th>4</th>\n",
       "      <td>Newton's Law</td>\n",
       "      <td>['1 teaspoon dark brown sugar', '1 teaspoon ho...</td>\n",
       "      <td>Stir together brown sugar and hot water in a c...</td>\n",
       "      <td>newtons-law-apple-bourbon-cocktail</td>\n",
       "    </tr>\n",
       "  </tbody>\n",
       "</table>\n",
       "</div>"
      ],
      "text/plain": [
       "                                               Title  \\\n",
       "0  Miso-Butter Roast Chicken With Acorn Squash Pa...   \n",
       "1                    Crispy Salt and Pepper Potatoes   \n",
       "2                        Thanksgiving Mac and Cheese   \n",
       "3                 Italian Sausage and Bread Stuffing   \n",
       "4                                       Newton's Law   \n",
       "\n",
       "                                         Ingredients  \\\n",
       "0  ['1 (3½–4-lb.) whole chicken', '2¾ tsp. kosher...   \n",
       "1  ['2 large egg whites', '1 pound new potatoes (...   \n",
       "2  ['1 cup evaporated milk', '1 cup whole milk', ...   \n",
       "3  ['1 (¾- to 1-pound) round Italian loaf, cut in...   \n",
       "4  ['1 teaspoon dark brown sugar', '1 teaspoon ho...   \n",
       "\n",
       "                                        Instructions  \\\n",
       "0  Pat chicken dry with paper towels, season all ...   \n",
       "1  Preheat oven to 400°F and line a rimmed baking...   \n",
       "2  Place a rack in middle of oven; preheat to 400...   \n",
       "3  Preheat oven to 350°F with rack in middle. Gen...   \n",
       "4  Stir together brown sugar and hot water in a c...   \n",
       "\n",
       "                                          Image_Name  \n",
       "0  miso-butter-roast-chicken-acorn-squash-panzanella  \n",
       "1         crispy-salt-and-pepper-potatoes-dan-kluger  \n",
       "2         thanksgiving-mac-and-cheese-erick-williams  \n",
       "3          italian-sausage-and-bread-stuffing-240559  \n",
       "4                 newtons-law-apple-bourbon-cocktail  "
      ]
     },
     "execution_count": 11,
     "metadata": {},
     "output_type": "execute_result"
    }
   ],
   "source": [
    "ardf=rbdata_ar.loc[:,['Title', 'Ingredients', 'Instructions','Image_Name']] \n",
    "ardf.head()"
   ]
  },
  {
   "cell_type": "code",
   "execution_count": 12,
   "metadata": {
    "ExecuteTime": {
     "end_time": "2019-11-15T07:05:49.341165Z",
     "start_time": "2019-11-15T07:05:49.320425Z"
    }
   },
   "outputs": [
    {
     "name": "stdout",
     "output_type": "stream",
     "text": [
      "<class 'pandas.core.frame.DataFrame'>\n",
      "RangeIndex: 13496 entries, 0 to 13495\n",
      "Data columns (total 4 columns):\n",
      " #   Column        Non-Null Count  Dtype \n",
      "---  ------        --------------  ----- \n",
      " 0   Title         13491 non-null  object\n",
      " 1   Ingredients   13496 non-null  object\n",
      " 2   Instructions  13488 non-null  object\n",
      " 3   Image_Name    13496 non-null  object\n",
      "dtypes: object(4)\n",
      "memory usage: 421.9+ KB\n"
     ]
    }
   ],
   "source": [
    "ardf.info()"
   ]
  },
  {
   "cell_type": "code",
   "execution_count": 13,
   "metadata": {
    "ExecuteTime": {
     "end_time": "2019-11-15T07:05:49.382630Z",
     "start_time": "2019-11-15T07:05:49.343693Z"
    }
   },
   "outputs": [
    {
     "data": {
      "text/html": [
       "<div>\n",
       "<style scoped>\n",
       "    .dataframe tbody tr th:only-of-type {\n",
       "        vertical-align: middle;\n",
       "    }\n",
       "\n",
       "    .dataframe tbody tr th {\n",
       "        vertical-align: top;\n",
       "    }\n",
       "\n",
       "    .dataframe thead th {\n",
       "        text-align: right;\n",
       "    }\n",
       "</style>\n",
       "<table border=\"1\" class=\"dataframe\">\n",
       "  <thead>\n",
       "    <tr style=\"text-align: right;\">\n",
       "      <th></th>\n",
       "      <th>Title</th>\n",
       "      <th>Ingredients</th>\n",
       "      <th>Instructions</th>\n",
       "      <th>Image_Name</th>\n",
       "    </tr>\n",
       "  </thead>\n",
       "  <tbody>\n",
       "    <tr>\n",
       "      <th>0</th>\n",
       "      <td>Miso-Butter Roast Chicken With Acorn Squash Pa...</td>\n",
       "      <td>['1 (3½–4-lb.) whole chicken', '2¾ tsp. kosher...</td>\n",
       "      <td>Pat chicken dry with paper towels, season all ...</td>\n",
       "      <td>miso-butter-roast-chicken-acorn-squash-panzanella</td>\n",
       "    </tr>\n",
       "    <tr>\n",
       "      <th>1</th>\n",
       "      <td>Crispy Salt and Pepper Potatoes</td>\n",
       "      <td>['2 large egg whites', '1 pound new potatoes (...</td>\n",
       "      <td>Preheat oven to 400°F and line a rimmed baking...</td>\n",
       "      <td>crispy-salt-and-pepper-potatoes-dan-kluger</td>\n",
       "    </tr>\n",
       "    <tr>\n",
       "      <th>2</th>\n",
       "      <td>Thanksgiving Mac and Cheese</td>\n",
       "      <td>['1 cup evaporated milk', '1 cup whole milk', ...</td>\n",
       "      <td>Place a rack in middle of oven; preheat to 400...</td>\n",
       "      <td>thanksgiving-mac-and-cheese-erick-williams</td>\n",
       "    </tr>\n",
       "    <tr>\n",
       "      <th>3</th>\n",
       "      <td>Italian Sausage and Bread Stuffing</td>\n",
       "      <td>['1 (¾- to 1-pound) round Italian loaf, cut in...</td>\n",
       "      <td>Preheat oven to 350°F with rack in middle. Gen...</td>\n",
       "      <td>italian-sausage-and-bread-stuffing-240559</td>\n",
       "    </tr>\n",
       "    <tr>\n",
       "      <th>4</th>\n",
       "      <td>Newton's Law</td>\n",
       "      <td>['1 teaspoon dark brown sugar', '1 teaspoon ho...</td>\n",
       "      <td>Stir together brown sugar and hot water in a c...</td>\n",
       "      <td>newtons-law-apple-bourbon-cocktail</td>\n",
       "    </tr>\n",
       "    <tr>\n",
       "      <th>...</th>\n",
       "      <td>...</td>\n",
       "      <td>...</td>\n",
       "      <td>...</td>\n",
       "      <td>...</td>\n",
       "    </tr>\n",
       "    <tr>\n",
       "      <th>13491</th>\n",
       "      <td>Brownie Pudding Cake</td>\n",
       "      <td>['1 cup all-purpose flour', '2/3 cup unsweeten...</td>\n",
       "      <td>Preheat the oven to 350°F. Into a bowl sift to...</td>\n",
       "      <td>brownie-pudding-cake-14408</td>\n",
       "    </tr>\n",
       "    <tr>\n",
       "      <th>13492</th>\n",
       "      <td>Israeli Couscous with Roasted Butternut Squash...</td>\n",
       "      <td>['1 preserved lemon', '1 1/2 pound butternut s...</td>\n",
       "      <td>Preheat oven to 475°F.\\nHalve lemons and scoop...</td>\n",
       "      <td>israeli-couscous-with-roasted-butternut-squash...</td>\n",
       "    </tr>\n",
       "    <tr>\n",
       "      <th>13493</th>\n",
       "      <td>Rice with Soy-Glazed Bonito Flakes and Sesame ...</td>\n",
       "      <td>['Leftover katsuo bushi (dried bonito flakes) ...</td>\n",
       "      <td>If using katsuo bushi flakes from package, moi...</td>\n",
       "      <td>rice-with-soy-glazed-bonito-flakes-and-sesame-...</td>\n",
       "    </tr>\n",
       "    <tr>\n",
       "      <th>13494</th>\n",
       "      <td>Spanakopita</td>\n",
       "      <td>['1 stick (1/2 cup) plus 1 tablespoon unsalted...</td>\n",
       "      <td>Melt 1 tablespoon butter in a 12-inch heavy sk...</td>\n",
       "      <td>spanakopita-107344</td>\n",
       "    </tr>\n",
       "    <tr>\n",
       "      <th>13495</th>\n",
       "      <td>Mexican Poblano, Spinach, and Black Bean \"Lasa...</td>\n",
       "      <td>['12 medium to large fresh poblano chiles (2 1...</td>\n",
       "      <td>Lay 4 chiles on their sides on racks of gas bu...</td>\n",
       "      <td>mexican-poblano-spinach-and-black-bean-lasagne...</td>\n",
       "    </tr>\n",
       "  </tbody>\n",
       "</table>\n",
       "<p>13488 rows × 4 columns</p>\n",
       "</div>"
      ],
      "text/plain": [
       "                                                   Title  \\\n",
       "0      Miso-Butter Roast Chicken With Acorn Squash Pa...   \n",
       "1                        Crispy Salt and Pepper Potatoes   \n",
       "2                            Thanksgiving Mac and Cheese   \n",
       "3                     Italian Sausage and Bread Stuffing   \n",
       "4                                           Newton's Law   \n",
       "...                                                  ...   \n",
       "13491                               Brownie Pudding Cake   \n",
       "13492  Israeli Couscous with Roasted Butternut Squash...   \n",
       "13493  Rice with Soy-Glazed Bonito Flakes and Sesame ...   \n",
       "13494                                        Spanakopita   \n",
       "13495  Mexican Poblano, Spinach, and Black Bean \"Lasa...   \n",
       "\n",
       "                                             Ingredients  \\\n",
       "0      ['1 (3½–4-lb.) whole chicken', '2¾ tsp. kosher...   \n",
       "1      ['2 large egg whites', '1 pound new potatoes (...   \n",
       "2      ['1 cup evaporated milk', '1 cup whole milk', ...   \n",
       "3      ['1 (¾- to 1-pound) round Italian loaf, cut in...   \n",
       "4      ['1 teaspoon dark brown sugar', '1 teaspoon ho...   \n",
       "...                                                  ...   \n",
       "13491  ['1 cup all-purpose flour', '2/3 cup unsweeten...   \n",
       "13492  ['1 preserved lemon', '1 1/2 pound butternut s...   \n",
       "13493  ['Leftover katsuo bushi (dried bonito flakes) ...   \n",
       "13494  ['1 stick (1/2 cup) plus 1 tablespoon unsalted...   \n",
       "13495  ['12 medium to large fresh poblano chiles (2 1...   \n",
       "\n",
       "                                            Instructions  \\\n",
       "0      Pat chicken dry with paper towels, season all ...   \n",
       "1      Preheat oven to 400°F and line a rimmed baking...   \n",
       "2      Place a rack in middle of oven; preheat to 400...   \n",
       "3      Preheat oven to 350°F with rack in middle. Gen...   \n",
       "4      Stir together brown sugar and hot water in a c...   \n",
       "...                                                  ...   \n",
       "13491  Preheat the oven to 350°F. Into a bowl sift to...   \n",
       "13492  Preheat oven to 475°F.\\nHalve lemons and scoop...   \n",
       "13493  If using katsuo bushi flakes from package, moi...   \n",
       "13494  Melt 1 tablespoon butter in a 12-inch heavy sk...   \n",
       "13495  Lay 4 chiles on their sides on racks of gas bu...   \n",
       "\n",
       "                                              Image_Name  \n",
       "0      miso-butter-roast-chicken-acorn-squash-panzanella  \n",
       "1             crispy-salt-and-pepper-potatoes-dan-kluger  \n",
       "2             thanksgiving-mac-and-cheese-erick-williams  \n",
       "3              italian-sausage-and-bread-stuffing-240559  \n",
       "4                     newtons-law-apple-bourbon-cocktail  \n",
       "...                                                  ...  \n",
       "13491                         brownie-pudding-cake-14408  \n",
       "13492  israeli-couscous-with-roasted-butternut-squash...  \n",
       "13493  rice-with-soy-glazed-bonito-flakes-and-sesame-...  \n",
       "13494                                 spanakopita-107344  \n",
       "13495  mexican-poblano-spinach-and-black-bean-lasagne...  \n",
       "\n",
       "[13488 rows x 4 columns]"
      ]
     },
     "execution_count": 13,
     "metadata": {},
     "output_type": "execute_result"
    }
   ],
   "source": [
    "#still has ~300 null rows? drop those also\n",
    "ardf=ardf.dropna(how='any')\n",
    "ardf\n",
    "\n",
    "#Now have 39522 observations (recipes) with no null values\n",
    "\n",
    "#*still need to get rid of link as well as punctuations before further processing\n",
    "\n",
    "#also the word ADVERTISEMENT shows up a lot - filter it out"
   ]
  },
  {
   "cell_type": "code",
   "execution_count": 14,
   "metadata": {
    "ExecuteTime": {
     "end_time": "2019-11-15T07:05:49.593239Z",
     "start_time": "2019-11-15T07:05:49.559647Z"
    }
   },
   "outputs": [
    {
     "data": {
      "text/html": [
       "<div>\n",
       "<style scoped>\n",
       "    .dataframe tbody tr th:only-of-type {\n",
       "        vertical-align: middle;\n",
       "    }\n",
       "\n",
       "    .dataframe tbody tr th {\n",
       "        vertical-align: top;\n",
       "    }\n",
       "\n",
       "    .dataframe thead th {\n",
       "        text-align: right;\n",
       "    }\n",
       "</style>\n",
       "<table border=\"1\" class=\"dataframe\">\n",
       "  <thead>\n",
       "    <tr style=\"text-align: right;\">\n",
       "      <th></th>\n",
       "      <th>Title</th>\n",
       "      <th>Ingredients</th>\n",
       "      <th>Instructions</th>\n",
       "      <th>Image_Name</th>\n",
       "    </tr>\n",
       "  </thead>\n",
       "  <tbody>\n",
       "    <tr>\n",
       "      <th>13491</th>\n",
       "      <td>Brownie Pudding Cake</td>\n",
       "      <td>['1 cup all-purpose flour', '2/3 cup unsweeten...</td>\n",
       "      <td>Preheat the oven to 350°F. Into a bowl sift to...</td>\n",
       "      <td>brownie-pudding-cake-14408</td>\n",
       "    </tr>\n",
       "    <tr>\n",
       "      <th>13492</th>\n",
       "      <td>Israeli Couscous with Roasted Butternut Squash...</td>\n",
       "      <td>['1 preserved lemon', '1 1/2 pound butternut s...</td>\n",
       "      <td>Preheat oven to 475°F.\\nHalve lemons and scoop...</td>\n",
       "      <td>israeli-couscous-with-roasted-butternut-squash...</td>\n",
       "    </tr>\n",
       "    <tr>\n",
       "      <th>13493</th>\n",
       "      <td>Rice with Soy-Glazed Bonito Flakes and Sesame ...</td>\n",
       "      <td>['Leftover katsuo bushi (dried bonito flakes) ...</td>\n",
       "      <td>If using katsuo bushi flakes from package, moi...</td>\n",
       "      <td>rice-with-soy-glazed-bonito-flakes-and-sesame-...</td>\n",
       "    </tr>\n",
       "    <tr>\n",
       "      <th>13494</th>\n",
       "      <td>Spanakopita</td>\n",
       "      <td>['1 stick (1/2 cup) plus 1 tablespoon unsalted...</td>\n",
       "      <td>Melt 1 tablespoon butter in a 12-inch heavy sk...</td>\n",
       "      <td>spanakopita-107344</td>\n",
       "    </tr>\n",
       "    <tr>\n",
       "      <th>13495</th>\n",
       "      <td>Mexican Poblano, Spinach, and Black Bean \"Lasa...</td>\n",
       "      <td>['12 medium to large fresh poblano chiles (2 1...</td>\n",
       "      <td>Lay 4 chiles on their sides on racks of gas bu...</td>\n",
       "      <td>mexican-poblano-spinach-and-black-bean-lasagne...</td>\n",
       "    </tr>\n",
       "  </tbody>\n",
       "</table>\n",
       "</div>"
      ],
      "text/plain": [
       "                                                   Title  \\\n",
       "13491                               Brownie Pudding Cake   \n",
       "13492  Israeli Couscous with Roasted Butternut Squash...   \n",
       "13493  Rice with Soy-Glazed Bonito Flakes and Sesame ...   \n",
       "13494                                        Spanakopita   \n",
       "13495  Mexican Poblano, Spinach, and Black Bean \"Lasa...   \n",
       "\n",
       "                                             Ingredients  \\\n",
       "13491  ['1 cup all-purpose flour', '2/3 cup unsweeten...   \n",
       "13492  ['1 preserved lemon', '1 1/2 pound butternut s...   \n",
       "13493  ['Leftover katsuo bushi (dried bonito flakes) ...   \n",
       "13494  ['1 stick (1/2 cup) plus 1 tablespoon unsalted...   \n",
       "13495  ['12 medium to large fresh poblano chiles (2 1...   \n",
       "\n",
       "                                            Instructions  \\\n",
       "13491  Preheat the oven to 350°F. Into a bowl sift to...   \n",
       "13492  Preheat oven to 475°F.\\nHalve lemons and scoop...   \n",
       "13493  If using katsuo bushi flakes from package, moi...   \n",
       "13494  Melt 1 tablespoon butter in a 12-inch heavy sk...   \n",
       "13495  Lay 4 chiles on their sides on racks of gas bu...   \n",
       "\n",
       "                                              Image_Name  \n",
       "13491                         brownie-pudding-cake-14408  \n",
       "13492  israeli-couscous-with-roasted-butternut-squash...  \n",
       "13493  rice-with-soy-glazed-bonito-flakes-and-sesame-...  \n",
       "13494                                 spanakopita-107344  \n",
       "13495  mexican-poblano-spinach-and-black-bean-lasagne...  "
      ]
     },
     "execution_count": 14,
     "metadata": {},
     "output_type": "execute_result"
    }
   ],
   "source": [
    "data =ardf\n",
    "data.tail()"
   ]
  },
  {
   "cell_type": "code",
   "execution_count": 15,
   "metadata": {
    "ExecuteTime": {
     "end_time": "2019-11-15T07:05:49.643344Z",
     "start_time": "2019-11-15T07:05:49.595631Z"
    },
    "scrolled": true
   },
   "outputs": [
    {
     "name": "stdout",
     "output_type": "stream",
     "text": [
      "<class 'pandas.core.frame.DataFrame'>\n",
      "Index: 13488 entries, 0 to 13495\n",
      "Data columns (total 4 columns):\n",
      " #   Column        Non-Null Count  Dtype \n",
      "---  ------        --------------  ----- \n",
      " 0   Title         13488 non-null  object\n",
      " 1   Ingredients   13488 non-null  object\n",
      " 2   Instructions  13488 non-null  object\n",
      " 3   Image_Name    13488 non-null  object\n",
      "dtypes: object(4)\n",
      "memory usage: 526.9+ KB\n"
     ]
    }
   ],
   "source": [
    "data.info()"
   ]
  },
  {
   "cell_type": "markdown",
   "metadata": {},
   "source": [
    "### Reset index"
   ]
  },
  {
   "cell_type": "code",
   "execution_count": 16,
   "metadata": {
    "ExecuteTime": {
     "end_time": "2019-11-15T07:05:49.658050Z",
     "start_time": "2019-11-15T07:05:49.645650Z"
    }
   },
   "outputs": [
    {
     "data": {
      "text/html": [
       "<div>\n",
       "<style scoped>\n",
       "    .dataframe tbody tr th:only-of-type {\n",
       "        vertical-align: middle;\n",
       "    }\n",
       "\n",
       "    .dataframe tbody tr th {\n",
       "        vertical-align: top;\n",
       "    }\n",
       "\n",
       "    .dataframe thead th {\n",
       "        text-align: right;\n",
       "    }\n",
       "</style>\n",
       "<table border=\"1\" class=\"dataframe\">\n",
       "  <thead>\n",
       "    <tr style=\"text-align: right;\">\n",
       "      <th></th>\n",
       "      <th>Title</th>\n",
       "      <th>Ingredients</th>\n",
       "      <th>Instructions</th>\n",
       "      <th>Image_Name</th>\n",
       "    </tr>\n",
       "  </thead>\n",
       "  <tbody>\n",
       "    <tr>\n",
       "      <th>0</th>\n",
       "      <td>Miso-Butter Roast Chicken With Acorn Squash Pa...</td>\n",
       "      <td>['1 (3½–4-lb.) whole chicken', '2¾ tsp. kosher...</td>\n",
       "      <td>Pat chicken dry with paper towels, season all ...</td>\n",
       "      <td>miso-butter-roast-chicken-acorn-squash-panzanella</td>\n",
       "    </tr>\n",
       "    <tr>\n",
       "      <th>1</th>\n",
       "      <td>Crispy Salt and Pepper Potatoes</td>\n",
       "      <td>['2 large egg whites', '1 pound new potatoes (...</td>\n",
       "      <td>Preheat oven to 400°F and line a rimmed baking...</td>\n",
       "      <td>crispy-salt-and-pepper-potatoes-dan-kluger</td>\n",
       "    </tr>\n",
       "    <tr>\n",
       "      <th>2</th>\n",
       "      <td>Thanksgiving Mac and Cheese</td>\n",
       "      <td>['1 cup evaporated milk', '1 cup whole milk', ...</td>\n",
       "      <td>Place a rack in middle of oven; preheat to 400...</td>\n",
       "      <td>thanksgiving-mac-and-cheese-erick-williams</td>\n",
       "    </tr>\n",
       "    <tr>\n",
       "      <th>3</th>\n",
       "      <td>Italian Sausage and Bread Stuffing</td>\n",
       "      <td>['1 (¾- to 1-pound) round Italian loaf, cut in...</td>\n",
       "      <td>Preheat oven to 350°F with rack in middle. Gen...</td>\n",
       "      <td>italian-sausage-and-bread-stuffing-240559</td>\n",
       "    </tr>\n",
       "    <tr>\n",
       "      <th>4</th>\n",
       "      <td>Newton's Law</td>\n",
       "      <td>['1 teaspoon dark brown sugar', '1 teaspoon ho...</td>\n",
       "      <td>Stir together brown sugar and hot water in a c...</td>\n",
       "      <td>newtons-law-apple-bourbon-cocktail</td>\n",
       "    </tr>\n",
       "  </tbody>\n",
       "</table>\n",
       "</div>"
      ],
      "text/plain": [
       "                                               Title  \\\n",
       "0  Miso-Butter Roast Chicken With Acorn Squash Pa...   \n",
       "1                    Crispy Salt and Pepper Potatoes   \n",
       "2                        Thanksgiving Mac and Cheese   \n",
       "3                 Italian Sausage and Bread Stuffing   \n",
       "4                                       Newton's Law   \n",
       "\n",
       "                                         Ingredients  \\\n",
       "0  ['1 (3½–4-lb.) whole chicken', '2¾ tsp. kosher...   \n",
       "1  ['2 large egg whites', '1 pound new potatoes (...   \n",
       "2  ['1 cup evaporated milk', '1 cup whole milk', ...   \n",
       "3  ['1 (¾- to 1-pound) round Italian loaf, cut in...   \n",
       "4  ['1 teaspoon dark brown sugar', '1 teaspoon ho...   \n",
       "\n",
       "                                        Instructions  \\\n",
       "0  Pat chicken dry with paper towels, season all ...   \n",
       "1  Preheat oven to 400°F and line a rimmed baking...   \n",
       "2  Place a rack in middle of oven; preheat to 400...   \n",
       "3  Preheat oven to 350°F with rack in middle. Gen...   \n",
       "4  Stir together brown sugar and hot water in a c...   \n",
       "\n",
       "                                          Image_Name  \n",
       "0  miso-butter-roast-chicken-acorn-squash-panzanella  \n",
       "1         crispy-salt-and-pepper-potatoes-dan-kluger  \n",
       "2         thanksgiving-mac-and-cheese-erick-williams  \n",
       "3          italian-sausage-and-bread-stuffing-240559  \n",
       "4                 newtons-law-apple-bourbon-cocktail  "
      ]
     },
     "execution_count": 16,
     "metadata": {},
     "output_type": "execute_result"
    }
   ],
   "source": [
    "data.index = range(len(data))\n",
    "data.head() "
   ]
  },
  {
   "cell_type": "markdown",
   "metadata": {},
   "source": [
    "### Remove digits"
   ]
  },
  {
   "cell_type": "code",
   "execution_count": 18,
   "metadata": {
    "ExecuteTime": {
     "end_time": "2019-11-15T07:05:51.614628Z",
     "start_time": "2019-11-15T07:05:49.660722Z"
    }
   },
   "outputs": [
    {
     "data": {
      "text/plain": [
       "0        [' (½–-lb.) whole chicken', '¾ tsp. kosher sal...\n",
       "1        [' large egg whites', ' pound new potatoes (ab...\n",
       "2        [' cup evaporated milk', ' cup whole milk', ' ...\n",
       "3        [' (¾- to -pound) round Italian loaf, cut into...\n",
       "4        [' teaspoon dark brown sugar', ' teaspoon hot ...\n",
       "                               ...                        \n",
       "13483    [' cup all-purpose flour', '/ cup unsweetened ...\n",
       "13484    [' preserved lemon', ' / pound butternut squas...\n",
       "13485    ['Leftover katsuo bushi (dried bonito flakes) ...\n",
       "13486    [' stick (/ cup) plus  tablespoon unsalted but...\n",
       "13487    [' medium to large fresh poblano chiles ( / lb...\n",
       "Name: Ingredients, Length: 13488, dtype: object"
      ]
     },
     "execution_count": 18,
     "metadata": {},
     "output_type": "execute_result"
    }
   ],
   "source": [
    "data_ingr=data['Ingredients'].apply(functions.regex_nodigits_new)\n",
    "data_ingr"
   ]
  },
  {
   "cell_type": "markdown",
   "metadata": {},
   "source": [
    "## Vectorization"
   ]
  },
  {
   "cell_type": "markdown",
   "metadata": {},
   "source": [
    "### Custom stopwords"
   ]
  },
  {
   "cell_type": "code",
   "execution_count": 19,
   "metadata": {
    "ExecuteTime": {
     "end_time": "2019-11-15T07:05:51.628434Z",
     "start_time": "2019-11-15T07:05:51.617126Z"
    }
   },
   "outputs": [
    {
     "data": {
      "text/plain": [
       "{'a',\n",
       " 'about',\n",
       " 'above',\n",
       " 'after',\n",
       " 'again',\n",
       " 'against',\n",
       " 'ain',\n",
       " 'all',\n",
       " 'am',\n",
       " 'an',\n",
       " 'and',\n",
       " 'any',\n",
       " 'are',\n",
       " 'aren',\n",
       " \"aren't\",\n",
       " 'as',\n",
       " 'at',\n",
       " 'be',\n",
       " 'because',\n",
       " 'been',\n",
       " 'before',\n",
       " 'being',\n",
       " 'below',\n",
       " 'between',\n",
       " 'both',\n",
       " 'but',\n",
       " 'by',\n",
       " 'can',\n",
       " 'couldn',\n",
       " \"couldn't\",\n",
       " 'd',\n",
       " 'did',\n",
       " 'didn',\n",
       " \"didn't\",\n",
       " 'do',\n",
       " 'does',\n",
       " 'doesn',\n",
       " \"doesn't\",\n",
       " 'doing',\n",
       " 'don',\n",
       " \"don't\",\n",
       " 'down',\n",
       " 'during',\n",
       " 'each',\n",
       " 'few',\n",
       " 'for',\n",
       " 'from',\n",
       " 'further',\n",
       " 'had',\n",
       " 'hadn',\n",
       " \"hadn't\",\n",
       " 'has',\n",
       " 'hasn',\n",
       " \"hasn't\",\n",
       " 'have',\n",
       " 'haven',\n",
       " \"haven't\",\n",
       " 'having',\n",
       " 'he',\n",
       " 'her',\n",
       " 'here',\n",
       " 'hers',\n",
       " 'herself',\n",
       " 'him',\n",
       " 'himself',\n",
       " 'his',\n",
       " 'how',\n",
       " 'i',\n",
       " 'if',\n",
       " 'in',\n",
       " 'into',\n",
       " 'is',\n",
       " 'isn',\n",
       " \"isn't\",\n",
       " 'it',\n",
       " \"it's\",\n",
       " 'its',\n",
       " 'itself',\n",
       " 'just',\n",
       " 'll',\n",
       " 'm',\n",
       " 'ma',\n",
       " 'me',\n",
       " 'mightn',\n",
       " \"mightn't\",\n",
       " 'more',\n",
       " 'most',\n",
       " 'mustn',\n",
       " \"mustn't\",\n",
       " 'my',\n",
       " 'myself',\n",
       " 'needn',\n",
       " \"needn't\",\n",
       " 'no',\n",
       " 'nor',\n",
       " 'not',\n",
       " 'now',\n",
       " 'o',\n",
       " 'of',\n",
       " 'off',\n",
       " 'on',\n",
       " 'once',\n",
       " 'only',\n",
       " 'or',\n",
       " 'other',\n",
       " 'our',\n",
       " 'ours',\n",
       " 'ourselves',\n",
       " 'out',\n",
       " 'over',\n",
       " 'own',\n",
       " 're',\n",
       " 's',\n",
       " 'same',\n",
       " 'shan',\n",
       " \"shan't\",\n",
       " 'she',\n",
       " \"she's\",\n",
       " 'should',\n",
       " \"should've\",\n",
       " 'shouldn',\n",
       " \"shouldn't\",\n",
       " 'so',\n",
       " 'some',\n",
       " 'such',\n",
       " 't',\n",
       " 'than',\n",
       " 'that',\n",
       " \"that'll\",\n",
       " 'the',\n",
       " 'their',\n",
       " 'theirs',\n",
       " 'them',\n",
       " 'themselves',\n",
       " 'then',\n",
       " 'there',\n",
       " 'these',\n",
       " 'they',\n",
       " 'this',\n",
       " 'those',\n",
       " 'through',\n",
       " 'to',\n",
       " 'too',\n",
       " 'under',\n",
       " 'until',\n",
       " 'up',\n",
       " 've',\n",
       " 'very',\n",
       " 'was',\n",
       " 'wasn',\n",
       " \"wasn't\",\n",
       " 'we',\n",
       " 'were',\n",
       " 'weren',\n",
       " \"weren't\",\n",
       " 'what',\n",
       " 'when',\n",
       " 'where',\n",
       " 'which',\n",
       " 'while',\n",
       " 'who',\n",
       " 'whom',\n",
       " 'why',\n",
       " 'will',\n",
       " 'with',\n",
       " 'won',\n",
       " \"won't\",\n",
       " 'wouldn',\n",
       " \"wouldn't\",\n",
       " 'y',\n",
       " 'you',\n",
       " \"you'd\",\n",
       " \"you'll\",\n",
       " \"you're\",\n",
       " \"you've\",\n",
       " 'your',\n",
       " 'yours',\n",
       " 'yourself',\n",
       " 'yourselves'}"
      ]
     },
     "execution_count": 19,
     "metadata": {},
     "output_type": "execute_result"
    }
   ],
   "source": [
    "set(stopwords.words('english')) #look at the nltk English stopwords"
   ]
  },
  {
   "cell_type": "code",
   "execution_count": 20,
   "metadata": {
    "ExecuteTime": {
     "end_time": "2019-11-15T07:05:51.635369Z",
     "start_time": "2019-11-15T07:05:51.630485Z"
    }
   },
   "outputs": [],
   "source": [
    "stopwords_nltk = stopwords.words('english')"
   ]
  },
  {
   "cell_type": "code",
   "execution_count": 21,
   "metadata": {
    "ExecuteTime": {
     "end_time": "2019-11-15T07:05:51.643951Z",
     "start_time": "2019-11-15T07:05:51.638001Z"
    }
   },
   "outputs": [
    {
     "data": {
      "text/plain": [
       "179"
      ]
     },
     "execution_count": 21,
     "metadata": {},
     "output_type": "execute_result"
    }
   ],
   "source": [
    "len(stopwords_nltk)"
   ]
  },
  {
   "cell_type": "code",
   "execution_count": 22,
   "metadata": {
    "ExecuteTime": {
     "end_time": "2019-11-15T07:05:51.651904Z",
     "start_time": "2019-11-15T07:05:51.646567Z"
    }
   },
   "outputs": [
    {
     "name": "stdout",
     "output_type": "stream",
     "text": [
      "181\n"
     ]
    }
   ],
   "source": [
    "stopwords_nltk.extend(['ADVERTISEMENT', 'advertisement']) #when run cell again, keeps getting extended\n",
    "print(len(stopwords_nltk))"
   ]
  },
  {
   "cell_type": "code",
   "execution_count": 23,
   "metadata": {
    "ExecuteTime": {
     "end_time": "2019-11-15T07:05:51.662535Z",
     "start_time": "2019-11-15T07:05:51.654815Z"
    }
   },
   "outputs": [
    {
     "data": {
      "text/plain": [
       "['i',\n",
       " 'me',\n",
       " 'my',\n",
       " 'myself',\n",
       " 'we',\n",
       " 'our',\n",
       " 'ours',\n",
       " 'ourselves',\n",
       " 'you',\n",
       " \"you're\",\n",
       " \"you've\",\n",
       " \"you'll\",\n",
       " \"you'd\",\n",
       " 'your',\n",
       " 'yours',\n",
       " 'yourself',\n",
       " 'yourselves',\n",
       " 'he',\n",
       " 'him',\n",
       " 'his',\n",
       " 'himself',\n",
       " 'she',\n",
       " \"she's\",\n",
       " 'her',\n",
       " 'hers',\n",
       " 'herself',\n",
       " 'it',\n",
       " \"it's\",\n",
       " 'its',\n",
       " 'itself',\n",
       " 'they',\n",
       " 'them',\n",
       " 'their',\n",
       " 'theirs',\n",
       " 'themselves',\n",
       " 'what',\n",
       " 'which',\n",
       " 'who',\n",
       " 'whom',\n",
       " 'this',\n",
       " 'that',\n",
       " \"that'll\",\n",
       " 'these',\n",
       " 'those',\n",
       " 'am',\n",
       " 'is',\n",
       " 'are',\n",
       " 'was',\n",
       " 'were',\n",
       " 'be',\n",
       " 'been',\n",
       " 'being',\n",
       " 'have',\n",
       " 'has',\n",
       " 'had',\n",
       " 'having',\n",
       " 'do',\n",
       " 'does',\n",
       " 'did',\n",
       " 'doing',\n",
       " 'a',\n",
       " 'an',\n",
       " 'the',\n",
       " 'and',\n",
       " 'but',\n",
       " 'if',\n",
       " 'or',\n",
       " 'because',\n",
       " 'as',\n",
       " 'until',\n",
       " 'while',\n",
       " 'of',\n",
       " 'at',\n",
       " 'by',\n",
       " 'for',\n",
       " 'with',\n",
       " 'about',\n",
       " 'against',\n",
       " 'between',\n",
       " 'into',\n",
       " 'through',\n",
       " 'during',\n",
       " 'before',\n",
       " 'after',\n",
       " 'above',\n",
       " 'below',\n",
       " 'to',\n",
       " 'from',\n",
       " 'up',\n",
       " 'down',\n",
       " 'in',\n",
       " 'out',\n",
       " 'on',\n",
       " 'off',\n",
       " 'over',\n",
       " 'under',\n",
       " 'again',\n",
       " 'further',\n",
       " 'then',\n",
       " 'once',\n",
       " 'here',\n",
       " 'there',\n",
       " 'when',\n",
       " 'where',\n",
       " 'why',\n",
       " 'how',\n",
       " 'all',\n",
       " 'any',\n",
       " 'both',\n",
       " 'each',\n",
       " 'few',\n",
       " 'more',\n",
       " 'most',\n",
       " 'other',\n",
       " 'some',\n",
       " 'such',\n",
       " 'no',\n",
       " 'nor',\n",
       " 'not',\n",
       " 'only',\n",
       " 'own',\n",
       " 'same',\n",
       " 'so',\n",
       " 'than',\n",
       " 'too',\n",
       " 'very',\n",
       " 's',\n",
       " 't',\n",
       " 'can',\n",
       " 'will',\n",
       " 'just',\n",
       " 'don',\n",
       " \"don't\",\n",
       " 'should',\n",
       " \"should've\",\n",
       " 'now',\n",
       " 'd',\n",
       " 'll',\n",
       " 'm',\n",
       " 'o',\n",
       " 're',\n",
       " 've',\n",
       " 'y',\n",
       " 'ain',\n",
       " 'aren',\n",
       " \"aren't\",\n",
       " 'couldn',\n",
       " \"couldn't\",\n",
       " 'didn',\n",
       " \"didn't\",\n",
       " 'doesn',\n",
       " \"doesn't\",\n",
       " 'hadn',\n",
       " \"hadn't\",\n",
       " 'hasn',\n",
       " \"hasn't\",\n",
       " 'haven',\n",
       " \"haven't\",\n",
       " 'isn',\n",
       " \"isn't\",\n",
       " 'ma',\n",
       " 'mightn',\n",
       " \"mightn't\",\n",
       " 'mustn',\n",
       " \"mustn't\",\n",
       " 'needn',\n",
       " \"needn't\",\n",
       " 'shan',\n",
       " \"shan't\",\n",
       " 'shouldn',\n",
       " \"shouldn't\",\n",
       " 'wasn',\n",
       " \"wasn't\",\n",
       " 'weren',\n",
       " \"weren't\",\n",
       " 'won',\n",
       " \"won't\",\n",
       " 'wouldn',\n",
       " \"wouldn't\",\n",
       " 'ADVERTISEMENT',\n",
       " 'advertisement']"
      ]
     },
     "execution_count": 23,
     "metadata": {},
     "output_type": "execute_result"
    }
   ],
   "source": [
    "stopwords_nltk"
   ]
  },
  {
   "cell_type": "code",
   "execution_count": 24,
   "metadata": {
    "ExecuteTime": {
     "end_time": "2019-11-15T07:05:51.669661Z",
     "start_time": "2019-11-15T07:05:51.665162Z"
    }
   },
   "outputs": [],
   "source": [
    "#added advertisement to stopwords, next step is to remove numbers from data before Vectorization\n",
    "#CountVectorizer removes punctuation and only keeps alphanumeric\n",
    "#vectorizers and nltk tokenizer have options to set tokens with regex, or to remove stopwords"
   ]
  },
  {
   "cell_type": "code",
   "execution_count": null,
   "metadata": {},
   "outputs": [],
   "source": []
  },
  {
   "cell_type": "markdown",
   "metadata": {},
   "source": [
    "### Vectorize - Count Vectorizer"
   ]
  },
  {
   "cell_type": "code",
   "execution_count": 25,
   "metadata": {
    "ExecuteTime": {
     "end_time": "2019-11-15T07:05:51.675776Z",
     "start_time": "2019-11-15T07:05:51.672618Z"
    }
   },
   "outputs": [],
   "source": [
    "#countVectorizer \n",
    "#Converts a collection of text documents to a matrix of token counts\n",
    "#input is expected to be the sequence strings or bytes items are expected to be analyzed directly."
   ]
  },
  {
   "cell_type": "code",
   "execution_count": 26,
   "metadata": {
    "ExecuteTime": {
     "end_time": "2019-11-15T07:05:57.498697Z",
     "start_time": "2019-11-15T07:05:51.678582Z"
    }
   },
   "outputs": [
    {
     "name": "stdout",
     "output_type": "stream",
     "text": [
      "['_gravié_ra', 'aarons', 'aattachment', 'abita', 'abruzzese', 'abruzzo', 'absente', 'absinthe', 'absolut', 'abuelita', 'aburaage', 'abv', 'acacia', 'accent', 'acceptable', 'accommodate', 'accompaniment', 'accompaniments', 'accordian', 'according', 'achiote', 'acid', 'acidity', 'acini', 'ackee', 'acorn', 'across', 'acrylic', 'acting', 'activate', 'activated', 'active', 'acto', 'actually', 'adams', 'add', 'added', 'adding', 'addition', 'additional', 'additions', 'additive', 'additives', 'adds', 'adjoining', 'adjust', 'adjustable', 'adjusted', 'adjusting', 'adjustments', 'adobo', 'adrianascaravan', 'adult', 'adults', 'advance', 'advise', 'aejado', 'aerosol', 'afford', 'affumicata', 'african', 'africantradingco', 'afterwards', 'agar', 'agave', 'age', 'aged', 'agricole', 'agrodolce', 'aguardiente', 'agur', 'ahead', 'ahi', 'aid', 'ail', 'aioli', 'air', 'airtight', 'airy', 'aisle', 'aitchbone', 'ajat', 'aji', 'ajika', 'ajowan', 'ajvar', 'ajwain', 'ají', 'ajíes', 'ajíí', 'aka', 'akkawi', 'al', 'alaea', 'alaska', 'alaskan', 'albacore', 'albemarle', 'alcohol', 'alcoholic', 'alder', 'ale', 'aleppo', 'alfalfa', 'alfonso', 'alfredo', 'alioli', 'alla', 'allergies', 'alligator', 'allow', 'allows', 'allspice', 'allspiece', 'almond', 'almonds', 'almost', 'aloe', 'along', 'alouette', 'alphabet', 'already', 'alsatian', 'also', 'alt', 'alternating', 'alternative', 'alternatively', 'alternatives', 'although', 'aluminum', 'amado', 'amalfi', 'amaranth', 'amarena', 'amaretti', 'amaretto', 'amarillo', 'amaro', 'amarone', 'amazon', 'amba', 'amber', 'ambert', 'amchoor', 'american', 'americano', 'aminos', 'ammonium', 'among', 'amontillado', 'amore', 'amount', 'amounts', 'amy', 'anaheim', 'analog', 'ancho', 'anchor', 'anchovies', 'anchovy', 'ancones', 'andes', 'andgizzard', 'andouille', 'andré', 'angel', 'angelica', 'angelino', 'anglaise', 'angle', 'angostura', 'animal', 'animals', 'anise', 'aniseed', 'aniseflavored', 'anisette', 'anjou', 'ann', 'anna', 'annatto', 'annie', 'anniversary', 'another', 'anson', 'antebellum', 'antelope', 'antica', 'antipasto', 'ants', 'anyway', 'aonori', 'aosta', 'aout', 'apart', 'apecial', 'aperitif', 'aperitivo', 'aperol', 'appenzeller', 'apple', 'applegate', 'applejack', 'apples', 'applesauce', 'appleton', 'applewood', 'appropriate', 'approved', 'approx', 'approximately', 'appétit', 'apricot', 'apricots', 'apron', 'aquafaba', 'aquavit', 'araguani', 'arame', 'arbequina', 'arbol', 'arborio', 'arctic', 'ardbeg', 'area', 'arepa', 'arequipe', 'arette', 'ariel', 'arils', 'arirangkimchee', 'arm', 'armagnac', 'armenian', 'arms', 'army', 'aroma', 'aromatic', 'aromatics', 'around', 'arrack', 'arrange', 'arrangements', 'arrowroot', 'artagnan', 'arthur', 'artichoke', 'artichokes', 'artisan', 'artisanal', 'arugula', 'asada', 'asadero', 'asafetida', 'asafoetida', 'asahi', 'ascorbic', 'ash', 'ashanti', 'asiago', 'asian', 'aside', 'ask', 'asparagus', 'aspic', 'assembling', 'assembly', 'assertive', 'assorted', 'assortment', 'asti', 'atar', 'ateco', 'atlantic', 'atroom', 'atta', 'attached', 'attachment', 'attachments', 'attractive', 'atural', 'au', 'aunt', 'auslese', 'australian', 'authentic', 'autrefois', 'autumn', 'availability', 'available', 'average', 'averagesized', 'averna', 'avo', 'avocado', 'avocadoes', 'avocados', 'avoid', 'away', 'awaze', 'azedo', 'aztec', 'açaí', 'aïoli', 'añejo', 'añjo', 'ba', 'bab', 'baba', 'baby', 'babybel', 'bacalao', 'bacardi', 'baccalà', 'bachelor', 'back', 'backbone', 'backbones', 'backfin', 'backs', 'backstraps', 'bacon', 'badjak', 'bag', 'bagel', 'bagels', 'bags', 'baguette', 'baguettes', 'baharat', 'bahn', 'bailey', 'baileys', 'baja', 'bake', 'baked', 'baker', 'bakeries', 'bakers', 'bakery', 'bakeware', 'baking', 'baklava', 'balance', 'balaton', 'balchao', 'balcones', 'ball', 'baller', 'ballpark', 'balls', 'balm', 'balsamic', 'bambino', 'bamboo', 'ban', 'banana', 'bananas', 'banane', 'band', 'bands', 'banh', 'banks', 'banneton', 'banon', 'banyuls', 'baobab', 'bar', 'barbara', 'barbecue', 'barbecued', 'barbera', 'barberries', 'barely', 'barhi', 'barilla', 'bark', 'barley', 'barolo', 'barramundi', 'barrel', 'barrios', 'barry', 'bars', 'barspoon', 'bartlett', 'basbaas', 'base', 'baseball', 'based', 'bases', 'bash', 'basic', 'basically', 'basics', 'basil', 'basket', 'baskets', 'basmati', 'basmatic', 'basque', 'bass', 'baste', 'basted', 'baster', 'basting', 'batatas', 'batavia', 'batch', 'batches', 'batons', 'bats', 'batter', 'bauli', 'bavarian', 'bavette', 'bay', 'bayley', 'bbq', 'bean', 'beans', 'bearded', 'beards', 'bears', 'beaten', 'beating', 'beaujolais', 'beaumes', 'beautiful', 'beauty', 'becomes', 'bed', 'bee', 'beech', 'beef', 'beefeater', 'beefsteak', 'beer', 'beet', 'beetroot', 'beetroots', 'beets', 'behind', 'beignets', 'bel', 'belacan', 'belgian', 'belize', 'bell', 'bella', 'bells', 'belly', 'belts', 'beluga', 'ben', 'bench', 'benedictine', 'bengal', 'beni', 'benne', 'benriner', 'benton', 'berbere', 'bergamot', 'berger', 'berkshire', 'bernheim', 'berries', 'berry', 'beryls', 'besan', 'best', 'betel', 'better', 'beurre', 'beverage', 'bialys', 'bianco', 'bias', 'bibb', 'biber', 'bibimbap', 'bicarbonate', 'big', 'bigeye', 'bigger', 'bigs', 'bihon', 'billion', 'bing', 'bird', 'birds', 'biscoff', 'biscotti', 'biscuit', 'biscuits', 'bison', 'bit', 'bite', 'bitesize', 'bits', 'bitter', 'bitterman', 'bittermens', 'bitters', 'bittersweet', 'bittersweetchocolate', 'black', 'blackberries', 'blackberry', 'blackcurrant', 'blackening', 'blackstrap', 'blade', 'blanc', 'blanche', 'blanched', 'blanching', 'blanco', 'blanton', 'bleached', 'blend', 'blended', 'blender', 'blending', 'blends', 'bleuet', 'blind', 'blinis', 'blis', 'bliss', 'blistered', 'blitzed', 'block', 'blocks', 'blond', 'blonde', 'blood', 'bloodline', 'bloody', 'blossom', 'blossoms', 'blotted', 'blown', 'blowtorch', 'blue', 'blueberries', 'blueberry', 'bluefish', 'bo', 'boar', 'board', 'boards', 'boat', 'bob', 'boboli', 'bobsredmill', 'boccalone', 'bocconcini', 'bock', 'bockwurst', 'bodied', 'bodies', 'body', 'boil', 'boiled', 'boiler', 'boiling', 'bois', 'bok', 'bold', 'bolder', 'bologna', 'bols', 'bolt', 'bomba', 'bombay', 'bomboloni', 'bon', 'bonbon', 'bonbons', 'bond', 'bonded', 'bone', 'boned', 'boneless', 'bones', 'boning', 'bonito', 'bonne', 'bonnet', 'bonnets', 'bonny', 'book', 'boosting', 'boquerones', 'borage', 'bordeaux', 'borlotti', 'borscht', 'bosc', 'boston', 'bother', 'bottle', 'bottled', 'bottles', 'bottom', 'bottomed', 'bottoms', 'bouchon', 'boudoirs', 'bought', 'bouillon', 'boule', 'bouquet', 'bouquets', 'bourbon', 'boursin', 'bow', 'bowl', 'bowled', 'bowls', 'bowmore', 'bowtie', 'box', 'boxed', 'boxes', 'boy', 'boysenberries', 'boysenberry', 'braciole', 'bracken', 'brad', 'braeburn', 'bragg', 'braggs', 'braided', 'brain', 'braise', 'braised', 'braiser', 'braises', 'braising', 'bramley', 'bran', 'branca', 'branch', 'branched', 'branches', 'brand', 'brandied', 'brands', 'brandy', 'brandywine', 'branzini', 'branzino', 'brasato', 'bratwurst', 'bratwursts', 'brawny', 'brazil', 'brazilian', 'brea', 'bread', 'breadcrumbs', 'breads', 'breadsticks', 'break', 'breakage', 'breakfast', 'breaks', 'breakstone', 'bream', 'breast', 'breastbone', 'breasts', 'breeze', 'bresaola', 'bretzel', 'brew', 'brewed', 'brewer', 'brick', 'brickle', 'bricks', 'bridge', 'brie', 'briefly', 'bright', 'brinata', 'brine', 'brined', 'bring', 'brining', 'briny', 'brioche', 'brioches', 'briquettes', 'brisket', 'brisling', 'bristle', 'brisée', 'british', 'brittle', 'broad', 'broccoflower', 'broccoli', 'broccolini', 'broil', 'broiled', 'broiler', 'broken', 'bronze', 'brook', 'brooklyn', 'broth', 'brothers', 'brought', 'brown', 'browned', 'brownie', 'brownies', 'browning', 'browns', 'bruised', 'bruschetta', 'brush', 'brushed', 'brushes', 'brushing', 'brussel', 'brussels', 'brut', 'brûlée', 'bubble', 'bubblegum', 'bucatini', 'bucheron', 'buchu', 'buckle', 'buckwheat', 'buco', 'buddha', 'buds', 'budweiser', 'bufala', 'buff', 'buffalo', 'buffel', 'bugles', 'bulb', 'bulbs', 'bulgarian', 'bulgur', 'bulk', 'bull', 'bumpy', 'bun', 'buna', 'bunch', 'bunches', 'bundle', 'bundles', 'bundnerfleisch', 'bundt', 'buns', 'buonitalia', 'bupounds', 'burdock', 'burger', 'burgers', 'burgundies', 'burgundy', 'burner', 'burning', 'burrata', 'burricotti', 'burrito', 'bush', 'bushi', 'bushmills', 'butcher', 'butchers', 'butt', 'butter', 'butterball', 'buttercream', 'buttercreams', 'buttercrunch', 'buttercup', 'buttered', 'butterfat', 'butterfinger', 'butterflied', 'butterfly', 'buttering', 'buttermilk', 'butternut', 'butterscotch', 'buttery', 'button', 'buttons', 'buy', 'byass', 'béarnaise', 'bénédictine', 'bûcheron', 'cabbage', 'cabbages', 'cabernet', 'cabot', 'cabrales', 'cacao', 'cachaca', 'cachaça', 'cacio', 'caciocavallo', 'caciotta', 'cactus', 'caesar', 'cafedumonde', 'caffè', 'café', 'cajeta', 'cajun', 'cajungrocer', 'cake', 'cakes', 'cal', 'calabaza', 'calabrian', 'calamansi', 'calamari', 'calamata', 'calasparra', 'calendula', 'calf', 'california', 'californian', 'calimyrna', 'call', 'callaloo', 'calle', 'callebaut', 'called', 'calling', 'calmyrna', 'caloric', 'calorie', 'calvados', 'camargue', 'camellia', 'camembert', 'campagne', 'campanelle', 'campari', 'campbell', 'camper', 'campfire', 'camus', 'canada', 'canadian', 'canal', 'canary', 'candied', 'candies', 'candle', 'candlenuts', 'candy', 'cane', 'canela', 'canes', 'canestriped', 'canister', 'cannabis', 'canned', 'cannellini', 'canner', 'canning', 'cannoli', 'canola', 'cans', 'cantal', 'cantaloupe', 'cantaloupes', 'canteloupe', 'canton', 'cantonese', 'caol', 'cap', 'capacity', 'cape', 'capel', 'capelletti', 'capellini', 'caper', 'caperberries', 'capers', 'capicola', 'capicolla', 'capocollo', 'cappelletti', 'cappellini', 'cappuccino', 'caps', 'capsicum', 'capsule', 'cara', 'caramel', 'caramelized', 'caramelizing', 'caramels', 'caraway', 'carbon', 'carbonated', 'carcass', 'carcasses', 'card', 'cardamom', 'cardboard', 'cardoons', 'careful', 'carefully', 'caribbean', 'carnaroli', 'carnation', 'carne', 'carnitas', 'carob', 'carolina', 'carom', 'carp', 'carpano', 'carpet', 'carr', 'carries', 'carrot', 'carrots', 'carry', 'cartilage', 'carton', 'cartons', 'carved', 'casalingo', 'casamigos', 'casar', 'casarecce', 'cascabel', 'case', 'cashew', 'cashews', 'casing', 'casings', 'cask', 'cassarecce', 'cassava', 'casserole', 'cassia', 'cassis', 'cast', 'castelfranco', 'castellane', 'castelvetrano', 'caster', 'catalan', 'catch', 'catfish', 'cathead', 'caught', 'caul', 'cauliflower', 'cava', 'cavaillon', 'cavatappi', 'cavatelli', 'caviar', 'cavities', 'cavity', 'cavolo', 'cayenne', 'cbd', 'cecco', 'ceci', 'cedar', 'cel', 'celeriac', 'celery', 'cellentani', 'cellophane', 'cemitas', 'center', 'centers', 'centimeter', 'centimeters', 'central', 'cep', 'ceramic', 'cereal', 'cerignola', 'cermanic', 'certified', 'certo', 'ceylon', 'cfu', 'cha', 'chaat', 'chabrin', 'chai', 'chain', 'challah', 'challenge', 'cham', 'chambord', 'chamomile', 'champagne', 'chana', 'changbai', 'changes', 'chanterelle', 'chanterelles', 'chantilly', 'chapati', 'char', 'charbay', 'charcoal', 'charcuterie', 'chard', 'chardonnay', 'charentais', 'charge', 'charged', 'charmoula', 'charra', 'charred', 'chartreuse', 'chayote', 'chayotes', 'che', 'cheap', 'cheat', 'check', 'checked', 'checking', 'cheddar', 'cheeks', 'cheese', 'cheesecake', 'cheesecloth', 'cheesemaking', 'cheeses', 'cheez', 'chef', 'chefshop', 'cheong', 'cherie', 'chermoula', 'cherokee', 'cherries', 'cherry', 'cherrystone', 'cherrywood', 'cherub', 'chervil', 'chestnut', 'chestnuts', 'chevre', 'chewy', 'chex', 'chi', 'chia', 'chianti', 'chicago', 'chicharrones', 'chicharrón', 'chicharrónes', 'chichicapa', 'chick', 'chicken', 'chickens', 'chickpea', 'chickpeas', 'chicories', 'chicory', 'chiffonade', 'chiffonaded', 'chihuahua', 'chilaca', 'chile', 'chilean', 'chiles', 'chili', 'chilies', 'chill', 'chilled', 'chilli', 'chillies', 'chimay', 'chimayo', 'chimichurri', 'chimney', 'china', 'chine', 'chinese', 'chinkiang', 'chioggia', 'chip', 'chipotle', 'chipotles', 'chips', 'chitarra', 'chiu', 'chive', 'chives', 'chlorella', 'choclo', 'chocolate', 'chocolates', 'choice', 'chokes', 'cholula', 'chong', 'chooped', 'choose', 'choosing', 'chop', 'chopmeat', 'chopped', 'chopping', 'chops', 'chopsticks', 'choricero', 'chorizo', 'chorizos', 'chou', 'chouriço', 'choux', 'chow', 'chowchow', 'chowder', 'choy', 'christmas', 'christophene', 'chrysanthemum', 'chubby', 'chuck', 'chuka', 'chun', 'chunk', 'chunks', 'chunky', 'churrera', 'churro', 'chutney', 'chèvre', 'ciabatta', 'cider', 'cilantro', 'ciliegini', 'cinder', 'cinnamon', 'cipolline', 'cipollini', 'cippoline', 'cipriani', 'circle', 'circles', 'circular', 'citric', 'citron', 'citrus', 'citrusy', 'city', 'cl', 'clabber', 'clam', 'clamato', 'clams', 'clarified', 'class', 'classic', 'classico', 'claw', 'claws', 'clean', 'cleaned', 'clear', 'cleaver', 'clementine', 'clementines', 'clerk', 'clicquot', 'clinging', 'clips', 'cloaks', 'clod', 'close', 'closed', 'closer', 'cloth', 'clothbound', 'clotted', 'clove', 'clover', 'cloves', 'club', 'cluizel', 'clumps', 'cluster', 'clusters', 'clásico', 'clément', 'cm', 'cmxcm', 'coal', 'coarse', 'coarsely', 'coarser', 'coast', 'coat', 'coated', 'coating', 'coatings', 'coax', 'cob', 'cobs', 'coca', 'cocchi', 'cock', 'cockles', 'cocktail', 'cocktails', 'coco', 'cocoa', 'coconut', 'coconuts', 'cod', 'coddler', 'coeur', 'coffee', 'cognac', 'coho', 'coiled', 'coils', 'coin', 'coined', 'coins', 'cointreau', 'coke', 'cola', 'colada', 'colander', 'colatura', 'colby', 'cold', 'colder', 'coleman', 'coleslaw', 'collagen', 'collapsible', 'collapsing', 'collard', 'collards', 'collars', 'collins', 'colman', 'colomba', 'colombian', 'color', 'colored', 'colorful', 'coloring', 'colorings', 'colors', 'colossal', 'com', 'comal', 'combier', 'combination', 'combine', 'combined', 'combo', 'come', 'comes', 'comfort', 'comice', 'commercial', 'commercially', 'common', 'commonly', 'company', 'complements', 'complete', 'completely', 'compote', 'comte', 'comté', 'concentrate', 'concentrated', 'concepción', 'concern', 'conch', 'concord', 'condensed', 'condiment', 'condiments', 'cone', 'cones', 'confectionary', 'confectioner', 'confectioners', 'confit', 'connective', 'connects', 'consommé', 'contact', 'container', 'containers', 'containing', 'contains', 'content', 'contessa', 'continue', 'conventional', 'converted', 'cook', 'cooked', 'cooker', 'cookie', 'cookies', 'cookiesepi', 'cooking', 'cooks', 'cool', 'cooled', 'cooler', 'cooling', 'cope', 'coppa', 'copper', 'coral', 'corazón', 'cordial', 'cordyceps', 'core', 'cored', 'corer', 'cores', 'coriander', 'cork', 'corkscrew', 'corn', 'cornbread', 'corncob', 'corned', 'corner', 'corners', 'cornflake', 'cornflakes', 'cornflowers', 'cornhusks', 'cornichons', 'cornish', 'cornmeal', 'corns', 'cornstarch', 'corona', 'correct', 'corrugated', 'cortland', 'corvina', 'cos', 'costoluto', 'cotija', 'cotixa', 'cotswold', 'cotta', 'cottage', 'cotto', 'cotton', 'coucous', 'could', 'coulis', 'count', 'counter', 'country', 'countrystyle', 'county', 'coupe', 'couple', 'couplers', 'courgette', 'courgettes', 'course', 'coursely', 'courvoisier', 'couscous', 'couscoussière', 'cover', 'covered', 'coves', 'cow', 'cowpeas', 'cows', 'coﬀee', 'crab', 'crabmeat', 'crabs', 'crack', 'cracked', 'cracker', 'crackers', 'cracklings', 'craft', 'crafts', 'craftsetc', 'cran', 'cranberries', 'cranberry', 'cranks', 'crate', 'crawfish', 'crayfish', 'crazy', 'cre', 'cream', 'creamaccompaniment', 'creamed', 'creamer', 'creamy', 'creating', 'creative', 'credit', 'creek', 'crema', 'creme', 'creminelli', 'cremini', 'creminis', 'creole', 'crepes', 'crescent', 'crescents', 'crescenza', 'cress', 'cried', 'crimini', 'criollas', 'crisco', 'crisp', 'crispbread', 'crisped', 'crispin', 'crisping', 'crisply', 'crisps', 'crispy', 'crme', 'croaker', 'crock', 'crocks', 'croissant', 'croissants', 'croix', 'crookneck', 'crosnes', 'cross', 'crosscut', 'crosshatch', 'crossways', 'crosswise', 'crostini', 'crottins', 'croutons', 'crowd', 'crowder', 'crown', 'crowns', 'crucolo', 'cruda', 'crudité', 'crudités', 'crumb', 'crumble', 'crumbled', 'crumbles', 'crumbly', 'crumbs', 'crunch', 'crunchy', 'crushed', 'crust', 'crusted', 'crustless', 'crusts', 'crusty', 'crystal', 'crystalized', 'crystallized', 'crystals', 'crème', 'crème_dishes', 'créme', 'créole', 'crêpe', 'crêpes', 'cuban', 'cubanelle', 'cubanelles', 'cube', 'cubeb', 'cubed', 'cubes', 'cucumber', 'cucumbers', 'culantro', 'culinary', 'culinarydistrict', 'cultivated', 'cultured', 'cultures', 'cumin', 'cup', 'cupcake', 'cupcakes', 'cupgriddled', 'cupmirin', 'cuppine', 'cups', 'cupsespagnole', 'cupslow', 'cupspanko', 'cupsturkey', 'cupswinter', 'curaçao', 'curd', 'curds', 'cure', 'cured', 'curing', 'curl', 'curled', 'curling', 'curls', 'curly', 'currant', 'currants', 'curry', 'curve', 'curved', 'custard', 'cut', 'cutinto', 'cutlet', 'cutlets', 'cuts', 'cutter', 'cutters', 'cutting', 'cuttlefish', 'cylinder', 'cynar', 'cypress', 'cèpe', 'cèpes', 'côte', 'côtes', 'dab', 'dai', 'daikon', 'dairy', 'daisies', 'dal', 'dale', 'dalfour', 'dalmatia', 'dals', 'damaged', 'damoiseau', 'damp', 'damson', 'dandelion', 'dang', 'daniel', 'danish', 'dariole', 'darjeeling', 'dark', 'darker', 'dartagnan', 'dash', 'dashes', 'dashi', 'dashima', 'dassai', 'date', 'dates', 'davis', 'dawadawa', 'day', 'days', 'de', 'dea', 'dead', 'deal', 'deandeluca', 'debearded', 'deboned', 'debris', 'decaffeinated', 'decide', 'deckle', 'decorate', 'decorating', 'decoration', 'decorations', 'decorative', 'dedicated', 'deep', 'deepdiagonal', 'deepfrying', 'deeply', 'defatted', 'defrost', 'defrosted', 'deglazing', 'deglet', 'degreased', 'degree', 'degrees', 'degroff', 'dehraduni', 'dehydrated', 'del', 'deli', 'delicata', 'delicate', 'delicious', 'delites', 'demerara', 'demi', 'demiglace', 'demitasse', 'dense', 'dente', 'denuded', 'denver', 'dep', 'depending', 'depends', 'deposits', 'depth', 'deribbed', 'desalinate', 'desalted', 'descaled', 'deseeded', 'desiccated', 'desired', 'dessert', 'destemmed', 'detached', 'details', 'determine', 'detox', 'deveined', 'deviened', 'devil', 'devon', 'dewar', 'dextrose', 'dhal', 'di', 'diagonal', 'diagonally', 'diameter', 'diamond', 'diasatic', 'diastatic', 'dice', 'diced', 'dickel', 'die', 'diet', 'different', 'difficult', 'digestive', 'digital', 'dijon', 'dill', 'dillon', 'dilly', 'diluted', 'dilution', 'dim', 'dime', 'ding', 'dingle', 'dinner', 'dinosaur', 'dip', 'diplomatico', 'dipped', 'dipper', 'dipping', 'directed', 'directions', 'directly', 'dirt', 'disaronno', 'disc', 'discard', 'discarded', 'discarding', 'disco', 'discoloration', 'discolored', 'discs', 'dish', 'dishes', 'disk', 'disks', 'disposable', 'dissipate', 'dissolved', 'distilled', 'distillers', 'ditali', 'ditalini', 'divded', 'diver', 'divided', 'diy', 'djan', 'doce', 'dodoni', 'doenjang', 'dog', 'dogfish', 'dogs', 'dolce', 'dolin', 'dollar', 'domaine', 'domed', 'domestic', 'dominican', 'done', 'doneness', 'donner', 'donnie', 'donot', 'dont', 'doon', 'dorade', 'dorados', 'dory', 'dos', 'dots', 'dou', 'double', 'doubleline', 'doublepeeled', 'dough', 'doughnut', 'doughnuts', 'doul', 'dove', 'dover', 'dowel', 'downy', 'dozen', 'dozens', 'dpdspirits', 'dr', 'dragees', 'dragées', 'drain', 'drained', 'draining', 'dram', 'dramatic', 'drambuie', 'draught', 'dredging', 'dressed', 'dresses', 'dressing', 'dried', 'drifts', 'drink', 'drinking', 'drinks', 'drip', 'drippings', 'drips', 'drizzle', 'drizzled', 'drizzling', 'drmcdougall', 'drop', 'dropperful', 'dropperfuls', 'drops', 'droste', 'drum', 'drumettes', 'drumstick', 'drumsticks', 'drunk', 'drunken', 'dry', 'dryroasted', 'du', 'dubonnet', 'duck', 'ducklings', 'ducks', 'due', 'dufour', 'duke', 'dukkah', 'dulce', 'dulces', 'dulcey', 'dulse', 'dumettes', 'dumpling', 'dumplings', 'dungeness', 'duqesne', 'duque', 'duro', 'durum', 'dust', 'dusted', 'dusting', 'dutch', 'duty', 'duvel', 'dwarf', 'dye', 'dyed', 'dylan', 'dylans', 'eagle', 'ear', 'earl', 'early', 'ears', 'earth', 'earthy', 'easier', 'easiest', 'easily', 'east', 'easter', 'eastern', 'easy', 'eating', 'eau', 'ebay', 'echalion', 'echinacea', 'edam', 'edamame', 'edenblend', 'edenfoods', 'edge', 'edged', 'edges', 'edible', 'edward', 'eel', 'efficient', 'egg', 'eggbeater', 'eggcups', 'eggless', 'eggnog', 'eggplant', 'eggplants', 'eggs', 'eggshell', 'egusi', 'egyptian', 'eight', 'eighths', 'einkorn', 'either', 'el', 'elbow', 'elbows', 'elderberry', 'elderflower', 'elderflowers', 'electric', 'elephant', 'eleve', 'elimination', 'elixir', 'elizabeth', 'em', 'emailing', 'emergo', 'emmental', 'emmentaler', 'emmenthal', 'emon', 'empanada', 'empire', 'emptied', 'empty', 'en', 'enamel', 'enameled', 'encases', 'enchilada', 'end', 'endive', 'endives', 'ends', 'ener', 'england', 'english', 'enjoy', 'enoki', 'enough', 'enriched', 'enthusiast', 'entilde', 'entire', 'entirely', 'entremet', 'envelope', 'envelopes', 'environmentally', 'epazote', 'epi', 'epicurious', 'epis', 'equal', 'equally', 'equator', 'equatoriale', 'equimpent', 'equipment', 'equis', 'equivalent', 'equpment', 'erawan', 'escabèche', 'escargot', 'escargots', 'escarole', 'espadi', 'especial', 'espelette', 'espresso', 'espumas', 'essence', 'essencia', 'essensia', 'estate', 'etc', 'ethnicgrocer', 'etorki', 'etsy', 'european', 'europeanstyle', 'evaporated', 'even', 'evenly', 'ever', 'every', 'everyday', 'everything', 'evoo', 'exceed', 'excellence', 'except', 'excess', 'excluding', 'exotic', 'expensive', 'expose', 'expressed', 'extact', 'exterior', 'external', 'extinguisher', 'extra', 'extract', 'extracted', 'extractor', 'extracts', 'extras', 'extrasharp', 'extreme', 'extremely', 'eye', 'eyed', 'eyes', 'fabric', 'fabrics', 'face', 'fage', 'fairly', 'fairy', 'fajita', 'falernum', 'fall', 'family', 'famous', 'fan', 'fancy', 'fans', 'farfalle', 'farfalline', 'farfel', 'farina', 'farinha', 'farm', 'farmed', 'farmer', 'farmers', 'farmhouse', 'farms', 'farro', 'fashioned', 'fast', 'faster', 'fat', 'fatback', 'fats', 'fattened', 'fatty', 'faux', 'fava', 'favas', 'fave', 'favorite', 'favorites', 'fearless', 'feather', 'feathers', 'fed', 'fee', 'feel', 'feet', 'female', 'fennel', 'fenugreek', 'fermented', 'fermentedsoybean', 'fern', 'fernet', 'ferns', 'ferrand', 'feshly', 'feta', 'fetta', 'fette', 'fettuccine', 'fettucine', 'fever', 'fibers', 'ficelle', 'fiddlehead', 'fideos', 'fideus', 'field', 'fiery', 'fifteen', 'fig', 'figs', 'filberts', 'filet', 'filets', 'filipino', 'fill', 'filled', 'fillers', 'fillet', 'filleted', 'fillets', 'filling', 'fillings', 'fillo', 'filo', 'filter', 'filtered', 'filters', 'filé', 'fin', 'find', 'fine', 'finely', 'finemesh', 'finest', 'finger', 'fingered', 'fingerling', 'fingerroot', 'fingers', 'fini', 'finish', 'finishing', 'finn', 'finnan', 'finnish', 'fino', 'finochionna', 'fins', 'fior', 'fiorentini', 'fir', 'fire', 'firefly', 'fireplace', 'fireproof', 'fireroasted', 'firewood', 'firm', 'firmer', 'firmish', 'firmly', 'first', 'fish', 'fishmonger', 'fistful', 'fistfuls', 'fit', 'fits', 'fitted', 'fitting', 'five', 'fixed', 'fl', 'flageolet', 'flageolets', 'flake', 'flaked', 'flakes', 'flaky', 'flame', 'flamed', 'flameproof', 'flan', 'flank', 'flanken', 'flans', 'flap', 'flaps', 'flash', 'flask', 'flat', 'flatbread', 'flatbreads', 'flatfish', 'flatiron', 'flatleaf', 'flatout', 'flats', 'flatten', 'flattened', 'flavor', 'flavored', 'flavorful', 'flavoring', 'flavorings', 'flavorless', 'flavors', 'flax', 'flaxseed', 'flaxseeds', 'flea', 'fleischmann', 'flemish', 'flesh', 'fleshed', 'fleur', 'flexible', 'flies', 'float', 'floor', 'floral', 'florentine', 'florets', 'florida', 'florist', 'flounder', 'flour', 'floured', 'flouring', 'flourless', 'floury', 'flower', 'flowering', 'flowers', 'fluff', 'fluffy', 'fluid', 'fluke', 'flush', 'flushed', 'flute', 'fluted', 'flying', 'foam', 'foamy', 'focaccia', 'fog', 'fogo', 'foie', 'foil', 'fold', 'folded', 'follow', 'follower', 'following', 'follows', 'fond', 'fondant', 'fondue', 'fong', 'fonio', 'font', 'fontina', 'food', 'foods', 'foot', 'forbidden', 'force', 'forced', 'fords', 'forelle', 'foreshanks', 'forest', 'forget', 'fork', 'forks', 'form', 'formed', 'forming', 'formula', 'fortaleza', 'forte', 'fortified', 'fortunes', 'forturkey', 'forty', 'fossa', 'foster', 'fougasse', 'found', 'four', 'fourme', 'fourths', 'frache', 'fractions', 'fragments', 'fragrant', 'frai', 'fraiche', 'fraiîhe', 'framboise', 'frangelico', 'frangipane', 'frank', 'fraser', 'fraìche', 'fraîche', 'fraîhe', 'free', 'freekeh', 'freestone', 'freeze', 'freezer', 'freezing', 'fregola', 'frekeh', 'french', 'frenched', 'frencher', 'fresca', 'fresco', 'fresh', 'freshest', 'freshly', 'freshwater', 'fresno', 'friand', 'frico', 'fridge', 'fried', 'friendly', 'fries', 'frijoles', 'frik', 'frisee', 'friselle', 'frisée', 'fritos', 'fromage', 'fronds', 'front', 'frosting', 'frostingepi', 'frothy', 'frozen', 'fruit', 'fruits', 'fruity', 'fry', 'fryer', 'frying', 'frères', 'fudge', 'fuerte', 'fuhrman', 'fuji', 'full', 'fully', 'fulvi', 'fungus', 'funnel', 'furikake', 'fusilli', 'fuyu', 'fuzz', 'fève', 'fèves', 'gaeta', 'gai', 'gala', 'galangal', 'galette', 'galettes', 'galia', 'galliano', 'gallo', 'gallon', 'gallons', 'game', 'ganache', 'garage', 'garam', 'garbage', 'garbanzo', 'gardein', 'garganelli', 'gari', 'garlic', 'garlicky', 'garnet', 'garni', 'garnis', 'garnish', 'garnishes', 'garnishing', 'garrotxa', 'garu', 'gas', 'gastronomy', 'gauge', 'gay', 'gebhardt', 'geese', 'gefilte', 'gel', 'gelatin', 'gelatine', 'gelato', 'gelled', 'gem', 'gemelli', 'gems', 'generally', 'generous', 'generously', 'genoa', 'genovese', 'gently', 'george', 'geranium', 'gerbera', 'germ', 'germain', 'german', 'get', 'getting', 'gewürztraminer', 'ghee', 'gherkin', 'gherkins', 'ghirardelli', 'ghost', 'ghosts', 'gianduja', 'giant', 'giardiniera', 'giblet', 'giblets', 'giffard', 'gigante', 'giganti', 'gigondas', 'gills', 'gin', 'ginger', 'gingerbread', 'gingerroot', 'gingersnap', 'gingersnaps', 'ginkgo', 'ginseng', 'giri', 'girl', 'give', 'gives', 'gizzard', 'glace', 'glacéed', 'glass', 'glasses', 'glaze', 'glazed', 'glazeepi', 'glazing', 'glen', 'glitter', 'globe', 'gloopy', 'glove', 'gloves', 'glucose', 'glue', 'glug', 'glugs', 'gluten', 'glutinous', 'glycerin', 'gm', 'gmo', 'gnocchi', 'go', 'goan', 'goat', 'goats', 'goblets', 'gobo', 'gochu', 'gochugaru', 'gochujang', 'goddess', 'goes', 'goji', 'gold', 'golden', 'goldschläger', 'golf', 'golpar', 'goma', 'gomashio', 'gonzález', 'good', 'goods', 'goodwill', 'goose', 'gooseberries', 'gooseberry', 'goosing', 'gordon', 'gorgeous', 'gorgonzola', 'gosling', 'goslings', 'got', 'gouda', 'gourmet', 'goya', 'grade', 'grady', 'graffiti', 'graham', 'grahams', 'grain', 'grained', 'grains', 'grainy', 'gram', 'grams', 'grana', 'grand', 'grandma', 'granita', 'granny', 'granola', 'granular', 'granulated', 'granules', 'grape', 'grapefruit', 'grapefruits', 'grapes', 'grapeseed', 'grappa', 'gras', 'grass', 'grassfed', 'grasshopper', 'grate', 'grated', 'grater', 'grates', 'gratin', 'grating', 'gratings', 'gravlax', 'gravy', 'gray', 'grease', 'greased', 'greasing', 'great', 'grechetto', 'greek', 'green', 'greening', 'greens', 'gremolata', 'grenadine', 'grey', 'gribenes', 'griddle', 'grigio', 'grill', 'grilled', 'grilling', 'grind', 'grinder', 'grinding', 'grindings', 'grinds', 'gris', 'grissini', 'gristle', 'grit', 'grits', 'gritty', 'groats', 'grocer', 'groceries', 'grocers', 'grocery', 'ground', 'groundnut', 'grounds', 'grouper', 'grouse', 'grove', 'grown', 'gruyere', 'gruyère', 'gruyére', 'grüner', 'guacamole', 'guajillo', 'guajillos', 'guanabana', 'guanciale', 'guapo', 'guar', 'guascas', 'guava', 'guavas', 'guindilla', 'guinness', 'guittard', 'gulden', 'gum', 'gumbo', 'gummi', 'gummy', 'gun', 'gunpowder', 'guntur', 'gushy', 'gustiamo', 'gut', 'gutted', 'gyoza', 'gyromitre', 'haas', 'habanero', 'habaneros', 'hachiya', 'haddie', 'haddock', 'haiga', 'hair', 'hake', 'hakurei', 'half', 'halibut', 'halloumi', 'haloumi', 'halvah', 'halve', 'halved', 'halves', 'ham', 'hamachi', 'hamburger', 'hamilton', 'hammer', 'hand', 'handcrushed', 'handful', 'handfulls', 'handfuls', 'handheld', 'handle', 'handled', 'handles', 'handling', 'hands', 'handwritten', 'handy', 'hang', 'hangar', 'hanger', 'hanout', 'hard', 'hardware', 'hardwood', 'hardy', 'haricorts', 'haricot', 'haricots', 'harina', 'harissa', 'haroseth', 'harp', 'harvest', 'hash', 'hass', 'hatch', 'havarti', 'hawaiian', 'hawaij', 'hawayei', 'hawthorn', 'hazelnut', 'hazelnuts', 'hazen', 'head', 'headnote', 'heads', 'healing', 'health', 'healthy', 'heaped', 'heaping', 'heart', 'hearts', 'hearty', 'heat', 'heated', 'heath', 'heatproof', 'heavily', 'heavy', 'hedgehog', 'heering', 'hefeweizen', 'hefty', 'heidi', 'heinz', 'heirloom', 'heirlooms', 'held', 'hell', 'hellfire', 'hellman', 'hellmann', 'help', 'helpful', 'helps', 'hemisphere', 'hemispherical', 'hemp', 'hen', 'hendrick', 'hennessey', 'hens', 'herb', 'herbal', 'herbamare', 'herbed', 'herbes', 'herbs', 'herbsaint', 'heritage', 'hero', 'herring', 'hershey', 'hibiki', 'hibiscus', 'hick', 'hickory', 'hide', 'high', 'higher', 'highest', 'highly', 'highwest', 'hijiki', 'hill', 'himalayan', 'hine', 'hing', 'hints', 'hips', 'hoagie', 'hobby', 'hock', 'hocks', 'hoegaarden', 'hog', 'hoisin', 'hoja', 'hokkaido', 'hokusetsu', 'hold', 'holding', 'holds', 'hole', 'holes', 'holiday', 'holidays', 'holland', 'hollandaise', 'hollow', 'hollowed', 'homade', 'home', 'homemade', 'homestyle', 'hominy', 'hon', 'honey', 'honeycomb', 'honeycrisp', 'honeydew', 'honeyed', 'honeynut', 'hong', 'honing', 'honshimeji', 'hook', 'horizontally', 'horseradish', 'horticultural', 'hose', 'hot', 'hotchkiss', 'hothouse', 'hots', 'hotter', 'hour', 'hours', 'house', 'houses', 'hsing', 'huacatay', 'hubbard', 'huckleberries', 'huckleberry', 'hudson', 'hudsonvalleyfoiegras', 'huitlacoche', 'hull', 'hulled', 'humboldt', 'hummus', 'hungarian', 'hunt', 'hunza', 'hurry', 'hurt', 'hush', 'husk', 'husked', 'husks', 'huy', 'hydro', 'hydrogenated', 'hyssop', 'hôtel', 'ian', 'ibarra', 'ice', 'iceberg', 'iceburg', 'iced', 'ich', 'ichimi', 'icing', 'icingepi', 'id', 'ida', 'idaho', 'ideal', 'ideally', 'igourmet', 'ikea', 'ila', 'ilegal', 'ilmercatoitaliano', 'iloco', 'imagine', 'imitation', 'immature', 'immediately', 'immersion', 'impart', 'implement', 'important', 'imported', 'improvise', 'impériale', 'inc', 'inch', 'inches', 'incht', 'inchthick', 'inchwide', 'include', 'included', 'includes', 'including', 'increase', 'incubator', 'index', 'india', 'indian', 'indicates', 'indirect', 'individual', 'individually', 'indonesian', 'inexpensive', 'info', 'infused', 'ingredient', 'ingredients', 'ink', 'inna', 'innards', 'inner', 'innermost', 'inpursuitoftea', 'ins', 'insanely', 'insert', 'inside', 'insides', 'insist', 'inspired', 'insta', 'instacure', 'instant', 'instead', 'instructions', 'insulated', 'intact', 'intense', 'interior', 'international', 'internet', 'intervals', 'intestines', 'invert', 'iodized', 'ipa', 'ipswich', 'iqf', 'iranian', 'irish', 'iron', 'irregular', 'irregularly', 'iru', 'irú', 'isastegi', 'island', 'islands', 'islay', 'israeli', 'italian', 'items', 'jack', 'jackfruit', 'jacobsen', 'jaggery', 'jagody', 'jalape', 'jalapeno', 'jalapeo', 'jalapeño', 'jalapeños', 'jalapño', 'jam', 'jamaica', 'jamaican', 'jammy', 'jams', 'jamón', 'jan', 'japanese', 'japones', 'jar', 'jarlsberg', 'jarlsburg', 'jarred', 'jars', 'jasmine', 'jeanne', 'jefe', 'jell', 'jellied', 'jellies', 'jelly', 'jemima', 'jenkins', 'jerk', 'jerry', 'jersey', 'jerusalem', 'jet', 'jewel', 'jewish', 'jfg', 'jiang', 'jicama', 'jif', 'jiffy', 'jigger', 'jimmies', 'jimmy', 'jivara', 'joe', 'john', 'jointed', 'jonagold', 'jordan', 'josh', 'jouët', 'joven', 'jowl', 'joyva', 'juice', 'juiced', 'juicer', 'juices', 'juicier', 'juicing', 'juicy', 'jujubes', 'julep', 'julia', 'julienne', 'julienned', 'julio', 'jumbo', 'junior', 'juniper', 'junmai', 'junípero', 'jus', 'jägermeister', 'jícama', 'kabocha', 'kadi', 'kadota', 'kaffir', 'kahlu', 'kahlúa', 'kaiser', 'kaiware', 'kalamansi', 'kalamata', 'kalbi', 'kale', 'kalonji', 'kalustyans', 'kalúa', 'kam', 'kamut', 'kansas', 'kaolin', 'karo', 'kasha', 'kashmiri', 'kasoori', 'kasseri', 'kataifi', 'kateh', 'katsuo', 'katsuobushi', 'katz', 'kavli', 'kecap', 'kee', 'keebler', 'keep', 'keeping', 'keeps', 'kefalotiri', 'kefalotyri', 'kefir', 'kellogg', 'kelp', 'kemp', 'kent', 'kentucky', 'kept', 'kern', 'kernel', 'kernels', 'kerrygold', 'ketchup', 'ketjap', 'kettle', 'kettlepizza', 'kewpie', 'key', 'kg', 'khao', 'khlass', 'khua', 'kick', 'kid', 'kiddush', 'kidney', 'kidneys', 'kids', 'kielbasa', 'kikkoman', 'kilo', 'kilograms', 'kimchi', 'kind', 'kindlin', 'kinds', 'king', 'kingarthurflour', 'kippers', 'kir', 'kirby', 'kirsch', 'kirschwasser', 'kiss', 'kisses', 'kit', 'kitchen', 'kitchens', 'kiwi', 'kiwifruit', 'kiwifruits', 'kiwis', 'kix', 'knafe', 'kneading', 'knife', 'knob', 'knockwurst', 'know', 'known', 'knuckle', 'knuckles', 'koamart', 'kochujang', 'koda', 'kodiak', 'kohlrabi', 'kohlrabies', 'koji', 'kolsch', 'komatsuna', 'kombu', 'kombucha', 'kona', 'konbu', 'kong', 'kool', 'koon', 'korean', 'kosari', 'kosher', 'koshian', 'kosho', 'kra', 'kraft', 'kriek', 'krinos', 'krispies', 'krogstad', 'kugelhopf', 'kugelhupf', 'kum', 'kumamoto', 'kumara', 'kumquat', 'kumquats', 'kumquatsepi', 'kuri', 'kuro', 'kurobuta', 'kümmel', 'la', 'labaneh', 'label', 'labeled', 'labels', 'labne', 'labneh', 'laboiteny', 'laces', 'lacinato', 'lacing', 'lacquered', 'lactose', 'ladolemono', 'lady', 'ladyfinger', 'ladyfingers', 'lager', 'lagerstyle', 'laird', 'lake', 'lamb', 'lambic', 'lambrusco', 'lambs', 'lan', 'lancashire', 'lancaster', 'lanka', 'lantern', 'laphroaig', 'lapsang', 'laquercia', 'lard', 'lardo', 'lardons', 'large', 'larger', 'largest', 'lars', 'lasagna', 'lasagne', 'last', 'late', 'latex', 'latienda', 'latin', 'latino', 'latourangelle', 'latte', 'laughing', 'lava', 'lavash', 'lavender', 'laver', 'lavosh', 'lay', 'layer', 'layers', 'lazy', 'lazzaroni', 'lb', 'lbs', 'le', 'leaf', 'leafed', 'leafy', 'lean', 'least', 'leather', 'leave', 'leaves', 'leaving', 'lebanese', 'lebkuchen', 'lebneh', 'leche', 'lee', 'leek', 'leeks', 'leeners', 'lefse', 'left', 'leftover', 'leftovers', 'leg', 'legs', 'legthwise', 'legumes', 'leicester', 'lemon', 'lemonade', 'lemongrass', 'lemons', 'lemony', 'lend', 'length', 'lengths', 'lengthways', 'lengthwise', 'lentil', 'lentilles', 'lentils', 'leonardo', 'lepicerie', 'less', 'let', 'letherbee', 'letters', 'lettuce', 'lettuces', 'level', 'leveled', 'leveling', 'libby', 'licor', 'licorice', 'lid', 'lids', 'lie', 'life', 'ligament', 'light', 'lighter', 'lightlife', 'lightly', 'lightlysweetened', 'lightning', 'lightweight', 'ligurian', 'like', 'lil', 'lilac', 'lillet', 'lily', 'lima', 'limas', 'lime', 'limeade', 'limes', 'limezest', 'limited', 'limo', 'limonada', 'limonata', 'limoncello', 'limoncillo', 'limu', 'lindemans', 'lindsay', 'lindt', 'line', 'lined', 'linen', 'liner', 'liners', 'lines', 'lingcod', 'lingonberries', 'lingonberry', 'lingots', 'linguine', 'linguini', 'linguiça', 'lini', 'lining', 'link', 'links', 'linseed', 'linseeds', 'lint', 'lion', 'lip', 'liquefy', 'liqueuer', 'liqueur', 'liquid', 'liquor', 'list', 'lit', 'liter', 'literally', 'liters', 'litre', 'litres', 'little', 'littleneck', 'littlenecks', 'live', 'liver', 'livers', 'liverwurst', 'lo', 'loaf', 'loaves', 'lobes', 'lobster', 'lobsters', 'local', 'locust', 'lodge', 'log', 'logs', 'loin', 'loins', 'lolla', 'lollipop', 'lollo', 'london', 'long', 'longaniza', 'longhorn', 'look', 'looks', 'loose', 'loosely', 'loosen', 'looza', 'lop', 'lopez', 'lord', 'los', 'lots', 'lotus', 'louis', 'louisiana', 'loup', 'lour', 'lovage', 'love', 'low', 'lower', 'lowering', 'lowfat', 'lox', 'loóza', 'lucini', 'lucques', 'lucía', 'luganega', 'luis', 'luke', 'lukewarm', 'lulo', 'lumaconi', 'lump', 'lumpia', 'lumps', 'lumpy', 'luo', 'luscious', 'lustau', 'luster', 'lusterdust', 'luxardo', 'lychees', 'lye', 'lying', 'lyle', 'lópez', 'maca', 'macadamia', 'macapuno', 'macaroni', 'macaroons', 'mace', 'macerated', 'machine', 'macintosh', 'mackerel', 'mackeson', 'madagascar', 'maddalena', 'made', 'madeira', 'madeleine', 'madness', 'madras', 'mae', 'maesri', 'mafaldine', 'maggi', 'magnificent', 'magpie', 'magret', 'magrets', 'maguey', 'mahatma', 'mahi', 'mahimahi', 'mahlab', 'mahleb', 'mahón', 'maida', 'maiden', 'maifun', 'main', 'maine', 'maitake', 'major', 'make', 'maker', 'makes', 'making', 'makrut', 'malabar', 'malaga', 'malagueta', 'malaguetas', 'malanga', 'malaysian', 'malbec', 'maldive', 'maldon', 'malibu', 'mallet', 'malloreddus', 'malt', 'maltaise', 'malted', 'mam', 'mama', 'maman', 'mamey', 'mamé', 'man', 'manageable', 'manchego', 'mandarin', 'mandarine', 'mandarins', 'mandioca', 'mandolin', 'mandoline', 'mango', 'mangoes', 'mangos', 'manicotti', 'manila', 'manioc', 'manis', 'manischewitz', 'manjari', 'manual', 'manuka', 'many', 'manzanilla', 'manzanos', 'maple', 'maque', 'mara', 'maracuyá', 'maras', 'maraschino', 'marash', 'maraska', 'marble', 'marbled', 'marbles', 'marcona', 'marcos', 'margarine', 'margarita', 'margherita', 'maria', 'mariage', 'marinade', 'marinara', 'marinated', 'marinating', 'marionberries', 'marionberry', 'maris', 'marjoram', 'mark', 'marked', 'marker', 'market', 'markets', 'marmalade', 'marnier', 'maroon', 'marrow', 'marrowbones', 'marsala', 'marscapone', 'marshmallow', 'marshmallows', 'martin', 'martini', 'mary', 'marzano', 'marzipan', 'masa', 'masala', 'masarepa', 'mascarpone', 'maseca', 'mash', 'mashed', 'masher', 'masking', 'mason', 'masoor', 'mass', 'massage', 'massaged', 'massaman', 'massenez', 'massey', 'master', 'mastic', 'mat', 'match', 'matcha', 'matches', 'matchstick', 'matchsticks', 'material', 'mathilde', 'mats', 'matter', 'mature', 'matza', 'matzah', 'matzo', 'matzoh', 'matzos', 'maui', 'max', 'may', 'mayo', 'mayonnaise', 'maytag', 'maître', 'mccollum', 'mccollums', 'mccormick', 'mccoy', 'mche', 'mcintosh', 'mead', 'meal', 'means', 'meanwhile', 'measure', 'measured', 'measurement', 'measurements', 'measures', 'measuring', 'meat', 'meatballs', 'meatloaf', 'meats', 'meaty', 'meaux', 'medaglia', 'medal', 'medallion', 'medicinals', 'medieval', 'mediterranean', 'medium', 'medjool', 'meiji', 'mein', 'melange', 'melissa', 'melissas', 'mellocreme', 'mellow', 'melon', 'melons', 'melt', 'melted', 'melting', 'melts', 'members', 'membrane', 'membranes', 'membrillo', 'memphis', 'menlo', 'menma', 'mentaiko', 'menthe', 'mer', 'merguez', 'meringue', 'meringues', 'merlot', 'mes', 'mesclun', 'mesh', 'mesquite', 'metal', 'metallic', 'methi', 'method', 'mexican', 'mexicana', 'mexico', 'mexicos', 'meyer', 'mezcal', 'mezze', 'mezzi', 'mg', 'mian', 'miche', 'micro', 'microgreens', 'microplane', 'microwavable', 'microwave', 'middle', 'midnight', 'midori', 'midribs', 'mie', 'mignon', 'mignons', 'mild', 'milder', 'mildflavored', 'mildly', 'mililiters', 'milk', 'milkimchi', 'mill', 'milled', 'miller', 'millet', 'milliliter', 'milliliters', 'mills', 'mimolette', 'mimosa', 'minced', 'mincemeat', 'mind', 'mined', 'mineral', 'mini', 'miniature', 'minimum', 'minneolas', 'mint', 'minted', 'mints', 'minus', 'minute', 'minutes', 'miracle', 'mirasol', 'mirin', 'mirliton', 'mirlitons', 'mislabeled', 'miso', 'misshapen', 'mission', 'mister', 'misua', 'mitica', 'mitts', 'mix', 'mixed', 'mixer', 'mixers', 'mixing', 'mixture', 'miyoko', 'mizuna', 'ml', 'mm', 'moby', 'mocha', 'mochiko', 'modelo', 'moderately', 'mograbiah', 'moist', 'moistened', 'moistening', 'moisture', 'mojito', 'mojo', 'molasses', 'mold', 'molds', 'mole', 'molecular', 'molokhieh', 'momiji', 'monde', 'monger', 'monin', 'monitor', 'monkfish', 'montana', 'monte', 'montenegro', 'monterey', 'montereyjack', 'monterrey', 'months', 'montrachet', 'montreal', 'moon', 'moong', 'moonglow', 'moons', 'moonshine', 'morcilla', 'morel', 'morello', 'morels', 'mori', 'morita', 'moritas', 'morning', 'moroccan', 'morris', 'morsels', 'mortadella', 'mortar', 'morton', 'moscatel', 'moscato', 'mote', 'mother', 'mott', 'moulard', 'mount', 'mountain', 'mousse', 'moutarde', 'moved', 'movie', 'mozzarella', 'mrs', 'ms', 'msc', 'msg', 'mt', 'mu', 'much', 'muddle', 'muddler', 'muddlers', 'muddling', 'mueller', 'muenster', 'muffin', 'muffins', 'muffuletta', 'mug', 'mugs', 'muir', 'mulato', 'mulberries', 'mullet', 'mullets', 'multi', 'multicolored', 'multigrain', 'mung', 'murcott', 'murray', 'murrayscheese', 'muscadet', 'muscat', 'muscle', 'muscles', 'muscovado', 'muscovy', 'mushroom', 'mushrooms', 'musir', 'muslin', 'mussels', 'must', 'mustard', 'mutabal', 'mutsu', 'myers', 'mymouné', 'mâche', 'märzen', 'mélange', 'mûre', 'münster', 'naam', 'naan', 'naans', 'nabisco', 'nam', 'name', 'nano', 'nantucket', 'napa', 'napoléon', 'naranjilla', 'nardello', 'narrow', 'narrowing', 'nashville', 'nasturtium', 'nasturtiums', 'nationwide', 'native', 'natural', 'naturally', 'naughty', 'navan', 'navel', 'navy', 'nduja', 'neal', 'near', 'necessary', 'neck', 'necks', 'nectar', 'nectarine', 'nectarines', 'need', 'needed', 'needle', 'needlenose', 'needles', 'neely', 'neem', 'neera', 'negi', 'negra', 'negro', 'neither', 'nellie', 'nem', 'nepenthe', 'neri', 'nerigoma', 'nero', 'nest', 'nestlé', 'nests', 'net', 'netted', 'nettles', 'neufchaåtel', 'neufchâtel', 'neutral', 'never', 'new', 'newman', 'newsom', 'newspaper', 'next', 'nguyen', 'nib', 'nibs', 'nice', 'nicoise', 'nielsen', 'nigella', 'nilla', 'nine', 'niçoise', 'nobody', 'nocello', 'noilly', 'noir', 'non', 'nonalcoholic', 'nondairy', 'none', 'nonfat', 'nonhydrogenated', 'nonino', 'nonpareil', 'nonpareils', 'nonreactive', 'nonstick', 'nonsweet', 'nontoxic', 'noodle', 'noodles', 'noor', 'nopales', 'nordic', 'nori', 'north', 'northern', 'northwest', 'nose', 'nosed', 'note', 'noted', 'notes', 'nothing', 'notice', 'nougat', 'nova', 'novo', 'ntlde', 'nto', 'nu', 'nucoa', 'nueske', 'nuggets', 'number', 'nuoc', 'nut', 'nutella', 'nutmeg', 'nutmegs', 'nutri', 'nutritional', 'nuts', 'nyons', 'nyora', 'oak', 'oaky', 'oat', 'oatcakes', 'oatmeal', 'oats', 'oaxaca', 'oaxacan', 'oblaten', 'oblong', 'ocean', 'octagonal', 'octopus', 'octopuses', 'ocute', 'oeil', 'oelek', 'offers', 'offset', 'often', 'ogo', 'ohnuts', 'oil', 'oiled', 'oiling', 'oils', 'oily', 'oince', 'oka', 'okay', 'okinawan', 'okra', 'old', 'oldfashioned', 'oleic', 'olio', 'olive', 'olivenation', 'olives', 'olla', 'oloroso', 'omani', 'omega', 'omelet', 'omit', 'omitting', 'onaise', 'one', 'ones', 'onetik', 'onion', 'onions', 'online', 'oolong', 'oounce', 'oounces', 'opal', 'open', 'opened', 'opening', 'optioinal', 'optional', 'optionally', 'orange', 'oranges', 'orchids', 'order', 'ordered', 'ore', 'orecchiette', 'oregano', 'oregon', 'oreo', 'oreos', 'organic', 'organs', 'orgeat', 'oriental', 'original', 'orleans', 'ornament', 'ornaments', 'oro', 'oroshiepi', 'oroweat', 'ortiz', 'orvieto', 'orzata', 'orzo', 'osetra', 'ossetra', 'osso', 'ossobuco', 'ostrich', 'otafuku', 'others', 'ounce', 'ouncec', 'ouncecs', 'ounces', 'outer', 'outside', 'ouzo', 'oval', 'ovalpie', 'ovals', 'ovaltine', 'oven', 'ovenproof', 'overly', 'overnight', 'overproof', 'overripe', 'ovoline', 'ox', 'oxheart', 'oxtail', 'oxtails', 'oyster', 'oysters', 'oz', 'pabst', 'paccheri', 'pacific', 'pacifico', 'pack', 'packag', 'package', 'packaged', 'packages', 'packed', 'packet', 'packets', 'packs', 'pad', 'padano', 'paddle', 'paddlefish', 'paddles', 'padrón', 'paella', 'paese', 'page', 'pain', 'paint', 'paintbrush', 'paintbrushes', 'paints', 'pair', 'pajeon', 'palabok', 'pale', 'palegreen', 'palm', 'palmful', 'pama', 'pamplemousse', 'pan', 'panang', 'panca', 'pancake', 'pancakes', 'pancetta', 'panda', 'pandan', 'pandoro', 'paneer', 'panela', 'panettone', 'panfried', 'panfrying', 'panini', 'panko', 'panna', 'pans', 'pansies', 'papadums', 'papas', 'papaya', 'papayas', 'paper', 'papers', 'papery', 'pappadams', 'pappadum', 'pappardelle', 'paprika', 'par', 'paratha', 'parboiled', 'parchment', 'parcooked', 'parents', 'pareve', 'parfait', 'paring', 'parlsey', 'parma', 'parmesan', 'parmiggiano', 'parmigian', 'parmigiano', 'parsely', 'parsley', 'parsnip', 'parsnips', 'part', 'partial', 'partially', 'particles', 'partida', 'parts', 'party', 'parve', 'pasilla', 'pasillas', 'passata', 'passing', 'passion', 'passionfruit', 'passover', 'pasta', 'paste', 'pastel', 'pasteurized', 'pastina', 'pastis', 'pastourma', 'pastrami', 'pastry', 'pasture', 'pastured', 'pasty', 'pat', 'patak', 'patna', 'patron', 'pats', 'patted', 'pattern', 'patties', 'patty', 'pattypan', 'paul', 'paula', 'pea', 'peach', 'peaches', 'peaks', 'pealed', 'peanut', 'peanuts', 'pear', 'pearl', 'pearled', 'pearls', 'pears', 'peas', 'peasant', 'peasy', 'pecan', 'pecans', 'pecorino', 'pectin', 'pedro', 'peekytoe', 'peel', 'peeled', 'peeler', 'peels', 'peg', 'pekin', 'peking', 'pekoe', 'pelargonium', 'pellegrino', 'peltier', 'pen', 'pencil', 'penne', 'pennette', 'pennies', 'penzeys', 'people', 'pepe', 'peperonata', 'peperoncini', 'peperoncino', 'pepitas', 'peppadew', 'peppadews', 'peppar', 'pepper', 'peppercorn', 'peppercorns', 'peppered', 'pepperidge', 'peppermint', 'pepperoncini', 'pepperoni', 'peppers', 'peppery', 'pequin', 'per', 'percent', 'percentage', 'perch', 'perciatelli', 'perfect', 'perfection', 'perfectly', 'perforated', 'perilla', 'perlato', 'permitting', 'pernod', 'perrier', 'persian', 'persimmon', 'persimmons', 'person', 'personal', 'perugina', 'peruvian', 'pesticide', 'pestle', 'pesto', 'pet', 'petal', 'petals', 'pete', 'petit', 'petite', 'petits', 'petrale', 'peychaud', 'phase', 'pheasant', 'pheasants', 'philadelphia', 'phin', 'pho', 'phon', 'phrik', 'phu', 'phyllo', 'piave', 'picada', 'picante', 'piccante', 'picholine', 'pick', 'pickapeppa', 'picked', 'pickerel', 'pickle', 'pickled', 'pickles', 'pickling', 'picks', 'picnic', 'pico', 'picot', 'pie', 'piece', 'pieces', 'piecrust', 'piecrusts', 'pieepi', 'pierced', 'pierogi', 'pierre', 'pies', 'pig', 'pigeon', 'pigeons', 'pigs', 'pike', 'pikeplacefish', 'pilaf', 'pillsbury', 'piloncillo', 'pilot', 'pilpelchuma', 'pilsner', 'pilsners', 'piment', 'pimentn', 'pimento', 'pimenton', 'pimentos', 'pimentón', 'pimiento', 'pimientos', 'pimm', 'pin', 'pina', 'pinbones', 'pinch', 'pinched', 'pinches', 'pine', 'pineapple', 'pineapples', 'pinenuts', 'pinhead', 'pink', 'pinkerton', 'pinkie', 'pinot', 'pins', 'pint', 'pintcherry', 'pinto', 'pints', 'pinza', 'pioppini', 'piper', 'pipette', 'piping', 'pippin', 'piquant', 'piquillo', 'piquin', 'piri', 'pirozhki', 'pisco', 'pistachio', 'pistachios', 'pistils', 'pistoles', 'pistou', 'pit', 'pita', 'pitas', 'pitcher', 'pith', 'pits', 'pitta', 'pitted', 'pizza', 'pizzelle', 'pizzelles', 'pkg', 'pla', 'place', 'places', 'plain', 'plane', 'plank', 'planks', 'plans', 'plant', 'plantain', 'plantains', 'plants', 'plastic', 'plate', 'plates', 'platter', 'pleated', 'plenty', 'pliable', 'pliers', 'ploy', 'plugra', 'plugrá', 'plum', 'plump', 'plumped', 'plums', 'plunge', 'plunger', 'pluot', 'pluots', 'plus', 'plymouth', 'plátanos', 'poached', 'poaching', 'poblano', 'poblanos', 'pocket', 'pocketless', 'pockets', 'pod', 'podded', 'pods', 'point', 'pointer', 'points', 'poire', 'pois', 'poked', 'pole', 'polenta', 'polentaepi', 'polish', 'polished', 'pollack', 'pollen', 'pollock', 'polpette', 'pom', 'pomegranate', 'pomegranates', 'pomelo', 'pomelos', 'pomi', 'pommery', 'pomodoro', 'pomona', 'pomì', 'pony', 'ponzu', 'poolish', 'poon', 'pop', 'popcorn', 'poplar', 'popover', 'popovers', 'popped', 'popper', 'poppy', 'pops', 'popsicle', 'porcini', 'porgy', 'pork', 'port', 'portabella', 'porter', 'porterhouse', 'portion', 'portioned', 'portions', 'portobellini', 'portobello', 'portobellos', 'portuguese', 'position', 'possible', 'possibly', 'pot', 'potato', 'potatoes', 'pots', 'poudre', 'poultry', 'pound', 'pounded', 'pounder', 'pounding', 'pounds', 'poupon', 'pour', 'pourable', 'poured', 'pouring', 'poussins', 'povilho', 'powder', 'powdered', 'powders', 'powdery', 'power', 'powered', 'powerful', 'pozole', 'prague', 'prairie', 'praline', 'prat', 'prawn', 'prawns', 'pre', 'prebaked', 'precise', 'precooked', 'precrumbled', 'precut', 'predominantly', 'prefer', 'preferabbly', 'preferable', 'preferably', 'preference', 'preferred', 'preferredmeats', 'prefers', 'prego', 'preheat', 'premade', 'premium', 'prep', 'prepackaged', 'preparation', 'prepare', 'prepared', 'preparing', 'prepped', 'prerolled', 'presentation', 'preserved', 'preserves', 'presidente', 'presliced', 'presoaked', 'press', 'pressed', 'pressing', 'pressure', 'pressé', 'pretty', 'pretzel', 'pretzels', 'prevent', 'prevents', 'previous', 'prewashed', 'pricked', 'prickly', 'prime', 'prince', 'printed', 'probiotic', 'problem', 'process', 'processed', 'processor', 'produce', 'product', 'products', 'pronged', 'proof', 'propane', 'properly', 'proportion', 'prosciutto', 'prosecco', 'protective', 'protein', 'provencal', 'provence', 'provençe', 'provolone', 'prudhomme', 'pruitt', 'prune', 'prunes', 'psyllium', 'pt', 'ptitim', 'pté', 'pudding', 'puff', 'puffed', 'puffs', 'pulled', 'pullman', 'pulp', 'pulse', 'pulsed', 'pulsing', 'pulverized', 'pumpernickel', 'pumpkin', 'pumpkins', 'puna', 'punch', 'punds', 'pungent', 'punt', 'puntarelle', 'puppies', 'pura', 'purchase', 'purchased', 'purchasing', 'pure', 'puree', 'pureed', 'purified', 'purlsoho', 'purple', 'purpose', 'purslane', 'purée', 'puréed', 'pushed', 'put', 'puy', 'puya', 'pyongo', 'pyrex', 'pápalo', 'páté', 'pâte', 'pâté', 'périgord', 'pêches', 'qt', 'qts', 'quahogs', 'quail', 'quaker', 'quality', 'quantities', 'quantity', 'quark', 'quart', 'quarter', 'quartered', 'quarters', 'quarts', 'quartt', 'quatre', 'queen', 'quemada', 'quesillo', 'queso', 'quiche', 'quick', 'quickcooking', 'quickly', 'quills', 'quince', 'quinces', 'quinoa', 'quite', 'quoc', 'rabarbaro', 'rabbit', 'rabbits', 'rabe', 'rack', 'racks', 'raclette', 'radiatori', 'radicchio', 'radish', 'radishes', 'raffia', 'rainbow', 'rainier', 'raised', 'raisin', 'raising', 'raisins', 'raita', 'ram', 'rambutan', 'ramekin', 'ramekins', 'ramen', 'ramp', 'ramps', 'ramyun', 'ran', 'ranch', 'ranchero', 'rancho', 'random', 'range', 'ranging', 'rani', 'rao', 'rapid', 'rapini', 'rare', 'ras', 'rasam', 'rashers', 'rasp', 'raspberries', 'raspberry', 'rated', 'rather', 'ratio', 'rau', 'ravioli', 'raw', 'ray', 'razberi', 'razor', 'rbol', 'reactive', 'read', 'readily', 'ready', 'real', 'realfruit', 'really', 'reblochon', 'recado', 'recao', 'recently', 'recipe', 'recipeepi', 'recipelink', 'recipelinkand', 'recipelinkpie', 'recipes', 'recommend', 'recommended', 'recommends', 'reconstituted', 'rectangles', 'rectangular', 'red', 'redbreast', 'redhot', 'redskinned', 'reduce', 'reduced', 'reducing', 'reduction', 'reed', 'reese', 'referred', 'refill', 'refined', 'refreshed', 'refreshment', 'refried', 'refrigerate', 'refrigerated', 'refrigerator', 'regan', 'reggiano', 'reginetti', 'regional', 'regular', 'regulating', 'reheated', 'reheating', 'rehydrated', 'reims', 'reishi', 'relative', 'release', 'relish', 'remainder', 'remaining', 'remains', 'remoulade', 'removable', 'remove', 'removed', 'rendered', 'rennet', 'replace', 'replacer', 'replacing', 'reposado', 'reprodepot', 'require', 'required', 'requires', 'resealable', 'reserve', 'reserved', 'reserving', 'resistant', 'resources', 'rest', 'restaurant', 'result', 'results', 'retain', 'return', 'reuben', 'reyes', 'rhubarb', 'rhum', 'rhône', 'rib', 'ribbed', 'ribbon', 'ribbons', 'ribeye', 'riblets', 'ribs', 'rice', 'riced', 'ricer', 'rich', 'rick', 'rico', 'ricotta', 'ridge', 'ridged', 'riesling', 'rigate', 'rigati', 'rigatoni', 'rim', 'rimless', 'rimmed', 'rimming', 'rims', 'rind', 'rindless', 'rinds', 'ring', 'rings', 'rinse', 'rinsed', 'rio', 'rioja', 'ripasso', 'ripe', 'ripen', 'ripened', 'ripped', 'ripple', 'rise', 'rising', 'riso', 'risotto', 'rittenhouse', 'ritz', 'river', 'riz', 'roast', 'roasted', 'roaster', 'roasting', 'roasts', 'robby', 'robert', 'robin', 'robiola', 'robot', 'robust', 'roca', 'rocco', 'rock', 'rocket', 'rockfish', 'rocks', 'rocoto', 'rod', 'rods', 'roe', 'roja', 'rok', 'roll', 'rolled', 'roller', 'rolling', 'rolls', 'roma', 'romaine', 'roman', 'romanesco', 'romano', 'romas', 'romesco', 'ron', 'roncal', 'rooibos', 'room', 'root', 'roots', 'roquefort', 'rosa', 'rosato', 'rose', 'rosebud', 'rosebuds', 'rosemary', 'roses', 'rosettes', 'rosewater', 'rossa', 'rosso', 'rosé', 'rotel', 'rotelle', 'rothman', 'roti', 'rotini', 'rotisserie', 'rougaroux', 'rouge', 'rough', 'roughly', 'roughy', 'rouille', 'round', 'rounded', 'rounds', 'royal', 'royale', 'rub', 'rubbed', 'rubber', 'rubbing', 'ruby', 'rudy', 'ruffle', 'ruin', 'ruler', 'rum', 'rump', 'runner', 'running', 'runny', 'runs', 'russet', 'russian', 'rust', 'rustic', 'rustique', 'rutabaga', 'rutabagas', 'rye', 'ryvita', 'rémoulade', 'rústico', 'saambhar', 'saba', 'sabayon', 'sable', 'sablefish', 'sablé', 'sablés', 'sabra', 'sachet', 'sack', 'safe', 'safflower', 'saffron', 'saga', 'sagardo', 'sagatiba', 'sage', 'sahadis', 'saifun', 'saikyo', 'sailor', 'saint', 'sake', 'saké', 'salad', 'salamandra', 'salami', 'salata', 'salep', 'sales', 'salmon', 'salmonella', 'salsa', 'salsify', 'salt', 'salted', 'saltine', 'saltines', 'saltiness', 'salting', 'salts', 'saltworks', 'salty', 'salumi', 'salut', 'salvadoran', 'salvation', 'sambal', 'sambar', 'sambuca', 'sami', 'samoas', 'samuel', 'san', 'sand', 'sandbakkel', 'sandies', 'sanding', 'sandwich', 'sandwiches', 'sansho', 'sansyo', 'santa', 'santo', 'sapphire', 'sapporo', 'sara', 'sardines', 'sardo', 'sargento', 'saronno', 'sarticious', 'sarvecchio', 'sashimi', 'sassafras', 'satay', 'sato', 'satsumas', 'sau', 'sauce', 'sauceepi', 'saucepan', 'sauces', 'saucisson', 'sauerkraut', 'sausage', 'sausagemaker', 'sausages', 'sauteing', 'sauterne', 'sauternes', 'sauté', 'sautéed', 'sautéing', 'sauvignon', 'savarin', 'save', 'saved', 'saveur', 'savoiardi', 'savory', 'savoryspiceshop', 'savoy', 'saw', 'sawsawan', 'sazón', 'sc', 'scalded', 'scalding', 'scale', 'scaled', 'scales', 'scallion', 'scallions', 'scalloped', 'scallopini', 'scallops', 'scaloppine', 'scamorza', 'scandinavian', 'scant', 'scapes', 'scarlet', 'scented', 'scharfen', 'scharffen', 'schmaltz', 'schnapps', 'scissors', 'scleaned', 'scoop', 'scooped', 'scooping', 'scoops', 'scored', 'scotch', 'scotia', 'scottish', 'scout', 'scouting', 'scrambled', 'scraped', 'scraper', 'scraps', 'scratch', 'screw', 'scrod', 'scrubbed', 'sea', 'seafood', 'sealable', 'sealed', 'sealing', 'searing', 'seasnax', 'season', 'seasonal', 'seasonally', 'seasoned', 'seasoning', 'seasonings', 'seasons', 'seaweed', 'sec', 'seckel', 'second', 'seconds', 'secret', 'section', 'sectioned', 'sections', 'secured', 'sedaris', 'sediment', 'see', 'seed', 'seeded', 'seedless', 'seedpods', 'seeds', 'seedy', 'seek', 'seekers', 'segment', 'segmented', 'segments', 'seitan', 'sel', 'select', 'selection', 'self', 'selim', 'seller', 'seltzer', 'semi', 'semiaged', 'semiboneless', 'semicircles', 'semifirm', 'semipearled', 'semiseet', 'semisoft', 'semisweet', 'semolina', 'sendai', 'sendexnet', 'sense', 'separate', 'separated', 'separately', 'separator', 'sercial', 'seriously', 'serrano', 'serranos', 'serrated', 'serrrano', 'serve', 'served', 'serving', 'servings', 'sesame', 'set', 'sets', 'sev', 'seven', 'several', 'seville', 'shades', 'shado', 'shake', 'shaken', 'shaker', 'shakers', 'shaking', 'shallot', 'shallots', 'shallow', 'shame', 'shandong', 'shanghai', 'shank', 'shanks', 'shao', 'shaohsing', 'shaoxing', 'shape', 'shaped', 'shaped_coeur', 'shapes', 'shaping', 'shards', 'shark', 'sharlyn', 'sharp', 'sharpened', 'shave', 'shaved', 'shaver', 'shaving', 'shavings', 'shears', 'sheep', 'sheet', 'sheets', 'shell', 'shelled', 'shellfish', 'shelling', 'shells', 'sherbet', 'sherry', 'shichimi', 'shield', 'shiitake', 'shiitakes', 'shimeji', 'shin', 'shiny', 'shio', 'shipped', 'shirataki', 'shiraz', 'shiro', 'shishito', 'shiso', 'shitake', 'shitakes', 'shito', 'shoe', 'shoga', 'shoot', 'shoots', 'shop', 'shops', 'short', 'shortbread', 'shortcakes', 'shortcrust', 'shortcut', 'shortening', 'shorter', 'shortgrain', 'shot', 'shoulder', 'shown', 'shoyu', 'shred', 'shredded', 'shredding', 'shreds', 'shrimp', 'shrink', 'shrub', 'shrubb', 'shu', 'shucked', 'shuk', 'sichuan', 'sicilia', 'sicilian', 'side', 'sided', 'sides', 'siembra', 'sierra', 'sieve', 'sieved', 'sift', 'sifted', 'sifter', 'sifting', 'silan', 'silicone', 'silk', 'silken', 'silpain', 'silpat', 'silpats', 'silver', 'silverside', 'silverskin', 'similar', 'similarly', 'simmer', 'simple', 'simply', 'simón', 'sinclair', 'sinew', 'sinews', 'single', 'sini', 'sirloin', 'sister', 'sit', 'sites', 'siu', 'six', 'sixteen', 'sixths', 'size', 'sized', 'sizes', 'skate', 'skeins', 'skewer', 'skewered', 'skewers', 'skillet', 'skillets', 'skim', 'skimmed', 'skimmer', 'skin', 'skinless', 'skinned', 'skins', 'skip', 'skipping', 'skippy', 'skirt', 'skor', 'skordalia', 'skyy', 'slab', 'slabs', 'slaked', 'slate', 'slather', 'slathering', 'slaw', 'sleeve', 'sleeves', 'slender', 'slice', 'sliced', 'slicer', 'slices', 'slicing', 'slider', 'sliders', 'slight', 'slightly', 'slim', 'slipper', 'slit', 'sliver', 'slivered', 'slivers', 'sloe', 'sloping', 'slotted', 'slow', 'slowly', 'small', 'smaller', 'smallish', 'smarties', 'smash', 'smashed', 'smells', 'smelts', 'smidgen', 'smith', 'smithfield', 'smiths', 'smoke', 'smoked', 'smokehouse', 'smoker', 'smokies', 'smokin', 'smoking', 'smoky', 'smooth', 'smoothly', 'snack', 'snacks', 'snail', 'snails', 'snake', 'snap', 'snapped', 'snapper', 'snappers', 'snapping', 'snipped', 'snow', 'snowflake', 'soak', 'soaked', 'soaking', 'soba', 'sochu', 'sockeye', 'soda', 'sodium', 'sofra', 'sofrito', 'soft', 'soften', 'softened', 'softer', 'softly', 'soggy', 'soju', 'sold', 'sole', 'solera', 'solid', 'solidify', 'solids', 'solomonov', 'soluble', 'somali', 'somen', 'something', 'sometimes', 'somewhat', 'sooji', 'sooks', 'soppressata', 'sopressata', 'sorbet', 'sorbets', 'sorghum', 'sorrel', 'sort', 'sorted', 'souchong', 'soufflé', 'soup', 'soupspoons', 'sour', 'sources', 'sourdough', 'soured', 'soursop', 'sous', 'south', 'southeast', 'southern', 'southwestern', 'soy', 'soybean', 'soybeans', 'soymilk', 'spa', 'space', 'spaetzle', 'spaghetti', 'spaghettini', 'spain', 'spam', 'spanish', 'spare', 'spareribs', 'sparingly', 'sparkling', 'spatchcock', 'spatchcocked', 'spatula', 'spatulas', 'spear', 'spearmint', 'spears', 'special', 'specialty', 'specific', 'specified', 'speck', 'speckled', 'spectrumorganics', 'speculoos', 'speed', 'spell', 'spelt', 'spent', 'sphere', 'spice', 'spicebarn', 'spiced', 'spices', 'spicier', 'spicy', 'spider', 'spiders', 'spiked', 'spikes', 'spinach', 'spines', 'spiral', 'spiralized', 'spiralizer', 'spirit', 'spirited', 'spirulina', 'splash', 'splashes', 'splenda', 'split', 'sponge', 'spongy', 'spoon', 'spooned', 'spoonful', 'spoons', 'sports', 'spot', 'spots', 'spotted', 'spotty', 'spout', 'spouts', 'spray', 'sprayed', 'spraying', 'spread', 'spreadable', 'spreading', 'sprig', 'sprightly', 'sprigs', 'spring', 'springform', 'springs', 'sprinkle', 'sprinkled', 'sprinkles', 'sprinkling', 'spritz', 'sprout', 'sprouted', 'sprouting', 'sprouts', 'spun', 'spy', 'squacquerone', 'square', 'squares', 'squash', 'squashed', 'squashes', 'squeeze', 'squeezed', 'squeezing', 'squid', 'squirt', 'squish', 'sri', 'sriracha', 'ssupermarkets', 'ssäm', 'ssämjang', 'st', 'stabilizing', 'stack', 'stackable', 'stacked', 'stainless', 'stale', 'stalk', 'stalks', 'stalky', 'stamen', 'stamens', 'stand', 'standard', 'standing', 'stands', 'star', 'starch', 'starchy', 'stars', 'start', 'starter', 'starters', 'states', 'steak', 'steaks', 'steam', 'steamed', 'steamer', 'steaming', 'steel', 'steels', 'steen', 'steep', 'steeped', 'stem', 'stemmed', 'stems', 'stencil', 'step', 'sterile', 'sterilized', 'sterling', 'stevia', 'stew', 'stewed', 'stewing', 'stick', 'sticker', 'stickers', 'sticking', 'sticks', 'sticky', 'stiff', 'still', 'stilton', 'stinging', 'stir', 'stirred', 'stix', 'stock', 'stockpot', 'stoli', 'stolichnaya', 'stone', 'stoned', 'stoneground', 'stones', 'stop', 'storage', 'store', 'storebought', 'stores', 'storing', 'stout', 'stovetop', 'stracciatella', 'straight', 'strained', 'strainer', 'straining', 'strand', 'strands', 'straw', 'strawberries', 'strawberry', 'straws', 'streaky', 'streamers', 'street', 'strega', 'strength', 'stress', 'streusel', 'strictly', 'string', 'stringed', 'stringless', 'strings', 'stringy', 'strip', 'stripe', 'striped', 'stripes', 'stripped', 'strips', 'strong', 'stronger', 'strongly', 'strozzapreti', 'stubb', 'stuck', 'studded', 'stuffed', 'stuffing', 'sturdy', 'sturgeon', 'style', 'styles', 'styrofoam', 'sub', 'submarine', 'submerged', 'substitute', 'substituted', 'substitutes', 'substitutions', 'sucanat', 'sucrée', 'sucuk', 'suet', 'sugaar', 'sugar', 'sugarcane', 'sugarcoated', 'sugarcraft', 'sugared', 'sugars', 'suggested', 'suggests', 'suit', 'suits', 'suji', 'sukang', 'sukiyaki', 'sulmitti', 'sultana', 'sultanas', 'sum', 'sumac', 'summer', 'sun', 'sunbutter', 'sunchoke', 'sunchokes', 'sundried', 'sunflower', 'sung', 'sunny', 'super', 'superfine', 'supermarket', 'supermarkets', 'superpremium', 'supersized', 'supplement', 'supplier', 'suppliers', 'supply', 'supreme', 'supremes', 'suprêmes', 'sure', 'surface', 'suribachi', 'surlatable', 'sushi', 'sustainably', 'suze', 'suzette', 'swad', 'swans', 'swanson', 'swedish', 'sweet', 'sweetbreads', 'sweeten', 'sweetened', 'sweetener', 'sweeter', 'sweetness', 'sweets', 'swirl', 'swiss', 'switch', 'switzerland', 'swordfish', 'syphon', 'syrah', 'syrian', 'syrup', 'syrupepi', 'syrups', 'szechuan', 'sōmen', 'taaka', 'tabasco', 'tabbouleh', 'tabil', 'table', 'tablebspoons', 'tablecloth', 'tablepoons', 'tablepsoon', 'tables', 'tablesepoon', 'tablespons', 'tablespoon', 'tablespoona', 'tablespoons', 'tablespoonsfinely', 'tablespoonsimple', 'tablespoonsn', 'tablespoonss', 'tablet', 'tablspoon', 'tablspoons', 'tac', 'taco', 'tagalongs', 'taggiasca', 'tagine', 'tagliardi', 'tagliatelle', 'tagliolini', 'tahina', 'tahini', 'tail', 'tailed', 'tails', 'tajin', 'tajín', 'take', 'takeout', 'tale', 'taleggio', 'talenti', 'tall', 'tallow', 'tamales', 'tamari', 'tamarillo', 'tamarillos', 'tamarind', 'tamicon', 'tamis', 'tamp', 'tan', 'tandoori', 'tangelo', 'tangelos', 'tangerine', 'tangerines', 'tangy', 'tank', 'tanqueray', 'tap', 'tapatío', 'tape', 'tapenade', 'tapioca', 'tapped', 'tarama', 'taramasalata', 'tarantulas', 'tarbais', 'tardivo', 'target', 'taro', 'tarragon', 'tart', 'tartar', 'tartlet', 'tasso', 'taste', 'tastes', 'tasting', 'tasty', 'tater', 'tatin', 'tatsoi', 'tawny', 'taylor', 'tbs', 'tbsp', 'tbsps', 'tea', 'teaaspoon', 'teabags', 'teacups', 'teapoon', 'teapot', 'teapsoon', 'teapsoons', 'tear', 'teardrop', 'teasoon', 'teaspoon', 'teaspoons', 'teaspooon', 'teaspsoon', 'tecate', 'tehina', 'teleme', 'teleras', 'tellicherry', 'temp', 'tempeh', 'temperatur', 'temperature', 'temperatures', 'tempered', 'template', 'tempura', 'ten', 'tender', 'tenderloin', 'tenderloins', 'tenders', 'tendril', 'tendrils', 'tends', 'tennessee', 'tenneyson', 'tennis', 'tentacles', 'teotitlán', 'tepid', 'tequila', 'teriyaki', 'terra', 'terrasonoma', 'terrine', 'terry', 'tesoro', 'test', 'tester', 'testing', 'tetilla', 'texas', 'texture', 'textured', 'th', 'thai', 'thanksgiving', 'thaw', 'thawed', 'theater', 'thebaking', 'therefore', 'thermometer', 'thermos', 'thespicehouse', 'thick', 'thicken', 'thickener', 'thickeners', 'thicker', 'thickest', 'thickly', 'thickness', 'thigh', 'thighs', 'thimble', 'thin', 'thing', 'things', 'think', 'thinluy', 'thinly', 'thinned', 'thinning', 'thins', 'third', 'thirds', 'thirty', 'thomcord', 'thoor', 'thoroughly', 'though', 'thoureads', 'thousand', 'thread', 'threads', 'three', 'throughout', 'throw', 'ths', 'thumb', 'thumbelina', 'thyme', 'thymeepi', 'ti', 'tia', 'tic', 'tie', 'tied', 'tienda', 'tiers', 'tiger', 'tight', 'tightly', 'tiki', 'tikka', 'tilapia', 'tiles', 'till', 'tillamook', 'tilt', 'time', 'timer', 'times', 'tin', 'tinapa', 'tinfoil', 'tinkyada', 'tins', 'tinted', 'tiny', 'tip', 'tiparos', 'tipo', 'tipped', 'tips', 'tiramisù', 'tissue', 'titanfood', 'tito', 'tk', 'toast', 'toasted', 'toastedcooled', 'toastedepi', 'toastedin', 'toasting', 'toasts', 'toban', 'tobanjan', 'tobiko', 'todd', 'toffee', 'tofu', 'togarashi', 'together', 'tokyo', 'tolerant', 'tolerated', 'toll', 'tolstoi', 'tomatillo', 'tomatillos', 'tomato', 'tomatoes', 'ton', 'tone', 'tongs', 'tongue', 'tonic', 'tonkatsu', 'tonnarelli', 'toor', 'tooth', 'toothpick', 'toothpicks', 'top', 'topped', 'topping', 'toppings', 'tops', 'torani', 'torch', 'torino', 'torn', 'torpedo', 'torta', 'tortellini', 'tortelloni', 'tortiglioni', 'tortilla', 'tortillas', 'tortue', 'toscano', 'toss', 'tossed', 'tossing', 'tostada', 'tostadas', 'total', 'totally', 'tots', 'touch', 'tough', 'toulouse', 'toum', 'towel', 'towels', 'trace', 'trader', 'traditional', 'trail', 'trans', 'transfer', 'translucent', 'transparent', 'tray', 'trays', 'treacle', 'trebbiano', 'tree', 'treviso', 'tri', 'triangle', 'triangles', 'triangular', 'trick', 'tricolor', 'trifle', 'trim', 'trimmed', 'trimming', 'trimmings', 'trinidad', 'tripe', 'tripel', 'triple', 'tripoline', 'trips', 'trompe', 'tropical', 'trout', 'true', 'truffle', 'truffled', 'truffles', 'truly', 'trumpet', 'trumpets', 'trung', 'trungnguyen', 'truroots', 'truth', 'truvia', 'try', 'tsp', 'tsps', 'tteok', 'tuaca', 'tub', 'tube', 'tubers', 'tubes', 'tubetti', 'tubs', 'tubular', 'tucked', 'tuiles', 'tukmaria', 'tumeric', 'tuna', 'turbinado', 'turbot', 'turkey', 'turkeys', 'turkish', 'turmeric', 'turned', 'turning', 'turnip', 'turnips', 'turns', 'turntable', 'turtle', 'tuscan', 'tvorog', 'tvp', 'tweezers', 'twelve', 'twenty', 'twice', 'twine', 'twist', 'twisted', 'twisting', 'twists', 'twizzlers', 'two', 'tying', 'type', 'types', 'typically', 'tzatziki', 'tía', 'tõgarashi', 'udon', 'uku', 'ulek', 'ultimate', 'ultra', 'ultrathin', 'umbrellas', 'ume', 'umeboshi', 'un', 'unaged', 'unappetizing', 'unavailable', 'unbaked', 'unblanched', 'unbleached', 'uncertain', 'uncle', 'uncoated', 'uncooked', 'uncovered', 'uncracked', 'uncured', 'uncut', 'undecorated', 'underripe', 'undiluted', 'undrained', 'undyed', 'unfiltered', 'unflavored', 'unfolded', 'unfrenched', 'unglazed', 'unheated', 'unhulled', 'unhusked', 'uni', 'uniform', 'uniformly', 'unique', 'united', 'unless', 'unlike', 'unmarinated', 'unmelted', 'unpacked', 'unpasteurized', 'unpeeled', 'unpitted', 'unrefined', 'unripe', 'unroasted', 'unrolled', 'unsalted', 'unscented', 'unseasoned', 'unseeded', 'unshelled', 'unshucked', 'unsifted', 'unskinned', 'unsliced', 'unsmoked', 'unsprayed', 'unsulfured', 'unsulphured', 'unsweetened', 'unthawed', 'untied', 'untoasted', 'untreated', 'untrimmed', 'unwaxed', 'unwrapped', 'upholstery', 'upland', 'upper', 'upscale', 'urad', 'urchin', 'urfa', 'us', 'use', 'used', 'uses', 'using', 'usli', 'usually', 'usukuchi', 'uwajimaya', 'uziza', 'vacu', 'vacuum', 'vadouvan', 'vago', 'valdeón', 'valencia', 'valentina', 'vali', 'valles', 'valley', 'valpolicella', 'valrhona', 'vanilla', 'vanille', 'vareniki', 'variant', 'variation', 'variations', 'varieties', 'variety', 'various', 'vary', 'varying', 'vase', 'vases', 'veal', 'veau', 'vegan', 'vegannaise', 'vegenaise', 'vegetable', 'vegetables', 'vegetarian', 'vegetarians', 'veggie', 'veggies', 'vegizest', 'veined', 'veins', 'velouté', 'veltliner', 'velveeta', 'velvet', 'venezuelan', 'venise', 'venison', 'ventrèche', 'vera', 'verbena', 'verde', 'verdelho', 'verjus', 'vermentino', 'vermicelli', 'vermont', 'vermouth', 'versa', 'version', 'vertical', 'vertically', 'verts', 'vessel', 'veuve', 'vialone', 'vida', 'vidalia', 'vide', 'vie', 'vietnamese', 'vieux', 'vigo', 'vigorously', 'vikos', 'vin', 'vinagre', 'vinaigrette', 'vincotto', 'vindaloo', 'vine', 'vinegar', 'vinegared', 'vinegary', 'vines', 'vinho', 'vintage', 'viognier', 'violets', 'violette', 'virgin', 'virginia', 'virginiatraditions', 'visible', 'visit', 'vita', 'vital', 'vitamin', 'vitaminutes', 'vitamix', 'vodka', 'vollrath', 'volume', 'vs', 'vsop', 'wafer', 'wafers', 'waffle', 'wagon', 'wagyu', 'waiting', 'wakame', 'walden', 'walkers', 'walkerswood', 'walla', 'walled', 'walnut', 'walnuts', 'want', 'warabi', 'ware', 'warm', 'warmed', 'warqa', 'wasa', 'wasabi', 'wash', 'washed', 'waste', 'watchers', 'water', 'watercress', 'waterlogged', 'watermelon', 'waterpacked', 'waterproof', 'watrecress', 'wavy', 'wax', 'waxed', 'waxy', 'ways', 'wear', 'weave', 'web', 'weblike', 'webstaurantstore', 'wedge', 'wedges', 'weed', 'week', 'weeks', 'weelicious', 'weigh', 'weighed', 'weighing', 'weight', 'weighting', 'weights', 'well', 'wells', 'west', 'western', 'westphalian', 'wet', 'whacked', 'whatever', 'wheat', 'wheatmeal', 'wheel', 'wheels', 'whether', 'whey', 'whip', 'whipped', 'whipping', 'whisk', 'whisked', 'whiskey', 'whisky', 'white', 'whitefish', 'whites', 'whitestriped', 'whiting', 'whittled', 'whole', 'wholegrain', 'wholemeal', 'wholesome', 'wholespice', 'whoppers', 'wickedgoodcharcoal', 'wide', 'width', 'widthwise', 'wieners', 'wild', 'wildflower', 'william', 'williams', 'wilt', 'wilted', 'wilton', 'wine', 'wineglass', 'winesap', 'winevinegar', 'wing', 'wingettes', 'wings', 'winter', 'wipe', 'wiped', 'wire', 'wisconsin', 'wise', 'wish', 'wispy', 'within', 'without', 'wok', 'wonder', 'wonderful', 'wondra', 'wonton', 'wontons', 'wood', 'wooden', 'woodford', 'woods', 'woody', 'worcestershire', 'work', 'working', 'works', 'worms', 'worth', 'would', 'wrangler', 'wrap', 'wrapped', 'wrappers', 'wrapping', 'wraps', 'wrinkled', 'writer', 'writing', 'www', 'xadbought', 'xadincluding', 'xadraised', 'xadsized', 'xadvirgin', 'xanh', 'xanthan', 'xanthum', 'xcm', 'ximénez', 'xing', 'xocolatl', 'xtabentún', 'xuxu', 'xx', 'xylitol', 'yakinori', 'yakisoba', 'yam', 'yamasa', 'yams', 'yard', 'yards', 'yau', 'yautía', 'year', 'years', 'yeast', 'yellow', 'yellowfin', 'yellowtail', 'yeo', 'yes', 'yet', 'yield', 'yields', 'yodel', 'yoghurt', 'yogurt', 'yola', 'yolk', 'yolks', 'york', 'young', 'yu', 'yuba', 'yuca', 'yucatecan', 'yufka', 'yukon', 'yuzu', 'yuzupassion', 'za', 'zabaglione', 'zanshõ', 'zarame', 'zatarain', 'zaâtar', 'zealand', 'zebra', 'zebras', 'zereshk', 'zergüt', 'zest', 'zested', 'zestepi', 'zester', 'zhoug', 'zinfandel', 'zingermans', 'ziti', 'zucca', 'zucchini', 'zucchinis', 'zwieback', '½oz', 'árbol', 'épices', 'ñame', 'źrbol', '⅔lb', 'ﬁne', 'ﬁnely', 'ﬂakes', 'ﬂour']\n"
     ]
    }
   ],
   "source": [
    "#only work with merged ingredients dataset (from all 3 sources) for now\n",
    "corpus = data_ingr\n",
    "ct_vectorizer = CountVectorizer(stop_words=stopwords_nltk)\n",
    "\n",
    "ingr_ct = ct_vectorizer.fit_transform(corpus)\n",
    "print(ct_vectorizer.get_feature_names())"
   ]
  },
  {
   "cell_type": "markdown",
   "metadata": {},
   "source": [
    "### Vectorize - TF-IDF\n",
    "might work better, because want to choose words \"unique\" to this document\n",
    "\n",
    "TF-IDF = (Term Frequency) * (Inverse Document Frequency)\n",
    "\n",
    "(how often word occurs in this doc) * inverse of (how often this word occurs in all documents)"
   ]
  },
  {
   "cell_type": "code",
   "execution_count": 27,
   "metadata": {
    "ExecuteTime": {
     "end_time": "2019-11-15T07:06:03.562248Z",
     "start_time": "2019-11-15T07:05:57.504812Z"
    }
   },
   "outputs": [
    {
     "name": "stdout",
     "output_type": "stream",
     "text": [
      "['_gravié_ra', 'aarons', 'aattachment', 'abita', 'abruzzese', 'abruzzo', 'absente', 'absinthe', 'absolut', 'abuelita', 'aburaage', 'abv', 'acacia', 'accent', 'acceptable', 'accommodate', 'accompaniment', 'accompaniments', 'accordian', 'according', 'achiote', 'acid', 'acidity', 'acini', 'ackee', 'acorn', 'across', 'acrylic', 'acting', 'activate', 'activated', 'active', 'acto', 'actually', 'adams', 'add', 'added', 'adding', 'addition', 'additional', 'additions', 'additive', 'additives', 'adds', 'adjoining', 'adjust', 'adjustable', 'adjusted', 'adjusting', 'adjustments', 'adobo', 'adrianascaravan', 'adult', 'adults', 'advance', 'advise', 'aejado', 'aerosol', 'afford', 'affumicata', 'african', 'africantradingco', 'afterwards', 'agar', 'agave', 'age', 'aged', 'agricole', 'agrodolce', 'aguardiente', 'agur', 'ahead', 'ahi', 'aid', 'ail', 'aioli', 'air', 'airtight', 'airy', 'aisle', 'aitchbone', 'ajat', 'aji', 'ajika', 'ajowan', 'ajvar', 'ajwain', 'ají', 'ajíes', 'ajíí', 'aka', 'akkawi', 'al', 'alaea', 'alaska', 'alaskan', 'albacore', 'albemarle', 'alcohol', 'alcoholic', 'alder', 'ale', 'aleppo', 'alfalfa', 'alfonso', 'alfredo', 'alioli', 'alla', 'allergies', 'alligator', 'allow', 'allows', 'allspice', 'allspiece', 'almond', 'almonds', 'almost', 'aloe', 'along', 'alouette', 'alphabet', 'already', 'alsatian', 'also', 'alt', 'alternating', 'alternative', 'alternatively', 'alternatives', 'although', 'aluminum', 'amado', 'amalfi', 'amaranth', 'amarena', 'amaretti', 'amaretto', 'amarillo', 'amaro', 'amarone', 'amazon', 'amba', 'amber', 'ambert', 'amchoor', 'american', 'americano', 'aminos', 'ammonium', 'among', 'amontillado', 'amore', 'amount', 'amounts', 'amy', 'anaheim', 'analog', 'ancho', 'anchor', 'anchovies', 'anchovy', 'ancones', 'andes', 'andgizzard', 'andouille', 'andré', 'angel', 'angelica', 'angelino', 'anglaise', 'angle', 'angostura', 'animal', 'animals', 'anise', 'aniseed', 'aniseflavored', 'anisette', 'anjou', 'ann', 'anna', 'annatto', 'annie', 'anniversary', 'another', 'anson', 'antebellum', 'antelope', 'antica', 'antipasto', 'ants', 'anyway', 'aonori', 'aosta', 'aout', 'apart', 'apecial', 'aperitif', 'aperitivo', 'aperol', 'appenzeller', 'apple', 'applegate', 'applejack', 'apples', 'applesauce', 'appleton', 'applewood', 'appropriate', 'approved', 'approx', 'approximately', 'appétit', 'apricot', 'apricots', 'apron', 'aquafaba', 'aquavit', 'araguani', 'arame', 'arbequina', 'arbol', 'arborio', 'arctic', 'ardbeg', 'area', 'arepa', 'arequipe', 'arette', 'ariel', 'arils', 'arirangkimchee', 'arm', 'armagnac', 'armenian', 'arms', 'army', 'aroma', 'aromatic', 'aromatics', 'around', 'arrack', 'arrange', 'arrangements', 'arrowroot', 'artagnan', 'arthur', 'artichoke', 'artichokes', 'artisan', 'artisanal', 'arugula', 'asada', 'asadero', 'asafetida', 'asafoetida', 'asahi', 'ascorbic', 'ash', 'ashanti', 'asiago', 'asian', 'aside', 'ask', 'asparagus', 'aspic', 'assembling', 'assembly', 'assertive', 'assorted', 'assortment', 'asti', 'atar', 'ateco', 'atlantic', 'atroom', 'atta', 'attached', 'attachment', 'attachments', 'attractive', 'atural', 'au', 'aunt', 'auslese', 'australian', 'authentic', 'autrefois', 'autumn', 'availability', 'available', 'average', 'averagesized', 'averna', 'avo', 'avocado', 'avocadoes', 'avocados', 'avoid', 'away', 'awaze', 'azedo', 'aztec', 'açaí', 'aïoli', 'añejo', 'añjo', 'ba', 'bab', 'baba', 'baby', 'babybel', 'bacalao', 'bacardi', 'baccalà', 'bachelor', 'back', 'backbone', 'backbones', 'backfin', 'backs', 'backstraps', 'bacon', 'badjak', 'bag', 'bagel', 'bagels', 'bags', 'baguette', 'baguettes', 'baharat', 'bahn', 'bailey', 'baileys', 'baja', 'bake', 'baked', 'baker', 'bakeries', 'bakers', 'bakery', 'bakeware', 'baking', 'baklava', 'balance', 'balaton', 'balchao', 'balcones', 'ball', 'baller', 'ballpark', 'balls', 'balm', 'balsamic', 'bambino', 'bamboo', 'ban', 'banana', 'bananas', 'banane', 'band', 'bands', 'banh', 'banks', 'banneton', 'banon', 'banyuls', 'baobab', 'bar', 'barbara', 'barbecue', 'barbecued', 'barbera', 'barberries', 'barely', 'barhi', 'barilla', 'bark', 'barley', 'barolo', 'barramundi', 'barrel', 'barrios', 'barry', 'bars', 'barspoon', 'bartlett', 'basbaas', 'base', 'baseball', 'based', 'bases', 'bash', 'basic', 'basically', 'basics', 'basil', 'basket', 'baskets', 'basmati', 'basmatic', 'basque', 'bass', 'baste', 'basted', 'baster', 'basting', 'batatas', 'batavia', 'batch', 'batches', 'batons', 'bats', 'batter', 'bauli', 'bavarian', 'bavette', 'bay', 'bayley', 'bbq', 'bean', 'beans', 'bearded', 'beards', 'bears', 'beaten', 'beating', 'beaujolais', 'beaumes', 'beautiful', 'beauty', 'becomes', 'bed', 'bee', 'beech', 'beef', 'beefeater', 'beefsteak', 'beer', 'beet', 'beetroot', 'beetroots', 'beets', 'behind', 'beignets', 'bel', 'belacan', 'belgian', 'belize', 'bell', 'bella', 'bells', 'belly', 'belts', 'beluga', 'ben', 'bench', 'benedictine', 'bengal', 'beni', 'benne', 'benriner', 'benton', 'berbere', 'bergamot', 'berger', 'berkshire', 'bernheim', 'berries', 'berry', 'beryls', 'besan', 'best', 'betel', 'better', 'beurre', 'beverage', 'bialys', 'bianco', 'bias', 'bibb', 'biber', 'bibimbap', 'bicarbonate', 'big', 'bigeye', 'bigger', 'bigs', 'bihon', 'billion', 'bing', 'bird', 'birds', 'biscoff', 'biscotti', 'biscuit', 'biscuits', 'bison', 'bit', 'bite', 'bitesize', 'bits', 'bitter', 'bitterman', 'bittermens', 'bitters', 'bittersweet', 'bittersweetchocolate', 'black', 'blackberries', 'blackberry', 'blackcurrant', 'blackening', 'blackstrap', 'blade', 'blanc', 'blanche', 'blanched', 'blanching', 'blanco', 'blanton', 'bleached', 'blend', 'blended', 'blender', 'blending', 'blends', 'bleuet', 'blind', 'blinis', 'blis', 'bliss', 'blistered', 'blitzed', 'block', 'blocks', 'blond', 'blonde', 'blood', 'bloodline', 'bloody', 'blossom', 'blossoms', 'blotted', 'blown', 'blowtorch', 'blue', 'blueberries', 'blueberry', 'bluefish', 'bo', 'boar', 'board', 'boards', 'boat', 'bob', 'boboli', 'bobsredmill', 'boccalone', 'bocconcini', 'bock', 'bockwurst', 'bodied', 'bodies', 'body', 'boil', 'boiled', 'boiler', 'boiling', 'bois', 'bok', 'bold', 'bolder', 'bologna', 'bols', 'bolt', 'bomba', 'bombay', 'bomboloni', 'bon', 'bonbon', 'bonbons', 'bond', 'bonded', 'bone', 'boned', 'boneless', 'bones', 'boning', 'bonito', 'bonne', 'bonnet', 'bonnets', 'bonny', 'book', 'boosting', 'boquerones', 'borage', 'bordeaux', 'borlotti', 'borscht', 'bosc', 'boston', 'bother', 'bottle', 'bottled', 'bottles', 'bottom', 'bottomed', 'bottoms', 'bouchon', 'boudoirs', 'bought', 'bouillon', 'boule', 'bouquet', 'bouquets', 'bourbon', 'boursin', 'bow', 'bowl', 'bowled', 'bowls', 'bowmore', 'bowtie', 'box', 'boxed', 'boxes', 'boy', 'boysenberries', 'boysenberry', 'braciole', 'bracken', 'brad', 'braeburn', 'bragg', 'braggs', 'braided', 'brain', 'braise', 'braised', 'braiser', 'braises', 'braising', 'bramley', 'bran', 'branca', 'branch', 'branched', 'branches', 'brand', 'brandied', 'brands', 'brandy', 'brandywine', 'branzini', 'branzino', 'brasato', 'bratwurst', 'bratwursts', 'brawny', 'brazil', 'brazilian', 'brea', 'bread', 'breadcrumbs', 'breads', 'breadsticks', 'break', 'breakage', 'breakfast', 'breaks', 'breakstone', 'bream', 'breast', 'breastbone', 'breasts', 'breeze', 'bresaola', 'bretzel', 'brew', 'brewed', 'brewer', 'brick', 'brickle', 'bricks', 'bridge', 'brie', 'briefly', 'bright', 'brinata', 'brine', 'brined', 'bring', 'brining', 'briny', 'brioche', 'brioches', 'briquettes', 'brisket', 'brisling', 'bristle', 'brisée', 'british', 'brittle', 'broad', 'broccoflower', 'broccoli', 'broccolini', 'broil', 'broiled', 'broiler', 'broken', 'bronze', 'brook', 'brooklyn', 'broth', 'brothers', 'brought', 'brown', 'browned', 'brownie', 'brownies', 'browning', 'browns', 'bruised', 'bruschetta', 'brush', 'brushed', 'brushes', 'brushing', 'brussel', 'brussels', 'brut', 'brûlée', 'bubble', 'bubblegum', 'bucatini', 'bucheron', 'buchu', 'buckle', 'buckwheat', 'buco', 'buddha', 'buds', 'budweiser', 'bufala', 'buff', 'buffalo', 'buffel', 'bugles', 'bulb', 'bulbs', 'bulgarian', 'bulgur', 'bulk', 'bull', 'bumpy', 'bun', 'buna', 'bunch', 'bunches', 'bundle', 'bundles', 'bundnerfleisch', 'bundt', 'buns', 'buonitalia', 'bupounds', 'burdock', 'burger', 'burgers', 'burgundies', 'burgundy', 'burner', 'burning', 'burrata', 'burricotti', 'burrito', 'bush', 'bushi', 'bushmills', 'butcher', 'butchers', 'butt', 'butter', 'butterball', 'buttercream', 'buttercreams', 'buttercrunch', 'buttercup', 'buttered', 'butterfat', 'butterfinger', 'butterflied', 'butterfly', 'buttering', 'buttermilk', 'butternut', 'butterscotch', 'buttery', 'button', 'buttons', 'buy', 'byass', 'béarnaise', 'bénédictine', 'bûcheron', 'cabbage', 'cabbages', 'cabernet', 'cabot', 'cabrales', 'cacao', 'cachaca', 'cachaça', 'cacio', 'caciocavallo', 'caciotta', 'cactus', 'caesar', 'cafedumonde', 'caffè', 'café', 'cajeta', 'cajun', 'cajungrocer', 'cake', 'cakes', 'cal', 'calabaza', 'calabrian', 'calamansi', 'calamari', 'calamata', 'calasparra', 'calendula', 'calf', 'california', 'californian', 'calimyrna', 'call', 'callaloo', 'calle', 'callebaut', 'called', 'calling', 'calmyrna', 'caloric', 'calorie', 'calvados', 'camargue', 'camellia', 'camembert', 'campagne', 'campanelle', 'campari', 'campbell', 'camper', 'campfire', 'camus', 'canada', 'canadian', 'canal', 'canary', 'candied', 'candies', 'candle', 'candlenuts', 'candy', 'cane', 'canela', 'canes', 'canestriped', 'canister', 'cannabis', 'canned', 'cannellini', 'canner', 'canning', 'cannoli', 'canola', 'cans', 'cantal', 'cantaloupe', 'cantaloupes', 'canteloupe', 'canton', 'cantonese', 'caol', 'cap', 'capacity', 'cape', 'capel', 'capelletti', 'capellini', 'caper', 'caperberries', 'capers', 'capicola', 'capicolla', 'capocollo', 'cappelletti', 'cappellini', 'cappuccino', 'caps', 'capsicum', 'capsule', 'cara', 'caramel', 'caramelized', 'caramelizing', 'caramels', 'caraway', 'carbon', 'carbonated', 'carcass', 'carcasses', 'card', 'cardamom', 'cardboard', 'cardoons', 'careful', 'carefully', 'caribbean', 'carnaroli', 'carnation', 'carne', 'carnitas', 'carob', 'carolina', 'carom', 'carp', 'carpano', 'carpet', 'carr', 'carries', 'carrot', 'carrots', 'carry', 'cartilage', 'carton', 'cartons', 'carved', 'casalingo', 'casamigos', 'casar', 'casarecce', 'cascabel', 'case', 'cashew', 'cashews', 'casing', 'casings', 'cask', 'cassarecce', 'cassava', 'casserole', 'cassia', 'cassis', 'cast', 'castelfranco', 'castellane', 'castelvetrano', 'caster', 'catalan', 'catch', 'catfish', 'cathead', 'caught', 'caul', 'cauliflower', 'cava', 'cavaillon', 'cavatappi', 'cavatelli', 'caviar', 'cavities', 'cavity', 'cavolo', 'cayenne', 'cbd', 'cecco', 'ceci', 'cedar', 'cel', 'celeriac', 'celery', 'cellentani', 'cellophane', 'cemitas', 'center', 'centers', 'centimeter', 'centimeters', 'central', 'cep', 'ceramic', 'cereal', 'cerignola', 'cermanic', 'certified', 'certo', 'ceylon', 'cfu', 'cha', 'chaat', 'chabrin', 'chai', 'chain', 'challah', 'challenge', 'cham', 'chambord', 'chamomile', 'champagne', 'chana', 'changbai', 'changes', 'chanterelle', 'chanterelles', 'chantilly', 'chapati', 'char', 'charbay', 'charcoal', 'charcuterie', 'chard', 'chardonnay', 'charentais', 'charge', 'charged', 'charmoula', 'charra', 'charred', 'chartreuse', 'chayote', 'chayotes', 'che', 'cheap', 'cheat', 'check', 'checked', 'checking', 'cheddar', 'cheeks', 'cheese', 'cheesecake', 'cheesecloth', 'cheesemaking', 'cheeses', 'cheez', 'chef', 'chefshop', 'cheong', 'cherie', 'chermoula', 'cherokee', 'cherries', 'cherry', 'cherrystone', 'cherrywood', 'cherub', 'chervil', 'chestnut', 'chestnuts', 'chevre', 'chewy', 'chex', 'chi', 'chia', 'chianti', 'chicago', 'chicharrones', 'chicharrón', 'chicharrónes', 'chichicapa', 'chick', 'chicken', 'chickens', 'chickpea', 'chickpeas', 'chicories', 'chicory', 'chiffonade', 'chiffonaded', 'chihuahua', 'chilaca', 'chile', 'chilean', 'chiles', 'chili', 'chilies', 'chill', 'chilled', 'chilli', 'chillies', 'chimay', 'chimayo', 'chimichurri', 'chimney', 'china', 'chine', 'chinese', 'chinkiang', 'chioggia', 'chip', 'chipotle', 'chipotles', 'chips', 'chitarra', 'chiu', 'chive', 'chives', 'chlorella', 'choclo', 'chocolate', 'chocolates', 'choice', 'chokes', 'cholula', 'chong', 'chooped', 'choose', 'choosing', 'chop', 'chopmeat', 'chopped', 'chopping', 'chops', 'chopsticks', 'choricero', 'chorizo', 'chorizos', 'chou', 'chouriço', 'choux', 'chow', 'chowchow', 'chowder', 'choy', 'christmas', 'christophene', 'chrysanthemum', 'chubby', 'chuck', 'chuka', 'chun', 'chunk', 'chunks', 'chunky', 'churrera', 'churro', 'chutney', 'chèvre', 'ciabatta', 'cider', 'cilantro', 'ciliegini', 'cinder', 'cinnamon', 'cipolline', 'cipollini', 'cippoline', 'cipriani', 'circle', 'circles', 'circular', 'citric', 'citron', 'citrus', 'citrusy', 'city', 'cl', 'clabber', 'clam', 'clamato', 'clams', 'clarified', 'class', 'classic', 'classico', 'claw', 'claws', 'clean', 'cleaned', 'clear', 'cleaver', 'clementine', 'clementines', 'clerk', 'clicquot', 'clinging', 'clips', 'cloaks', 'clod', 'close', 'closed', 'closer', 'cloth', 'clothbound', 'clotted', 'clove', 'clover', 'cloves', 'club', 'cluizel', 'clumps', 'cluster', 'clusters', 'clásico', 'clément', 'cm', 'cmxcm', 'coal', 'coarse', 'coarsely', 'coarser', 'coast', 'coat', 'coated', 'coating', 'coatings', 'coax', 'cob', 'cobs', 'coca', 'cocchi', 'cock', 'cockles', 'cocktail', 'cocktails', 'coco', 'cocoa', 'coconut', 'coconuts', 'cod', 'coddler', 'coeur', 'coffee', 'cognac', 'coho', 'coiled', 'coils', 'coin', 'coined', 'coins', 'cointreau', 'coke', 'cola', 'colada', 'colander', 'colatura', 'colby', 'cold', 'colder', 'coleman', 'coleslaw', 'collagen', 'collapsible', 'collapsing', 'collard', 'collards', 'collars', 'collins', 'colman', 'colomba', 'colombian', 'color', 'colored', 'colorful', 'coloring', 'colorings', 'colors', 'colossal', 'com', 'comal', 'combier', 'combination', 'combine', 'combined', 'combo', 'come', 'comes', 'comfort', 'comice', 'commercial', 'commercially', 'common', 'commonly', 'company', 'complements', 'complete', 'completely', 'compote', 'comte', 'comté', 'concentrate', 'concentrated', 'concepción', 'concern', 'conch', 'concord', 'condensed', 'condiment', 'condiments', 'cone', 'cones', 'confectionary', 'confectioner', 'confectioners', 'confit', 'connective', 'connects', 'consommé', 'contact', 'container', 'containers', 'containing', 'contains', 'content', 'contessa', 'continue', 'conventional', 'converted', 'cook', 'cooked', 'cooker', 'cookie', 'cookies', 'cookiesepi', 'cooking', 'cooks', 'cool', 'cooled', 'cooler', 'cooling', 'cope', 'coppa', 'copper', 'coral', 'corazón', 'cordial', 'cordyceps', 'core', 'cored', 'corer', 'cores', 'coriander', 'cork', 'corkscrew', 'corn', 'cornbread', 'corncob', 'corned', 'corner', 'corners', 'cornflake', 'cornflakes', 'cornflowers', 'cornhusks', 'cornichons', 'cornish', 'cornmeal', 'corns', 'cornstarch', 'corona', 'correct', 'corrugated', 'cortland', 'corvina', 'cos', 'costoluto', 'cotija', 'cotixa', 'cotswold', 'cotta', 'cottage', 'cotto', 'cotton', 'coucous', 'could', 'coulis', 'count', 'counter', 'country', 'countrystyle', 'county', 'coupe', 'couple', 'couplers', 'courgette', 'courgettes', 'course', 'coursely', 'courvoisier', 'couscous', 'couscoussière', 'cover', 'covered', 'coves', 'cow', 'cowpeas', 'cows', 'coﬀee', 'crab', 'crabmeat', 'crabs', 'crack', 'cracked', 'cracker', 'crackers', 'cracklings', 'craft', 'crafts', 'craftsetc', 'cran', 'cranberries', 'cranberry', 'cranks', 'crate', 'crawfish', 'crayfish', 'crazy', 'cre', 'cream', 'creamaccompaniment', 'creamed', 'creamer', 'creamy', 'creating', 'creative', 'credit', 'creek', 'crema', 'creme', 'creminelli', 'cremini', 'creminis', 'creole', 'crepes', 'crescent', 'crescents', 'crescenza', 'cress', 'cried', 'crimini', 'criollas', 'crisco', 'crisp', 'crispbread', 'crisped', 'crispin', 'crisping', 'crisply', 'crisps', 'crispy', 'crme', 'croaker', 'crock', 'crocks', 'croissant', 'croissants', 'croix', 'crookneck', 'crosnes', 'cross', 'crosscut', 'crosshatch', 'crossways', 'crosswise', 'crostini', 'crottins', 'croutons', 'crowd', 'crowder', 'crown', 'crowns', 'crucolo', 'cruda', 'crudité', 'crudités', 'crumb', 'crumble', 'crumbled', 'crumbles', 'crumbly', 'crumbs', 'crunch', 'crunchy', 'crushed', 'crust', 'crusted', 'crustless', 'crusts', 'crusty', 'crystal', 'crystalized', 'crystallized', 'crystals', 'crème', 'crème_dishes', 'créme', 'créole', 'crêpe', 'crêpes', 'cuban', 'cubanelle', 'cubanelles', 'cube', 'cubeb', 'cubed', 'cubes', 'cucumber', 'cucumbers', 'culantro', 'culinary', 'culinarydistrict', 'cultivated', 'cultured', 'cultures', 'cumin', 'cup', 'cupcake', 'cupcakes', 'cupgriddled', 'cupmirin', 'cuppine', 'cups', 'cupsespagnole', 'cupslow', 'cupspanko', 'cupsturkey', 'cupswinter', 'curaçao', 'curd', 'curds', 'cure', 'cured', 'curing', 'curl', 'curled', 'curling', 'curls', 'curly', 'currant', 'currants', 'curry', 'curve', 'curved', 'custard', 'cut', 'cutinto', 'cutlet', 'cutlets', 'cuts', 'cutter', 'cutters', 'cutting', 'cuttlefish', 'cylinder', 'cynar', 'cypress', 'cèpe', 'cèpes', 'côte', 'côtes', 'dab', 'dai', 'daikon', 'dairy', 'daisies', 'dal', 'dale', 'dalfour', 'dalmatia', 'dals', 'damaged', 'damoiseau', 'damp', 'damson', 'dandelion', 'dang', 'daniel', 'danish', 'dariole', 'darjeeling', 'dark', 'darker', 'dartagnan', 'dash', 'dashes', 'dashi', 'dashima', 'dassai', 'date', 'dates', 'davis', 'dawadawa', 'day', 'days', 'de', 'dea', 'dead', 'deal', 'deandeluca', 'debearded', 'deboned', 'debris', 'decaffeinated', 'decide', 'deckle', 'decorate', 'decorating', 'decoration', 'decorations', 'decorative', 'dedicated', 'deep', 'deepdiagonal', 'deepfrying', 'deeply', 'defatted', 'defrost', 'defrosted', 'deglazing', 'deglet', 'degreased', 'degree', 'degrees', 'degroff', 'dehraduni', 'dehydrated', 'del', 'deli', 'delicata', 'delicate', 'delicious', 'delites', 'demerara', 'demi', 'demiglace', 'demitasse', 'dense', 'dente', 'denuded', 'denver', 'dep', 'depending', 'depends', 'deposits', 'depth', 'deribbed', 'desalinate', 'desalted', 'descaled', 'deseeded', 'desiccated', 'desired', 'dessert', 'destemmed', 'detached', 'details', 'determine', 'detox', 'deveined', 'deviened', 'devil', 'devon', 'dewar', 'dextrose', 'dhal', 'di', 'diagonal', 'diagonally', 'diameter', 'diamond', 'diasatic', 'diastatic', 'dice', 'diced', 'dickel', 'die', 'diet', 'different', 'difficult', 'digestive', 'digital', 'dijon', 'dill', 'dillon', 'dilly', 'diluted', 'dilution', 'dim', 'dime', 'ding', 'dingle', 'dinner', 'dinosaur', 'dip', 'diplomatico', 'dipped', 'dipper', 'dipping', 'directed', 'directions', 'directly', 'dirt', 'disaronno', 'disc', 'discard', 'discarded', 'discarding', 'disco', 'discoloration', 'discolored', 'discs', 'dish', 'dishes', 'disk', 'disks', 'disposable', 'dissipate', 'dissolved', 'distilled', 'distillers', 'ditali', 'ditalini', 'divded', 'diver', 'divided', 'diy', 'djan', 'doce', 'dodoni', 'doenjang', 'dog', 'dogfish', 'dogs', 'dolce', 'dolin', 'dollar', 'domaine', 'domed', 'domestic', 'dominican', 'done', 'doneness', 'donner', 'donnie', 'donot', 'dont', 'doon', 'dorade', 'dorados', 'dory', 'dos', 'dots', 'dou', 'double', 'doubleline', 'doublepeeled', 'dough', 'doughnut', 'doughnuts', 'doul', 'dove', 'dover', 'dowel', 'downy', 'dozen', 'dozens', 'dpdspirits', 'dr', 'dragees', 'dragées', 'drain', 'drained', 'draining', 'dram', 'dramatic', 'drambuie', 'draught', 'dredging', 'dressed', 'dresses', 'dressing', 'dried', 'drifts', 'drink', 'drinking', 'drinks', 'drip', 'drippings', 'drips', 'drizzle', 'drizzled', 'drizzling', 'drmcdougall', 'drop', 'dropperful', 'dropperfuls', 'drops', 'droste', 'drum', 'drumettes', 'drumstick', 'drumsticks', 'drunk', 'drunken', 'dry', 'dryroasted', 'du', 'dubonnet', 'duck', 'ducklings', 'ducks', 'due', 'dufour', 'duke', 'dukkah', 'dulce', 'dulces', 'dulcey', 'dulse', 'dumettes', 'dumpling', 'dumplings', 'dungeness', 'duqesne', 'duque', 'duro', 'durum', 'dust', 'dusted', 'dusting', 'dutch', 'duty', 'duvel', 'dwarf', 'dye', 'dyed', 'dylan', 'dylans', 'eagle', 'ear', 'earl', 'early', 'ears', 'earth', 'earthy', 'easier', 'easiest', 'easily', 'east', 'easter', 'eastern', 'easy', 'eating', 'eau', 'ebay', 'echalion', 'echinacea', 'edam', 'edamame', 'edenblend', 'edenfoods', 'edge', 'edged', 'edges', 'edible', 'edward', 'eel', 'efficient', 'egg', 'eggbeater', 'eggcups', 'eggless', 'eggnog', 'eggplant', 'eggplants', 'eggs', 'eggshell', 'egusi', 'egyptian', 'eight', 'eighths', 'einkorn', 'either', 'el', 'elbow', 'elbows', 'elderberry', 'elderflower', 'elderflowers', 'electric', 'elephant', 'eleve', 'elimination', 'elixir', 'elizabeth', 'em', 'emailing', 'emergo', 'emmental', 'emmentaler', 'emmenthal', 'emon', 'empanada', 'empire', 'emptied', 'empty', 'en', 'enamel', 'enameled', 'encases', 'enchilada', 'end', 'endive', 'endives', 'ends', 'ener', 'england', 'english', 'enjoy', 'enoki', 'enough', 'enriched', 'enthusiast', 'entilde', 'entire', 'entirely', 'entremet', 'envelope', 'envelopes', 'environmentally', 'epazote', 'epi', 'epicurious', 'epis', 'equal', 'equally', 'equator', 'equatoriale', 'equimpent', 'equipment', 'equis', 'equivalent', 'equpment', 'erawan', 'escabèche', 'escargot', 'escargots', 'escarole', 'espadi', 'especial', 'espelette', 'espresso', 'espumas', 'essence', 'essencia', 'essensia', 'estate', 'etc', 'ethnicgrocer', 'etorki', 'etsy', 'european', 'europeanstyle', 'evaporated', 'even', 'evenly', 'ever', 'every', 'everyday', 'everything', 'evoo', 'exceed', 'excellence', 'except', 'excess', 'excluding', 'exotic', 'expensive', 'expose', 'expressed', 'extact', 'exterior', 'external', 'extinguisher', 'extra', 'extract', 'extracted', 'extractor', 'extracts', 'extras', 'extrasharp', 'extreme', 'extremely', 'eye', 'eyed', 'eyes', 'fabric', 'fabrics', 'face', 'fage', 'fairly', 'fairy', 'fajita', 'falernum', 'fall', 'family', 'famous', 'fan', 'fancy', 'fans', 'farfalle', 'farfalline', 'farfel', 'farina', 'farinha', 'farm', 'farmed', 'farmer', 'farmers', 'farmhouse', 'farms', 'farro', 'fashioned', 'fast', 'faster', 'fat', 'fatback', 'fats', 'fattened', 'fatty', 'faux', 'fava', 'favas', 'fave', 'favorite', 'favorites', 'fearless', 'feather', 'feathers', 'fed', 'fee', 'feel', 'feet', 'female', 'fennel', 'fenugreek', 'fermented', 'fermentedsoybean', 'fern', 'fernet', 'ferns', 'ferrand', 'feshly', 'feta', 'fetta', 'fette', 'fettuccine', 'fettucine', 'fever', 'fibers', 'ficelle', 'fiddlehead', 'fideos', 'fideus', 'field', 'fiery', 'fifteen', 'fig', 'figs', 'filberts', 'filet', 'filets', 'filipino', 'fill', 'filled', 'fillers', 'fillet', 'filleted', 'fillets', 'filling', 'fillings', 'fillo', 'filo', 'filter', 'filtered', 'filters', 'filé', 'fin', 'find', 'fine', 'finely', 'finemesh', 'finest', 'finger', 'fingered', 'fingerling', 'fingerroot', 'fingers', 'fini', 'finish', 'finishing', 'finn', 'finnan', 'finnish', 'fino', 'finochionna', 'fins', 'fior', 'fiorentini', 'fir', 'fire', 'firefly', 'fireplace', 'fireproof', 'fireroasted', 'firewood', 'firm', 'firmer', 'firmish', 'firmly', 'first', 'fish', 'fishmonger', 'fistful', 'fistfuls', 'fit', 'fits', 'fitted', 'fitting', 'five', 'fixed', 'fl', 'flageolet', 'flageolets', 'flake', 'flaked', 'flakes', 'flaky', 'flame', 'flamed', 'flameproof', 'flan', 'flank', 'flanken', 'flans', 'flap', 'flaps', 'flash', 'flask', 'flat', 'flatbread', 'flatbreads', 'flatfish', 'flatiron', 'flatleaf', 'flatout', 'flats', 'flatten', 'flattened', 'flavor', 'flavored', 'flavorful', 'flavoring', 'flavorings', 'flavorless', 'flavors', 'flax', 'flaxseed', 'flaxseeds', 'flea', 'fleischmann', 'flemish', 'flesh', 'fleshed', 'fleur', 'flexible', 'flies', 'float', 'floor', 'floral', 'florentine', 'florets', 'florida', 'florist', 'flounder', 'flour', 'floured', 'flouring', 'flourless', 'floury', 'flower', 'flowering', 'flowers', 'fluff', 'fluffy', 'fluid', 'fluke', 'flush', 'flushed', 'flute', 'fluted', 'flying', 'foam', 'foamy', 'focaccia', 'fog', 'fogo', 'foie', 'foil', 'fold', 'folded', 'follow', 'follower', 'following', 'follows', 'fond', 'fondant', 'fondue', 'fong', 'fonio', 'font', 'fontina', 'food', 'foods', 'foot', 'forbidden', 'force', 'forced', 'fords', 'forelle', 'foreshanks', 'forest', 'forget', 'fork', 'forks', 'form', 'formed', 'forming', 'formula', 'fortaleza', 'forte', 'fortified', 'fortunes', 'forturkey', 'forty', 'fossa', 'foster', 'fougasse', 'found', 'four', 'fourme', 'fourths', 'frache', 'fractions', 'fragments', 'fragrant', 'frai', 'fraiche', 'fraiîhe', 'framboise', 'frangelico', 'frangipane', 'frank', 'fraser', 'fraìche', 'fraîche', 'fraîhe', 'free', 'freekeh', 'freestone', 'freeze', 'freezer', 'freezing', 'fregola', 'frekeh', 'french', 'frenched', 'frencher', 'fresca', 'fresco', 'fresh', 'freshest', 'freshly', 'freshwater', 'fresno', 'friand', 'frico', 'fridge', 'fried', 'friendly', 'fries', 'frijoles', 'frik', 'frisee', 'friselle', 'frisée', 'fritos', 'fromage', 'fronds', 'front', 'frosting', 'frostingepi', 'frothy', 'frozen', 'fruit', 'fruits', 'fruity', 'fry', 'fryer', 'frying', 'frères', 'fudge', 'fuerte', 'fuhrman', 'fuji', 'full', 'fully', 'fulvi', 'fungus', 'funnel', 'furikake', 'fusilli', 'fuyu', 'fuzz', 'fève', 'fèves', 'gaeta', 'gai', 'gala', 'galangal', 'galette', 'galettes', 'galia', 'galliano', 'gallo', 'gallon', 'gallons', 'game', 'ganache', 'garage', 'garam', 'garbage', 'garbanzo', 'gardein', 'garganelli', 'gari', 'garlic', 'garlicky', 'garnet', 'garni', 'garnis', 'garnish', 'garnishes', 'garnishing', 'garrotxa', 'garu', 'gas', 'gastronomy', 'gauge', 'gay', 'gebhardt', 'geese', 'gefilte', 'gel', 'gelatin', 'gelatine', 'gelato', 'gelled', 'gem', 'gemelli', 'gems', 'generally', 'generous', 'generously', 'genoa', 'genovese', 'gently', 'george', 'geranium', 'gerbera', 'germ', 'germain', 'german', 'get', 'getting', 'gewürztraminer', 'ghee', 'gherkin', 'gherkins', 'ghirardelli', 'ghost', 'ghosts', 'gianduja', 'giant', 'giardiniera', 'giblet', 'giblets', 'giffard', 'gigante', 'giganti', 'gigondas', 'gills', 'gin', 'ginger', 'gingerbread', 'gingerroot', 'gingersnap', 'gingersnaps', 'ginkgo', 'ginseng', 'giri', 'girl', 'give', 'gives', 'gizzard', 'glace', 'glacéed', 'glass', 'glasses', 'glaze', 'glazed', 'glazeepi', 'glazing', 'glen', 'glitter', 'globe', 'gloopy', 'glove', 'gloves', 'glucose', 'glue', 'glug', 'glugs', 'gluten', 'glutinous', 'glycerin', 'gm', 'gmo', 'gnocchi', 'go', 'goan', 'goat', 'goats', 'goblets', 'gobo', 'gochu', 'gochugaru', 'gochujang', 'goddess', 'goes', 'goji', 'gold', 'golden', 'goldschläger', 'golf', 'golpar', 'goma', 'gomashio', 'gonzález', 'good', 'goods', 'goodwill', 'goose', 'gooseberries', 'gooseberry', 'goosing', 'gordon', 'gorgeous', 'gorgonzola', 'gosling', 'goslings', 'got', 'gouda', 'gourmet', 'goya', 'grade', 'grady', 'graffiti', 'graham', 'grahams', 'grain', 'grained', 'grains', 'grainy', 'gram', 'grams', 'grana', 'grand', 'grandma', 'granita', 'granny', 'granola', 'granular', 'granulated', 'granules', 'grape', 'grapefruit', 'grapefruits', 'grapes', 'grapeseed', 'grappa', 'gras', 'grass', 'grassfed', 'grasshopper', 'grate', 'grated', 'grater', 'grates', 'gratin', 'grating', 'gratings', 'gravlax', 'gravy', 'gray', 'grease', 'greased', 'greasing', 'great', 'grechetto', 'greek', 'green', 'greening', 'greens', 'gremolata', 'grenadine', 'grey', 'gribenes', 'griddle', 'grigio', 'grill', 'grilled', 'grilling', 'grind', 'grinder', 'grinding', 'grindings', 'grinds', 'gris', 'grissini', 'gristle', 'grit', 'grits', 'gritty', 'groats', 'grocer', 'groceries', 'grocers', 'grocery', 'ground', 'groundnut', 'grounds', 'grouper', 'grouse', 'grove', 'grown', 'gruyere', 'gruyère', 'gruyére', 'grüner', 'guacamole', 'guajillo', 'guajillos', 'guanabana', 'guanciale', 'guapo', 'guar', 'guascas', 'guava', 'guavas', 'guindilla', 'guinness', 'guittard', 'gulden', 'gum', 'gumbo', 'gummi', 'gummy', 'gun', 'gunpowder', 'guntur', 'gushy', 'gustiamo', 'gut', 'gutted', 'gyoza', 'gyromitre', 'haas', 'habanero', 'habaneros', 'hachiya', 'haddie', 'haddock', 'haiga', 'hair', 'hake', 'hakurei', 'half', 'halibut', 'halloumi', 'haloumi', 'halvah', 'halve', 'halved', 'halves', 'ham', 'hamachi', 'hamburger', 'hamilton', 'hammer', 'hand', 'handcrushed', 'handful', 'handfulls', 'handfuls', 'handheld', 'handle', 'handled', 'handles', 'handling', 'hands', 'handwritten', 'handy', 'hang', 'hangar', 'hanger', 'hanout', 'hard', 'hardware', 'hardwood', 'hardy', 'haricorts', 'haricot', 'haricots', 'harina', 'harissa', 'haroseth', 'harp', 'harvest', 'hash', 'hass', 'hatch', 'havarti', 'hawaiian', 'hawaij', 'hawayei', 'hawthorn', 'hazelnut', 'hazelnuts', 'hazen', 'head', 'headnote', 'heads', 'healing', 'health', 'healthy', 'heaped', 'heaping', 'heart', 'hearts', 'hearty', 'heat', 'heated', 'heath', 'heatproof', 'heavily', 'heavy', 'hedgehog', 'heering', 'hefeweizen', 'hefty', 'heidi', 'heinz', 'heirloom', 'heirlooms', 'held', 'hell', 'hellfire', 'hellman', 'hellmann', 'help', 'helpful', 'helps', 'hemisphere', 'hemispherical', 'hemp', 'hen', 'hendrick', 'hennessey', 'hens', 'herb', 'herbal', 'herbamare', 'herbed', 'herbes', 'herbs', 'herbsaint', 'heritage', 'hero', 'herring', 'hershey', 'hibiki', 'hibiscus', 'hick', 'hickory', 'hide', 'high', 'higher', 'highest', 'highly', 'highwest', 'hijiki', 'hill', 'himalayan', 'hine', 'hing', 'hints', 'hips', 'hoagie', 'hobby', 'hock', 'hocks', 'hoegaarden', 'hog', 'hoisin', 'hoja', 'hokkaido', 'hokusetsu', 'hold', 'holding', 'holds', 'hole', 'holes', 'holiday', 'holidays', 'holland', 'hollandaise', 'hollow', 'hollowed', 'homade', 'home', 'homemade', 'homestyle', 'hominy', 'hon', 'honey', 'honeycomb', 'honeycrisp', 'honeydew', 'honeyed', 'honeynut', 'hong', 'honing', 'honshimeji', 'hook', 'horizontally', 'horseradish', 'horticultural', 'hose', 'hot', 'hotchkiss', 'hothouse', 'hots', 'hotter', 'hour', 'hours', 'house', 'houses', 'hsing', 'huacatay', 'hubbard', 'huckleberries', 'huckleberry', 'hudson', 'hudsonvalleyfoiegras', 'huitlacoche', 'hull', 'hulled', 'humboldt', 'hummus', 'hungarian', 'hunt', 'hunza', 'hurry', 'hurt', 'hush', 'husk', 'husked', 'husks', 'huy', 'hydro', 'hydrogenated', 'hyssop', 'hôtel', 'ian', 'ibarra', 'ice', 'iceberg', 'iceburg', 'iced', 'ich', 'ichimi', 'icing', 'icingepi', 'id', 'ida', 'idaho', 'ideal', 'ideally', 'igourmet', 'ikea', 'ila', 'ilegal', 'ilmercatoitaliano', 'iloco', 'imagine', 'imitation', 'immature', 'immediately', 'immersion', 'impart', 'implement', 'important', 'imported', 'improvise', 'impériale', 'inc', 'inch', 'inches', 'incht', 'inchthick', 'inchwide', 'include', 'included', 'includes', 'including', 'increase', 'incubator', 'index', 'india', 'indian', 'indicates', 'indirect', 'individual', 'individually', 'indonesian', 'inexpensive', 'info', 'infused', 'ingredient', 'ingredients', 'ink', 'inna', 'innards', 'inner', 'innermost', 'inpursuitoftea', 'ins', 'insanely', 'insert', 'inside', 'insides', 'insist', 'inspired', 'insta', 'instacure', 'instant', 'instead', 'instructions', 'insulated', 'intact', 'intense', 'interior', 'international', 'internet', 'intervals', 'intestines', 'invert', 'iodized', 'ipa', 'ipswich', 'iqf', 'iranian', 'irish', 'iron', 'irregular', 'irregularly', 'iru', 'irú', 'isastegi', 'island', 'islands', 'islay', 'israeli', 'italian', 'items', 'jack', 'jackfruit', 'jacobsen', 'jaggery', 'jagody', 'jalape', 'jalapeno', 'jalapeo', 'jalapeño', 'jalapeños', 'jalapño', 'jam', 'jamaica', 'jamaican', 'jammy', 'jams', 'jamón', 'jan', 'japanese', 'japones', 'jar', 'jarlsberg', 'jarlsburg', 'jarred', 'jars', 'jasmine', 'jeanne', 'jefe', 'jell', 'jellied', 'jellies', 'jelly', 'jemima', 'jenkins', 'jerk', 'jerry', 'jersey', 'jerusalem', 'jet', 'jewel', 'jewish', 'jfg', 'jiang', 'jicama', 'jif', 'jiffy', 'jigger', 'jimmies', 'jimmy', 'jivara', 'joe', 'john', 'jointed', 'jonagold', 'jordan', 'josh', 'jouët', 'joven', 'jowl', 'joyva', 'juice', 'juiced', 'juicer', 'juices', 'juicier', 'juicing', 'juicy', 'jujubes', 'julep', 'julia', 'julienne', 'julienned', 'julio', 'jumbo', 'junior', 'juniper', 'junmai', 'junípero', 'jus', 'jägermeister', 'jícama', 'kabocha', 'kadi', 'kadota', 'kaffir', 'kahlu', 'kahlúa', 'kaiser', 'kaiware', 'kalamansi', 'kalamata', 'kalbi', 'kale', 'kalonji', 'kalustyans', 'kalúa', 'kam', 'kamut', 'kansas', 'kaolin', 'karo', 'kasha', 'kashmiri', 'kasoori', 'kasseri', 'kataifi', 'kateh', 'katsuo', 'katsuobushi', 'katz', 'kavli', 'kecap', 'kee', 'keebler', 'keep', 'keeping', 'keeps', 'kefalotiri', 'kefalotyri', 'kefir', 'kellogg', 'kelp', 'kemp', 'kent', 'kentucky', 'kept', 'kern', 'kernel', 'kernels', 'kerrygold', 'ketchup', 'ketjap', 'kettle', 'kettlepizza', 'kewpie', 'key', 'kg', 'khao', 'khlass', 'khua', 'kick', 'kid', 'kiddush', 'kidney', 'kidneys', 'kids', 'kielbasa', 'kikkoman', 'kilo', 'kilograms', 'kimchi', 'kind', 'kindlin', 'kinds', 'king', 'kingarthurflour', 'kippers', 'kir', 'kirby', 'kirsch', 'kirschwasser', 'kiss', 'kisses', 'kit', 'kitchen', 'kitchens', 'kiwi', 'kiwifruit', 'kiwifruits', 'kiwis', 'kix', 'knafe', 'kneading', 'knife', 'knob', 'knockwurst', 'know', 'known', 'knuckle', 'knuckles', 'koamart', 'kochujang', 'koda', 'kodiak', 'kohlrabi', 'kohlrabies', 'koji', 'kolsch', 'komatsuna', 'kombu', 'kombucha', 'kona', 'konbu', 'kong', 'kool', 'koon', 'korean', 'kosari', 'kosher', 'koshian', 'kosho', 'kra', 'kraft', 'kriek', 'krinos', 'krispies', 'krogstad', 'kugelhopf', 'kugelhupf', 'kum', 'kumamoto', 'kumara', 'kumquat', 'kumquats', 'kumquatsepi', 'kuri', 'kuro', 'kurobuta', 'kümmel', 'la', 'labaneh', 'label', 'labeled', 'labels', 'labne', 'labneh', 'laboiteny', 'laces', 'lacinato', 'lacing', 'lacquered', 'lactose', 'ladolemono', 'lady', 'ladyfinger', 'ladyfingers', 'lager', 'lagerstyle', 'laird', 'lake', 'lamb', 'lambic', 'lambrusco', 'lambs', 'lan', 'lancashire', 'lancaster', 'lanka', 'lantern', 'laphroaig', 'lapsang', 'laquercia', 'lard', 'lardo', 'lardons', 'large', 'larger', 'largest', 'lars', 'lasagna', 'lasagne', 'last', 'late', 'latex', 'latienda', 'latin', 'latino', 'latourangelle', 'latte', 'laughing', 'lava', 'lavash', 'lavender', 'laver', 'lavosh', 'lay', 'layer', 'layers', 'lazy', 'lazzaroni', 'lb', 'lbs', 'le', 'leaf', 'leafed', 'leafy', 'lean', 'least', 'leather', 'leave', 'leaves', 'leaving', 'lebanese', 'lebkuchen', 'lebneh', 'leche', 'lee', 'leek', 'leeks', 'leeners', 'lefse', 'left', 'leftover', 'leftovers', 'leg', 'legs', 'legthwise', 'legumes', 'leicester', 'lemon', 'lemonade', 'lemongrass', 'lemons', 'lemony', 'lend', 'length', 'lengths', 'lengthways', 'lengthwise', 'lentil', 'lentilles', 'lentils', 'leonardo', 'lepicerie', 'less', 'let', 'letherbee', 'letters', 'lettuce', 'lettuces', 'level', 'leveled', 'leveling', 'libby', 'licor', 'licorice', 'lid', 'lids', 'lie', 'life', 'ligament', 'light', 'lighter', 'lightlife', 'lightly', 'lightlysweetened', 'lightning', 'lightweight', 'ligurian', 'like', 'lil', 'lilac', 'lillet', 'lily', 'lima', 'limas', 'lime', 'limeade', 'limes', 'limezest', 'limited', 'limo', 'limonada', 'limonata', 'limoncello', 'limoncillo', 'limu', 'lindemans', 'lindsay', 'lindt', 'line', 'lined', 'linen', 'liner', 'liners', 'lines', 'lingcod', 'lingonberries', 'lingonberry', 'lingots', 'linguine', 'linguini', 'linguiça', 'lini', 'lining', 'link', 'links', 'linseed', 'linseeds', 'lint', 'lion', 'lip', 'liquefy', 'liqueuer', 'liqueur', 'liquid', 'liquor', 'list', 'lit', 'liter', 'literally', 'liters', 'litre', 'litres', 'little', 'littleneck', 'littlenecks', 'live', 'liver', 'livers', 'liverwurst', 'lo', 'loaf', 'loaves', 'lobes', 'lobster', 'lobsters', 'local', 'locust', 'lodge', 'log', 'logs', 'loin', 'loins', 'lolla', 'lollipop', 'lollo', 'london', 'long', 'longaniza', 'longhorn', 'look', 'looks', 'loose', 'loosely', 'loosen', 'looza', 'lop', 'lopez', 'lord', 'los', 'lots', 'lotus', 'louis', 'louisiana', 'loup', 'lour', 'lovage', 'love', 'low', 'lower', 'lowering', 'lowfat', 'lox', 'loóza', 'lucini', 'lucques', 'lucía', 'luganega', 'luis', 'luke', 'lukewarm', 'lulo', 'lumaconi', 'lump', 'lumpia', 'lumps', 'lumpy', 'luo', 'luscious', 'lustau', 'luster', 'lusterdust', 'luxardo', 'lychees', 'lye', 'lying', 'lyle', 'lópez', 'maca', 'macadamia', 'macapuno', 'macaroni', 'macaroons', 'mace', 'macerated', 'machine', 'macintosh', 'mackerel', 'mackeson', 'madagascar', 'maddalena', 'made', 'madeira', 'madeleine', 'madness', 'madras', 'mae', 'maesri', 'mafaldine', 'maggi', 'magnificent', 'magpie', 'magret', 'magrets', 'maguey', 'mahatma', 'mahi', 'mahimahi', 'mahlab', 'mahleb', 'mahón', 'maida', 'maiden', 'maifun', 'main', 'maine', 'maitake', 'major', 'make', 'maker', 'makes', 'making', 'makrut', 'malabar', 'malaga', 'malagueta', 'malaguetas', 'malanga', 'malaysian', 'malbec', 'maldive', 'maldon', 'malibu', 'mallet', 'malloreddus', 'malt', 'maltaise', 'malted', 'mam', 'mama', 'maman', 'mamey', 'mamé', 'man', 'manageable', 'manchego', 'mandarin', 'mandarine', 'mandarins', 'mandioca', 'mandolin', 'mandoline', 'mango', 'mangoes', 'mangos', 'manicotti', 'manila', 'manioc', 'manis', 'manischewitz', 'manjari', 'manual', 'manuka', 'many', 'manzanilla', 'manzanos', 'maple', 'maque', 'mara', 'maracuyá', 'maras', 'maraschino', 'marash', 'maraska', 'marble', 'marbled', 'marbles', 'marcona', 'marcos', 'margarine', 'margarita', 'margherita', 'maria', 'mariage', 'marinade', 'marinara', 'marinated', 'marinating', 'marionberries', 'marionberry', 'maris', 'marjoram', 'mark', 'marked', 'marker', 'market', 'markets', 'marmalade', 'marnier', 'maroon', 'marrow', 'marrowbones', 'marsala', 'marscapone', 'marshmallow', 'marshmallows', 'martin', 'martini', 'mary', 'marzano', 'marzipan', 'masa', 'masala', 'masarepa', 'mascarpone', 'maseca', 'mash', 'mashed', 'masher', 'masking', 'mason', 'masoor', 'mass', 'massage', 'massaged', 'massaman', 'massenez', 'massey', 'master', 'mastic', 'mat', 'match', 'matcha', 'matches', 'matchstick', 'matchsticks', 'material', 'mathilde', 'mats', 'matter', 'mature', 'matza', 'matzah', 'matzo', 'matzoh', 'matzos', 'maui', 'max', 'may', 'mayo', 'mayonnaise', 'maytag', 'maître', 'mccollum', 'mccollums', 'mccormick', 'mccoy', 'mche', 'mcintosh', 'mead', 'meal', 'means', 'meanwhile', 'measure', 'measured', 'measurement', 'measurements', 'measures', 'measuring', 'meat', 'meatballs', 'meatloaf', 'meats', 'meaty', 'meaux', 'medaglia', 'medal', 'medallion', 'medicinals', 'medieval', 'mediterranean', 'medium', 'medjool', 'meiji', 'mein', 'melange', 'melissa', 'melissas', 'mellocreme', 'mellow', 'melon', 'melons', 'melt', 'melted', 'melting', 'melts', 'members', 'membrane', 'membranes', 'membrillo', 'memphis', 'menlo', 'menma', 'mentaiko', 'menthe', 'mer', 'merguez', 'meringue', 'meringues', 'merlot', 'mes', 'mesclun', 'mesh', 'mesquite', 'metal', 'metallic', 'methi', 'method', 'mexican', 'mexicana', 'mexico', 'mexicos', 'meyer', 'mezcal', 'mezze', 'mezzi', 'mg', 'mian', 'miche', 'micro', 'microgreens', 'microplane', 'microwavable', 'microwave', 'middle', 'midnight', 'midori', 'midribs', 'mie', 'mignon', 'mignons', 'mild', 'milder', 'mildflavored', 'mildly', 'mililiters', 'milk', 'milkimchi', 'mill', 'milled', 'miller', 'millet', 'milliliter', 'milliliters', 'mills', 'mimolette', 'mimosa', 'minced', 'mincemeat', 'mind', 'mined', 'mineral', 'mini', 'miniature', 'minimum', 'minneolas', 'mint', 'minted', 'mints', 'minus', 'minute', 'minutes', 'miracle', 'mirasol', 'mirin', 'mirliton', 'mirlitons', 'mislabeled', 'miso', 'misshapen', 'mission', 'mister', 'misua', 'mitica', 'mitts', 'mix', 'mixed', 'mixer', 'mixers', 'mixing', 'mixture', 'miyoko', 'mizuna', 'ml', 'mm', 'moby', 'mocha', 'mochiko', 'modelo', 'moderately', 'mograbiah', 'moist', 'moistened', 'moistening', 'moisture', 'mojito', 'mojo', 'molasses', 'mold', 'molds', 'mole', 'molecular', 'molokhieh', 'momiji', 'monde', 'monger', 'monin', 'monitor', 'monkfish', 'montana', 'monte', 'montenegro', 'monterey', 'montereyjack', 'monterrey', 'months', 'montrachet', 'montreal', 'moon', 'moong', 'moonglow', 'moons', 'moonshine', 'morcilla', 'morel', 'morello', 'morels', 'mori', 'morita', 'moritas', 'morning', 'moroccan', 'morris', 'morsels', 'mortadella', 'mortar', 'morton', 'moscatel', 'moscato', 'mote', 'mother', 'mott', 'moulard', 'mount', 'mountain', 'mousse', 'moutarde', 'moved', 'movie', 'mozzarella', 'mrs', 'ms', 'msc', 'msg', 'mt', 'mu', 'much', 'muddle', 'muddler', 'muddlers', 'muddling', 'mueller', 'muenster', 'muffin', 'muffins', 'muffuletta', 'mug', 'mugs', 'muir', 'mulato', 'mulberries', 'mullet', 'mullets', 'multi', 'multicolored', 'multigrain', 'mung', 'murcott', 'murray', 'murrayscheese', 'muscadet', 'muscat', 'muscle', 'muscles', 'muscovado', 'muscovy', 'mushroom', 'mushrooms', 'musir', 'muslin', 'mussels', 'must', 'mustard', 'mutabal', 'mutsu', 'myers', 'mymouné', 'mâche', 'märzen', 'mélange', 'mûre', 'münster', 'naam', 'naan', 'naans', 'nabisco', 'nam', 'name', 'nano', 'nantucket', 'napa', 'napoléon', 'naranjilla', 'nardello', 'narrow', 'narrowing', 'nashville', 'nasturtium', 'nasturtiums', 'nationwide', 'native', 'natural', 'naturally', 'naughty', 'navan', 'navel', 'navy', 'nduja', 'neal', 'near', 'necessary', 'neck', 'necks', 'nectar', 'nectarine', 'nectarines', 'need', 'needed', 'needle', 'needlenose', 'needles', 'neely', 'neem', 'neera', 'negi', 'negra', 'negro', 'neither', 'nellie', 'nem', 'nepenthe', 'neri', 'nerigoma', 'nero', 'nest', 'nestlé', 'nests', 'net', 'netted', 'nettles', 'neufchaåtel', 'neufchâtel', 'neutral', 'never', 'new', 'newman', 'newsom', 'newspaper', 'next', 'nguyen', 'nib', 'nibs', 'nice', 'nicoise', 'nielsen', 'nigella', 'nilla', 'nine', 'niçoise', 'nobody', 'nocello', 'noilly', 'noir', 'non', 'nonalcoholic', 'nondairy', 'none', 'nonfat', 'nonhydrogenated', 'nonino', 'nonpareil', 'nonpareils', 'nonreactive', 'nonstick', 'nonsweet', 'nontoxic', 'noodle', 'noodles', 'noor', 'nopales', 'nordic', 'nori', 'north', 'northern', 'northwest', 'nose', 'nosed', 'note', 'noted', 'notes', 'nothing', 'notice', 'nougat', 'nova', 'novo', 'ntlde', 'nto', 'nu', 'nucoa', 'nueske', 'nuggets', 'number', 'nuoc', 'nut', 'nutella', 'nutmeg', 'nutmegs', 'nutri', 'nutritional', 'nuts', 'nyons', 'nyora', 'oak', 'oaky', 'oat', 'oatcakes', 'oatmeal', 'oats', 'oaxaca', 'oaxacan', 'oblaten', 'oblong', 'ocean', 'octagonal', 'octopus', 'octopuses', 'ocute', 'oeil', 'oelek', 'offers', 'offset', 'often', 'ogo', 'ohnuts', 'oil', 'oiled', 'oiling', 'oils', 'oily', 'oince', 'oka', 'okay', 'okinawan', 'okra', 'old', 'oldfashioned', 'oleic', 'olio', 'olive', 'olivenation', 'olives', 'olla', 'oloroso', 'omani', 'omega', 'omelet', 'omit', 'omitting', 'onaise', 'one', 'ones', 'onetik', 'onion', 'onions', 'online', 'oolong', 'oounce', 'oounces', 'opal', 'open', 'opened', 'opening', 'optioinal', 'optional', 'optionally', 'orange', 'oranges', 'orchids', 'order', 'ordered', 'ore', 'orecchiette', 'oregano', 'oregon', 'oreo', 'oreos', 'organic', 'organs', 'orgeat', 'oriental', 'original', 'orleans', 'ornament', 'ornaments', 'oro', 'oroshiepi', 'oroweat', 'ortiz', 'orvieto', 'orzata', 'orzo', 'osetra', 'ossetra', 'osso', 'ossobuco', 'ostrich', 'otafuku', 'others', 'ounce', 'ouncec', 'ouncecs', 'ounces', 'outer', 'outside', 'ouzo', 'oval', 'ovalpie', 'ovals', 'ovaltine', 'oven', 'ovenproof', 'overly', 'overnight', 'overproof', 'overripe', 'ovoline', 'ox', 'oxheart', 'oxtail', 'oxtails', 'oyster', 'oysters', 'oz', 'pabst', 'paccheri', 'pacific', 'pacifico', 'pack', 'packag', 'package', 'packaged', 'packages', 'packed', 'packet', 'packets', 'packs', 'pad', 'padano', 'paddle', 'paddlefish', 'paddles', 'padrón', 'paella', 'paese', 'page', 'pain', 'paint', 'paintbrush', 'paintbrushes', 'paints', 'pair', 'pajeon', 'palabok', 'pale', 'palegreen', 'palm', 'palmful', 'pama', 'pamplemousse', 'pan', 'panang', 'panca', 'pancake', 'pancakes', 'pancetta', 'panda', 'pandan', 'pandoro', 'paneer', 'panela', 'panettone', 'panfried', 'panfrying', 'panini', 'panko', 'panna', 'pans', 'pansies', 'papadums', 'papas', 'papaya', 'papayas', 'paper', 'papers', 'papery', 'pappadams', 'pappadum', 'pappardelle', 'paprika', 'par', 'paratha', 'parboiled', 'parchment', 'parcooked', 'parents', 'pareve', 'parfait', 'paring', 'parlsey', 'parma', 'parmesan', 'parmiggiano', 'parmigian', 'parmigiano', 'parsely', 'parsley', 'parsnip', 'parsnips', 'part', 'partial', 'partially', 'particles', 'partida', 'parts', 'party', 'parve', 'pasilla', 'pasillas', 'passata', 'passing', 'passion', 'passionfruit', 'passover', 'pasta', 'paste', 'pastel', 'pasteurized', 'pastina', 'pastis', 'pastourma', 'pastrami', 'pastry', 'pasture', 'pastured', 'pasty', 'pat', 'patak', 'patna', 'patron', 'pats', 'patted', 'pattern', 'patties', 'patty', 'pattypan', 'paul', 'paula', 'pea', 'peach', 'peaches', 'peaks', 'pealed', 'peanut', 'peanuts', 'pear', 'pearl', 'pearled', 'pearls', 'pears', 'peas', 'peasant', 'peasy', 'pecan', 'pecans', 'pecorino', 'pectin', 'pedro', 'peekytoe', 'peel', 'peeled', 'peeler', 'peels', 'peg', 'pekin', 'peking', 'pekoe', 'pelargonium', 'pellegrino', 'peltier', 'pen', 'pencil', 'penne', 'pennette', 'pennies', 'penzeys', 'people', 'pepe', 'peperonata', 'peperoncini', 'peperoncino', 'pepitas', 'peppadew', 'peppadews', 'peppar', 'pepper', 'peppercorn', 'peppercorns', 'peppered', 'pepperidge', 'peppermint', 'pepperoncini', 'pepperoni', 'peppers', 'peppery', 'pequin', 'per', 'percent', 'percentage', 'perch', 'perciatelli', 'perfect', 'perfection', 'perfectly', 'perforated', 'perilla', 'perlato', 'permitting', 'pernod', 'perrier', 'persian', 'persimmon', 'persimmons', 'person', 'personal', 'perugina', 'peruvian', 'pesticide', 'pestle', 'pesto', 'pet', 'petal', 'petals', 'pete', 'petit', 'petite', 'petits', 'petrale', 'peychaud', 'phase', 'pheasant', 'pheasants', 'philadelphia', 'phin', 'pho', 'phon', 'phrik', 'phu', 'phyllo', 'piave', 'picada', 'picante', 'piccante', 'picholine', 'pick', 'pickapeppa', 'picked', 'pickerel', 'pickle', 'pickled', 'pickles', 'pickling', 'picks', 'picnic', 'pico', 'picot', 'pie', 'piece', 'pieces', 'piecrust', 'piecrusts', 'pieepi', 'pierced', 'pierogi', 'pierre', 'pies', 'pig', 'pigeon', 'pigeons', 'pigs', 'pike', 'pikeplacefish', 'pilaf', 'pillsbury', 'piloncillo', 'pilot', 'pilpelchuma', 'pilsner', 'pilsners', 'piment', 'pimentn', 'pimento', 'pimenton', 'pimentos', 'pimentón', 'pimiento', 'pimientos', 'pimm', 'pin', 'pina', 'pinbones', 'pinch', 'pinched', 'pinches', 'pine', 'pineapple', 'pineapples', 'pinenuts', 'pinhead', 'pink', 'pinkerton', 'pinkie', 'pinot', 'pins', 'pint', 'pintcherry', 'pinto', 'pints', 'pinza', 'pioppini', 'piper', 'pipette', 'piping', 'pippin', 'piquant', 'piquillo', 'piquin', 'piri', 'pirozhki', 'pisco', 'pistachio', 'pistachios', 'pistils', 'pistoles', 'pistou', 'pit', 'pita', 'pitas', 'pitcher', 'pith', 'pits', 'pitta', 'pitted', 'pizza', 'pizzelle', 'pizzelles', 'pkg', 'pla', 'place', 'places', 'plain', 'plane', 'plank', 'planks', 'plans', 'plant', 'plantain', 'plantains', 'plants', 'plastic', 'plate', 'plates', 'platter', 'pleated', 'plenty', 'pliable', 'pliers', 'ploy', 'plugra', 'plugrá', 'plum', 'plump', 'plumped', 'plums', 'plunge', 'plunger', 'pluot', 'pluots', 'plus', 'plymouth', 'plátanos', 'poached', 'poaching', 'poblano', 'poblanos', 'pocket', 'pocketless', 'pockets', 'pod', 'podded', 'pods', 'point', 'pointer', 'points', 'poire', 'pois', 'poked', 'pole', 'polenta', 'polentaepi', 'polish', 'polished', 'pollack', 'pollen', 'pollock', 'polpette', 'pom', 'pomegranate', 'pomegranates', 'pomelo', 'pomelos', 'pomi', 'pommery', 'pomodoro', 'pomona', 'pomì', 'pony', 'ponzu', 'poolish', 'poon', 'pop', 'popcorn', 'poplar', 'popover', 'popovers', 'popped', 'popper', 'poppy', 'pops', 'popsicle', 'porcini', 'porgy', 'pork', 'port', 'portabella', 'porter', 'porterhouse', 'portion', 'portioned', 'portions', 'portobellini', 'portobello', 'portobellos', 'portuguese', 'position', 'possible', 'possibly', 'pot', 'potato', 'potatoes', 'pots', 'poudre', 'poultry', 'pound', 'pounded', 'pounder', 'pounding', 'pounds', 'poupon', 'pour', 'pourable', 'poured', 'pouring', 'poussins', 'povilho', 'powder', 'powdered', 'powders', 'powdery', 'power', 'powered', 'powerful', 'pozole', 'prague', 'prairie', 'praline', 'prat', 'prawn', 'prawns', 'pre', 'prebaked', 'precise', 'precooked', 'precrumbled', 'precut', 'predominantly', 'prefer', 'preferabbly', 'preferable', 'preferably', 'preference', 'preferred', 'preferredmeats', 'prefers', 'prego', 'preheat', 'premade', 'premium', 'prep', 'prepackaged', 'preparation', 'prepare', 'prepared', 'preparing', 'prepped', 'prerolled', 'presentation', 'preserved', 'preserves', 'presidente', 'presliced', 'presoaked', 'press', 'pressed', 'pressing', 'pressure', 'pressé', 'pretty', 'pretzel', 'pretzels', 'prevent', 'prevents', 'previous', 'prewashed', 'pricked', 'prickly', 'prime', 'prince', 'printed', 'probiotic', 'problem', 'process', 'processed', 'processor', 'produce', 'product', 'products', 'pronged', 'proof', 'propane', 'properly', 'proportion', 'prosciutto', 'prosecco', 'protective', 'protein', 'provencal', 'provence', 'provençe', 'provolone', 'prudhomme', 'pruitt', 'prune', 'prunes', 'psyllium', 'pt', 'ptitim', 'pté', 'pudding', 'puff', 'puffed', 'puffs', 'pulled', 'pullman', 'pulp', 'pulse', 'pulsed', 'pulsing', 'pulverized', 'pumpernickel', 'pumpkin', 'pumpkins', 'puna', 'punch', 'punds', 'pungent', 'punt', 'puntarelle', 'puppies', 'pura', 'purchase', 'purchased', 'purchasing', 'pure', 'puree', 'pureed', 'purified', 'purlsoho', 'purple', 'purpose', 'purslane', 'purée', 'puréed', 'pushed', 'put', 'puy', 'puya', 'pyongo', 'pyrex', 'pápalo', 'páté', 'pâte', 'pâté', 'périgord', 'pêches', 'qt', 'qts', 'quahogs', 'quail', 'quaker', 'quality', 'quantities', 'quantity', 'quark', 'quart', 'quarter', 'quartered', 'quarters', 'quarts', 'quartt', 'quatre', 'queen', 'quemada', 'quesillo', 'queso', 'quiche', 'quick', 'quickcooking', 'quickly', 'quills', 'quince', 'quinces', 'quinoa', 'quite', 'quoc', 'rabarbaro', 'rabbit', 'rabbits', 'rabe', 'rack', 'racks', 'raclette', 'radiatori', 'radicchio', 'radish', 'radishes', 'raffia', 'rainbow', 'rainier', 'raised', 'raisin', 'raising', 'raisins', 'raita', 'ram', 'rambutan', 'ramekin', 'ramekins', 'ramen', 'ramp', 'ramps', 'ramyun', 'ran', 'ranch', 'ranchero', 'rancho', 'random', 'range', 'ranging', 'rani', 'rao', 'rapid', 'rapini', 'rare', 'ras', 'rasam', 'rashers', 'rasp', 'raspberries', 'raspberry', 'rated', 'rather', 'ratio', 'rau', 'ravioli', 'raw', 'ray', 'razberi', 'razor', 'rbol', 'reactive', 'read', 'readily', 'ready', 'real', 'realfruit', 'really', 'reblochon', 'recado', 'recao', 'recently', 'recipe', 'recipeepi', 'recipelink', 'recipelinkand', 'recipelinkpie', 'recipes', 'recommend', 'recommended', 'recommends', 'reconstituted', 'rectangles', 'rectangular', 'red', 'redbreast', 'redhot', 'redskinned', 'reduce', 'reduced', 'reducing', 'reduction', 'reed', 'reese', 'referred', 'refill', 'refined', 'refreshed', 'refreshment', 'refried', 'refrigerate', 'refrigerated', 'refrigerator', 'regan', 'reggiano', 'reginetti', 'regional', 'regular', 'regulating', 'reheated', 'reheating', 'rehydrated', 'reims', 'reishi', 'relative', 'release', 'relish', 'remainder', 'remaining', 'remains', 'remoulade', 'removable', 'remove', 'removed', 'rendered', 'rennet', 'replace', 'replacer', 'replacing', 'reposado', 'reprodepot', 'require', 'required', 'requires', 'resealable', 'reserve', 'reserved', 'reserving', 'resistant', 'resources', 'rest', 'restaurant', 'result', 'results', 'retain', 'return', 'reuben', 'reyes', 'rhubarb', 'rhum', 'rhône', 'rib', 'ribbed', 'ribbon', 'ribbons', 'ribeye', 'riblets', 'ribs', 'rice', 'riced', 'ricer', 'rich', 'rick', 'rico', 'ricotta', 'ridge', 'ridged', 'riesling', 'rigate', 'rigati', 'rigatoni', 'rim', 'rimless', 'rimmed', 'rimming', 'rims', 'rind', 'rindless', 'rinds', 'ring', 'rings', 'rinse', 'rinsed', 'rio', 'rioja', 'ripasso', 'ripe', 'ripen', 'ripened', 'ripped', 'ripple', 'rise', 'rising', 'riso', 'risotto', 'rittenhouse', 'ritz', 'river', 'riz', 'roast', 'roasted', 'roaster', 'roasting', 'roasts', 'robby', 'robert', 'robin', 'robiola', 'robot', 'robust', 'roca', 'rocco', 'rock', 'rocket', 'rockfish', 'rocks', 'rocoto', 'rod', 'rods', 'roe', 'roja', 'rok', 'roll', 'rolled', 'roller', 'rolling', 'rolls', 'roma', 'romaine', 'roman', 'romanesco', 'romano', 'romas', 'romesco', 'ron', 'roncal', 'rooibos', 'room', 'root', 'roots', 'roquefort', 'rosa', 'rosato', 'rose', 'rosebud', 'rosebuds', 'rosemary', 'roses', 'rosettes', 'rosewater', 'rossa', 'rosso', 'rosé', 'rotel', 'rotelle', 'rothman', 'roti', 'rotini', 'rotisserie', 'rougaroux', 'rouge', 'rough', 'roughly', 'roughy', 'rouille', 'round', 'rounded', 'rounds', 'royal', 'royale', 'rub', 'rubbed', 'rubber', 'rubbing', 'ruby', 'rudy', 'ruffle', 'ruin', 'ruler', 'rum', 'rump', 'runner', 'running', 'runny', 'runs', 'russet', 'russian', 'rust', 'rustic', 'rustique', 'rutabaga', 'rutabagas', 'rye', 'ryvita', 'rémoulade', 'rústico', 'saambhar', 'saba', 'sabayon', 'sable', 'sablefish', 'sablé', 'sablés', 'sabra', 'sachet', 'sack', 'safe', 'safflower', 'saffron', 'saga', 'sagardo', 'sagatiba', 'sage', 'sahadis', 'saifun', 'saikyo', 'sailor', 'saint', 'sake', 'saké', 'salad', 'salamandra', 'salami', 'salata', 'salep', 'sales', 'salmon', 'salmonella', 'salsa', 'salsify', 'salt', 'salted', 'saltine', 'saltines', 'saltiness', 'salting', 'salts', 'saltworks', 'salty', 'salumi', 'salut', 'salvadoran', 'salvation', 'sambal', 'sambar', 'sambuca', 'sami', 'samoas', 'samuel', 'san', 'sand', 'sandbakkel', 'sandies', 'sanding', 'sandwich', 'sandwiches', 'sansho', 'sansyo', 'santa', 'santo', 'sapphire', 'sapporo', 'sara', 'sardines', 'sardo', 'sargento', 'saronno', 'sarticious', 'sarvecchio', 'sashimi', 'sassafras', 'satay', 'sato', 'satsumas', 'sau', 'sauce', 'sauceepi', 'saucepan', 'sauces', 'saucisson', 'sauerkraut', 'sausage', 'sausagemaker', 'sausages', 'sauteing', 'sauterne', 'sauternes', 'sauté', 'sautéed', 'sautéing', 'sauvignon', 'savarin', 'save', 'saved', 'saveur', 'savoiardi', 'savory', 'savoryspiceshop', 'savoy', 'saw', 'sawsawan', 'sazón', 'sc', 'scalded', 'scalding', 'scale', 'scaled', 'scales', 'scallion', 'scallions', 'scalloped', 'scallopini', 'scallops', 'scaloppine', 'scamorza', 'scandinavian', 'scant', 'scapes', 'scarlet', 'scented', 'scharfen', 'scharffen', 'schmaltz', 'schnapps', 'scissors', 'scleaned', 'scoop', 'scooped', 'scooping', 'scoops', 'scored', 'scotch', 'scotia', 'scottish', 'scout', 'scouting', 'scrambled', 'scraped', 'scraper', 'scraps', 'scratch', 'screw', 'scrod', 'scrubbed', 'sea', 'seafood', 'sealable', 'sealed', 'sealing', 'searing', 'seasnax', 'season', 'seasonal', 'seasonally', 'seasoned', 'seasoning', 'seasonings', 'seasons', 'seaweed', 'sec', 'seckel', 'second', 'seconds', 'secret', 'section', 'sectioned', 'sections', 'secured', 'sedaris', 'sediment', 'see', 'seed', 'seeded', 'seedless', 'seedpods', 'seeds', 'seedy', 'seek', 'seekers', 'segment', 'segmented', 'segments', 'seitan', 'sel', 'select', 'selection', 'self', 'selim', 'seller', 'seltzer', 'semi', 'semiaged', 'semiboneless', 'semicircles', 'semifirm', 'semipearled', 'semiseet', 'semisoft', 'semisweet', 'semolina', 'sendai', 'sendexnet', 'sense', 'separate', 'separated', 'separately', 'separator', 'sercial', 'seriously', 'serrano', 'serranos', 'serrated', 'serrrano', 'serve', 'served', 'serving', 'servings', 'sesame', 'set', 'sets', 'sev', 'seven', 'several', 'seville', 'shades', 'shado', 'shake', 'shaken', 'shaker', 'shakers', 'shaking', 'shallot', 'shallots', 'shallow', 'shame', 'shandong', 'shanghai', 'shank', 'shanks', 'shao', 'shaohsing', 'shaoxing', 'shape', 'shaped', 'shaped_coeur', 'shapes', 'shaping', 'shards', 'shark', 'sharlyn', 'sharp', 'sharpened', 'shave', 'shaved', 'shaver', 'shaving', 'shavings', 'shears', 'sheep', 'sheet', 'sheets', 'shell', 'shelled', 'shellfish', 'shelling', 'shells', 'sherbet', 'sherry', 'shichimi', 'shield', 'shiitake', 'shiitakes', 'shimeji', 'shin', 'shiny', 'shio', 'shipped', 'shirataki', 'shiraz', 'shiro', 'shishito', 'shiso', 'shitake', 'shitakes', 'shito', 'shoe', 'shoga', 'shoot', 'shoots', 'shop', 'shops', 'short', 'shortbread', 'shortcakes', 'shortcrust', 'shortcut', 'shortening', 'shorter', 'shortgrain', 'shot', 'shoulder', 'shown', 'shoyu', 'shred', 'shredded', 'shredding', 'shreds', 'shrimp', 'shrink', 'shrub', 'shrubb', 'shu', 'shucked', 'shuk', 'sichuan', 'sicilia', 'sicilian', 'side', 'sided', 'sides', 'siembra', 'sierra', 'sieve', 'sieved', 'sift', 'sifted', 'sifter', 'sifting', 'silan', 'silicone', 'silk', 'silken', 'silpain', 'silpat', 'silpats', 'silver', 'silverside', 'silverskin', 'similar', 'similarly', 'simmer', 'simple', 'simply', 'simón', 'sinclair', 'sinew', 'sinews', 'single', 'sini', 'sirloin', 'sister', 'sit', 'sites', 'siu', 'six', 'sixteen', 'sixths', 'size', 'sized', 'sizes', 'skate', 'skeins', 'skewer', 'skewered', 'skewers', 'skillet', 'skillets', 'skim', 'skimmed', 'skimmer', 'skin', 'skinless', 'skinned', 'skins', 'skip', 'skipping', 'skippy', 'skirt', 'skor', 'skordalia', 'skyy', 'slab', 'slabs', 'slaked', 'slate', 'slather', 'slathering', 'slaw', 'sleeve', 'sleeves', 'slender', 'slice', 'sliced', 'slicer', 'slices', 'slicing', 'slider', 'sliders', 'slight', 'slightly', 'slim', 'slipper', 'slit', 'sliver', 'slivered', 'slivers', 'sloe', 'sloping', 'slotted', 'slow', 'slowly', 'small', 'smaller', 'smallish', 'smarties', 'smash', 'smashed', 'smells', 'smelts', 'smidgen', 'smith', 'smithfield', 'smiths', 'smoke', 'smoked', 'smokehouse', 'smoker', 'smokies', 'smokin', 'smoking', 'smoky', 'smooth', 'smoothly', 'snack', 'snacks', 'snail', 'snails', 'snake', 'snap', 'snapped', 'snapper', 'snappers', 'snapping', 'snipped', 'snow', 'snowflake', 'soak', 'soaked', 'soaking', 'soba', 'sochu', 'sockeye', 'soda', 'sodium', 'sofra', 'sofrito', 'soft', 'soften', 'softened', 'softer', 'softly', 'soggy', 'soju', 'sold', 'sole', 'solera', 'solid', 'solidify', 'solids', 'solomonov', 'soluble', 'somali', 'somen', 'something', 'sometimes', 'somewhat', 'sooji', 'sooks', 'soppressata', 'sopressata', 'sorbet', 'sorbets', 'sorghum', 'sorrel', 'sort', 'sorted', 'souchong', 'soufflé', 'soup', 'soupspoons', 'sour', 'sources', 'sourdough', 'soured', 'soursop', 'sous', 'south', 'southeast', 'southern', 'southwestern', 'soy', 'soybean', 'soybeans', 'soymilk', 'spa', 'space', 'spaetzle', 'spaghetti', 'spaghettini', 'spain', 'spam', 'spanish', 'spare', 'spareribs', 'sparingly', 'sparkling', 'spatchcock', 'spatchcocked', 'spatula', 'spatulas', 'spear', 'spearmint', 'spears', 'special', 'specialty', 'specific', 'specified', 'speck', 'speckled', 'spectrumorganics', 'speculoos', 'speed', 'spell', 'spelt', 'spent', 'sphere', 'spice', 'spicebarn', 'spiced', 'spices', 'spicier', 'spicy', 'spider', 'spiders', 'spiked', 'spikes', 'spinach', 'spines', 'spiral', 'spiralized', 'spiralizer', 'spirit', 'spirited', 'spirulina', 'splash', 'splashes', 'splenda', 'split', 'sponge', 'spongy', 'spoon', 'spooned', 'spoonful', 'spoons', 'sports', 'spot', 'spots', 'spotted', 'spotty', 'spout', 'spouts', 'spray', 'sprayed', 'spraying', 'spread', 'spreadable', 'spreading', 'sprig', 'sprightly', 'sprigs', 'spring', 'springform', 'springs', 'sprinkle', 'sprinkled', 'sprinkles', 'sprinkling', 'spritz', 'sprout', 'sprouted', 'sprouting', 'sprouts', 'spun', 'spy', 'squacquerone', 'square', 'squares', 'squash', 'squashed', 'squashes', 'squeeze', 'squeezed', 'squeezing', 'squid', 'squirt', 'squish', 'sri', 'sriracha', 'ssupermarkets', 'ssäm', 'ssämjang', 'st', 'stabilizing', 'stack', 'stackable', 'stacked', 'stainless', 'stale', 'stalk', 'stalks', 'stalky', 'stamen', 'stamens', 'stand', 'standard', 'standing', 'stands', 'star', 'starch', 'starchy', 'stars', 'start', 'starter', 'starters', 'states', 'steak', 'steaks', 'steam', 'steamed', 'steamer', 'steaming', 'steel', 'steels', 'steen', 'steep', 'steeped', 'stem', 'stemmed', 'stems', 'stencil', 'step', 'sterile', 'sterilized', 'sterling', 'stevia', 'stew', 'stewed', 'stewing', 'stick', 'sticker', 'stickers', 'sticking', 'sticks', 'sticky', 'stiff', 'still', 'stilton', 'stinging', 'stir', 'stirred', 'stix', 'stock', 'stockpot', 'stoli', 'stolichnaya', 'stone', 'stoned', 'stoneground', 'stones', 'stop', 'storage', 'store', 'storebought', 'stores', 'storing', 'stout', 'stovetop', 'stracciatella', 'straight', 'strained', 'strainer', 'straining', 'strand', 'strands', 'straw', 'strawberries', 'strawberry', 'straws', 'streaky', 'streamers', 'street', 'strega', 'strength', 'stress', 'streusel', 'strictly', 'string', 'stringed', 'stringless', 'strings', 'stringy', 'strip', 'stripe', 'striped', 'stripes', 'stripped', 'strips', 'strong', 'stronger', 'strongly', 'strozzapreti', 'stubb', 'stuck', 'studded', 'stuffed', 'stuffing', 'sturdy', 'sturgeon', 'style', 'styles', 'styrofoam', 'sub', 'submarine', 'submerged', 'substitute', 'substituted', 'substitutes', 'substitutions', 'sucanat', 'sucrée', 'sucuk', 'suet', 'sugaar', 'sugar', 'sugarcane', 'sugarcoated', 'sugarcraft', 'sugared', 'sugars', 'suggested', 'suggests', 'suit', 'suits', 'suji', 'sukang', 'sukiyaki', 'sulmitti', 'sultana', 'sultanas', 'sum', 'sumac', 'summer', 'sun', 'sunbutter', 'sunchoke', 'sunchokes', 'sundried', 'sunflower', 'sung', 'sunny', 'super', 'superfine', 'supermarket', 'supermarkets', 'superpremium', 'supersized', 'supplement', 'supplier', 'suppliers', 'supply', 'supreme', 'supremes', 'suprêmes', 'sure', 'surface', 'suribachi', 'surlatable', 'sushi', 'sustainably', 'suze', 'suzette', 'swad', 'swans', 'swanson', 'swedish', 'sweet', 'sweetbreads', 'sweeten', 'sweetened', 'sweetener', 'sweeter', 'sweetness', 'sweets', 'swirl', 'swiss', 'switch', 'switzerland', 'swordfish', 'syphon', 'syrah', 'syrian', 'syrup', 'syrupepi', 'syrups', 'szechuan', 'sōmen', 'taaka', 'tabasco', 'tabbouleh', 'tabil', 'table', 'tablebspoons', 'tablecloth', 'tablepoons', 'tablepsoon', 'tables', 'tablesepoon', 'tablespons', 'tablespoon', 'tablespoona', 'tablespoons', 'tablespoonsfinely', 'tablespoonsimple', 'tablespoonsn', 'tablespoonss', 'tablet', 'tablspoon', 'tablspoons', 'tac', 'taco', 'tagalongs', 'taggiasca', 'tagine', 'tagliardi', 'tagliatelle', 'tagliolini', 'tahina', 'tahini', 'tail', 'tailed', 'tails', 'tajin', 'tajín', 'take', 'takeout', 'tale', 'taleggio', 'talenti', 'tall', 'tallow', 'tamales', 'tamari', 'tamarillo', 'tamarillos', 'tamarind', 'tamicon', 'tamis', 'tamp', 'tan', 'tandoori', 'tangelo', 'tangelos', 'tangerine', 'tangerines', 'tangy', 'tank', 'tanqueray', 'tap', 'tapatío', 'tape', 'tapenade', 'tapioca', 'tapped', 'tarama', 'taramasalata', 'tarantulas', 'tarbais', 'tardivo', 'target', 'taro', 'tarragon', 'tart', 'tartar', 'tartlet', 'tasso', 'taste', 'tastes', 'tasting', 'tasty', 'tater', 'tatin', 'tatsoi', 'tawny', 'taylor', 'tbs', 'tbsp', 'tbsps', 'tea', 'teaaspoon', 'teabags', 'teacups', 'teapoon', 'teapot', 'teapsoon', 'teapsoons', 'tear', 'teardrop', 'teasoon', 'teaspoon', 'teaspoons', 'teaspooon', 'teaspsoon', 'tecate', 'tehina', 'teleme', 'teleras', 'tellicherry', 'temp', 'tempeh', 'temperatur', 'temperature', 'temperatures', 'tempered', 'template', 'tempura', 'ten', 'tender', 'tenderloin', 'tenderloins', 'tenders', 'tendril', 'tendrils', 'tends', 'tennessee', 'tenneyson', 'tennis', 'tentacles', 'teotitlán', 'tepid', 'tequila', 'teriyaki', 'terra', 'terrasonoma', 'terrine', 'terry', 'tesoro', 'test', 'tester', 'testing', 'tetilla', 'texas', 'texture', 'textured', 'th', 'thai', 'thanksgiving', 'thaw', 'thawed', 'theater', 'thebaking', 'therefore', 'thermometer', 'thermos', 'thespicehouse', 'thick', 'thicken', 'thickener', 'thickeners', 'thicker', 'thickest', 'thickly', 'thickness', 'thigh', 'thighs', 'thimble', 'thin', 'thing', 'things', 'think', 'thinluy', 'thinly', 'thinned', 'thinning', 'thins', 'third', 'thirds', 'thirty', 'thomcord', 'thoor', 'thoroughly', 'though', 'thoureads', 'thousand', 'thread', 'threads', 'three', 'throughout', 'throw', 'ths', 'thumb', 'thumbelina', 'thyme', 'thymeepi', 'ti', 'tia', 'tic', 'tie', 'tied', 'tienda', 'tiers', 'tiger', 'tight', 'tightly', 'tiki', 'tikka', 'tilapia', 'tiles', 'till', 'tillamook', 'tilt', 'time', 'timer', 'times', 'tin', 'tinapa', 'tinfoil', 'tinkyada', 'tins', 'tinted', 'tiny', 'tip', 'tiparos', 'tipo', 'tipped', 'tips', 'tiramisù', 'tissue', 'titanfood', 'tito', 'tk', 'toast', 'toasted', 'toastedcooled', 'toastedepi', 'toastedin', 'toasting', 'toasts', 'toban', 'tobanjan', 'tobiko', 'todd', 'toffee', 'tofu', 'togarashi', 'together', 'tokyo', 'tolerant', 'tolerated', 'toll', 'tolstoi', 'tomatillo', 'tomatillos', 'tomato', 'tomatoes', 'ton', 'tone', 'tongs', 'tongue', 'tonic', 'tonkatsu', 'tonnarelli', 'toor', 'tooth', 'toothpick', 'toothpicks', 'top', 'topped', 'topping', 'toppings', 'tops', 'torani', 'torch', 'torino', 'torn', 'torpedo', 'torta', 'tortellini', 'tortelloni', 'tortiglioni', 'tortilla', 'tortillas', 'tortue', 'toscano', 'toss', 'tossed', 'tossing', 'tostada', 'tostadas', 'total', 'totally', 'tots', 'touch', 'tough', 'toulouse', 'toum', 'towel', 'towels', 'trace', 'trader', 'traditional', 'trail', 'trans', 'transfer', 'translucent', 'transparent', 'tray', 'trays', 'treacle', 'trebbiano', 'tree', 'treviso', 'tri', 'triangle', 'triangles', 'triangular', 'trick', 'tricolor', 'trifle', 'trim', 'trimmed', 'trimming', 'trimmings', 'trinidad', 'tripe', 'tripel', 'triple', 'tripoline', 'trips', 'trompe', 'tropical', 'trout', 'true', 'truffle', 'truffled', 'truffles', 'truly', 'trumpet', 'trumpets', 'trung', 'trungnguyen', 'truroots', 'truth', 'truvia', 'try', 'tsp', 'tsps', 'tteok', 'tuaca', 'tub', 'tube', 'tubers', 'tubes', 'tubetti', 'tubs', 'tubular', 'tucked', 'tuiles', 'tukmaria', 'tumeric', 'tuna', 'turbinado', 'turbot', 'turkey', 'turkeys', 'turkish', 'turmeric', 'turned', 'turning', 'turnip', 'turnips', 'turns', 'turntable', 'turtle', 'tuscan', 'tvorog', 'tvp', 'tweezers', 'twelve', 'twenty', 'twice', 'twine', 'twist', 'twisted', 'twisting', 'twists', 'twizzlers', 'two', 'tying', 'type', 'types', 'typically', 'tzatziki', 'tía', 'tõgarashi', 'udon', 'uku', 'ulek', 'ultimate', 'ultra', 'ultrathin', 'umbrellas', 'ume', 'umeboshi', 'un', 'unaged', 'unappetizing', 'unavailable', 'unbaked', 'unblanched', 'unbleached', 'uncertain', 'uncle', 'uncoated', 'uncooked', 'uncovered', 'uncracked', 'uncured', 'uncut', 'undecorated', 'underripe', 'undiluted', 'undrained', 'undyed', 'unfiltered', 'unflavored', 'unfolded', 'unfrenched', 'unglazed', 'unheated', 'unhulled', 'unhusked', 'uni', 'uniform', 'uniformly', 'unique', 'united', 'unless', 'unlike', 'unmarinated', 'unmelted', 'unpacked', 'unpasteurized', 'unpeeled', 'unpitted', 'unrefined', 'unripe', 'unroasted', 'unrolled', 'unsalted', 'unscented', 'unseasoned', 'unseeded', 'unshelled', 'unshucked', 'unsifted', 'unskinned', 'unsliced', 'unsmoked', 'unsprayed', 'unsulfured', 'unsulphured', 'unsweetened', 'unthawed', 'untied', 'untoasted', 'untreated', 'untrimmed', 'unwaxed', 'unwrapped', 'upholstery', 'upland', 'upper', 'upscale', 'urad', 'urchin', 'urfa', 'us', 'use', 'used', 'uses', 'using', 'usli', 'usually', 'usukuchi', 'uwajimaya', 'uziza', 'vacu', 'vacuum', 'vadouvan', 'vago', 'valdeón', 'valencia', 'valentina', 'vali', 'valles', 'valley', 'valpolicella', 'valrhona', 'vanilla', 'vanille', 'vareniki', 'variant', 'variation', 'variations', 'varieties', 'variety', 'various', 'vary', 'varying', 'vase', 'vases', 'veal', 'veau', 'vegan', 'vegannaise', 'vegenaise', 'vegetable', 'vegetables', 'vegetarian', 'vegetarians', 'veggie', 'veggies', 'vegizest', 'veined', 'veins', 'velouté', 'veltliner', 'velveeta', 'velvet', 'venezuelan', 'venise', 'venison', 'ventrèche', 'vera', 'verbena', 'verde', 'verdelho', 'verjus', 'vermentino', 'vermicelli', 'vermont', 'vermouth', 'versa', 'version', 'vertical', 'vertically', 'verts', 'vessel', 'veuve', 'vialone', 'vida', 'vidalia', 'vide', 'vie', 'vietnamese', 'vieux', 'vigo', 'vigorously', 'vikos', 'vin', 'vinagre', 'vinaigrette', 'vincotto', 'vindaloo', 'vine', 'vinegar', 'vinegared', 'vinegary', 'vines', 'vinho', 'vintage', 'viognier', 'violets', 'violette', 'virgin', 'virginia', 'virginiatraditions', 'visible', 'visit', 'vita', 'vital', 'vitamin', 'vitaminutes', 'vitamix', 'vodka', 'vollrath', 'volume', 'vs', 'vsop', 'wafer', 'wafers', 'waffle', 'wagon', 'wagyu', 'waiting', 'wakame', 'walden', 'walkers', 'walkerswood', 'walla', 'walled', 'walnut', 'walnuts', 'want', 'warabi', 'ware', 'warm', 'warmed', 'warqa', 'wasa', 'wasabi', 'wash', 'washed', 'waste', 'watchers', 'water', 'watercress', 'waterlogged', 'watermelon', 'waterpacked', 'waterproof', 'watrecress', 'wavy', 'wax', 'waxed', 'waxy', 'ways', 'wear', 'weave', 'web', 'weblike', 'webstaurantstore', 'wedge', 'wedges', 'weed', 'week', 'weeks', 'weelicious', 'weigh', 'weighed', 'weighing', 'weight', 'weighting', 'weights', 'well', 'wells', 'west', 'western', 'westphalian', 'wet', 'whacked', 'whatever', 'wheat', 'wheatmeal', 'wheel', 'wheels', 'whether', 'whey', 'whip', 'whipped', 'whipping', 'whisk', 'whisked', 'whiskey', 'whisky', 'white', 'whitefish', 'whites', 'whitestriped', 'whiting', 'whittled', 'whole', 'wholegrain', 'wholemeal', 'wholesome', 'wholespice', 'whoppers', 'wickedgoodcharcoal', 'wide', 'width', 'widthwise', 'wieners', 'wild', 'wildflower', 'william', 'williams', 'wilt', 'wilted', 'wilton', 'wine', 'wineglass', 'winesap', 'winevinegar', 'wing', 'wingettes', 'wings', 'winter', 'wipe', 'wiped', 'wire', 'wisconsin', 'wise', 'wish', 'wispy', 'within', 'without', 'wok', 'wonder', 'wonderful', 'wondra', 'wonton', 'wontons', 'wood', 'wooden', 'woodford', 'woods', 'woody', 'worcestershire', 'work', 'working', 'works', 'worms', 'worth', 'would', 'wrangler', 'wrap', 'wrapped', 'wrappers', 'wrapping', 'wraps', 'wrinkled', 'writer', 'writing', 'www', 'xadbought', 'xadincluding', 'xadraised', 'xadsized', 'xadvirgin', 'xanh', 'xanthan', 'xanthum', 'xcm', 'ximénez', 'xing', 'xocolatl', 'xtabentún', 'xuxu', 'xx', 'xylitol', 'yakinori', 'yakisoba', 'yam', 'yamasa', 'yams', 'yard', 'yards', 'yau', 'yautía', 'year', 'years', 'yeast', 'yellow', 'yellowfin', 'yellowtail', 'yeo', 'yes', 'yet', 'yield', 'yields', 'yodel', 'yoghurt', 'yogurt', 'yola', 'yolk', 'yolks', 'york', 'young', 'yu', 'yuba', 'yuca', 'yucatecan', 'yufka', 'yukon', 'yuzu', 'yuzupassion', 'za', 'zabaglione', 'zanshõ', 'zarame', 'zatarain', 'zaâtar', 'zealand', 'zebra', 'zebras', 'zereshk', 'zergüt', 'zest', 'zested', 'zestepi', 'zester', 'zhoug', 'zinfandel', 'zingermans', 'ziti', 'zucca', 'zucchini', 'zucchinis', 'zwieback', '½oz', 'árbol', 'épices', 'ñame', 'źrbol', '⅔lb', 'ﬁne', 'ﬁnely', 'ﬂakes', 'ﬂour']\n"
     ]
    }
   ],
   "source": [
    "tf_vectorizer = TfidfVectorizer(stop_words=stopwords_nltk)\n",
    "ingr_tfidf = tf_vectorizer.fit_transform(corpus)\n",
    "\n",
    "print(tf_vectorizer.get_feature_names())"
   ]
  },
  {
   "cell_type": "markdown",
   "metadata": {},
   "source": [
    "# Dimensionality Reduction"
   ]
  },
  {
   "cell_type": "markdown",
   "metadata": {},
   "source": [
    "## Recipe Box (120k dataset)"
   ]
  },
  {
   "cell_type": "markdown",
   "metadata": {},
   "source": [
    "* CV+LSA\n",
    "* CV+NMF\n",
    "* TFIDF+LSA\n",
    "* TFIDF+NMF\n",
    "* LDA?"
   ]
  },
  {
   "cell_type": "markdown",
   "metadata": {},
   "source": [
    "### Count Vectorized LSA, RB data"
   ]
  },
  {
   "cell_type": "code",
   "execution_count": 28,
   "metadata": {
    "ExecuteTime": {
     "end_time": "2019-11-15T07:06:06.035939Z",
     "start_time": "2019-11-15T07:06:03.564644Z"
    }
   },
   "outputs": [
    {
     "data": {
      "text/plain": [
       "array([0.08084526, 0.0625493 , 0.03859407, 0.02991516, 0.02633464,\n",
       "       0.02384253, 0.02024997, 0.01821922, 0.01601517, 0.01420611])"
      ]
     },
     "execution_count": 28,
     "metadata": {},
     "output_type": "execute_result"
    }
   ],
   "source": [
    "#dim reduction (LSA) on rb data, ingredients column only:\n",
    "#corpus = data_ingr  in 1.4.2\n",
    "#ct_vectorizer = CountVectorizer(stop_words=stopwords_nltk)\n",
    "#ingr_ct = ct_vectorizer.fit_transform(corpus)\n",
    "\n",
    "lsa_10 = TruncatedSVD(10)  \n",
    "rb_lsa_10 = lsa_10.fit_transform(ingr_ct)\n",
    "lsa_10.explained_variance_ratio_"
   ]
  },
  {
   "cell_type": "code",
   "execution_count": 29,
   "metadata": {
    "ExecuteTime": {
     "end_time": "2019-11-15T07:06:06.080565Z",
     "start_time": "2019-11-15T07:06:06.038332Z"
    }
   },
   "outputs": [
    {
     "name": "stdout",
     "output_type": "stream",
     "text": [
      "\n",
      "Topic  0\n",
      "cup, teaspoon, tablespoons, chopped, cups, salt, fresh, oil, large, tablespoon\n",
      "\n",
      "Topic  1\n",
      "cup, sugar, teaspoon, butter, flour, unsalted, vanilla, cream, purpose, extract\n",
      "\n",
      "Topic  2\n",
      "teaspoon, tablespoons, ground, teaspoons, tablespoon, salt, pepper, black, cups, powder\n",
      "\n",
      "Topic  3\n",
      "ground, teaspoon, tsp, tbsp, pepper, salt, kosher, freshly, black, oil\n",
      "\n",
      "Topic  4\n",
      "chopped, teaspoon, cup, finely, fresh, parsley, coarsely, onion, tablespoon, cilantro\n",
      "\n",
      "Topic  5\n",
      "cups, chopped, large, finely, tsp, tbsp, inch, cut, ounces, butter\n",
      "\n",
      "Topic  6\n",
      "inch, cut, fresh, teaspoon, peeled, sliced, cups, pieces, cup, pound\n",
      "\n",
      "Topic  7\n",
      "fresh, lemon, juice, cups, tsp, tbsp, grated, zest, finely, lime\n",
      "\n",
      "Topic  8\n",
      "cups, ounces, sliced, thinly, teaspoons, divided, oil, ounce, cheese, cup\n",
      "\n",
      "Topic  9\n",
      "sliced, thinly, teaspoon, tbsp, tsp, sugar, sauce, finely, ounces, chopped\n"
     ]
    }
   ],
   "source": [
    "functions.display_topics(lsa_10, ct_vectorizer.get_feature_names(), 10) "
   ]
  },
  {
   "cell_type": "markdown",
   "metadata": {},
   "source": [
    "CtVectorizer purely based on counts, quantities (teaspoons) show up the most! TF-IDF might make more sense. Also could add more stopwords"
   ]
  },
  {
   "cell_type": "markdown",
   "metadata": {},
   "source": [
    "### TF-IDF, LSA"
   ]
  },
  {
   "cell_type": "code",
   "execution_count": 30,
   "metadata": {
    "ExecuteTime": {
     "end_time": "2019-11-15T07:06:07.787994Z",
     "start_time": "2019-11-15T07:06:06.082899Z"
    }
   },
   "outputs": [
    {
     "data": {
      "text/plain": [
       "array([0.00985606, 0.02626309, 0.0146443 , 0.00995802, 0.00939645,\n",
       "       0.00872242, 0.00821925, 0.00748508, 0.00661511, 0.00637331])"
      ]
     },
     "execution_count": 30,
     "metadata": {},
     "output_type": "execute_result"
    }
   ],
   "source": [
    "#TF-IDF from 1.4.3 above:\n",
    "#vectorizer = TfidfVectorizer(stop_words=stopwords_nltk)\n",
    "#ingr_tfidf = vectorizer.fit_transform(corpus)\n",
    "\n",
    "#lsa_10 = TruncatedSVD(10)  \n",
    "tf_lsa_10 = lsa_10.fit_transform(ingr_tfidf)\n",
    "lsa_10.explained_variance_ratio_"
   ]
  },
  {
   "cell_type": "code",
   "execution_count": 31,
   "metadata": {
    "ExecuteTime": {
     "end_time": "2019-11-15T07:06:07.832781Z",
     "start_time": "2019-11-15T07:06:07.790530Z"
    }
   },
   "outputs": [
    {
     "name": "stdout",
     "output_type": "stream",
     "text": [
      "\n",
      "Topic  0\n",
      "cup, teaspoon, tablespoons, chopped, cups, fresh, salt, tablespoon, oil, ground\n",
      "\n",
      "Topic  1\n",
      "sugar, vanilla, teaspoon, flour, cup, extract, butter, unsalted, baking, purpose\n",
      "\n",
      "Topic  2\n",
      "tsp, tbsp, oz, lb, plus, kosher, serving, virgin, extra, sliced\n",
      "\n",
      "Topic  3\n",
      "teaspoon, ground, pepper, freshly, black, salt, kosher, powder, baking, teaspoons\n",
      "\n",
      "Topic  4\n",
      "lemon, finely, fresh, juice, grated, teaspoon, zest, chopped, cup, ground\n",
      "\n",
      "Topic  5\n",
      "juice, lime, sauce, sliced, seeds, thinly, tablespoon, sugar, ginger, teaspoon\n",
      "\n",
      "Topic  6\n",
      "chopped, sauce, finely, cilantro, cup, onion, lime, rice, diced, oz\n",
      "\n",
      "Topic  7\n",
      "sliced, thinly, ounces, cup, chocolate, divided, vinegar, red, ounce, cheese\n",
      "\n",
      "Topic  8\n",
      "teaspoon, oz, extra, virgin, red, inch, cup, olive, lb, vinegar\n",
      "\n",
      "Topic  9\n",
      "ounces, ounce, cups, ground, cheese, divided, teaspoon, grated, lime, milk\n"
     ]
    }
   ],
   "source": [
    "functions.display_topics(lsa_10, tf_vectorizer.get_feature_names(), 10)"
   ]
  },
  {
   "cell_type": "code",
   "execution_count": 32,
   "metadata": {
    "ExecuteTime": {
     "end_time": "2019-11-15T07:06:07.841054Z",
     "start_time": "2019-11-15T07:06:07.836439Z"
    }
   },
   "outputs": [],
   "source": [
    "#still get lots of tablespoons and cups, need more cleaning\n",
    "#put them into stopwords? table/teaspoons, cups, ounces\n",
    "#OR: do stemming before tokenization? phrase tagging/lemmatization? only keep nouns of ingr names"
   ]
  },
  {
   "cell_type": "markdown",
   "metadata": {},
   "source": [
    "### Count Vectorized NMF, RB data"
   ]
  },
  {
   "cell_type": "code",
   "execution_count": 33,
   "metadata": {
    "ExecuteTime": {
     "end_time": "2019-11-15T07:06:25.763443Z",
     "start_time": "2019-11-15T07:06:07.850973Z"
    }
   },
   "outputs": [],
   "source": [
    "nmf_10 = NMF(10,init='nndsvda') \n",
    "rb_nmf_10 = nmf_10.fit_transform(ingr_ct) "
   ]
  },
  {
   "cell_type": "code",
   "execution_count": 35,
   "metadata": {
    "ExecuteTime": {
     "end_time": "2019-11-15T07:06:25.804163Z",
     "start_time": "2019-11-15T07:06:25.765707Z"
    }
   },
   "outputs": [
    {
     "name": "stdout",
     "output_type": "stream",
     "text": [
      "\n",
      "Topic  0\n",
      "cup, sugar, cream, water, packed, salt, milk, plus, whole, flour\n",
      "\n",
      "Topic  1\n",
      "cups, sugar, butter, unsalted, large, flour, salt, teaspoons, purpose, vanilla\n",
      "\n",
      "Topic  2\n",
      "teaspoon, ground, salt, powder, cinnamon, grated, finely, dried, ginger, seeds\n",
      "\n",
      "Topic  3\n",
      "pepper, salt, ground, freshly, oil, black, kosher, olive, tablespoon, teaspoons\n",
      "\n",
      "Topic  4\n",
      "tablespoons, divided, butter, plus, oil, sauce, unsalted, vinegar, vegetable, pounds\n",
      "\n",
      "Topic  5\n",
      "chopped, finely, cups, coarsely, garlic, onion, large, cloves, fresh, pound\n",
      "\n",
      "Topic  6\n",
      "inch, cut, peeled, pieces, large, pound, thick, medium, cubes, slices\n",
      "\n",
      "Topic  7\n",
      "fresh, juice, lemon, tablespoon, lime, leaves, grated, minced, teaspoons, olive\n",
      "\n",
      "Topic  8\n",
      "tsp, tbsp, oz, plus, lb, salt, kosher, finely, ground, grated\n",
      "\n",
      "Topic  9\n",
      "sliced, thinly, ounces, cups, oil, red, divided, leaves, sauce, white\n"
     ]
    }
   ],
   "source": [
    "functions.display_topics(nmf_10, ct_vectorizer.get_feature_names(), 10)"
   ]
  },
  {
   "cell_type": "code",
   "execution_count": 36,
   "metadata": {
    "ExecuteTime": {
     "end_time": "2019-11-15T07:06:25.813177Z",
     "start_time": "2019-11-15T07:06:25.808262Z"
    }
   },
   "outputs": [],
   "source": [
    "#these nmf topics seem to make more sense"
   ]
  },
  {
   "cell_type": "markdown",
   "metadata": {},
   "source": [
    "### TF-IDF, NMF, RB data\n"
   ]
  },
  {
   "cell_type": "code",
   "execution_count": 37,
   "metadata": {
    "ExecuteTime": {
     "end_time": "2019-11-15T07:06:49.843236Z",
     "start_time": "2019-11-15T07:06:25.816677Z"
    }
   },
   "outputs": [],
   "source": [
    "nmf_10 = NMF(10 ,init='nndsvda', max_iter=500, tol=1e-4) \n",
    "rbtf_nmf_10 = nmf_10.fit_transform(ingr_tfidf)  #using tfidf results from 2.3.4"
   ]
  },
  {
   "cell_type": "code",
   "execution_count": 39,
   "metadata": {
    "ExecuteTime": {
     "end_time": "2019-11-15T07:06:49.882148Z",
     "start_time": "2019-11-15T07:06:49.845023Z"
    }
   },
   "outputs": [
    {
     "name": "stdout",
     "output_type": "stream",
     "text": [
      "\n",
      "Topic  0\n",
      "lemon, juice, fresh, orange, cup, zest, lime, grated, tablespoons, peel\n",
      "\n",
      "Topic  1\n",
      "cup, sugar, teaspoon, flour, butter, vanilla, unsalted, purpose, cups, baking\n",
      "\n",
      "Topic  2\n",
      "tsp, tbsp, oz, lb, plus, kosher, ground, serving, salt, divided\n",
      "\n",
      "Topic  3\n",
      "teaspoon, ground, pepper, black, freshly, salt, kosher, teaspoons, cumin, tablespoon\n",
      "\n",
      "Topic  4\n",
      "cut, inch, pieces, peeled, thick, slices, cubes, pounds, pound, medium\n",
      "\n",
      "Topic  5\n",
      "sauce, tablespoons, tablespoon, rice, soy, sesame, ginger, minced, teaspoons, seeds\n",
      "\n",
      "Topic  6\n",
      "chopped, finely, cup, fresh, coarsely, onion, parsley, garlic, cups, chicken\n",
      "\n",
      "Topic  7\n",
      "sliced, thinly, leaves, small, red, halved, cup, kosher, stems, serving\n",
      "\n",
      "Topic  8\n",
      "olive, extra, virgin, oil, cup, red, vinegar, tablespoons, garlic, wine\n",
      "\n",
      "Topic  9\n",
      "ounces, divided, ounce, cheese, cups, grated, parmesan, cream, milk, tablespoons\n"
     ]
    }
   ],
   "source": [
    "functions.display_topics(nmf_10, tf_vectorizer.get_feature_names(), 10)"
   ]
  },
  {
   "cell_type": "code",
   "execution_count": 40,
   "metadata": {
    "ExecuteTime": {
     "end_time": "2019-11-15T07:06:49.890900Z",
     "start_time": "2019-11-15T07:06:49.885050Z"
    }
   },
   "outputs": [],
   "source": [
    "\n",
    "#**tune TF-IDF parameters? look into docs\n",
    "#**also: GridSearchCV to find how many topics/ks to use?? sklearn doc example\n"
   ]
  },
  {
   "cell_type": "markdown",
   "metadata": {},
   "source": [
    "## Further preprocessing to get more meaningful topics"
   ]
  },
  {
   "cell_type": "markdown",
   "metadata": {},
   "source": [
    "### Add more stopwords before dim reduction\n",
    "-- lemmatize first? before vectorizer (still in word space)"
   ]
  },
  {
   "cell_type": "code",
   "execution_count": 67,
   "metadata": {
    "ExecuteTime": {
     "end_time": "2019-11-15T07:06:49.900191Z",
     "start_time": "2019-11-15T07:06:49.893575Z"
    }
   },
   "outputs": [
    {
     "name": "stdout",
     "output_type": "stream",
     "text": [
      "265\n"
     ]
    }
   ],
   "source": [
    "stopwords_ingr = stopwords_nltk #build upon previous custom stopwords (2.1) which included ADVERTISEMENT\n",
    "stopwords_ingr.extend(['tablespoon', 'teaspoon', 'cup', 'ounce', 'pound', 'tablespoons', 'teaspoons', 'cups', 'ounces', 'pounds'\n",
    "                       ,'inch','inches','tsp','tbsp','lb','pieces','chopped','fresh','finely','cut','sliced','freshly','removed'\n",
    "                       ,'divided','temperature','room','peeled','thinly','large','medium','halved','serving','cut','plus','packed']) \n",
    "print(len(stopwords_ingr))#when run cell again, keeps getting extended"
   ]
  },
  {
   "cell_type": "markdown",
   "metadata": {},
   "source": [
    "### Count Vectorized LSA, new stopwords"
   ]
  },
  {
   "cell_type": "code",
   "execution_count": 68,
   "metadata": {
    "ExecuteTime": {
     "end_time": "2019-11-15T07:06:55.793629Z",
     "start_time": "2019-11-15T07:06:49.902578Z"
    }
   },
   "outputs": [
    {
     "name": "stdout",
     "output_type": "stream",
     "text": [
      "['_gravié_ra', 'aarons', 'aattachment', 'abita', 'abruzzese', 'abruzzo', 'absente', 'absinthe', 'absolut', 'abuelita', 'aburaage', 'abv', 'acacia', 'accent', 'acceptable', 'accommodate', 'accompaniment', 'accompaniments', 'accordian', 'according', 'achiote', 'acid', 'acidity', 'acini', 'ackee', 'acorn', 'across', 'acrylic', 'acting', 'activate', 'activated', 'active', 'acto', 'actually', 'adams', 'add', 'added', 'adding', 'addition', 'additional', 'additions', 'additive', 'additives', 'adds', 'adjoining', 'adjust', 'adjustable', 'adjusted', 'adjusting', 'adjustments', 'adobo', 'adrianascaravan', 'adult', 'adults', 'advance', 'advise', 'aejado', 'aerosol', 'afford', 'affumicata', 'african', 'africantradingco', 'afterwards', 'agar', 'agave', 'age', 'aged', 'agricole', 'agrodolce', 'aguardiente', 'agur', 'ahead', 'ahi', 'aid', 'ail', 'aioli', 'air', 'airtight', 'airy', 'aisle', 'aitchbone', 'ajat', 'aji', 'ajika', 'ajowan', 'ajvar', 'ajwain', 'ají', 'ajíes', 'ajíí', 'aka', 'akkawi', 'al', 'alaea', 'alaska', 'alaskan', 'albacore', 'albemarle', 'alcohol', 'alcoholic', 'alder', 'ale', 'aleppo', 'alfalfa', 'alfonso', 'alfredo', 'alioli', 'alla', 'allergies', 'alligator', 'allow', 'allows', 'allspice', 'allspiece', 'almond', 'almonds', 'almost', 'aloe', 'along', 'alouette', 'alphabet', 'already', 'alsatian', 'also', 'alt', 'alternating', 'alternative', 'alternatively', 'alternatives', 'although', 'aluminum', 'amado', 'amalfi', 'amaranth', 'amarena', 'amaretti', 'amaretto', 'amarillo', 'amaro', 'amarone', 'amazon', 'amba', 'amber', 'ambert', 'amchoor', 'american', 'americano', 'aminos', 'ammonium', 'among', 'amontillado', 'amore', 'amount', 'amounts', 'amy', 'anaheim', 'analog', 'ancho', 'anchor', 'anchovies', 'anchovy', 'ancones', 'andes', 'andgizzard', 'andouille', 'andré', 'angel', 'angelica', 'angelino', 'anglaise', 'angle', 'angostura', 'animal', 'animals', 'anise', 'aniseed', 'aniseflavored', 'anisette', 'anjou', 'ann', 'anna', 'annatto', 'annie', 'anniversary', 'another', 'anson', 'antebellum', 'antelope', 'antica', 'antipasto', 'ants', 'anyway', 'aonori', 'aosta', 'aout', 'apart', 'apecial', 'aperitif', 'aperitivo', 'aperol', 'appenzeller', 'apple', 'applegate', 'applejack', 'apples', 'applesauce', 'appleton', 'applewood', 'appropriate', 'approved', 'approx', 'approximately', 'appétit', 'apricot', 'apricots', 'apron', 'aquafaba', 'aquavit', 'araguani', 'arame', 'arbequina', 'arbol', 'arborio', 'arctic', 'ardbeg', 'area', 'arepa', 'arequipe', 'arette', 'ariel', 'arils', 'arirangkimchee', 'arm', 'armagnac', 'armenian', 'arms', 'army', 'aroma', 'aromatic', 'aromatics', 'around', 'arrack', 'arrange', 'arrangements', 'arrowroot', 'artagnan', 'arthur', 'artichoke', 'artichokes', 'artisan', 'artisanal', 'arugula', 'asada', 'asadero', 'asafetida', 'asafoetida', 'asahi', 'ascorbic', 'ash', 'ashanti', 'asiago', 'asian', 'aside', 'ask', 'asparagus', 'aspic', 'assembling', 'assembly', 'assertive', 'assorted', 'assortment', 'asti', 'atar', 'ateco', 'atlantic', 'atroom', 'atta', 'attached', 'attachment', 'attachments', 'attractive', 'atural', 'au', 'aunt', 'auslese', 'australian', 'authentic', 'autrefois', 'autumn', 'availability', 'available', 'average', 'averagesized', 'averna', 'avo', 'avocado', 'avocadoes', 'avocados', 'avoid', 'away', 'awaze', 'azedo', 'aztec', 'açaí', 'aïoli', 'añejo', 'añjo', 'ba', 'bab', 'baba', 'baby', 'babybel', 'bacalao', 'bacardi', 'baccalà', 'bachelor', 'back', 'backbone', 'backbones', 'backfin', 'backs', 'backstraps', 'bacon', 'badjak', 'bag', 'bagel', 'bagels', 'bags', 'baguette', 'baguettes', 'baharat', 'bahn', 'bailey', 'baileys', 'baja', 'bake', 'baked', 'baker', 'bakeries', 'bakers', 'bakery', 'bakeware', 'baking', 'baklava', 'balance', 'balaton', 'balchao', 'balcones', 'ball', 'baller', 'ballpark', 'balls', 'balm', 'balsamic', 'bambino', 'bamboo', 'ban', 'banana', 'bananas', 'banane', 'band', 'bands', 'banh', 'banks', 'banneton', 'banon', 'banyuls', 'baobab', 'bar', 'barbara', 'barbecue', 'barbecued', 'barbera', 'barberries', 'barely', 'barhi', 'barilla', 'bark', 'barley', 'barolo', 'barramundi', 'barrel', 'barrios', 'barry', 'bars', 'barspoon', 'bartlett', 'basbaas', 'base', 'baseball', 'based', 'bases', 'bash', 'basic', 'basically', 'basics', 'basil', 'basket', 'baskets', 'basmati', 'basmatic', 'basque', 'bass', 'baste', 'basted', 'baster', 'basting', 'batatas', 'batavia', 'batch', 'batches', 'batons', 'bats', 'batter', 'bauli', 'bavarian', 'bavette', 'bay', 'bayley', 'bbq', 'bean', 'beans', 'bearded', 'beards', 'bears', 'beaten', 'beating', 'beaujolais', 'beaumes', 'beautiful', 'beauty', 'becomes', 'bed', 'bee', 'beech', 'beef', 'beefeater', 'beefsteak', 'beer', 'beet', 'beetroot', 'beetroots', 'beets', 'behind', 'beignets', 'bel', 'belacan', 'belgian', 'belize', 'bell', 'bella', 'bells', 'belly', 'belts', 'beluga', 'ben', 'bench', 'benedictine', 'bengal', 'beni', 'benne', 'benriner', 'benton', 'berbere', 'bergamot', 'berger', 'berkshire', 'bernheim', 'berries', 'berry', 'beryls', 'besan', 'best', 'betel', 'better', 'beurre', 'beverage', 'bialys', 'bianco', 'bias', 'bibb', 'biber', 'bibimbap', 'bicarbonate', 'big', 'bigeye', 'bigger', 'bigs', 'bihon', 'billion', 'bing', 'bird', 'birds', 'biscoff', 'biscotti', 'biscuit', 'biscuits', 'bison', 'bit', 'bite', 'bitesize', 'bits', 'bitter', 'bitterman', 'bittermens', 'bitters', 'bittersweet', 'bittersweetchocolate', 'black', 'blackberries', 'blackberry', 'blackcurrant', 'blackening', 'blackstrap', 'blade', 'blanc', 'blanche', 'blanched', 'blanching', 'blanco', 'blanton', 'bleached', 'blend', 'blended', 'blender', 'blending', 'blends', 'bleuet', 'blind', 'blinis', 'blis', 'bliss', 'blistered', 'blitzed', 'block', 'blocks', 'blond', 'blonde', 'blood', 'bloodline', 'bloody', 'blossom', 'blossoms', 'blotted', 'blown', 'blowtorch', 'blue', 'blueberries', 'blueberry', 'bluefish', 'bo', 'boar', 'board', 'boards', 'boat', 'bob', 'boboli', 'bobsredmill', 'boccalone', 'bocconcini', 'bock', 'bockwurst', 'bodied', 'bodies', 'body', 'boil', 'boiled', 'boiler', 'boiling', 'bois', 'bok', 'bold', 'bolder', 'bologna', 'bols', 'bolt', 'bomba', 'bombay', 'bomboloni', 'bon', 'bonbon', 'bonbons', 'bond', 'bonded', 'bone', 'boned', 'boneless', 'bones', 'boning', 'bonito', 'bonne', 'bonnet', 'bonnets', 'bonny', 'book', 'boosting', 'boquerones', 'borage', 'bordeaux', 'borlotti', 'borscht', 'bosc', 'boston', 'bother', 'bottle', 'bottled', 'bottles', 'bottom', 'bottomed', 'bottoms', 'bouchon', 'boudoirs', 'bought', 'bouillon', 'boule', 'bouquet', 'bouquets', 'bourbon', 'boursin', 'bow', 'bowl', 'bowled', 'bowls', 'bowmore', 'bowtie', 'box', 'boxed', 'boxes', 'boy', 'boysenberries', 'boysenberry', 'braciole', 'bracken', 'brad', 'braeburn', 'bragg', 'braggs', 'braided', 'brain', 'braise', 'braised', 'braiser', 'braises', 'braising', 'bramley', 'bran', 'branca', 'branch', 'branched', 'branches', 'brand', 'brandied', 'brands', 'brandy', 'brandywine', 'branzini', 'branzino', 'brasato', 'bratwurst', 'bratwursts', 'brawny', 'brazil', 'brazilian', 'brea', 'bread', 'breadcrumbs', 'breads', 'breadsticks', 'break', 'breakage', 'breakfast', 'breaks', 'breakstone', 'bream', 'breast', 'breastbone', 'breasts', 'breeze', 'bresaola', 'bretzel', 'brew', 'brewed', 'brewer', 'brick', 'brickle', 'bricks', 'bridge', 'brie', 'briefly', 'bright', 'brinata', 'brine', 'brined', 'bring', 'brining', 'briny', 'brioche', 'brioches', 'briquettes', 'brisket', 'brisling', 'bristle', 'brisée', 'british', 'brittle', 'broad', 'broccoflower', 'broccoli', 'broccolini', 'broil', 'broiled', 'broiler', 'broken', 'bronze', 'brook', 'brooklyn', 'broth', 'brothers', 'brought', 'brown', 'browned', 'brownie', 'brownies', 'browning', 'browns', 'bruised', 'bruschetta', 'brush', 'brushed', 'brushes', 'brushing', 'brussel', 'brussels', 'brut', 'brûlée', 'bubble', 'bubblegum', 'bucatini', 'bucheron', 'buchu', 'buckle', 'buckwheat', 'buco', 'buddha', 'buds', 'budweiser', 'bufala', 'buff', 'buffalo', 'buffel', 'bugles', 'bulb', 'bulbs', 'bulgarian', 'bulgur', 'bulk', 'bull', 'bumpy', 'bun', 'buna', 'bunch', 'bunches', 'bundle', 'bundles', 'bundnerfleisch', 'bundt', 'buns', 'buonitalia', 'bupounds', 'burdock', 'burger', 'burgers', 'burgundies', 'burgundy', 'burner', 'burning', 'burrata', 'burricotti', 'burrito', 'bush', 'bushi', 'bushmills', 'butcher', 'butchers', 'butt', 'butter', 'butterball', 'buttercream', 'buttercreams', 'buttercrunch', 'buttercup', 'buttered', 'butterfat', 'butterfinger', 'butterflied', 'butterfly', 'buttering', 'buttermilk', 'butternut', 'butterscotch', 'buttery', 'button', 'buttons', 'buy', 'byass', 'béarnaise', 'bénédictine', 'bûcheron', 'cabbage', 'cabbages', 'cabernet', 'cabot', 'cabrales', 'cacao', 'cachaca', 'cachaça', 'cacio', 'caciocavallo', 'caciotta', 'cactus', 'caesar', 'cafedumonde', 'caffè', 'café', 'cajeta', 'cajun', 'cajungrocer', 'cake', 'cakes', 'cal', 'calabaza', 'calabrian', 'calamansi', 'calamari', 'calamata', 'calasparra', 'calendula', 'calf', 'california', 'californian', 'calimyrna', 'call', 'callaloo', 'calle', 'callebaut', 'called', 'calling', 'calmyrna', 'caloric', 'calorie', 'calvados', 'camargue', 'camellia', 'camembert', 'campagne', 'campanelle', 'campari', 'campbell', 'camper', 'campfire', 'camus', 'canada', 'canadian', 'canal', 'canary', 'candied', 'candies', 'candle', 'candlenuts', 'candy', 'cane', 'canela', 'canes', 'canestriped', 'canister', 'cannabis', 'canned', 'cannellini', 'canner', 'canning', 'cannoli', 'canola', 'cans', 'cantal', 'cantaloupe', 'cantaloupes', 'canteloupe', 'canton', 'cantonese', 'caol', 'cap', 'capacity', 'cape', 'capel', 'capelletti', 'capellini', 'caper', 'caperberries', 'capers', 'capicola', 'capicolla', 'capocollo', 'cappelletti', 'cappellini', 'cappuccino', 'caps', 'capsicum', 'capsule', 'cara', 'caramel', 'caramelized', 'caramelizing', 'caramels', 'caraway', 'carbon', 'carbonated', 'carcass', 'carcasses', 'card', 'cardamom', 'cardboard', 'cardoons', 'careful', 'carefully', 'caribbean', 'carnaroli', 'carnation', 'carne', 'carnitas', 'carob', 'carolina', 'carom', 'carp', 'carpano', 'carpet', 'carr', 'carries', 'carrot', 'carrots', 'carry', 'cartilage', 'carton', 'cartons', 'carved', 'casalingo', 'casamigos', 'casar', 'casarecce', 'cascabel', 'case', 'cashew', 'cashews', 'casing', 'casings', 'cask', 'cassarecce', 'cassava', 'casserole', 'cassia', 'cassis', 'cast', 'castelfranco', 'castellane', 'castelvetrano', 'caster', 'catalan', 'catch', 'catfish', 'cathead', 'caught', 'caul', 'cauliflower', 'cava', 'cavaillon', 'cavatappi', 'cavatelli', 'caviar', 'cavities', 'cavity', 'cavolo', 'cayenne', 'cbd', 'cecco', 'ceci', 'cedar', 'cel', 'celeriac', 'celery', 'cellentani', 'cellophane', 'cemitas', 'center', 'centers', 'centimeter', 'centimeters', 'central', 'cep', 'ceramic', 'cereal', 'cerignola', 'cermanic', 'certified', 'certo', 'ceylon', 'cfu', 'cha', 'chaat', 'chabrin', 'chai', 'chain', 'challah', 'challenge', 'cham', 'chambord', 'chamomile', 'champagne', 'chana', 'changbai', 'changes', 'chanterelle', 'chanterelles', 'chantilly', 'chapati', 'char', 'charbay', 'charcoal', 'charcuterie', 'chard', 'chardonnay', 'charentais', 'charge', 'charged', 'charmoula', 'charra', 'charred', 'chartreuse', 'chayote', 'chayotes', 'che', 'cheap', 'cheat', 'check', 'checked', 'checking', 'cheddar', 'cheeks', 'cheese', 'cheesecake', 'cheesecloth', 'cheesemaking', 'cheeses', 'cheez', 'chef', 'chefshop', 'cheong', 'cherie', 'chermoula', 'cherokee', 'cherries', 'cherry', 'cherrystone', 'cherrywood', 'cherub', 'chervil', 'chestnut', 'chestnuts', 'chevre', 'chewy', 'chex', 'chi', 'chia', 'chianti', 'chicago', 'chicharrones', 'chicharrón', 'chicharrónes', 'chichicapa', 'chick', 'chicken', 'chickens', 'chickpea', 'chickpeas', 'chicories', 'chicory', 'chiffonade', 'chiffonaded', 'chihuahua', 'chilaca', 'chile', 'chilean', 'chiles', 'chili', 'chilies', 'chill', 'chilled', 'chilli', 'chillies', 'chimay', 'chimayo', 'chimichurri', 'chimney', 'china', 'chine', 'chinese', 'chinkiang', 'chioggia', 'chip', 'chipotle', 'chipotles', 'chips', 'chitarra', 'chiu', 'chive', 'chives', 'chlorella', 'choclo', 'chocolate', 'chocolates', 'choice', 'chokes', 'cholula', 'chong', 'chooped', 'choose', 'choosing', 'chop', 'chopmeat', 'chopping', 'chops', 'chopsticks', 'choricero', 'chorizo', 'chorizos', 'chou', 'chouriço', 'choux', 'chow', 'chowchow', 'chowder', 'choy', 'christmas', 'christophene', 'chrysanthemum', 'chubby', 'chuck', 'chuka', 'chun', 'chunk', 'chunks', 'chunky', 'churrera', 'churro', 'chutney', 'chèvre', 'ciabatta', 'cider', 'cilantro', 'ciliegini', 'cinder', 'cinnamon', 'cipolline', 'cipollini', 'cippoline', 'cipriani', 'circle', 'circles', 'circular', 'citric', 'citron', 'citrus', 'citrusy', 'city', 'cl', 'clabber', 'clam', 'clamato', 'clams', 'clarified', 'class', 'classic', 'classico', 'claw', 'claws', 'clean', 'cleaned', 'clear', 'cleaver', 'clementine', 'clementines', 'clerk', 'clicquot', 'clinging', 'clips', 'cloaks', 'clod', 'close', 'closed', 'closer', 'cloth', 'clothbound', 'clotted', 'clove', 'clover', 'cloves', 'club', 'cluizel', 'clumps', 'cluster', 'clusters', 'clásico', 'clément', 'cm', 'cmxcm', 'coal', 'coarse', 'coarsely', 'coarser', 'coast', 'coat', 'coated', 'coating', 'coatings', 'coax', 'cob', 'cobs', 'coca', 'cocchi', 'cock', 'cockles', 'cocktail', 'cocktails', 'coco', 'cocoa', 'coconut', 'coconuts', 'cod', 'coddler', 'coeur', 'coffee', 'cognac', 'coho', 'coiled', 'coils', 'coin', 'coined', 'coins', 'cointreau', 'coke', 'cola', 'colada', 'colander', 'colatura', 'colby', 'cold', 'colder', 'coleman', 'coleslaw', 'collagen', 'collapsible', 'collapsing', 'collard', 'collards', 'collars', 'collins', 'colman', 'colomba', 'colombian', 'color', 'colored', 'colorful', 'coloring', 'colorings', 'colors', 'colossal', 'com', 'comal', 'combier', 'combination', 'combine', 'combined', 'combo', 'come', 'comes', 'comfort', 'comice', 'commercial', 'commercially', 'common', 'commonly', 'company', 'complements', 'complete', 'completely', 'compote', 'comte', 'comté', 'concentrate', 'concentrated', 'concepción', 'concern', 'conch', 'concord', 'condensed', 'condiment', 'condiments', 'cone', 'cones', 'confectionary', 'confectioner', 'confectioners', 'confit', 'connective', 'connects', 'consommé', 'contact', 'container', 'containers', 'containing', 'contains', 'content', 'contessa', 'continue', 'conventional', 'converted', 'cook', 'cooked', 'cooker', 'cookie', 'cookies', 'cookiesepi', 'cooking', 'cooks', 'cool', 'cooled', 'cooler', 'cooling', 'cope', 'coppa', 'copper', 'coral', 'corazón', 'cordial', 'cordyceps', 'core', 'cored', 'corer', 'cores', 'coriander', 'cork', 'corkscrew', 'corn', 'cornbread', 'corncob', 'corned', 'corner', 'corners', 'cornflake', 'cornflakes', 'cornflowers', 'cornhusks', 'cornichons', 'cornish', 'cornmeal', 'corns', 'cornstarch', 'corona', 'correct', 'corrugated', 'cortland', 'corvina', 'cos', 'costoluto', 'cotija', 'cotixa', 'cotswold', 'cotta', 'cottage', 'cotto', 'cotton', 'coucous', 'could', 'coulis', 'count', 'counter', 'country', 'countrystyle', 'county', 'coupe', 'couple', 'couplers', 'courgette', 'courgettes', 'course', 'coursely', 'courvoisier', 'couscous', 'couscoussière', 'cover', 'covered', 'coves', 'cow', 'cowpeas', 'cows', 'coﬀee', 'crab', 'crabmeat', 'crabs', 'crack', 'cracked', 'cracker', 'crackers', 'cracklings', 'craft', 'crafts', 'craftsetc', 'cran', 'cranberries', 'cranberry', 'cranks', 'crate', 'crawfish', 'crayfish', 'crazy', 'cre', 'cream', 'creamaccompaniment', 'creamed', 'creamer', 'creamy', 'creating', 'creative', 'credit', 'creek', 'crema', 'creme', 'creminelli', 'cremini', 'creminis', 'creole', 'crepes', 'crescent', 'crescents', 'crescenza', 'cress', 'cried', 'crimini', 'criollas', 'crisco', 'crisp', 'crispbread', 'crisped', 'crispin', 'crisping', 'crisply', 'crisps', 'crispy', 'crme', 'croaker', 'crock', 'crocks', 'croissant', 'croissants', 'croix', 'crookneck', 'crosnes', 'cross', 'crosscut', 'crosshatch', 'crossways', 'crosswise', 'crostini', 'crottins', 'croutons', 'crowd', 'crowder', 'crown', 'crowns', 'crucolo', 'cruda', 'crudité', 'crudités', 'crumb', 'crumble', 'crumbled', 'crumbles', 'crumbly', 'crumbs', 'crunch', 'crunchy', 'crushed', 'crust', 'crusted', 'crustless', 'crusts', 'crusty', 'crystal', 'crystalized', 'crystallized', 'crystals', 'crème', 'crème_dishes', 'créme', 'créole', 'crêpe', 'crêpes', 'cuban', 'cubanelle', 'cubanelles', 'cube', 'cubeb', 'cubed', 'cubes', 'cucumber', 'cucumbers', 'culantro', 'culinary', 'culinarydistrict', 'cultivated', 'cultured', 'cultures', 'cumin', 'cupcake', 'cupcakes', 'cupgriddled', 'cupmirin', 'cuppine', 'cupsespagnole', 'cupslow', 'cupspanko', 'cupsturkey', 'cupswinter', 'curaçao', 'curd', 'curds', 'cure', 'cured', 'curing', 'curl', 'curled', 'curling', 'curls', 'curly', 'currant', 'currants', 'curry', 'curve', 'curved', 'custard', 'cutinto', 'cutlet', 'cutlets', 'cuts', 'cutter', 'cutters', 'cutting', 'cuttlefish', 'cylinder', 'cynar', 'cypress', 'cèpe', 'cèpes', 'côte', 'côtes', 'dab', 'dai', 'daikon', 'dairy', 'daisies', 'dal', 'dale', 'dalfour', 'dalmatia', 'dals', 'damaged', 'damoiseau', 'damp', 'damson', 'dandelion', 'dang', 'daniel', 'danish', 'dariole', 'darjeeling', 'dark', 'darker', 'dartagnan', 'dash', 'dashes', 'dashi', 'dashima', 'dassai', 'date', 'dates', 'davis', 'dawadawa', 'day', 'days', 'de', 'dea', 'dead', 'deal', 'deandeluca', 'debearded', 'deboned', 'debris', 'decaffeinated', 'decide', 'deckle', 'decorate', 'decorating', 'decoration', 'decorations', 'decorative', 'dedicated', 'deep', 'deepdiagonal', 'deepfrying', 'deeply', 'defatted', 'defrost', 'defrosted', 'deglazing', 'deglet', 'degreased', 'degree', 'degrees', 'degroff', 'dehraduni', 'dehydrated', 'del', 'deli', 'delicata', 'delicate', 'delicious', 'delites', 'demerara', 'demi', 'demiglace', 'demitasse', 'dense', 'dente', 'denuded', 'denver', 'dep', 'depending', 'depends', 'deposits', 'depth', 'deribbed', 'desalinate', 'desalted', 'descaled', 'deseeded', 'desiccated', 'desired', 'dessert', 'destemmed', 'detached', 'details', 'determine', 'detox', 'deveined', 'deviened', 'devil', 'devon', 'dewar', 'dextrose', 'dhal', 'di', 'diagonal', 'diagonally', 'diameter', 'diamond', 'diasatic', 'diastatic', 'dice', 'diced', 'dickel', 'die', 'diet', 'different', 'difficult', 'digestive', 'digital', 'dijon', 'dill', 'dillon', 'dilly', 'diluted', 'dilution', 'dim', 'dime', 'ding', 'dingle', 'dinner', 'dinosaur', 'dip', 'diplomatico', 'dipped', 'dipper', 'dipping', 'directed', 'directions', 'directly', 'dirt', 'disaronno', 'disc', 'discard', 'discarded', 'discarding', 'disco', 'discoloration', 'discolored', 'discs', 'dish', 'dishes', 'disk', 'disks', 'disposable', 'dissipate', 'dissolved', 'distilled', 'distillers', 'ditali', 'ditalini', 'divded', 'diver', 'diy', 'djan', 'doce', 'dodoni', 'doenjang', 'dog', 'dogfish', 'dogs', 'dolce', 'dolin', 'dollar', 'domaine', 'domed', 'domestic', 'dominican', 'done', 'doneness', 'donner', 'donnie', 'donot', 'dont', 'doon', 'dorade', 'dorados', 'dory', 'dos', 'dots', 'dou', 'double', 'doubleline', 'doublepeeled', 'dough', 'doughnut', 'doughnuts', 'doul', 'dove', 'dover', 'dowel', 'downy', 'dozen', 'dozens', 'dpdspirits', 'dr', 'dragees', 'dragées', 'drain', 'drained', 'draining', 'dram', 'dramatic', 'drambuie', 'draught', 'dredging', 'dressed', 'dresses', 'dressing', 'dried', 'drifts', 'drink', 'drinking', 'drinks', 'drip', 'drippings', 'drips', 'drizzle', 'drizzled', 'drizzling', 'drmcdougall', 'drop', 'dropperful', 'dropperfuls', 'drops', 'droste', 'drum', 'drumettes', 'drumstick', 'drumsticks', 'drunk', 'drunken', 'dry', 'dryroasted', 'du', 'dubonnet', 'duck', 'ducklings', 'ducks', 'due', 'dufour', 'duke', 'dukkah', 'dulce', 'dulces', 'dulcey', 'dulse', 'dumettes', 'dumpling', 'dumplings', 'dungeness', 'duqesne', 'duque', 'duro', 'durum', 'dust', 'dusted', 'dusting', 'dutch', 'duty', 'duvel', 'dwarf', 'dye', 'dyed', 'dylan', 'dylans', 'eagle', 'ear', 'earl', 'early', 'ears', 'earth', 'earthy', 'easier', 'easiest', 'easily', 'east', 'easter', 'eastern', 'easy', 'eating', 'eau', 'ebay', 'echalion', 'echinacea', 'edam', 'edamame', 'edenblend', 'edenfoods', 'edge', 'edged', 'edges', 'edible', 'edward', 'eel', 'efficient', 'egg', 'eggbeater', 'eggcups', 'eggless', 'eggnog', 'eggplant', 'eggplants', 'eggs', 'eggshell', 'egusi', 'egyptian', 'eight', 'eighths', 'einkorn', 'either', 'el', 'elbow', 'elbows', 'elderberry', 'elderflower', 'elderflowers', 'electric', 'elephant', 'eleve', 'elimination', 'elixir', 'elizabeth', 'em', 'emailing', 'emergo', 'emmental', 'emmentaler', 'emmenthal', 'emon', 'empanada', 'empire', 'emptied', 'empty', 'en', 'enamel', 'enameled', 'encases', 'enchilada', 'end', 'endive', 'endives', 'ends', 'ener', 'england', 'english', 'enjoy', 'enoki', 'enough', 'enriched', 'enthusiast', 'entilde', 'entire', 'entirely', 'entremet', 'envelope', 'envelopes', 'environmentally', 'epazote', 'epi', 'epicurious', 'epis', 'equal', 'equally', 'equator', 'equatoriale', 'equimpent', 'equipment', 'equis', 'equivalent', 'equpment', 'erawan', 'escabèche', 'escargot', 'escargots', 'escarole', 'espadi', 'especial', 'espelette', 'espresso', 'espumas', 'essence', 'essencia', 'essensia', 'estate', 'etc', 'ethnicgrocer', 'etorki', 'etsy', 'european', 'europeanstyle', 'evaporated', 'even', 'evenly', 'ever', 'every', 'everyday', 'everything', 'evoo', 'exceed', 'excellence', 'except', 'excess', 'excluding', 'exotic', 'expensive', 'expose', 'expressed', 'extact', 'exterior', 'external', 'extinguisher', 'extra', 'extract', 'extracted', 'extractor', 'extracts', 'extras', 'extrasharp', 'extreme', 'extremely', 'eye', 'eyed', 'eyes', 'fabric', 'fabrics', 'face', 'fage', 'fairly', 'fairy', 'fajita', 'falernum', 'fall', 'family', 'famous', 'fan', 'fancy', 'fans', 'farfalle', 'farfalline', 'farfel', 'farina', 'farinha', 'farm', 'farmed', 'farmer', 'farmers', 'farmhouse', 'farms', 'farro', 'fashioned', 'fast', 'faster', 'fat', 'fatback', 'fats', 'fattened', 'fatty', 'faux', 'fava', 'favas', 'fave', 'favorite', 'favorites', 'fearless', 'feather', 'feathers', 'fed', 'fee', 'feel', 'feet', 'female', 'fennel', 'fenugreek', 'fermented', 'fermentedsoybean', 'fern', 'fernet', 'ferns', 'ferrand', 'feshly', 'feta', 'fetta', 'fette', 'fettuccine', 'fettucine', 'fever', 'fibers', 'ficelle', 'fiddlehead', 'fideos', 'fideus', 'field', 'fiery', 'fifteen', 'fig', 'figs', 'filberts', 'filet', 'filets', 'filipino', 'fill', 'filled', 'fillers', 'fillet', 'filleted', 'fillets', 'filling', 'fillings', 'fillo', 'filo', 'filter', 'filtered', 'filters', 'filé', 'fin', 'find', 'fine', 'finemesh', 'finest', 'finger', 'fingered', 'fingerling', 'fingerroot', 'fingers', 'fini', 'finish', 'finishing', 'finn', 'finnan', 'finnish', 'fino', 'finochionna', 'fins', 'fior', 'fiorentini', 'fir', 'fire', 'firefly', 'fireplace', 'fireproof', 'fireroasted', 'firewood', 'firm', 'firmer', 'firmish', 'firmly', 'first', 'fish', 'fishmonger', 'fistful', 'fistfuls', 'fit', 'fits', 'fitted', 'fitting', 'five', 'fixed', 'fl', 'flageolet', 'flageolets', 'flake', 'flaked', 'flakes', 'flaky', 'flame', 'flamed', 'flameproof', 'flan', 'flank', 'flanken', 'flans', 'flap', 'flaps', 'flash', 'flask', 'flat', 'flatbread', 'flatbreads', 'flatfish', 'flatiron', 'flatleaf', 'flatout', 'flats', 'flatten', 'flattened', 'flavor', 'flavored', 'flavorful', 'flavoring', 'flavorings', 'flavorless', 'flavors', 'flax', 'flaxseed', 'flaxseeds', 'flea', 'fleischmann', 'flemish', 'flesh', 'fleshed', 'fleur', 'flexible', 'flies', 'float', 'floor', 'floral', 'florentine', 'florets', 'florida', 'florist', 'flounder', 'flour', 'floured', 'flouring', 'flourless', 'floury', 'flower', 'flowering', 'flowers', 'fluff', 'fluffy', 'fluid', 'fluke', 'flush', 'flushed', 'flute', 'fluted', 'flying', 'foam', 'foamy', 'focaccia', 'fog', 'fogo', 'foie', 'foil', 'fold', 'folded', 'follow', 'follower', 'following', 'follows', 'fond', 'fondant', 'fondue', 'fong', 'fonio', 'font', 'fontina', 'food', 'foods', 'foot', 'forbidden', 'force', 'forced', 'fords', 'forelle', 'foreshanks', 'forest', 'forget', 'fork', 'forks', 'form', 'formed', 'forming', 'formula', 'fortaleza', 'forte', 'fortified', 'fortunes', 'forturkey', 'forty', 'fossa', 'foster', 'fougasse', 'found', 'four', 'fourme', 'fourths', 'frache', 'fractions', 'fragments', 'fragrant', 'frai', 'fraiche', 'fraiîhe', 'framboise', 'frangelico', 'frangipane', 'frank', 'fraser', 'fraìche', 'fraîche', 'fraîhe', 'free', 'freekeh', 'freestone', 'freeze', 'freezer', 'freezing', 'fregola', 'frekeh', 'french', 'frenched', 'frencher', 'fresca', 'fresco', 'freshest', 'freshwater', 'fresno', 'friand', 'frico', 'fridge', 'fried', 'friendly', 'fries', 'frijoles', 'frik', 'frisee', 'friselle', 'frisée', 'fritos', 'fromage', 'fronds', 'front', 'frosting', 'frostingepi', 'frothy', 'frozen', 'fruit', 'fruits', 'fruity', 'fry', 'fryer', 'frying', 'frères', 'fudge', 'fuerte', 'fuhrman', 'fuji', 'full', 'fully', 'fulvi', 'fungus', 'funnel', 'furikake', 'fusilli', 'fuyu', 'fuzz', 'fève', 'fèves', 'gaeta', 'gai', 'gala', 'galangal', 'galette', 'galettes', 'galia', 'galliano', 'gallo', 'gallon', 'gallons', 'game', 'ganache', 'garage', 'garam', 'garbage', 'garbanzo', 'gardein', 'garganelli', 'gari', 'garlic', 'garlicky', 'garnet', 'garni', 'garnis', 'garnish', 'garnishes', 'garnishing', 'garrotxa', 'garu', 'gas', 'gastronomy', 'gauge', 'gay', 'gebhardt', 'geese', 'gefilte', 'gel', 'gelatin', 'gelatine', 'gelato', 'gelled', 'gem', 'gemelli', 'gems', 'generally', 'generous', 'generously', 'genoa', 'genovese', 'gently', 'george', 'geranium', 'gerbera', 'germ', 'germain', 'german', 'get', 'getting', 'gewürztraminer', 'ghee', 'gherkin', 'gherkins', 'ghirardelli', 'ghost', 'ghosts', 'gianduja', 'giant', 'giardiniera', 'giblet', 'giblets', 'giffard', 'gigante', 'giganti', 'gigondas', 'gills', 'gin', 'ginger', 'gingerbread', 'gingerroot', 'gingersnap', 'gingersnaps', 'ginkgo', 'ginseng', 'giri', 'girl', 'give', 'gives', 'gizzard', 'glace', 'glacéed', 'glass', 'glasses', 'glaze', 'glazed', 'glazeepi', 'glazing', 'glen', 'glitter', 'globe', 'gloopy', 'glove', 'gloves', 'glucose', 'glue', 'glug', 'glugs', 'gluten', 'glutinous', 'glycerin', 'gm', 'gmo', 'gnocchi', 'go', 'goan', 'goat', 'goats', 'goblets', 'gobo', 'gochu', 'gochugaru', 'gochujang', 'goddess', 'goes', 'goji', 'gold', 'golden', 'goldschläger', 'golf', 'golpar', 'goma', 'gomashio', 'gonzález', 'good', 'goods', 'goodwill', 'goose', 'gooseberries', 'gooseberry', 'goosing', 'gordon', 'gorgeous', 'gorgonzola', 'gosling', 'goslings', 'got', 'gouda', 'gourmet', 'goya', 'grade', 'grady', 'graffiti', 'graham', 'grahams', 'grain', 'grained', 'grains', 'grainy', 'gram', 'grams', 'grana', 'grand', 'grandma', 'granita', 'granny', 'granola', 'granular', 'granulated', 'granules', 'grape', 'grapefruit', 'grapefruits', 'grapes', 'grapeseed', 'grappa', 'gras', 'grass', 'grassfed', 'grasshopper', 'grate', 'grated', 'grater', 'grates', 'gratin', 'grating', 'gratings', 'gravlax', 'gravy', 'gray', 'grease', 'greased', 'greasing', 'great', 'grechetto', 'greek', 'green', 'greening', 'greens', 'gremolata', 'grenadine', 'grey', 'gribenes', 'griddle', 'grigio', 'grill', 'grilled', 'grilling', 'grind', 'grinder', 'grinding', 'grindings', 'grinds', 'gris', 'grissini', 'gristle', 'grit', 'grits', 'gritty', 'groats', 'grocer', 'groceries', 'grocers', 'grocery', 'ground', 'groundnut', 'grounds', 'grouper', 'grouse', 'grove', 'grown', 'gruyere', 'gruyère', 'gruyére', 'grüner', 'guacamole', 'guajillo', 'guajillos', 'guanabana', 'guanciale', 'guapo', 'guar', 'guascas', 'guava', 'guavas', 'guindilla', 'guinness', 'guittard', 'gulden', 'gum', 'gumbo', 'gummi', 'gummy', 'gun', 'gunpowder', 'guntur', 'gushy', 'gustiamo', 'gut', 'gutted', 'gyoza', 'gyromitre', 'haas', 'habanero', 'habaneros', 'hachiya', 'haddie', 'haddock', 'haiga', 'hair', 'hake', 'hakurei', 'half', 'halibut', 'halloumi', 'haloumi', 'halvah', 'halve', 'halves', 'ham', 'hamachi', 'hamburger', 'hamilton', 'hammer', 'hand', 'handcrushed', 'handful', 'handfulls', 'handfuls', 'handheld', 'handle', 'handled', 'handles', 'handling', 'hands', 'handwritten', 'handy', 'hang', 'hangar', 'hanger', 'hanout', 'hard', 'hardware', 'hardwood', 'hardy', 'haricorts', 'haricot', 'haricots', 'harina', 'harissa', 'haroseth', 'harp', 'harvest', 'hash', 'hass', 'hatch', 'havarti', 'hawaiian', 'hawaij', 'hawayei', 'hawthorn', 'hazelnut', 'hazelnuts', 'hazen', 'head', 'headnote', 'heads', 'healing', 'health', 'healthy', 'heaped', 'heaping', 'heart', 'hearts', 'hearty', 'heat', 'heated', 'heath', 'heatproof', 'heavily', 'heavy', 'hedgehog', 'heering', 'hefeweizen', 'hefty', 'heidi', 'heinz', 'heirloom', 'heirlooms', 'held', 'hell', 'hellfire', 'hellman', 'hellmann', 'help', 'helpful', 'helps', 'hemisphere', 'hemispherical', 'hemp', 'hen', 'hendrick', 'hennessey', 'hens', 'herb', 'herbal', 'herbamare', 'herbed', 'herbes', 'herbs', 'herbsaint', 'heritage', 'hero', 'herring', 'hershey', 'hibiki', 'hibiscus', 'hick', 'hickory', 'hide', 'high', 'higher', 'highest', 'highly', 'highwest', 'hijiki', 'hill', 'himalayan', 'hine', 'hing', 'hints', 'hips', 'hoagie', 'hobby', 'hock', 'hocks', 'hoegaarden', 'hog', 'hoisin', 'hoja', 'hokkaido', 'hokusetsu', 'hold', 'holding', 'holds', 'hole', 'holes', 'holiday', 'holidays', 'holland', 'hollandaise', 'hollow', 'hollowed', 'homade', 'home', 'homemade', 'homestyle', 'hominy', 'hon', 'honey', 'honeycomb', 'honeycrisp', 'honeydew', 'honeyed', 'honeynut', 'hong', 'honing', 'honshimeji', 'hook', 'horizontally', 'horseradish', 'horticultural', 'hose', 'hot', 'hotchkiss', 'hothouse', 'hots', 'hotter', 'hour', 'hours', 'house', 'houses', 'hsing', 'huacatay', 'hubbard', 'huckleberries', 'huckleberry', 'hudson', 'hudsonvalleyfoiegras', 'huitlacoche', 'hull', 'hulled', 'humboldt', 'hummus', 'hungarian', 'hunt', 'hunza', 'hurry', 'hurt', 'hush', 'husk', 'husked', 'husks', 'huy', 'hydro', 'hydrogenated', 'hyssop', 'hôtel', 'ian', 'ibarra', 'ice', 'iceberg', 'iceburg', 'iced', 'ich', 'ichimi', 'icing', 'icingepi', 'id', 'ida', 'idaho', 'ideal', 'ideally', 'igourmet', 'ikea', 'ila', 'ilegal', 'ilmercatoitaliano', 'iloco', 'imagine', 'imitation', 'immature', 'immediately', 'immersion', 'impart', 'implement', 'important', 'imported', 'improvise', 'impériale', 'inc', 'incht', 'inchthick', 'inchwide', 'include', 'included', 'includes', 'including', 'increase', 'incubator', 'index', 'india', 'indian', 'indicates', 'indirect', 'individual', 'individually', 'indonesian', 'inexpensive', 'info', 'infused', 'ingredient', 'ingredients', 'ink', 'inna', 'innards', 'inner', 'innermost', 'inpursuitoftea', 'ins', 'insanely', 'insert', 'inside', 'insides', 'insist', 'inspired', 'insta', 'instacure', 'instant', 'instead', 'instructions', 'insulated', 'intact', 'intense', 'interior', 'international', 'internet', 'intervals', 'intestines', 'invert', 'iodized', 'ipa', 'ipswich', 'iqf', 'iranian', 'irish', 'iron', 'irregular', 'irregularly', 'iru', 'irú', 'isastegi', 'island', 'islands', 'islay', 'israeli', 'italian', 'items', 'jack', 'jackfruit', 'jacobsen', 'jaggery', 'jagody', 'jalape', 'jalapeno', 'jalapeo', 'jalapeño', 'jalapeños', 'jalapño', 'jam', 'jamaica', 'jamaican', 'jammy', 'jams', 'jamón', 'jan', 'japanese', 'japones', 'jar', 'jarlsberg', 'jarlsburg', 'jarred', 'jars', 'jasmine', 'jeanne', 'jefe', 'jell', 'jellied', 'jellies', 'jelly', 'jemima', 'jenkins', 'jerk', 'jerry', 'jersey', 'jerusalem', 'jet', 'jewel', 'jewish', 'jfg', 'jiang', 'jicama', 'jif', 'jiffy', 'jigger', 'jimmies', 'jimmy', 'jivara', 'joe', 'john', 'jointed', 'jonagold', 'jordan', 'josh', 'jouët', 'joven', 'jowl', 'joyva', 'juice', 'juiced', 'juicer', 'juices', 'juicier', 'juicing', 'juicy', 'jujubes', 'julep', 'julia', 'julienne', 'julienned', 'julio', 'jumbo', 'junior', 'juniper', 'junmai', 'junípero', 'jus', 'jägermeister', 'jícama', 'kabocha', 'kadi', 'kadota', 'kaffir', 'kahlu', 'kahlúa', 'kaiser', 'kaiware', 'kalamansi', 'kalamata', 'kalbi', 'kale', 'kalonji', 'kalustyans', 'kalúa', 'kam', 'kamut', 'kansas', 'kaolin', 'karo', 'kasha', 'kashmiri', 'kasoori', 'kasseri', 'kataifi', 'kateh', 'katsuo', 'katsuobushi', 'katz', 'kavli', 'kecap', 'kee', 'keebler', 'keep', 'keeping', 'keeps', 'kefalotiri', 'kefalotyri', 'kefir', 'kellogg', 'kelp', 'kemp', 'kent', 'kentucky', 'kept', 'kern', 'kernel', 'kernels', 'kerrygold', 'ketchup', 'ketjap', 'kettle', 'kettlepizza', 'kewpie', 'key', 'kg', 'khao', 'khlass', 'khua', 'kick', 'kid', 'kiddush', 'kidney', 'kidneys', 'kids', 'kielbasa', 'kikkoman', 'kilo', 'kilograms', 'kimchi', 'kind', 'kindlin', 'kinds', 'king', 'kingarthurflour', 'kippers', 'kir', 'kirby', 'kirsch', 'kirschwasser', 'kiss', 'kisses', 'kit', 'kitchen', 'kitchens', 'kiwi', 'kiwifruit', 'kiwifruits', 'kiwis', 'kix', 'knafe', 'kneading', 'knife', 'knob', 'knockwurst', 'know', 'known', 'knuckle', 'knuckles', 'koamart', 'kochujang', 'koda', 'kodiak', 'kohlrabi', 'kohlrabies', 'koji', 'kolsch', 'komatsuna', 'kombu', 'kombucha', 'kona', 'konbu', 'kong', 'kool', 'koon', 'korean', 'kosari', 'kosher', 'koshian', 'kosho', 'kra', 'kraft', 'kriek', 'krinos', 'krispies', 'krogstad', 'kugelhopf', 'kugelhupf', 'kum', 'kumamoto', 'kumara', 'kumquat', 'kumquats', 'kumquatsepi', 'kuri', 'kuro', 'kurobuta', 'kümmel', 'la', 'labaneh', 'label', 'labeled', 'labels', 'labne', 'labneh', 'laboiteny', 'laces', 'lacinato', 'lacing', 'lacquered', 'lactose', 'ladolemono', 'lady', 'ladyfinger', 'ladyfingers', 'lager', 'lagerstyle', 'laird', 'lake', 'lamb', 'lambic', 'lambrusco', 'lambs', 'lan', 'lancashire', 'lancaster', 'lanka', 'lantern', 'laphroaig', 'lapsang', 'laquercia', 'lard', 'lardo', 'lardons', 'larger', 'largest', 'lars', 'lasagna', 'lasagne', 'last', 'late', 'latex', 'latienda', 'latin', 'latino', 'latourangelle', 'latte', 'laughing', 'lava', 'lavash', 'lavender', 'laver', 'lavosh', 'lay', 'layer', 'layers', 'lazy', 'lazzaroni', 'lbs', 'le', 'leaf', 'leafed', 'leafy', 'lean', 'least', 'leather', 'leave', 'leaves', 'leaving', 'lebanese', 'lebkuchen', 'lebneh', 'leche', 'lee', 'leek', 'leeks', 'leeners', 'lefse', 'left', 'leftover', 'leftovers', 'leg', 'legs', 'legthwise', 'legumes', 'leicester', 'lemon', 'lemonade', 'lemongrass', 'lemons', 'lemony', 'lend', 'length', 'lengths', 'lengthways', 'lengthwise', 'lentil', 'lentilles', 'lentils', 'leonardo', 'lepicerie', 'less', 'let', 'letherbee', 'letters', 'lettuce', 'lettuces', 'level', 'leveled', 'leveling', 'libby', 'licor', 'licorice', 'lid', 'lids', 'lie', 'life', 'ligament', 'light', 'lighter', 'lightlife', 'lightly', 'lightlysweetened', 'lightning', 'lightweight', 'ligurian', 'like', 'lil', 'lilac', 'lillet', 'lily', 'lima', 'limas', 'lime', 'limeade', 'limes', 'limezest', 'limited', 'limo', 'limonada', 'limonata', 'limoncello', 'limoncillo', 'limu', 'lindemans', 'lindsay', 'lindt', 'line', 'lined', 'linen', 'liner', 'liners', 'lines', 'lingcod', 'lingonberries', 'lingonberry', 'lingots', 'linguine', 'linguini', 'linguiça', 'lini', 'lining', 'link', 'links', 'linseed', 'linseeds', 'lint', 'lion', 'lip', 'liquefy', 'liqueuer', 'liqueur', 'liquid', 'liquor', 'list', 'lit', 'liter', 'literally', 'liters', 'litre', 'litres', 'little', 'littleneck', 'littlenecks', 'live', 'liver', 'livers', 'liverwurst', 'lo', 'loaf', 'loaves', 'lobes', 'lobster', 'lobsters', 'local', 'locust', 'lodge', 'log', 'logs', 'loin', 'loins', 'lolla', 'lollipop', 'lollo', 'london', 'long', 'longaniza', 'longhorn', 'look', 'looks', 'loose', 'loosely', 'loosen', 'looza', 'lop', 'lopez', 'lord', 'los', 'lots', 'lotus', 'louis', 'louisiana', 'loup', 'lour', 'lovage', 'love', 'low', 'lower', 'lowering', 'lowfat', 'lox', 'loóza', 'lucini', 'lucques', 'lucía', 'luganega', 'luis', 'luke', 'lukewarm', 'lulo', 'lumaconi', 'lump', 'lumpia', 'lumps', 'lumpy', 'luo', 'luscious', 'lustau', 'luster', 'lusterdust', 'luxardo', 'lychees', 'lye', 'lying', 'lyle', 'lópez', 'maca', 'macadamia', 'macapuno', 'macaroni', 'macaroons', 'mace', 'macerated', 'machine', 'macintosh', 'mackerel', 'mackeson', 'madagascar', 'maddalena', 'made', 'madeira', 'madeleine', 'madness', 'madras', 'mae', 'maesri', 'mafaldine', 'maggi', 'magnificent', 'magpie', 'magret', 'magrets', 'maguey', 'mahatma', 'mahi', 'mahimahi', 'mahlab', 'mahleb', 'mahón', 'maida', 'maiden', 'maifun', 'main', 'maine', 'maitake', 'major', 'make', 'maker', 'makes', 'making', 'makrut', 'malabar', 'malaga', 'malagueta', 'malaguetas', 'malanga', 'malaysian', 'malbec', 'maldive', 'maldon', 'malibu', 'mallet', 'malloreddus', 'malt', 'maltaise', 'malted', 'mam', 'mama', 'maman', 'mamey', 'mamé', 'man', 'manageable', 'manchego', 'mandarin', 'mandarine', 'mandarins', 'mandioca', 'mandolin', 'mandoline', 'mango', 'mangoes', 'mangos', 'manicotti', 'manila', 'manioc', 'manis', 'manischewitz', 'manjari', 'manual', 'manuka', 'many', 'manzanilla', 'manzanos', 'maple', 'maque', 'mara', 'maracuyá', 'maras', 'maraschino', 'marash', 'maraska', 'marble', 'marbled', 'marbles', 'marcona', 'marcos', 'margarine', 'margarita', 'margherita', 'maria', 'mariage', 'marinade', 'marinara', 'marinated', 'marinating', 'marionberries', 'marionberry', 'maris', 'marjoram', 'mark', 'marked', 'marker', 'market', 'markets', 'marmalade', 'marnier', 'maroon', 'marrow', 'marrowbones', 'marsala', 'marscapone', 'marshmallow', 'marshmallows', 'martin', 'martini', 'mary', 'marzano', 'marzipan', 'masa', 'masala', 'masarepa', 'mascarpone', 'maseca', 'mash', 'mashed', 'masher', 'masking', 'mason', 'masoor', 'mass', 'massage', 'massaged', 'massaman', 'massenez', 'massey', 'master', 'mastic', 'mat', 'match', 'matcha', 'matches', 'matchstick', 'matchsticks', 'material', 'mathilde', 'mats', 'matter', 'mature', 'matza', 'matzah', 'matzo', 'matzoh', 'matzos', 'maui', 'max', 'may', 'mayo', 'mayonnaise', 'maytag', 'maître', 'mccollum', 'mccollums', 'mccormick', 'mccoy', 'mche', 'mcintosh', 'mead', 'meal', 'means', 'meanwhile', 'measure', 'measured', 'measurement', 'measurements', 'measures', 'measuring', 'meat', 'meatballs', 'meatloaf', 'meats', 'meaty', 'meaux', 'medaglia', 'medal', 'medallion', 'medicinals', 'medieval', 'mediterranean', 'medjool', 'meiji', 'mein', 'melange', 'melissa', 'melissas', 'mellocreme', 'mellow', 'melon', 'melons', 'melt', 'melted', 'melting', 'melts', 'members', 'membrane', 'membranes', 'membrillo', 'memphis', 'menlo', 'menma', 'mentaiko', 'menthe', 'mer', 'merguez', 'meringue', 'meringues', 'merlot', 'mes', 'mesclun', 'mesh', 'mesquite', 'metal', 'metallic', 'methi', 'method', 'mexican', 'mexicana', 'mexico', 'mexicos', 'meyer', 'mezcal', 'mezze', 'mezzi', 'mg', 'mian', 'miche', 'micro', 'microgreens', 'microplane', 'microwavable', 'microwave', 'middle', 'midnight', 'midori', 'midribs', 'mie', 'mignon', 'mignons', 'mild', 'milder', 'mildflavored', 'mildly', 'mililiters', 'milk', 'milkimchi', 'mill', 'milled', 'miller', 'millet', 'milliliter', 'milliliters', 'mills', 'mimolette', 'mimosa', 'minced', 'mincemeat', 'mind', 'mined', 'mineral', 'mini', 'miniature', 'minimum', 'minneolas', 'mint', 'minted', 'mints', 'minus', 'minute', 'minutes', 'miracle', 'mirasol', 'mirin', 'mirliton', 'mirlitons', 'mislabeled', 'miso', 'misshapen', 'mission', 'mister', 'misua', 'mitica', 'mitts', 'mix', 'mixed', 'mixer', 'mixers', 'mixing', 'mixture', 'miyoko', 'mizuna', 'ml', 'mm', 'moby', 'mocha', 'mochiko', 'modelo', 'moderately', 'mograbiah', 'moist', 'moistened', 'moistening', 'moisture', 'mojito', 'mojo', 'molasses', 'mold', 'molds', 'mole', 'molecular', 'molokhieh', 'momiji', 'monde', 'monger', 'monin', 'monitor', 'monkfish', 'montana', 'monte', 'montenegro', 'monterey', 'montereyjack', 'monterrey', 'months', 'montrachet', 'montreal', 'moon', 'moong', 'moonglow', 'moons', 'moonshine', 'morcilla', 'morel', 'morello', 'morels', 'mori', 'morita', 'moritas', 'morning', 'moroccan', 'morris', 'morsels', 'mortadella', 'mortar', 'morton', 'moscatel', 'moscato', 'mote', 'mother', 'mott', 'moulard', 'mount', 'mountain', 'mousse', 'moutarde', 'moved', 'movie', 'mozzarella', 'mrs', 'ms', 'msc', 'msg', 'mt', 'mu', 'much', 'muddle', 'muddler', 'muddlers', 'muddling', 'mueller', 'muenster', 'muffin', 'muffins', 'muffuletta', 'mug', 'mugs', 'muir', 'mulato', 'mulberries', 'mullet', 'mullets', 'multi', 'multicolored', 'multigrain', 'mung', 'murcott', 'murray', 'murrayscheese', 'muscadet', 'muscat', 'muscle', 'muscles', 'muscovado', 'muscovy', 'mushroom', 'mushrooms', 'musir', 'muslin', 'mussels', 'must', 'mustard', 'mutabal', 'mutsu', 'myers', 'mymouné', 'mâche', 'märzen', 'mélange', 'mûre', 'münster', 'naam', 'naan', 'naans', 'nabisco', 'nam', 'name', 'nano', 'nantucket', 'napa', 'napoléon', 'naranjilla', 'nardello', 'narrow', 'narrowing', 'nashville', 'nasturtium', 'nasturtiums', 'nationwide', 'native', 'natural', 'naturally', 'naughty', 'navan', 'navel', 'navy', 'nduja', 'neal', 'near', 'necessary', 'neck', 'necks', 'nectar', 'nectarine', 'nectarines', 'need', 'needed', 'needle', 'needlenose', 'needles', 'neely', 'neem', 'neera', 'negi', 'negra', 'negro', 'neither', 'nellie', 'nem', 'nepenthe', 'neri', 'nerigoma', 'nero', 'nest', 'nestlé', 'nests', 'net', 'netted', 'nettles', 'neufchaåtel', 'neufchâtel', 'neutral', 'never', 'new', 'newman', 'newsom', 'newspaper', 'next', 'nguyen', 'nib', 'nibs', 'nice', 'nicoise', 'nielsen', 'nigella', 'nilla', 'nine', 'niçoise', 'nobody', 'nocello', 'noilly', 'noir', 'non', 'nonalcoholic', 'nondairy', 'none', 'nonfat', 'nonhydrogenated', 'nonino', 'nonpareil', 'nonpareils', 'nonreactive', 'nonstick', 'nonsweet', 'nontoxic', 'noodle', 'noodles', 'noor', 'nopales', 'nordic', 'nori', 'north', 'northern', 'northwest', 'nose', 'nosed', 'note', 'noted', 'notes', 'nothing', 'notice', 'nougat', 'nova', 'novo', 'ntlde', 'nto', 'nu', 'nucoa', 'nueske', 'nuggets', 'number', 'nuoc', 'nut', 'nutella', 'nutmeg', 'nutmegs', 'nutri', 'nutritional', 'nuts', 'nyons', 'nyora', 'oak', 'oaky', 'oat', 'oatcakes', 'oatmeal', 'oats', 'oaxaca', 'oaxacan', 'oblaten', 'oblong', 'ocean', 'octagonal', 'octopus', 'octopuses', 'ocute', 'oeil', 'oelek', 'offers', 'offset', 'often', 'ogo', 'ohnuts', 'oil', 'oiled', 'oiling', 'oils', 'oily', 'oince', 'oka', 'okay', 'okinawan', 'okra', 'old', 'oldfashioned', 'oleic', 'olio', 'olive', 'olivenation', 'olives', 'olla', 'oloroso', 'omani', 'omega', 'omelet', 'omit', 'omitting', 'onaise', 'one', 'ones', 'onetik', 'onion', 'onions', 'online', 'oolong', 'oounce', 'oounces', 'opal', 'open', 'opened', 'opening', 'optioinal', 'optional', 'optionally', 'orange', 'oranges', 'orchids', 'order', 'ordered', 'ore', 'orecchiette', 'oregano', 'oregon', 'oreo', 'oreos', 'organic', 'organs', 'orgeat', 'oriental', 'original', 'orleans', 'ornament', 'ornaments', 'oro', 'oroshiepi', 'oroweat', 'ortiz', 'orvieto', 'orzata', 'orzo', 'osetra', 'ossetra', 'osso', 'ossobuco', 'ostrich', 'otafuku', 'others', 'ouncec', 'ouncecs', 'outer', 'outside', 'ouzo', 'oval', 'ovalpie', 'ovals', 'ovaltine', 'oven', 'ovenproof', 'overly', 'overnight', 'overproof', 'overripe', 'ovoline', 'ox', 'oxheart', 'oxtail', 'oxtails', 'oyster', 'oysters', 'oz', 'pabst', 'paccheri', 'pacific', 'pacifico', 'pack', 'packag', 'package', 'packaged', 'packages', 'packet', 'packets', 'packs', 'pad', 'padano', 'paddle', 'paddlefish', 'paddles', 'padrón', 'paella', 'paese', 'page', 'pain', 'paint', 'paintbrush', 'paintbrushes', 'paints', 'pair', 'pajeon', 'palabok', 'pale', 'palegreen', 'palm', 'palmful', 'pama', 'pamplemousse', 'pan', 'panang', 'panca', 'pancake', 'pancakes', 'pancetta', 'panda', 'pandan', 'pandoro', 'paneer', 'panela', 'panettone', 'panfried', 'panfrying', 'panini', 'panko', 'panna', 'pans', 'pansies', 'papadums', 'papas', 'papaya', 'papayas', 'paper', 'papers', 'papery', 'pappadams', 'pappadum', 'pappardelle', 'paprika', 'par', 'paratha', 'parboiled', 'parchment', 'parcooked', 'parents', 'pareve', 'parfait', 'paring', 'parlsey', 'parma', 'parmesan', 'parmiggiano', 'parmigian', 'parmigiano', 'parsely', 'parsley', 'parsnip', 'parsnips', 'part', 'partial', 'partially', 'particles', 'partida', 'parts', 'party', 'parve', 'pasilla', 'pasillas', 'passata', 'passing', 'passion', 'passionfruit', 'passover', 'pasta', 'paste', 'pastel', 'pasteurized', 'pastina', 'pastis', 'pastourma', 'pastrami', 'pastry', 'pasture', 'pastured', 'pasty', 'pat', 'patak', 'patna', 'patron', 'pats', 'patted', 'pattern', 'patties', 'patty', 'pattypan', 'paul', 'paula', 'pea', 'peach', 'peaches', 'peaks', 'pealed', 'peanut', 'peanuts', 'pear', 'pearl', 'pearled', 'pearls', 'pears', 'peas', 'peasant', 'peasy', 'pecan', 'pecans', 'pecorino', 'pectin', 'pedro', 'peekytoe', 'peel', 'peeler', 'peels', 'peg', 'pekin', 'peking', 'pekoe', 'pelargonium', 'pellegrino', 'peltier', 'pen', 'pencil', 'penne', 'pennette', 'pennies', 'penzeys', 'people', 'pepe', 'peperonata', 'peperoncini', 'peperoncino', 'pepitas', 'peppadew', 'peppadews', 'peppar', 'pepper', 'peppercorn', 'peppercorns', 'peppered', 'pepperidge', 'peppermint', 'pepperoncini', 'pepperoni', 'peppers', 'peppery', 'pequin', 'per', 'percent', 'percentage', 'perch', 'perciatelli', 'perfect', 'perfection', 'perfectly', 'perforated', 'perilla', 'perlato', 'permitting', 'pernod', 'perrier', 'persian', 'persimmon', 'persimmons', 'person', 'personal', 'perugina', 'peruvian', 'pesticide', 'pestle', 'pesto', 'pet', 'petal', 'petals', 'pete', 'petit', 'petite', 'petits', 'petrale', 'peychaud', 'phase', 'pheasant', 'pheasants', 'philadelphia', 'phin', 'pho', 'phon', 'phrik', 'phu', 'phyllo', 'piave', 'picada', 'picante', 'piccante', 'picholine', 'pick', 'pickapeppa', 'picked', 'pickerel', 'pickle', 'pickled', 'pickles', 'pickling', 'picks', 'picnic', 'pico', 'picot', 'pie', 'piece', 'piecrust', 'piecrusts', 'pieepi', 'pierced', 'pierogi', 'pierre', 'pies', 'pig', 'pigeon', 'pigeons', 'pigs', 'pike', 'pikeplacefish', 'pilaf', 'pillsbury', 'piloncillo', 'pilot', 'pilpelchuma', 'pilsner', 'pilsners', 'piment', 'pimentn', 'pimento', 'pimenton', 'pimentos', 'pimentón', 'pimiento', 'pimientos', 'pimm', 'pin', 'pina', 'pinbones', 'pinch', 'pinched', 'pinches', 'pine', 'pineapple', 'pineapples', 'pinenuts', 'pinhead', 'pink', 'pinkerton', 'pinkie', 'pinot', 'pins', 'pint', 'pintcherry', 'pinto', 'pints', 'pinza', 'pioppini', 'piper', 'pipette', 'piping', 'pippin', 'piquant', 'piquillo', 'piquin', 'piri', 'pirozhki', 'pisco', 'pistachio', 'pistachios', 'pistils', 'pistoles', 'pistou', 'pit', 'pita', 'pitas', 'pitcher', 'pith', 'pits', 'pitta', 'pitted', 'pizza', 'pizzelle', 'pizzelles', 'pkg', 'pla', 'place', 'places', 'plain', 'plane', 'plank', 'planks', 'plans', 'plant', 'plantain', 'plantains', 'plants', 'plastic', 'plate', 'plates', 'platter', 'pleated', 'plenty', 'pliable', 'pliers', 'ploy', 'plugra', 'plugrá', 'plum', 'plump', 'plumped', 'plums', 'plunge', 'plunger', 'pluot', 'pluots', 'plymouth', 'plátanos', 'poached', 'poaching', 'poblano', 'poblanos', 'pocket', 'pocketless', 'pockets', 'pod', 'podded', 'pods', 'point', 'pointer', 'points', 'poire', 'pois', 'poked', 'pole', 'polenta', 'polentaepi', 'polish', 'polished', 'pollack', 'pollen', 'pollock', 'polpette', 'pom', 'pomegranate', 'pomegranates', 'pomelo', 'pomelos', 'pomi', 'pommery', 'pomodoro', 'pomona', 'pomì', 'pony', 'ponzu', 'poolish', 'poon', 'pop', 'popcorn', 'poplar', 'popover', 'popovers', 'popped', 'popper', 'poppy', 'pops', 'popsicle', 'porcini', 'porgy', 'pork', 'port', 'portabella', 'porter', 'porterhouse', 'portion', 'portioned', 'portions', 'portobellini', 'portobello', 'portobellos', 'portuguese', 'position', 'possible', 'possibly', 'pot', 'potato', 'potatoes', 'pots', 'poudre', 'poultry', 'pounded', 'pounder', 'pounding', 'poupon', 'pour', 'pourable', 'poured', 'pouring', 'poussins', 'povilho', 'powder', 'powdered', 'powders', 'powdery', 'power', 'powered', 'powerful', 'pozole', 'prague', 'prairie', 'praline', 'prat', 'prawn', 'prawns', 'pre', 'prebaked', 'precise', 'precooked', 'precrumbled', 'precut', 'predominantly', 'prefer', 'preferabbly', 'preferable', 'preferably', 'preference', 'preferred', 'preferredmeats', 'prefers', 'prego', 'preheat', 'premade', 'premium', 'prep', 'prepackaged', 'preparation', 'prepare', 'prepared', 'preparing', 'prepped', 'prerolled', 'presentation', 'preserved', 'preserves', 'presidente', 'presliced', 'presoaked', 'press', 'pressed', 'pressing', 'pressure', 'pressé', 'pretty', 'pretzel', 'pretzels', 'prevent', 'prevents', 'previous', 'prewashed', 'pricked', 'prickly', 'prime', 'prince', 'printed', 'probiotic', 'problem', 'process', 'processed', 'processor', 'produce', 'product', 'products', 'pronged', 'proof', 'propane', 'properly', 'proportion', 'prosciutto', 'prosecco', 'protective', 'protein', 'provencal', 'provence', 'provençe', 'provolone', 'prudhomme', 'pruitt', 'prune', 'prunes', 'psyllium', 'pt', 'ptitim', 'pté', 'pudding', 'puff', 'puffed', 'puffs', 'pulled', 'pullman', 'pulp', 'pulse', 'pulsed', 'pulsing', 'pulverized', 'pumpernickel', 'pumpkin', 'pumpkins', 'puna', 'punch', 'punds', 'pungent', 'punt', 'puntarelle', 'puppies', 'pura', 'purchase', 'purchased', 'purchasing', 'pure', 'puree', 'pureed', 'purified', 'purlsoho', 'purple', 'purpose', 'purslane', 'purée', 'puréed', 'pushed', 'put', 'puy', 'puya', 'pyongo', 'pyrex', 'pápalo', 'páté', 'pâte', 'pâté', 'périgord', 'pêches', 'qt', 'qts', 'quahogs', 'quail', 'quaker', 'quality', 'quantities', 'quantity', 'quark', 'quart', 'quarter', 'quartered', 'quarters', 'quarts', 'quartt', 'quatre', 'queen', 'quemada', 'quesillo', 'queso', 'quiche', 'quick', 'quickcooking', 'quickly', 'quills', 'quince', 'quinces', 'quinoa', 'quite', 'quoc', 'rabarbaro', 'rabbit', 'rabbits', 'rabe', 'rack', 'racks', 'raclette', 'radiatori', 'radicchio', 'radish', 'radishes', 'raffia', 'rainbow', 'rainier', 'raised', 'raisin', 'raising', 'raisins', 'raita', 'ram', 'rambutan', 'ramekin', 'ramekins', 'ramen', 'ramp', 'ramps', 'ramyun', 'ran', 'ranch', 'ranchero', 'rancho', 'random', 'range', 'ranging', 'rani', 'rao', 'rapid', 'rapini', 'rare', 'ras', 'rasam', 'rashers', 'rasp', 'raspberries', 'raspberry', 'rated', 'rather', 'ratio', 'rau', 'ravioli', 'raw', 'ray', 'razberi', 'razor', 'rbol', 'reactive', 'read', 'readily', 'ready', 'real', 'realfruit', 'really', 'reblochon', 'recado', 'recao', 'recently', 'recipe', 'recipeepi', 'recipelink', 'recipelinkand', 'recipelinkpie', 'recipes', 'recommend', 'recommended', 'recommends', 'reconstituted', 'rectangles', 'rectangular', 'red', 'redbreast', 'redhot', 'redskinned', 'reduce', 'reduced', 'reducing', 'reduction', 'reed', 'reese', 'referred', 'refill', 'refined', 'refreshed', 'refreshment', 'refried', 'refrigerate', 'refrigerated', 'refrigerator', 'regan', 'reggiano', 'reginetti', 'regional', 'regular', 'regulating', 'reheated', 'reheating', 'rehydrated', 'reims', 'reishi', 'relative', 'release', 'relish', 'remainder', 'remaining', 'remains', 'remoulade', 'removable', 'remove', 'rendered', 'rennet', 'replace', 'replacer', 'replacing', 'reposado', 'reprodepot', 'require', 'required', 'requires', 'resealable', 'reserve', 'reserved', 'reserving', 'resistant', 'resources', 'rest', 'restaurant', 'result', 'results', 'retain', 'return', 'reuben', 'reyes', 'rhubarb', 'rhum', 'rhône', 'rib', 'ribbed', 'ribbon', 'ribbons', 'ribeye', 'riblets', 'ribs', 'rice', 'riced', 'ricer', 'rich', 'rick', 'rico', 'ricotta', 'ridge', 'ridged', 'riesling', 'rigate', 'rigati', 'rigatoni', 'rim', 'rimless', 'rimmed', 'rimming', 'rims', 'rind', 'rindless', 'rinds', 'ring', 'rings', 'rinse', 'rinsed', 'rio', 'rioja', 'ripasso', 'ripe', 'ripen', 'ripened', 'ripped', 'ripple', 'rise', 'rising', 'riso', 'risotto', 'rittenhouse', 'ritz', 'river', 'riz', 'roast', 'roasted', 'roaster', 'roasting', 'roasts', 'robby', 'robert', 'robin', 'robiola', 'robot', 'robust', 'roca', 'rocco', 'rock', 'rocket', 'rockfish', 'rocks', 'rocoto', 'rod', 'rods', 'roe', 'roja', 'rok', 'roll', 'rolled', 'roller', 'rolling', 'rolls', 'roma', 'romaine', 'roman', 'romanesco', 'romano', 'romas', 'romesco', 'ron', 'roncal', 'rooibos', 'root', 'roots', 'roquefort', 'rosa', 'rosato', 'rose', 'rosebud', 'rosebuds', 'rosemary', 'roses', 'rosettes', 'rosewater', 'rossa', 'rosso', 'rosé', 'rotel', 'rotelle', 'rothman', 'roti', 'rotini', 'rotisserie', 'rougaroux', 'rouge', 'rough', 'roughly', 'roughy', 'rouille', 'round', 'rounded', 'rounds', 'royal', 'royale', 'rub', 'rubbed', 'rubber', 'rubbing', 'ruby', 'rudy', 'ruffle', 'ruin', 'ruler', 'rum', 'rump', 'runner', 'running', 'runny', 'runs', 'russet', 'russian', 'rust', 'rustic', 'rustique', 'rutabaga', 'rutabagas', 'rye', 'ryvita', 'rémoulade', 'rústico', 'saambhar', 'saba', 'sabayon', 'sable', 'sablefish', 'sablé', 'sablés', 'sabra', 'sachet', 'sack', 'safe', 'safflower', 'saffron', 'saga', 'sagardo', 'sagatiba', 'sage', 'sahadis', 'saifun', 'saikyo', 'sailor', 'saint', 'sake', 'saké', 'salad', 'salamandra', 'salami', 'salata', 'salep', 'sales', 'salmon', 'salmonella', 'salsa', 'salsify', 'salt', 'salted', 'saltine', 'saltines', 'saltiness', 'salting', 'salts', 'saltworks', 'salty', 'salumi', 'salut', 'salvadoran', 'salvation', 'sambal', 'sambar', 'sambuca', 'sami', 'samoas', 'samuel', 'san', 'sand', 'sandbakkel', 'sandies', 'sanding', 'sandwich', 'sandwiches', 'sansho', 'sansyo', 'santa', 'santo', 'sapphire', 'sapporo', 'sara', 'sardines', 'sardo', 'sargento', 'saronno', 'sarticious', 'sarvecchio', 'sashimi', 'sassafras', 'satay', 'sato', 'satsumas', 'sau', 'sauce', 'sauceepi', 'saucepan', 'sauces', 'saucisson', 'sauerkraut', 'sausage', 'sausagemaker', 'sausages', 'sauteing', 'sauterne', 'sauternes', 'sauté', 'sautéed', 'sautéing', 'sauvignon', 'savarin', 'save', 'saved', 'saveur', 'savoiardi', 'savory', 'savoryspiceshop', 'savoy', 'saw', 'sawsawan', 'sazón', 'sc', 'scalded', 'scalding', 'scale', 'scaled', 'scales', 'scallion', 'scallions', 'scalloped', 'scallopini', 'scallops', 'scaloppine', 'scamorza', 'scandinavian', 'scant', 'scapes', 'scarlet', 'scented', 'scharfen', 'scharffen', 'schmaltz', 'schnapps', 'scissors', 'scleaned', 'scoop', 'scooped', 'scooping', 'scoops', 'scored', 'scotch', 'scotia', 'scottish', 'scout', 'scouting', 'scrambled', 'scraped', 'scraper', 'scraps', 'scratch', 'screw', 'scrod', 'scrubbed', 'sea', 'seafood', 'sealable', 'sealed', 'sealing', 'searing', 'seasnax', 'season', 'seasonal', 'seasonally', 'seasoned', 'seasoning', 'seasonings', 'seasons', 'seaweed', 'sec', 'seckel', 'second', 'seconds', 'secret', 'section', 'sectioned', 'sections', 'secured', 'sedaris', 'sediment', 'see', 'seed', 'seeded', 'seedless', 'seedpods', 'seeds', 'seedy', 'seek', 'seekers', 'segment', 'segmented', 'segments', 'seitan', 'sel', 'select', 'selection', 'self', 'selim', 'seller', 'seltzer', 'semi', 'semiaged', 'semiboneless', 'semicircles', 'semifirm', 'semipearled', 'semiseet', 'semisoft', 'semisweet', 'semolina', 'sendai', 'sendexnet', 'sense', 'separate', 'separated', 'separately', 'separator', 'sercial', 'seriously', 'serrano', 'serranos', 'serrated', 'serrrano', 'serve', 'served', 'servings', 'sesame', 'set', 'sets', 'sev', 'seven', 'several', 'seville', 'shades', 'shado', 'shake', 'shaken', 'shaker', 'shakers', 'shaking', 'shallot', 'shallots', 'shallow', 'shame', 'shandong', 'shanghai', 'shank', 'shanks', 'shao', 'shaohsing', 'shaoxing', 'shape', 'shaped', 'shaped_coeur', 'shapes', 'shaping', 'shards', 'shark', 'sharlyn', 'sharp', 'sharpened', 'shave', 'shaved', 'shaver', 'shaving', 'shavings', 'shears', 'sheep', 'sheet', 'sheets', 'shell', 'shelled', 'shellfish', 'shelling', 'shells', 'sherbet', 'sherry', 'shichimi', 'shield', 'shiitake', 'shiitakes', 'shimeji', 'shin', 'shiny', 'shio', 'shipped', 'shirataki', 'shiraz', 'shiro', 'shishito', 'shiso', 'shitake', 'shitakes', 'shito', 'shoe', 'shoga', 'shoot', 'shoots', 'shop', 'shops', 'short', 'shortbread', 'shortcakes', 'shortcrust', 'shortcut', 'shortening', 'shorter', 'shortgrain', 'shot', 'shoulder', 'shown', 'shoyu', 'shred', 'shredded', 'shredding', 'shreds', 'shrimp', 'shrink', 'shrub', 'shrubb', 'shu', 'shucked', 'shuk', 'sichuan', 'sicilia', 'sicilian', 'side', 'sided', 'sides', 'siembra', 'sierra', 'sieve', 'sieved', 'sift', 'sifted', 'sifter', 'sifting', 'silan', 'silicone', 'silk', 'silken', 'silpain', 'silpat', 'silpats', 'silver', 'silverside', 'silverskin', 'similar', 'similarly', 'simmer', 'simple', 'simply', 'simón', 'sinclair', 'sinew', 'sinews', 'single', 'sini', 'sirloin', 'sister', 'sit', 'sites', 'siu', 'six', 'sixteen', 'sixths', 'size', 'sized', 'sizes', 'skate', 'skeins', 'skewer', 'skewered', 'skewers', 'skillet', 'skillets', 'skim', 'skimmed', 'skimmer', 'skin', 'skinless', 'skinned', 'skins', 'skip', 'skipping', 'skippy', 'skirt', 'skor', 'skordalia', 'skyy', 'slab', 'slabs', 'slaked', 'slate', 'slather', 'slathering', 'slaw', 'sleeve', 'sleeves', 'slender', 'slice', 'slicer', 'slices', 'slicing', 'slider', 'sliders', 'slight', 'slightly', 'slim', 'slipper', 'slit', 'sliver', 'slivered', 'slivers', 'sloe', 'sloping', 'slotted', 'slow', 'slowly', 'small', 'smaller', 'smallish', 'smarties', 'smash', 'smashed', 'smells', 'smelts', 'smidgen', 'smith', 'smithfield', 'smiths', 'smoke', 'smoked', 'smokehouse', 'smoker', 'smokies', 'smokin', 'smoking', 'smoky', 'smooth', 'smoothly', 'snack', 'snacks', 'snail', 'snails', 'snake', 'snap', 'snapped', 'snapper', 'snappers', 'snapping', 'snipped', 'snow', 'snowflake', 'soak', 'soaked', 'soaking', 'soba', 'sochu', 'sockeye', 'soda', 'sodium', 'sofra', 'sofrito', 'soft', 'soften', 'softened', 'softer', 'softly', 'soggy', 'soju', 'sold', 'sole', 'solera', 'solid', 'solidify', 'solids', 'solomonov', 'soluble', 'somali', 'somen', 'something', 'sometimes', 'somewhat', 'sooji', 'sooks', 'soppressata', 'sopressata', 'sorbet', 'sorbets', 'sorghum', 'sorrel', 'sort', 'sorted', 'souchong', 'soufflé', 'soup', 'soupspoons', 'sour', 'sources', 'sourdough', 'soured', 'soursop', 'sous', 'south', 'southeast', 'southern', 'southwestern', 'soy', 'soybean', 'soybeans', 'soymilk', 'spa', 'space', 'spaetzle', 'spaghetti', 'spaghettini', 'spain', 'spam', 'spanish', 'spare', 'spareribs', 'sparingly', 'sparkling', 'spatchcock', 'spatchcocked', 'spatula', 'spatulas', 'spear', 'spearmint', 'spears', 'special', 'specialty', 'specific', 'specified', 'speck', 'speckled', 'spectrumorganics', 'speculoos', 'speed', 'spell', 'spelt', 'spent', 'sphere', 'spice', 'spicebarn', 'spiced', 'spices', 'spicier', 'spicy', 'spider', 'spiders', 'spiked', 'spikes', 'spinach', 'spines', 'spiral', 'spiralized', 'spiralizer', 'spirit', 'spirited', 'spirulina', 'splash', 'splashes', 'splenda', 'split', 'sponge', 'spongy', 'spoon', 'spooned', 'spoonful', 'spoons', 'sports', 'spot', 'spots', 'spotted', 'spotty', 'spout', 'spouts', 'spray', 'sprayed', 'spraying', 'spread', 'spreadable', 'spreading', 'sprig', 'sprightly', 'sprigs', 'spring', 'springform', 'springs', 'sprinkle', 'sprinkled', 'sprinkles', 'sprinkling', 'spritz', 'sprout', 'sprouted', 'sprouting', 'sprouts', 'spun', 'spy', 'squacquerone', 'square', 'squares', 'squash', 'squashed', 'squashes', 'squeeze', 'squeezed', 'squeezing', 'squid', 'squirt', 'squish', 'sri', 'sriracha', 'ssupermarkets', 'ssäm', 'ssämjang', 'st', 'stabilizing', 'stack', 'stackable', 'stacked', 'stainless', 'stale', 'stalk', 'stalks', 'stalky', 'stamen', 'stamens', 'stand', 'standard', 'standing', 'stands', 'star', 'starch', 'starchy', 'stars', 'start', 'starter', 'starters', 'states', 'steak', 'steaks', 'steam', 'steamed', 'steamer', 'steaming', 'steel', 'steels', 'steen', 'steep', 'steeped', 'stem', 'stemmed', 'stems', 'stencil', 'step', 'sterile', 'sterilized', 'sterling', 'stevia', 'stew', 'stewed', 'stewing', 'stick', 'sticker', 'stickers', 'sticking', 'sticks', 'sticky', 'stiff', 'still', 'stilton', 'stinging', 'stir', 'stirred', 'stix', 'stock', 'stockpot', 'stoli', 'stolichnaya', 'stone', 'stoned', 'stoneground', 'stones', 'stop', 'storage', 'store', 'storebought', 'stores', 'storing', 'stout', 'stovetop', 'stracciatella', 'straight', 'strained', 'strainer', 'straining', 'strand', 'strands', 'straw', 'strawberries', 'strawberry', 'straws', 'streaky', 'streamers', 'street', 'strega', 'strength', 'stress', 'streusel', 'strictly', 'string', 'stringed', 'stringless', 'strings', 'stringy', 'strip', 'stripe', 'striped', 'stripes', 'stripped', 'strips', 'strong', 'stronger', 'strongly', 'strozzapreti', 'stubb', 'stuck', 'studded', 'stuffed', 'stuffing', 'sturdy', 'sturgeon', 'style', 'styles', 'styrofoam', 'sub', 'submarine', 'submerged', 'substitute', 'substituted', 'substitutes', 'substitutions', 'sucanat', 'sucrée', 'sucuk', 'suet', 'sugaar', 'sugar', 'sugarcane', 'sugarcoated', 'sugarcraft', 'sugared', 'sugars', 'suggested', 'suggests', 'suit', 'suits', 'suji', 'sukang', 'sukiyaki', 'sulmitti', 'sultana', 'sultanas', 'sum', 'sumac', 'summer', 'sun', 'sunbutter', 'sunchoke', 'sunchokes', 'sundried', 'sunflower', 'sung', 'sunny', 'super', 'superfine', 'supermarket', 'supermarkets', 'superpremium', 'supersized', 'supplement', 'supplier', 'suppliers', 'supply', 'supreme', 'supremes', 'suprêmes', 'sure', 'surface', 'suribachi', 'surlatable', 'sushi', 'sustainably', 'suze', 'suzette', 'swad', 'swans', 'swanson', 'swedish', 'sweet', 'sweetbreads', 'sweeten', 'sweetened', 'sweetener', 'sweeter', 'sweetness', 'sweets', 'swirl', 'swiss', 'switch', 'switzerland', 'swordfish', 'syphon', 'syrah', 'syrian', 'syrup', 'syrupepi', 'syrups', 'szechuan', 'sōmen', 'taaka', 'tabasco', 'tabbouleh', 'tabil', 'table', 'tablebspoons', 'tablecloth', 'tablepoons', 'tablepsoon', 'tables', 'tablesepoon', 'tablespons', 'tablespoona', 'tablespoonsfinely', 'tablespoonsimple', 'tablespoonsn', 'tablespoonss', 'tablet', 'tablspoon', 'tablspoons', 'tac', 'taco', 'tagalongs', 'taggiasca', 'tagine', 'tagliardi', 'tagliatelle', 'tagliolini', 'tahina', 'tahini', 'tail', 'tailed', 'tails', 'tajin', 'tajín', 'take', 'takeout', 'tale', 'taleggio', 'talenti', 'tall', 'tallow', 'tamales', 'tamari', 'tamarillo', 'tamarillos', 'tamarind', 'tamicon', 'tamis', 'tamp', 'tan', 'tandoori', 'tangelo', 'tangelos', 'tangerine', 'tangerines', 'tangy', 'tank', 'tanqueray', 'tap', 'tapatío', 'tape', 'tapenade', 'tapioca', 'tapped', 'tarama', 'taramasalata', 'tarantulas', 'tarbais', 'tardivo', 'target', 'taro', 'tarragon', 'tart', 'tartar', 'tartlet', 'tasso', 'taste', 'tastes', 'tasting', 'tasty', 'tater', 'tatin', 'tatsoi', 'tawny', 'taylor', 'tbs', 'tbsps', 'tea', 'teaaspoon', 'teabags', 'teacups', 'teapoon', 'teapot', 'teapsoon', 'teapsoons', 'tear', 'teardrop', 'teasoon', 'teaspooon', 'teaspsoon', 'tecate', 'tehina', 'teleme', 'teleras', 'tellicherry', 'temp', 'tempeh', 'temperatur', 'temperatures', 'tempered', 'template', 'tempura', 'ten', 'tender', 'tenderloin', 'tenderloins', 'tenders', 'tendril', 'tendrils', 'tends', 'tennessee', 'tenneyson', 'tennis', 'tentacles', 'teotitlán', 'tepid', 'tequila', 'teriyaki', 'terra', 'terrasonoma', 'terrine', 'terry', 'tesoro', 'test', 'tester', 'testing', 'tetilla', 'texas', 'texture', 'textured', 'th', 'thai', 'thanksgiving', 'thaw', 'thawed', 'theater', 'thebaking', 'therefore', 'thermometer', 'thermos', 'thespicehouse', 'thick', 'thicken', 'thickener', 'thickeners', 'thicker', 'thickest', 'thickly', 'thickness', 'thigh', 'thighs', 'thimble', 'thin', 'thing', 'things', 'think', 'thinluy', 'thinned', 'thinning', 'thins', 'third', 'thirds', 'thirty', 'thomcord', 'thoor', 'thoroughly', 'though', 'thoureads', 'thousand', 'thread', 'threads', 'three', 'throughout', 'throw', 'ths', 'thumb', 'thumbelina', 'thyme', 'thymeepi', 'ti', 'tia', 'tic', 'tie', 'tied', 'tienda', 'tiers', 'tiger', 'tight', 'tightly', 'tiki', 'tikka', 'tilapia', 'tiles', 'till', 'tillamook', 'tilt', 'time', 'timer', 'times', 'tin', 'tinapa', 'tinfoil', 'tinkyada', 'tins', 'tinted', 'tiny', 'tip', 'tiparos', 'tipo', 'tipped', 'tips', 'tiramisù', 'tissue', 'titanfood', 'tito', 'tk', 'toast', 'toasted', 'toastedcooled', 'toastedepi', 'toastedin', 'toasting', 'toasts', 'toban', 'tobanjan', 'tobiko', 'todd', 'toffee', 'tofu', 'togarashi', 'together', 'tokyo', 'tolerant', 'tolerated', 'toll', 'tolstoi', 'tomatillo', 'tomatillos', 'tomato', 'tomatoes', 'ton', 'tone', 'tongs', 'tongue', 'tonic', 'tonkatsu', 'tonnarelli', 'toor', 'tooth', 'toothpick', 'toothpicks', 'top', 'topped', 'topping', 'toppings', 'tops', 'torani', 'torch', 'torino', 'torn', 'torpedo', 'torta', 'tortellini', 'tortelloni', 'tortiglioni', 'tortilla', 'tortillas', 'tortue', 'toscano', 'toss', 'tossed', 'tossing', 'tostada', 'tostadas', 'total', 'totally', 'tots', 'touch', 'tough', 'toulouse', 'toum', 'towel', 'towels', 'trace', 'trader', 'traditional', 'trail', 'trans', 'transfer', 'translucent', 'transparent', 'tray', 'trays', 'treacle', 'trebbiano', 'tree', 'treviso', 'tri', 'triangle', 'triangles', 'triangular', 'trick', 'tricolor', 'trifle', 'trim', 'trimmed', 'trimming', 'trimmings', 'trinidad', 'tripe', 'tripel', 'triple', 'tripoline', 'trips', 'trompe', 'tropical', 'trout', 'true', 'truffle', 'truffled', 'truffles', 'truly', 'trumpet', 'trumpets', 'trung', 'trungnguyen', 'truroots', 'truth', 'truvia', 'try', 'tsps', 'tteok', 'tuaca', 'tub', 'tube', 'tubers', 'tubes', 'tubetti', 'tubs', 'tubular', 'tucked', 'tuiles', 'tukmaria', 'tumeric', 'tuna', 'turbinado', 'turbot', 'turkey', 'turkeys', 'turkish', 'turmeric', 'turned', 'turning', 'turnip', 'turnips', 'turns', 'turntable', 'turtle', 'tuscan', 'tvorog', 'tvp', 'tweezers', 'twelve', 'twenty', 'twice', 'twine', 'twist', 'twisted', 'twisting', 'twists', 'twizzlers', 'two', 'tying', 'type', 'types', 'typically', 'tzatziki', 'tía', 'tõgarashi', 'udon', 'uku', 'ulek', 'ultimate', 'ultra', 'ultrathin', 'umbrellas', 'ume', 'umeboshi', 'un', 'unaged', 'unappetizing', 'unavailable', 'unbaked', 'unblanched', 'unbleached', 'uncertain', 'uncle', 'uncoated', 'uncooked', 'uncovered', 'uncracked', 'uncured', 'uncut', 'undecorated', 'underripe', 'undiluted', 'undrained', 'undyed', 'unfiltered', 'unflavored', 'unfolded', 'unfrenched', 'unglazed', 'unheated', 'unhulled', 'unhusked', 'uni', 'uniform', 'uniformly', 'unique', 'united', 'unless', 'unlike', 'unmarinated', 'unmelted', 'unpacked', 'unpasteurized', 'unpeeled', 'unpitted', 'unrefined', 'unripe', 'unroasted', 'unrolled', 'unsalted', 'unscented', 'unseasoned', 'unseeded', 'unshelled', 'unshucked', 'unsifted', 'unskinned', 'unsliced', 'unsmoked', 'unsprayed', 'unsulfured', 'unsulphured', 'unsweetened', 'unthawed', 'untied', 'untoasted', 'untreated', 'untrimmed', 'unwaxed', 'unwrapped', 'upholstery', 'upland', 'upper', 'upscale', 'urad', 'urchin', 'urfa', 'us', 'use', 'used', 'uses', 'using', 'usli', 'usually', 'usukuchi', 'uwajimaya', 'uziza', 'vacu', 'vacuum', 'vadouvan', 'vago', 'valdeón', 'valencia', 'valentina', 'vali', 'valles', 'valley', 'valpolicella', 'valrhona', 'vanilla', 'vanille', 'vareniki', 'variant', 'variation', 'variations', 'varieties', 'variety', 'various', 'vary', 'varying', 'vase', 'vases', 'veal', 'veau', 'vegan', 'vegannaise', 'vegenaise', 'vegetable', 'vegetables', 'vegetarian', 'vegetarians', 'veggie', 'veggies', 'vegizest', 'veined', 'veins', 'velouté', 'veltliner', 'velveeta', 'velvet', 'venezuelan', 'venise', 'venison', 'ventrèche', 'vera', 'verbena', 'verde', 'verdelho', 'verjus', 'vermentino', 'vermicelli', 'vermont', 'vermouth', 'versa', 'version', 'vertical', 'vertically', 'verts', 'vessel', 'veuve', 'vialone', 'vida', 'vidalia', 'vide', 'vie', 'vietnamese', 'vieux', 'vigo', 'vigorously', 'vikos', 'vin', 'vinagre', 'vinaigrette', 'vincotto', 'vindaloo', 'vine', 'vinegar', 'vinegared', 'vinegary', 'vines', 'vinho', 'vintage', 'viognier', 'violets', 'violette', 'virgin', 'virginia', 'virginiatraditions', 'visible', 'visit', 'vita', 'vital', 'vitamin', 'vitaminutes', 'vitamix', 'vodka', 'vollrath', 'volume', 'vs', 'vsop', 'wafer', 'wafers', 'waffle', 'wagon', 'wagyu', 'waiting', 'wakame', 'walden', 'walkers', 'walkerswood', 'walla', 'walled', 'walnut', 'walnuts', 'want', 'warabi', 'ware', 'warm', 'warmed', 'warqa', 'wasa', 'wasabi', 'wash', 'washed', 'waste', 'watchers', 'water', 'watercress', 'waterlogged', 'watermelon', 'waterpacked', 'waterproof', 'watrecress', 'wavy', 'wax', 'waxed', 'waxy', 'ways', 'wear', 'weave', 'web', 'weblike', 'webstaurantstore', 'wedge', 'wedges', 'weed', 'week', 'weeks', 'weelicious', 'weigh', 'weighed', 'weighing', 'weight', 'weighting', 'weights', 'well', 'wells', 'west', 'western', 'westphalian', 'wet', 'whacked', 'whatever', 'wheat', 'wheatmeal', 'wheel', 'wheels', 'whether', 'whey', 'whip', 'whipped', 'whipping', 'whisk', 'whisked', 'whiskey', 'whisky', 'white', 'whitefish', 'whites', 'whitestriped', 'whiting', 'whittled', 'whole', 'wholegrain', 'wholemeal', 'wholesome', 'wholespice', 'whoppers', 'wickedgoodcharcoal', 'wide', 'width', 'widthwise', 'wieners', 'wild', 'wildflower', 'william', 'williams', 'wilt', 'wilted', 'wilton', 'wine', 'wineglass', 'winesap', 'winevinegar', 'wing', 'wingettes', 'wings', 'winter', 'wipe', 'wiped', 'wire', 'wisconsin', 'wise', 'wish', 'wispy', 'within', 'without', 'wok', 'wonder', 'wonderful', 'wondra', 'wonton', 'wontons', 'wood', 'wooden', 'woodford', 'woods', 'woody', 'worcestershire', 'work', 'working', 'works', 'worms', 'worth', 'would', 'wrangler', 'wrap', 'wrapped', 'wrappers', 'wrapping', 'wraps', 'wrinkled', 'writer', 'writing', 'www', 'xadbought', 'xadincluding', 'xadraised', 'xadsized', 'xadvirgin', 'xanh', 'xanthan', 'xanthum', 'xcm', 'ximénez', 'xing', 'xocolatl', 'xtabentún', 'xuxu', 'xx', 'xylitol', 'yakinori', 'yakisoba', 'yam', 'yamasa', 'yams', 'yard', 'yards', 'yau', 'yautía', 'year', 'years', 'yeast', 'yellow', 'yellowfin', 'yellowtail', 'yeo', 'yes', 'yet', 'yield', 'yields', 'yodel', 'yoghurt', 'yogurt', 'yola', 'yolk', 'yolks', 'york', 'young', 'yu', 'yuba', 'yuca', 'yucatecan', 'yufka', 'yukon', 'yuzu', 'yuzupassion', 'za', 'zabaglione', 'zanshõ', 'zarame', 'zatarain', 'zaâtar', 'zealand', 'zebra', 'zebras', 'zereshk', 'zergüt', 'zest', 'zested', 'zestepi', 'zester', 'zhoug', 'zinfandel', 'zingermans', 'ziti', 'zucca', 'zucchini', 'zucchinis', 'zwieback', '½oz', 'árbol', 'épices', 'ñame', 'źrbol', '⅔lb', 'ﬁne', 'ﬁnely', 'ﬂakes', 'ﬂour']\n"
     ]
    }
   ],
   "source": [
    "corpus = data_ingr\n",
    "ct_vec = CountVectorizer(stop_words=stopwords_ingr)\n",
    "\n",
    "ingr_ct = ct_vec.fit_transform(corpus)\n",
    "print(ct_vec.get_feature_names())"
   ]
  },
  {
   "cell_type": "code",
   "execution_count": 69,
   "metadata": {
    "ExecuteTime": {
     "end_time": "2019-11-15T07:06:57.732257Z",
     "start_time": "2019-11-15T07:06:55.796076Z"
    }
   },
   "outputs": [
    {
     "data": {
      "text/plain": [
       "array([0.04038195, 0.06047083, 0.02206433, 0.01845918, 0.017692  ,\n",
       "       0.01480575, 0.01344522, 0.01247263, 0.01165535, 0.01093004])"
      ]
     },
     "execution_count": 69,
     "metadata": {},
     "output_type": "execute_result"
    }
   ],
   "source": [
    "#previously, dim reduction, 10 topics:\n",
    "#lsa_10 = TruncatedSVD(10)  \n",
    "#ct_lsa_10 = lsa_10.fit_transform(ingr_ct)\n",
    "ct_lsa_10 = lsa_10.fit_transform(ingr_ct)\n",
    "lsa_10.explained_variance_ratio_"
   ]
  },
  {
   "cell_type": "code",
   "execution_count": 70,
   "metadata": {
    "ExecuteTime": {
     "end_time": "2019-11-15T07:06:57.772429Z",
     "start_time": "2019-11-15T07:06:57.735306Z"
    }
   },
   "outputs": [
    {
     "name": "stdout",
     "output_type": "stream",
     "text": [
      "\n",
      "Topic  0\n",
      "salt, oil, ground, pepper, kosher, sugar, olive, garlic, black, butter, red, grated, juice, unsalted, lemon, leaves, cloves, white, flour, extra\n",
      "\n",
      "Topic  1\n",
      "sugar, butter, unsalted, flour, vanilla, cream, purpose, extract, baking, egg, powder, stick, chocolate, eggs, milk, brown, heavy, salt, sticks, granulated\n",
      "\n",
      "Topic  2\n",
      "ground, pepper, black, salt, kosher, cinnamon, cumin, powder, nutmeg, chicken, paprika, coriander, cayenne, brown, pork, allspice, onion, beef, cardamom, low\n",
      "\n",
      "Topic  3\n",
      "sauce, vegetable, red, rice, sugar, white, dried, garlic, cloves, seeds, soy, onion, chicken, vinegar, green, ginger, minced, water, cilantro, chiles\n",
      "\n",
      "Topic  4\n",
      "juice, lemon, ground, lime, sugar, sauce, ginger, grated, cilantro, orange, zest, seeds, cinnamon, chiles, rice, cumin, peel, leaves, soy, chile\n",
      "\n",
      "Topic  5\n",
      "butter, unsalted, chicken, grated, white, stick, broth, lemon, garlic, whole, dry, onion, thyme, cloves, parsley, minced, dried, black, pepper, celery\n",
      "\n",
      "Topic  6\n",
      "ground, grated, cheese, olive, cloves, oil, garlic, extra, dried, cinnamon, virgin, minced, whole, tomatoes, water, cream, milk, flour, diced, nutmeg\n",
      "\n",
      "Topic  7\n",
      "red, pepper, oz, sugar, cream, vinegar, wine, heavy, black, vanilla, extra, small, crushed, flakes, bell, virgin, chocolate, ml, tomatoes, onion\n",
      "\n",
      "Topic  8\n",
      "oz, salt, milk, lime, ml, whole, black, powder, leaves, coconut, unsweetened, sea, grated, sauce, cilantro, fl, grams, extra, water, chocolate\n",
      "\n",
      "Topic  9\n",
      "leaves, cream, whole, seeds, cloves, garlic, kosher, heavy, dried, milk, sprigs, chiles, coarsely, chocolate, ground, thyme, vanilla, salt, bay, olive\n"
     ]
    }
   ],
   "source": [
    "functions.display_topics(lsa_10, ct_vec.get_feature_names(), 20) "
   ]
  },
  {
   "cell_type": "markdown",
   "metadata": {},
   "source": [
    "### TF-IDF, LSA, with new stopwords"
   ]
  },
  {
   "cell_type": "code",
   "execution_count": 71,
   "metadata": {
    "ExecuteTime": {
     "end_time": "2019-11-15T07:07:03.927219Z",
     "start_time": "2019-11-15T07:06:57.774763Z"
    }
   },
   "outputs": [
    {
     "name": "stdout",
     "output_type": "stream",
     "text": [
      "['_gravié_ra', 'aarons', 'aattachment', 'abita', 'abruzzese', 'abruzzo', 'absente', 'absinthe', 'absolut', 'abuelita', 'aburaage', 'abv', 'acacia', 'accent', 'acceptable', 'accommodate', 'accompaniment', 'accompaniments', 'accordian', 'according', 'achiote', 'acid', 'acidity', 'acini', 'ackee', 'acorn', 'across', 'acrylic', 'acting', 'activate', 'activated', 'active', 'acto', 'actually', 'adams', 'add', 'added', 'adding', 'addition', 'additional', 'additions', 'additive', 'additives', 'adds', 'adjoining', 'adjust', 'adjustable', 'adjusted', 'adjusting', 'adjustments', 'adobo', 'adrianascaravan', 'adult', 'adults', 'advance', 'advise', 'aejado', 'aerosol', 'afford', 'affumicata', 'african', 'africantradingco', 'afterwards', 'agar', 'agave', 'age', 'aged', 'agricole', 'agrodolce', 'aguardiente', 'agur', 'ahead', 'ahi', 'aid', 'ail', 'aioli', 'air', 'airtight', 'airy', 'aisle', 'aitchbone', 'ajat', 'aji', 'ajika', 'ajowan', 'ajvar', 'ajwain', 'ají', 'ajíes', 'ajíí', 'aka', 'akkawi', 'al', 'alaea', 'alaska', 'alaskan', 'albacore', 'albemarle', 'alcohol', 'alcoholic', 'alder', 'ale', 'aleppo', 'alfalfa', 'alfonso', 'alfredo', 'alioli', 'alla', 'allergies', 'alligator', 'allow', 'allows', 'allspice', 'allspiece', 'almond', 'almonds', 'almost', 'aloe', 'along', 'alouette', 'alphabet', 'already', 'alsatian', 'also', 'alt', 'alternating', 'alternative', 'alternatively', 'alternatives', 'although', 'aluminum', 'amado', 'amalfi', 'amaranth', 'amarena', 'amaretti', 'amaretto', 'amarillo', 'amaro', 'amarone', 'amazon', 'amba', 'amber', 'ambert', 'amchoor', 'american', 'americano', 'aminos', 'ammonium', 'among', 'amontillado', 'amore', 'amount', 'amounts', 'amy', 'anaheim', 'analog', 'ancho', 'anchor', 'anchovies', 'anchovy', 'ancones', 'andes', 'andgizzard', 'andouille', 'andré', 'angel', 'angelica', 'angelino', 'anglaise', 'angle', 'angostura', 'animal', 'animals', 'anise', 'aniseed', 'aniseflavored', 'anisette', 'anjou', 'ann', 'anna', 'annatto', 'annie', 'anniversary', 'another', 'anson', 'antebellum', 'antelope', 'antica', 'antipasto', 'ants', 'anyway', 'aonori', 'aosta', 'aout', 'apart', 'apecial', 'aperitif', 'aperitivo', 'aperol', 'appenzeller', 'apple', 'applegate', 'applejack', 'apples', 'applesauce', 'appleton', 'applewood', 'appropriate', 'approved', 'approx', 'approximately', 'appétit', 'apricot', 'apricots', 'apron', 'aquafaba', 'aquavit', 'araguani', 'arame', 'arbequina', 'arbol', 'arborio', 'arctic', 'ardbeg', 'area', 'arepa', 'arequipe', 'arette', 'ariel', 'arils', 'arirangkimchee', 'arm', 'armagnac', 'armenian', 'arms', 'army', 'aroma', 'aromatic', 'aromatics', 'around', 'arrack', 'arrange', 'arrangements', 'arrowroot', 'artagnan', 'arthur', 'artichoke', 'artichokes', 'artisan', 'artisanal', 'arugula', 'asada', 'asadero', 'asafetida', 'asafoetida', 'asahi', 'ascorbic', 'ash', 'ashanti', 'asiago', 'asian', 'aside', 'ask', 'asparagus', 'aspic', 'assembling', 'assembly', 'assertive', 'assorted', 'assortment', 'asti', 'atar', 'ateco', 'atlantic', 'atroom', 'atta', 'attached', 'attachment', 'attachments', 'attractive', 'atural', 'au', 'aunt', 'auslese', 'australian', 'authentic', 'autrefois', 'autumn', 'availability', 'available', 'average', 'averagesized', 'averna', 'avo', 'avocado', 'avocadoes', 'avocados', 'avoid', 'away', 'awaze', 'azedo', 'aztec', 'açaí', 'aïoli', 'añejo', 'añjo', 'ba', 'bab', 'baba', 'baby', 'babybel', 'bacalao', 'bacardi', 'baccalà', 'bachelor', 'back', 'backbone', 'backbones', 'backfin', 'backs', 'backstraps', 'bacon', 'badjak', 'bag', 'bagel', 'bagels', 'bags', 'baguette', 'baguettes', 'baharat', 'bahn', 'bailey', 'baileys', 'baja', 'bake', 'baked', 'baker', 'bakeries', 'bakers', 'bakery', 'bakeware', 'baking', 'baklava', 'balance', 'balaton', 'balchao', 'balcones', 'ball', 'baller', 'ballpark', 'balls', 'balm', 'balsamic', 'bambino', 'bamboo', 'ban', 'banana', 'bananas', 'banane', 'band', 'bands', 'banh', 'banks', 'banneton', 'banon', 'banyuls', 'baobab', 'bar', 'barbara', 'barbecue', 'barbecued', 'barbera', 'barberries', 'barely', 'barhi', 'barilla', 'bark', 'barley', 'barolo', 'barramundi', 'barrel', 'barrios', 'barry', 'bars', 'barspoon', 'bartlett', 'basbaas', 'base', 'baseball', 'based', 'bases', 'bash', 'basic', 'basically', 'basics', 'basil', 'basket', 'baskets', 'basmati', 'basmatic', 'basque', 'bass', 'baste', 'basted', 'baster', 'basting', 'batatas', 'batavia', 'batch', 'batches', 'batons', 'bats', 'batter', 'bauli', 'bavarian', 'bavette', 'bay', 'bayley', 'bbq', 'bean', 'beans', 'bearded', 'beards', 'bears', 'beaten', 'beating', 'beaujolais', 'beaumes', 'beautiful', 'beauty', 'becomes', 'bed', 'bee', 'beech', 'beef', 'beefeater', 'beefsteak', 'beer', 'beet', 'beetroot', 'beetroots', 'beets', 'behind', 'beignets', 'bel', 'belacan', 'belgian', 'belize', 'bell', 'bella', 'bells', 'belly', 'belts', 'beluga', 'ben', 'bench', 'benedictine', 'bengal', 'beni', 'benne', 'benriner', 'benton', 'berbere', 'bergamot', 'berger', 'berkshire', 'bernheim', 'berries', 'berry', 'beryls', 'besan', 'best', 'betel', 'better', 'beurre', 'beverage', 'bialys', 'bianco', 'bias', 'bibb', 'biber', 'bibimbap', 'bicarbonate', 'big', 'bigeye', 'bigger', 'bigs', 'bihon', 'billion', 'bing', 'bird', 'birds', 'biscoff', 'biscotti', 'biscuit', 'biscuits', 'bison', 'bit', 'bite', 'bitesize', 'bits', 'bitter', 'bitterman', 'bittermens', 'bitters', 'bittersweet', 'bittersweetchocolate', 'black', 'blackberries', 'blackberry', 'blackcurrant', 'blackening', 'blackstrap', 'blade', 'blanc', 'blanche', 'blanched', 'blanching', 'blanco', 'blanton', 'bleached', 'blend', 'blended', 'blender', 'blending', 'blends', 'bleuet', 'blind', 'blinis', 'blis', 'bliss', 'blistered', 'blitzed', 'block', 'blocks', 'blond', 'blonde', 'blood', 'bloodline', 'bloody', 'blossom', 'blossoms', 'blotted', 'blown', 'blowtorch', 'blue', 'blueberries', 'blueberry', 'bluefish', 'bo', 'boar', 'board', 'boards', 'boat', 'bob', 'boboli', 'bobsredmill', 'boccalone', 'bocconcini', 'bock', 'bockwurst', 'bodied', 'bodies', 'body', 'boil', 'boiled', 'boiler', 'boiling', 'bois', 'bok', 'bold', 'bolder', 'bologna', 'bols', 'bolt', 'bomba', 'bombay', 'bomboloni', 'bon', 'bonbon', 'bonbons', 'bond', 'bonded', 'bone', 'boned', 'boneless', 'bones', 'boning', 'bonito', 'bonne', 'bonnet', 'bonnets', 'bonny', 'book', 'boosting', 'boquerones', 'borage', 'bordeaux', 'borlotti', 'borscht', 'bosc', 'boston', 'bother', 'bottle', 'bottled', 'bottles', 'bottom', 'bottomed', 'bottoms', 'bouchon', 'boudoirs', 'bought', 'bouillon', 'boule', 'bouquet', 'bouquets', 'bourbon', 'boursin', 'bow', 'bowl', 'bowled', 'bowls', 'bowmore', 'bowtie', 'box', 'boxed', 'boxes', 'boy', 'boysenberries', 'boysenberry', 'braciole', 'bracken', 'brad', 'braeburn', 'bragg', 'braggs', 'braided', 'brain', 'braise', 'braised', 'braiser', 'braises', 'braising', 'bramley', 'bran', 'branca', 'branch', 'branched', 'branches', 'brand', 'brandied', 'brands', 'brandy', 'brandywine', 'branzini', 'branzino', 'brasato', 'bratwurst', 'bratwursts', 'brawny', 'brazil', 'brazilian', 'brea', 'bread', 'breadcrumbs', 'breads', 'breadsticks', 'break', 'breakage', 'breakfast', 'breaks', 'breakstone', 'bream', 'breast', 'breastbone', 'breasts', 'breeze', 'bresaola', 'bretzel', 'brew', 'brewed', 'brewer', 'brick', 'brickle', 'bricks', 'bridge', 'brie', 'briefly', 'bright', 'brinata', 'brine', 'brined', 'bring', 'brining', 'briny', 'brioche', 'brioches', 'briquettes', 'brisket', 'brisling', 'bristle', 'brisée', 'british', 'brittle', 'broad', 'broccoflower', 'broccoli', 'broccolini', 'broil', 'broiled', 'broiler', 'broken', 'bronze', 'brook', 'brooklyn', 'broth', 'brothers', 'brought', 'brown', 'browned', 'brownie', 'brownies', 'browning', 'browns', 'bruised', 'bruschetta', 'brush', 'brushed', 'brushes', 'brushing', 'brussel', 'brussels', 'brut', 'brûlée', 'bubble', 'bubblegum', 'bucatini', 'bucheron', 'buchu', 'buckle', 'buckwheat', 'buco', 'buddha', 'buds', 'budweiser', 'bufala', 'buff', 'buffalo', 'buffel', 'bugles', 'bulb', 'bulbs', 'bulgarian', 'bulgur', 'bulk', 'bull', 'bumpy', 'bun', 'buna', 'bunch', 'bunches', 'bundle', 'bundles', 'bundnerfleisch', 'bundt', 'buns', 'buonitalia', 'bupounds', 'burdock', 'burger', 'burgers', 'burgundies', 'burgundy', 'burner', 'burning', 'burrata', 'burricotti', 'burrito', 'bush', 'bushi', 'bushmills', 'butcher', 'butchers', 'butt', 'butter', 'butterball', 'buttercream', 'buttercreams', 'buttercrunch', 'buttercup', 'buttered', 'butterfat', 'butterfinger', 'butterflied', 'butterfly', 'buttering', 'buttermilk', 'butternut', 'butterscotch', 'buttery', 'button', 'buttons', 'buy', 'byass', 'béarnaise', 'bénédictine', 'bûcheron', 'cabbage', 'cabbages', 'cabernet', 'cabot', 'cabrales', 'cacao', 'cachaca', 'cachaça', 'cacio', 'caciocavallo', 'caciotta', 'cactus', 'caesar', 'cafedumonde', 'caffè', 'café', 'cajeta', 'cajun', 'cajungrocer', 'cake', 'cakes', 'cal', 'calabaza', 'calabrian', 'calamansi', 'calamari', 'calamata', 'calasparra', 'calendula', 'calf', 'california', 'californian', 'calimyrna', 'call', 'callaloo', 'calle', 'callebaut', 'called', 'calling', 'calmyrna', 'caloric', 'calorie', 'calvados', 'camargue', 'camellia', 'camembert', 'campagne', 'campanelle', 'campari', 'campbell', 'camper', 'campfire', 'camus', 'canada', 'canadian', 'canal', 'canary', 'candied', 'candies', 'candle', 'candlenuts', 'candy', 'cane', 'canela', 'canes', 'canestriped', 'canister', 'cannabis', 'canned', 'cannellini', 'canner', 'canning', 'cannoli', 'canola', 'cans', 'cantal', 'cantaloupe', 'cantaloupes', 'canteloupe', 'canton', 'cantonese', 'caol', 'cap', 'capacity', 'cape', 'capel', 'capelletti', 'capellini', 'caper', 'caperberries', 'capers', 'capicola', 'capicolla', 'capocollo', 'cappelletti', 'cappellini', 'cappuccino', 'caps', 'capsicum', 'capsule', 'cara', 'caramel', 'caramelized', 'caramelizing', 'caramels', 'caraway', 'carbon', 'carbonated', 'carcass', 'carcasses', 'card', 'cardamom', 'cardboard', 'cardoons', 'careful', 'carefully', 'caribbean', 'carnaroli', 'carnation', 'carne', 'carnitas', 'carob', 'carolina', 'carom', 'carp', 'carpano', 'carpet', 'carr', 'carries', 'carrot', 'carrots', 'carry', 'cartilage', 'carton', 'cartons', 'carved', 'casalingo', 'casamigos', 'casar', 'casarecce', 'cascabel', 'case', 'cashew', 'cashews', 'casing', 'casings', 'cask', 'cassarecce', 'cassava', 'casserole', 'cassia', 'cassis', 'cast', 'castelfranco', 'castellane', 'castelvetrano', 'caster', 'catalan', 'catch', 'catfish', 'cathead', 'caught', 'caul', 'cauliflower', 'cava', 'cavaillon', 'cavatappi', 'cavatelli', 'caviar', 'cavities', 'cavity', 'cavolo', 'cayenne', 'cbd', 'cecco', 'ceci', 'cedar', 'cel', 'celeriac', 'celery', 'cellentani', 'cellophane', 'cemitas', 'center', 'centers', 'centimeter', 'centimeters', 'central', 'cep', 'ceramic', 'cereal', 'cerignola', 'cermanic', 'certified', 'certo', 'ceylon', 'cfu', 'cha', 'chaat', 'chabrin', 'chai', 'chain', 'challah', 'challenge', 'cham', 'chambord', 'chamomile', 'champagne', 'chana', 'changbai', 'changes', 'chanterelle', 'chanterelles', 'chantilly', 'chapati', 'char', 'charbay', 'charcoal', 'charcuterie', 'chard', 'chardonnay', 'charentais', 'charge', 'charged', 'charmoula', 'charra', 'charred', 'chartreuse', 'chayote', 'chayotes', 'che', 'cheap', 'cheat', 'check', 'checked', 'checking', 'cheddar', 'cheeks', 'cheese', 'cheesecake', 'cheesecloth', 'cheesemaking', 'cheeses', 'cheez', 'chef', 'chefshop', 'cheong', 'cherie', 'chermoula', 'cherokee', 'cherries', 'cherry', 'cherrystone', 'cherrywood', 'cherub', 'chervil', 'chestnut', 'chestnuts', 'chevre', 'chewy', 'chex', 'chi', 'chia', 'chianti', 'chicago', 'chicharrones', 'chicharrón', 'chicharrónes', 'chichicapa', 'chick', 'chicken', 'chickens', 'chickpea', 'chickpeas', 'chicories', 'chicory', 'chiffonade', 'chiffonaded', 'chihuahua', 'chilaca', 'chile', 'chilean', 'chiles', 'chili', 'chilies', 'chill', 'chilled', 'chilli', 'chillies', 'chimay', 'chimayo', 'chimichurri', 'chimney', 'china', 'chine', 'chinese', 'chinkiang', 'chioggia', 'chip', 'chipotle', 'chipotles', 'chips', 'chitarra', 'chiu', 'chive', 'chives', 'chlorella', 'choclo', 'chocolate', 'chocolates', 'choice', 'chokes', 'cholula', 'chong', 'chooped', 'choose', 'choosing', 'chop', 'chopmeat', 'chopping', 'chops', 'chopsticks', 'choricero', 'chorizo', 'chorizos', 'chou', 'chouriço', 'choux', 'chow', 'chowchow', 'chowder', 'choy', 'christmas', 'christophene', 'chrysanthemum', 'chubby', 'chuck', 'chuka', 'chun', 'chunk', 'chunks', 'chunky', 'churrera', 'churro', 'chutney', 'chèvre', 'ciabatta', 'cider', 'cilantro', 'ciliegini', 'cinder', 'cinnamon', 'cipolline', 'cipollini', 'cippoline', 'cipriani', 'circle', 'circles', 'circular', 'citric', 'citron', 'citrus', 'citrusy', 'city', 'cl', 'clabber', 'clam', 'clamato', 'clams', 'clarified', 'class', 'classic', 'classico', 'claw', 'claws', 'clean', 'cleaned', 'clear', 'cleaver', 'clementine', 'clementines', 'clerk', 'clicquot', 'clinging', 'clips', 'cloaks', 'clod', 'close', 'closed', 'closer', 'cloth', 'clothbound', 'clotted', 'clove', 'clover', 'cloves', 'club', 'cluizel', 'clumps', 'cluster', 'clusters', 'clásico', 'clément', 'cm', 'cmxcm', 'coal', 'coarse', 'coarsely', 'coarser', 'coast', 'coat', 'coated', 'coating', 'coatings', 'coax', 'cob', 'cobs', 'coca', 'cocchi', 'cock', 'cockles', 'cocktail', 'cocktails', 'coco', 'cocoa', 'coconut', 'coconuts', 'cod', 'coddler', 'coeur', 'coffee', 'cognac', 'coho', 'coiled', 'coils', 'coin', 'coined', 'coins', 'cointreau', 'coke', 'cola', 'colada', 'colander', 'colatura', 'colby', 'cold', 'colder', 'coleman', 'coleslaw', 'collagen', 'collapsible', 'collapsing', 'collard', 'collards', 'collars', 'collins', 'colman', 'colomba', 'colombian', 'color', 'colored', 'colorful', 'coloring', 'colorings', 'colors', 'colossal', 'com', 'comal', 'combier', 'combination', 'combine', 'combined', 'combo', 'come', 'comes', 'comfort', 'comice', 'commercial', 'commercially', 'common', 'commonly', 'company', 'complements', 'complete', 'completely', 'compote', 'comte', 'comté', 'concentrate', 'concentrated', 'concepción', 'concern', 'conch', 'concord', 'condensed', 'condiment', 'condiments', 'cone', 'cones', 'confectionary', 'confectioner', 'confectioners', 'confit', 'connective', 'connects', 'consommé', 'contact', 'container', 'containers', 'containing', 'contains', 'content', 'contessa', 'continue', 'conventional', 'converted', 'cook', 'cooked', 'cooker', 'cookie', 'cookies', 'cookiesepi', 'cooking', 'cooks', 'cool', 'cooled', 'cooler', 'cooling', 'cope', 'coppa', 'copper', 'coral', 'corazón', 'cordial', 'cordyceps', 'core', 'cored', 'corer', 'cores', 'coriander', 'cork', 'corkscrew', 'corn', 'cornbread', 'corncob', 'corned', 'corner', 'corners', 'cornflake', 'cornflakes', 'cornflowers', 'cornhusks', 'cornichons', 'cornish', 'cornmeal', 'corns', 'cornstarch', 'corona', 'correct', 'corrugated', 'cortland', 'corvina', 'cos', 'costoluto', 'cotija', 'cotixa', 'cotswold', 'cotta', 'cottage', 'cotto', 'cotton', 'coucous', 'could', 'coulis', 'count', 'counter', 'country', 'countrystyle', 'county', 'coupe', 'couple', 'couplers', 'courgette', 'courgettes', 'course', 'coursely', 'courvoisier', 'couscous', 'couscoussière', 'cover', 'covered', 'coves', 'cow', 'cowpeas', 'cows', 'coﬀee', 'crab', 'crabmeat', 'crabs', 'crack', 'cracked', 'cracker', 'crackers', 'cracklings', 'craft', 'crafts', 'craftsetc', 'cran', 'cranberries', 'cranberry', 'cranks', 'crate', 'crawfish', 'crayfish', 'crazy', 'cre', 'cream', 'creamaccompaniment', 'creamed', 'creamer', 'creamy', 'creating', 'creative', 'credit', 'creek', 'crema', 'creme', 'creminelli', 'cremini', 'creminis', 'creole', 'crepes', 'crescent', 'crescents', 'crescenza', 'cress', 'cried', 'crimini', 'criollas', 'crisco', 'crisp', 'crispbread', 'crisped', 'crispin', 'crisping', 'crisply', 'crisps', 'crispy', 'crme', 'croaker', 'crock', 'crocks', 'croissant', 'croissants', 'croix', 'crookneck', 'crosnes', 'cross', 'crosscut', 'crosshatch', 'crossways', 'crosswise', 'crostini', 'crottins', 'croutons', 'crowd', 'crowder', 'crown', 'crowns', 'crucolo', 'cruda', 'crudité', 'crudités', 'crumb', 'crumble', 'crumbled', 'crumbles', 'crumbly', 'crumbs', 'crunch', 'crunchy', 'crushed', 'crust', 'crusted', 'crustless', 'crusts', 'crusty', 'crystal', 'crystalized', 'crystallized', 'crystals', 'crème', 'crème_dishes', 'créme', 'créole', 'crêpe', 'crêpes', 'cuban', 'cubanelle', 'cubanelles', 'cube', 'cubeb', 'cubed', 'cubes', 'cucumber', 'cucumbers', 'culantro', 'culinary', 'culinarydistrict', 'cultivated', 'cultured', 'cultures', 'cumin', 'cupcake', 'cupcakes', 'cupgriddled', 'cupmirin', 'cuppine', 'cupsespagnole', 'cupslow', 'cupspanko', 'cupsturkey', 'cupswinter', 'curaçao', 'curd', 'curds', 'cure', 'cured', 'curing', 'curl', 'curled', 'curling', 'curls', 'curly', 'currant', 'currants', 'curry', 'curve', 'curved', 'custard', 'cutinto', 'cutlet', 'cutlets', 'cuts', 'cutter', 'cutters', 'cutting', 'cuttlefish', 'cylinder', 'cynar', 'cypress', 'cèpe', 'cèpes', 'côte', 'côtes', 'dab', 'dai', 'daikon', 'dairy', 'daisies', 'dal', 'dale', 'dalfour', 'dalmatia', 'dals', 'damaged', 'damoiseau', 'damp', 'damson', 'dandelion', 'dang', 'daniel', 'danish', 'dariole', 'darjeeling', 'dark', 'darker', 'dartagnan', 'dash', 'dashes', 'dashi', 'dashima', 'dassai', 'date', 'dates', 'davis', 'dawadawa', 'day', 'days', 'de', 'dea', 'dead', 'deal', 'deandeluca', 'debearded', 'deboned', 'debris', 'decaffeinated', 'decide', 'deckle', 'decorate', 'decorating', 'decoration', 'decorations', 'decorative', 'dedicated', 'deep', 'deepdiagonal', 'deepfrying', 'deeply', 'defatted', 'defrost', 'defrosted', 'deglazing', 'deglet', 'degreased', 'degree', 'degrees', 'degroff', 'dehraduni', 'dehydrated', 'del', 'deli', 'delicata', 'delicate', 'delicious', 'delites', 'demerara', 'demi', 'demiglace', 'demitasse', 'dense', 'dente', 'denuded', 'denver', 'dep', 'depending', 'depends', 'deposits', 'depth', 'deribbed', 'desalinate', 'desalted', 'descaled', 'deseeded', 'desiccated', 'desired', 'dessert', 'destemmed', 'detached', 'details', 'determine', 'detox', 'deveined', 'deviened', 'devil', 'devon', 'dewar', 'dextrose', 'dhal', 'di', 'diagonal', 'diagonally', 'diameter', 'diamond', 'diasatic', 'diastatic', 'dice', 'diced', 'dickel', 'die', 'diet', 'different', 'difficult', 'digestive', 'digital', 'dijon', 'dill', 'dillon', 'dilly', 'diluted', 'dilution', 'dim', 'dime', 'ding', 'dingle', 'dinner', 'dinosaur', 'dip', 'diplomatico', 'dipped', 'dipper', 'dipping', 'directed', 'directions', 'directly', 'dirt', 'disaronno', 'disc', 'discard', 'discarded', 'discarding', 'disco', 'discoloration', 'discolored', 'discs', 'dish', 'dishes', 'disk', 'disks', 'disposable', 'dissipate', 'dissolved', 'distilled', 'distillers', 'ditali', 'ditalini', 'divded', 'diver', 'diy', 'djan', 'doce', 'dodoni', 'doenjang', 'dog', 'dogfish', 'dogs', 'dolce', 'dolin', 'dollar', 'domaine', 'domed', 'domestic', 'dominican', 'done', 'doneness', 'donner', 'donnie', 'donot', 'dont', 'doon', 'dorade', 'dorados', 'dory', 'dos', 'dots', 'dou', 'double', 'doubleline', 'doublepeeled', 'dough', 'doughnut', 'doughnuts', 'doul', 'dove', 'dover', 'dowel', 'downy', 'dozen', 'dozens', 'dpdspirits', 'dr', 'dragees', 'dragées', 'drain', 'drained', 'draining', 'dram', 'dramatic', 'drambuie', 'draught', 'dredging', 'dressed', 'dresses', 'dressing', 'dried', 'drifts', 'drink', 'drinking', 'drinks', 'drip', 'drippings', 'drips', 'drizzle', 'drizzled', 'drizzling', 'drmcdougall', 'drop', 'dropperful', 'dropperfuls', 'drops', 'droste', 'drum', 'drumettes', 'drumstick', 'drumsticks', 'drunk', 'drunken', 'dry', 'dryroasted', 'du', 'dubonnet', 'duck', 'ducklings', 'ducks', 'due', 'dufour', 'duke', 'dukkah', 'dulce', 'dulces', 'dulcey', 'dulse', 'dumettes', 'dumpling', 'dumplings', 'dungeness', 'duqesne', 'duque', 'duro', 'durum', 'dust', 'dusted', 'dusting', 'dutch', 'duty', 'duvel', 'dwarf', 'dye', 'dyed', 'dylan', 'dylans', 'eagle', 'ear', 'earl', 'early', 'ears', 'earth', 'earthy', 'easier', 'easiest', 'easily', 'east', 'easter', 'eastern', 'easy', 'eating', 'eau', 'ebay', 'echalion', 'echinacea', 'edam', 'edamame', 'edenblend', 'edenfoods', 'edge', 'edged', 'edges', 'edible', 'edward', 'eel', 'efficient', 'egg', 'eggbeater', 'eggcups', 'eggless', 'eggnog', 'eggplant', 'eggplants', 'eggs', 'eggshell', 'egusi', 'egyptian', 'eight', 'eighths', 'einkorn', 'either', 'el', 'elbow', 'elbows', 'elderberry', 'elderflower', 'elderflowers', 'electric', 'elephant', 'eleve', 'elimination', 'elixir', 'elizabeth', 'em', 'emailing', 'emergo', 'emmental', 'emmentaler', 'emmenthal', 'emon', 'empanada', 'empire', 'emptied', 'empty', 'en', 'enamel', 'enameled', 'encases', 'enchilada', 'end', 'endive', 'endives', 'ends', 'ener', 'england', 'english', 'enjoy', 'enoki', 'enough', 'enriched', 'enthusiast', 'entilde', 'entire', 'entirely', 'entremet', 'envelope', 'envelopes', 'environmentally', 'epazote', 'epi', 'epicurious', 'epis', 'equal', 'equally', 'equator', 'equatoriale', 'equimpent', 'equipment', 'equis', 'equivalent', 'equpment', 'erawan', 'escabèche', 'escargot', 'escargots', 'escarole', 'espadi', 'especial', 'espelette', 'espresso', 'espumas', 'essence', 'essencia', 'essensia', 'estate', 'etc', 'ethnicgrocer', 'etorki', 'etsy', 'european', 'europeanstyle', 'evaporated', 'even', 'evenly', 'ever', 'every', 'everyday', 'everything', 'evoo', 'exceed', 'excellence', 'except', 'excess', 'excluding', 'exotic', 'expensive', 'expose', 'expressed', 'extact', 'exterior', 'external', 'extinguisher', 'extra', 'extract', 'extracted', 'extractor', 'extracts', 'extras', 'extrasharp', 'extreme', 'extremely', 'eye', 'eyed', 'eyes', 'fabric', 'fabrics', 'face', 'fage', 'fairly', 'fairy', 'fajita', 'falernum', 'fall', 'family', 'famous', 'fan', 'fancy', 'fans', 'farfalle', 'farfalline', 'farfel', 'farina', 'farinha', 'farm', 'farmed', 'farmer', 'farmers', 'farmhouse', 'farms', 'farro', 'fashioned', 'fast', 'faster', 'fat', 'fatback', 'fats', 'fattened', 'fatty', 'faux', 'fava', 'favas', 'fave', 'favorite', 'favorites', 'fearless', 'feather', 'feathers', 'fed', 'fee', 'feel', 'feet', 'female', 'fennel', 'fenugreek', 'fermented', 'fermentedsoybean', 'fern', 'fernet', 'ferns', 'ferrand', 'feshly', 'feta', 'fetta', 'fette', 'fettuccine', 'fettucine', 'fever', 'fibers', 'ficelle', 'fiddlehead', 'fideos', 'fideus', 'field', 'fiery', 'fifteen', 'fig', 'figs', 'filberts', 'filet', 'filets', 'filipino', 'fill', 'filled', 'fillers', 'fillet', 'filleted', 'fillets', 'filling', 'fillings', 'fillo', 'filo', 'filter', 'filtered', 'filters', 'filé', 'fin', 'find', 'fine', 'finemesh', 'finest', 'finger', 'fingered', 'fingerling', 'fingerroot', 'fingers', 'fini', 'finish', 'finishing', 'finn', 'finnan', 'finnish', 'fino', 'finochionna', 'fins', 'fior', 'fiorentini', 'fir', 'fire', 'firefly', 'fireplace', 'fireproof', 'fireroasted', 'firewood', 'firm', 'firmer', 'firmish', 'firmly', 'first', 'fish', 'fishmonger', 'fistful', 'fistfuls', 'fit', 'fits', 'fitted', 'fitting', 'five', 'fixed', 'fl', 'flageolet', 'flageolets', 'flake', 'flaked', 'flakes', 'flaky', 'flame', 'flamed', 'flameproof', 'flan', 'flank', 'flanken', 'flans', 'flap', 'flaps', 'flash', 'flask', 'flat', 'flatbread', 'flatbreads', 'flatfish', 'flatiron', 'flatleaf', 'flatout', 'flats', 'flatten', 'flattened', 'flavor', 'flavored', 'flavorful', 'flavoring', 'flavorings', 'flavorless', 'flavors', 'flax', 'flaxseed', 'flaxseeds', 'flea', 'fleischmann', 'flemish', 'flesh', 'fleshed', 'fleur', 'flexible', 'flies', 'float', 'floor', 'floral', 'florentine', 'florets', 'florida', 'florist', 'flounder', 'flour', 'floured', 'flouring', 'flourless', 'floury', 'flower', 'flowering', 'flowers', 'fluff', 'fluffy', 'fluid', 'fluke', 'flush', 'flushed', 'flute', 'fluted', 'flying', 'foam', 'foamy', 'focaccia', 'fog', 'fogo', 'foie', 'foil', 'fold', 'folded', 'follow', 'follower', 'following', 'follows', 'fond', 'fondant', 'fondue', 'fong', 'fonio', 'font', 'fontina', 'food', 'foods', 'foot', 'forbidden', 'force', 'forced', 'fords', 'forelle', 'foreshanks', 'forest', 'forget', 'fork', 'forks', 'form', 'formed', 'forming', 'formula', 'fortaleza', 'forte', 'fortified', 'fortunes', 'forturkey', 'forty', 'fossa', 'foster', 'fougasse', 'found', 'four', 'fourme', 'fourths', 'frache', 'fractions', 'fragments', 'fragrant', 'frai', 'fraiche', 'fraiîhe', 'framboise', 'frangelico', 'frangipane', 'frank', 'fraser', 'fraìche', 'fraîche', 'fraîhe', 'free', 'freekeh', 'freestone', 'freeze', 'freezer', 'freezing', 'fregola', 'frekeh', 'french', 'frenched', 'frencher', 'fresca', 'fresco', 'freshest', 'freshwater', 'fresno', 'friand', 'frico', 'fridge', 'fried', 'friendly', 'fries', 'frijoles', 'frik', 'frisee', 'friselle', 'frisée', 'fritos', 'fromage', 'fronds', 'front', 'frosting', 'frostingepi', 'frothy', 'frozen', 'fruit', 'fruits', 'fruity', 'fry', 'fryer', 'frying', 'frères', 'fudge', 'fuerte', 'fuhrman', 'fuji', 'full', 'fully', 'fulvi', 'fungus', 'funnel', 'furikake', 'fusilli', 'fuyu', 'fuzz', 'fève', 'fèves', 'gaeta', 'gai', 'gala', 'galangal', 'galette', 'galettes', 'galia', 'galliano', 'gallo', 'gallon', 'gallons', 'game', 'ganache', 'garage', 'garam', 'garbage', 'garbanzo', 'gardein', 'garganelli', 'gari', 'garlic', 'garlicky', 'garnet', 'garni', 'garnis', 'garnish', 'garnishes', 'garnishing', 'garrotxa', 'garu', 'gas', 'gastronomy', 'gauge', 'gay', 'gebhardt', 'geese', 'gefilte', 'gel', 'gelatin', 'gelatine', 'gelato', 'gelled', 'gem', 'gemelli', 'gems', 'generally', 'generous', 'generously', 'genoa', 'genovese', 'gently', 'george', 'geranium', 'gerbera', 'germ', 'germain', 'german', 'get', 'getting', 'gewürztraminer', 'ghee', 'gherkin', 'gherkins', 'ghirardelli', 'ghost', 'ghosts', 'gianduja', 'giant', 'giardiniera', 'giblet', 'giblets', 'giffard', 'gigante', 'giganti', 'gigondas', 'gills', 'gin', 'ginger', 'gingerbread', 'gingerroot', 'gingersnap', 'gingersnaps', 'ginkgo', 'ginseng', 'giri', 'girl', 'give', 'gives', 'gizzard', 'glace', 'glacéed', 'glass', 'glasses', 'glaze', 'glazed', 'glazeepi', 'glazing', 'glen', 'glitter', 'globe', 'gloopy', 'glove', 'gloves', 'glucose', 'glue', 'glug', 'glugs', 'gluten', 'glutinous', 'glycerin', 'gm', 'gmo', 'gnocchi', 'go', 'goan', 'goat', 'goats', 'goblets', 'gobo', 'gochu', 'gochugaru', 'gochujang', 'goddess', 'goes', 'goji', 'gold', 'golden', 'goldschläger', 'golf', 'golpar', 'goma', 'gomashio', 'gonzález', 'good', 'goods', 'goodwill', 'goose', 'gooseberries', 'gooseberry', 'goosing', 'gordon', 'gorgeous', 'gorgonzola', 'gosling', 'goslings', 'got', 'gouda', 'gourmet', 'goya', 'grade', 'grady', 'graffiti', 'graham', 'grahams', 'grain', 'grained', 'grains', 'grainy', 'gram', 'grams', 'grana', 'grand', 'grandma', 'granita', 'granny', 'granola', 'granular', 'granulated', 'granules', 'grape', 'grapefruit', 'grapefruits', 'grapes', 'grapeseed', 'grappa', 'gras', 'grass', 'grassfed', 'grasshopper', 'grate', 'grated', 'grater', 'grates', 'gratin', 'grating', 'gratings', 'gravlax', 'gravy', 'gray', 'grease', 'greased', 'greasing', 'great', 'grechetto', 'greek', 'green', 'greening', 'greens', 'gremolata', 'grenadine', 'grey', 'gribenes', 'griddle', 'grigio', 'grill', 'grilled', 'grilling', 'grind', 'grinder', 'grinding', 'grindings', 'grinds', 'gris', 'grissini', 'gristle', 'grit', 'grits', 'gritty', 'groats', 'grocer', 'groceries', 'grocers', 'grocery', 'ground', 'groundnut', 'grounds', 'grouper', 'grouse', 'grove', 'grown', 'gruyere', 'gruyère', 'gruyére', 'grüner', 'guacamole', 'guajillo', 'guajillos', 'guanabana', 'guanciale', 'guapo', 'guar', 'guascas', 'guava', 'guavas', 'guindilla', 'guinness', 'guittard', 'gulden', 'gum', 'gumbo', 'gummi', 'gummy', 'gun', 'gunpowder', 'guntur', 'gushy', 'gustiamo', 'gut', 'gutted', 'gyoza', 'gyromitre', 'haas', 'habanero', 'habaneros', 'hachiya', 'haddie', 'haddock', 'haiga', 'hair', 'hake', 'hakurei', 'half', 'halibut', 'halloumi', 'haloumi', 'halvah', 'halve', 'halves', 'ham', 'hamachi', 'hamburger', 'hamilton', 'hammer', 'hand', 'handcrushed', 'handful', 'handfulls', 'handfuls', 'handheld', 'handle', 'handled', 'handles', 'handling', 'hands', 'handwritten', 'handy', 'hang', 'hangar', 'hanger', 'hanout', 'hard', 'hardware', 'hardwood', 'hardy', 'haricorts', 'haricot', 'haricots', 'harina', 'harissa', 'haroseth', 'harp', 'harvest', 'hash', 'hass', 'hatch', 'havarti', 'hawaiian', 'hawaij', 'hawayei', 'hawthorn', 'hazelnut', 'hazelnuts', 'hazen', 'head', 'headnote', 'heads', 'healing', 'health', 'healthy', 'heaped', 'heaping', 'heart', 'hearts', 'hearty', 'heat', 'heated', 'heath', 'heatproof', 'heavily', 'heavy', 'hedgehog', 'heering', 'hefeweizen', 'hefty', 'heidi', 'heinz', 'heirloom', 'heirlooms', 'held', 'hell', 'hellfire', 'hellman', 'hellmann', 'help', 'helpful', 'helps', 'hemisphere', 'hemispherical', 'hemp', 'hen', 'hendrick', 'hennessey', 'hens', 'herb', 'herbal', 'herbamare', 'herbed', 'herbes', 'herbs', 'herbsaint', 'heritage', 'hero', 'herring', 'hershey', 'hibiki', 'hibiscus', 'hick', 'hickory', 'hide', 'high', 'higher', 'highest', 'highly', 'highwest', 'hijiki', 'hill', 'himalayan', 'hine', 'hing', 'hints', 'hips', 'hoagie', 'hobby', 'hock', 'hocks', 'hoegaarden', 'hog', 'hoisin', 'hoja', 'hokkaido', 'hokusetsu', 'hold', 'holding', 'holds', 'hole', 'holes', 'holiday', 'holidays', 'holland', 'hollandaise', 'hollow', 'hollowed', 'homade', 'home', 'homemade', 'homestyle', 'hominy', 'hon', 'honey', 'honeycomb', 'honeycrisp', 'honeydew', 'honeyed', 'honeynut', 'hong', 'honing', 'honshimeji', 'hook', 'horizontally', 'horseradish', 'horticultural', 'hose', 'hot', 'hotchkiss', 'hothouse', 'hots', 'hotter', 'hour', 'hours', 'house', 'houses', 'hsing', 'huacatay', 'hubbard', 'huckleberries', 'huckleberry', 'hudson', 'hudsonvalleyfoiegras', 'huitlacoche', 'hull', 'hulled', 'humboldt', 'hummus', 'hungarian', 'hunt', 'hunza', 'hurry', 'hurt', 'hush', 'husk', 'husked', 'husks', 'huy', 'hydro', 'hydrogenated', 'hyssop', 'hôtel', 'ian', 'ibarra', 'ice', 'iceberg', 'iceburg', 'iced', 'ich', 'ichimi', 'icing', 'icingepi', 'id', 'ida', 'idaho', 'ideal', 'ideally', 'igourmet', 'ikea', 'ila', 'ilegal', 'ilmercatoitaliano', 'iloco', 'imagine', 'imitation', 'immature', 'immediately', 'immersion', 'impart', 'implement', 'important', 'imported', 'improvise', 'impériale', 'inc', 'incht', 'inchthick', 'inchwide', 'include', 'included', 'includes', 'including', 'increase', 'incubator', 'index', 'india', 'indian', 'indicates', 'indirect', 'individual', 'individually', 'indonesian', 'inexpensive', 'info', 'infused', 'ingredient', 'ingredients', 'ink', 'inna', 'innards', 'inner', 'innermost', 'inpursuitoftea', 'ins', 'insanely', 'insert', 'inside', 'insides', 'insist', 'inspired', 'insta', 'instacure', 'instant', 'instead', 'instructions', 'insulated', 'intact', 'intense', 'interior', 'international', 'internet', 'intervals', 'intestines', 'invert', 'iodized', 'ipa', 'ipswich', 'iqf', 'iranian', 'irish', 'iron', 'irregular', 'irregularly', 'iru', 'irú', 'isastegi', 'island', 'islands', 'islay', 'israeli', 'italian', 'items', 'jack', 'jackfruit', 'jacobsen', 'jaggery', 'jagody', 'jalape', 'jalapeno', 'jalapeo', 'jalapeño', 'jalapeños', 'jalapño', 'jam', 'jamaica', 'jamaican', 'jammy', 'jams', 'jamón', 'jan', 'japanese', 'japones', 'jar', 'jarlsberg', 'jarlsburg', 'jarred', 'jars', 'jasmine', 'jeanne', 'jefe', 'jell', 'jellied', 'jellies', 'jelly', 'jemima', 'jenkins', 'jerk', 'jerry', 'jersey', 'jerusalem', 'jet', 'jewel', 'jewish', 'jfg', 'jiang', 'jicama', 'jif', 'jiffy', 'jigger', 'jimmies', 'jimmy', 'jivara', 'joe', 'john', 'jointed', 'jonagold', 'jordan', 'josh', 'jouët', 'joven', 'jowl', 'joyva', 'juice', 'juiced', 'juicer', 'juices', 'juicier', 'juicing', 'juicy', 'jujubes', 'julep', 'julia', 'julienne', 'julienned', 'julio', 'jumbo', 'junior', 'juniper', 'junmai', 'junípero', 'jus', 'jägermeister', 'jícama', 'kabocha', 'kadi', 'kadota', 'kaffir', 'kahlu', 'kahlúa', 'kaiser', 'kaiware', 'kalamansi', 'kalamata', 'kalbi', 'kale', 'kalonji', 'kalustyans', 'kalúa', 'kam', 'kamut', 'kansas', 'kaolin', 'karo', 'kasha', 'kashmiri', 'kasoori', 'kasseri', 'kataifi', 'kateh', 'katsuo', 'katsuobushi', 'katz', 'kavli', 'kecap', 'kee', 'keebler', 'keep', 'keeping', 'keeps', 'kefalotiri', 'kefalotyri', 'kefir', 'kellogg', 'kelp', 'kemp', 'kent', 'kentucky', 'kept', 'kern', 'kernel', 'kernels', 'kerrygold', 'ketchup', 'ketjap', 'kettle', 'kettlepizza', 'kewpie', 'key', 'kg', 'khao', 'khlass', 'khua', 'kick', 'kid', 'kiddush', 'kidney', 'kidneys', 'kids', 'kielbasa', 'kikkoman', 'kilo', 'kilograms', 'kimchi', 'kind', 'kindlin', 'kinds', 'king', 'kingarthurflour', 'kippers', 'kir', 'kirby', 'kirsch', 'kirschwasser', 'kiss', 'kisses', 'kit', 'kitchen', 'kitchens', 'kiwi', 'kiwifruit', 'kiwifruits', 'kiwis', 'kix', 'knafe', 'kneading', 'knife', 'knob', 'knockwurst', 'know', 'known', 'knuckle', 'knuckles', 'koamart', 'kochujang', 'koda', 'kodiak', 'kohlrabi', 'kohlrabies', 'koji', 'kolsch', 'komatsuna', 'kombu', 'kombucha', 'kona', 'konbu', 'kong', 'kool', 'koon', 'korean', 'kosari', 'kosher', 'koshian', 'kosho', 'kra', 'kraft', 'kriek', 'krinos', 'krispies', 'krogstad', 'kugelhopf', 'kugelhupf', 'kum', 'kumamoto', 'kumara', 'kumquat', 'kumquats', 'kumquatsepi', 'kuri', 'kuro', 'kurobuta', 'kümmel', 'la', 'labaneh', 'label', 'labeled', 'labels', 'labne', 'labneh', 'laboiteny', 'laces', 'lacinato', 'lacing', 'lacquered', 'lactose', 'ladolemono', 'lady', 'ladyfinger', 'ladyfingers', 'lager', 'lagerstyle', 'laird', 'lake', 'lamb', 'lambic', 'lambrusco', 'lambs', 'lan', 'lancashire', 'lancaster', 'lanka', 'lantern', 'laphroaig', 'lapsang', 'laquercia', 'lard', 'lardo', 'lardons', 'larger', 'largest', 'lars', 'lasagna', 'lasagne', 'last', 'late', 'latex', 'latienda', 'latin', 'latino', 'latourangelle', 'latte', 'laughing', 'lava', 'lavash', 'lavender', 'laver', 'lavosh', 'lay', 'layer', 'layers', 'lazy', 'lazzaroni', 'lbs', 'le', 'leaf', 'leafed', 'leafy', 'lean', 'least', 'leather', 'leave', 'leaves', 'leaving', 'lebanese', 'lebkuchen', 'lebneh', 'leche', 'lee', 'leek', 'leeks', 'leeners', 'lefse', 'left', 'leftover', 'leftovers', 'leg', 'legs', 'legthwise', 'legumes', 'leicester', 'lemon', 'lemonade', 'lemongrass', 'lemons', 'lemony', 'lend', 'length', 'lengths', 'lengthways', 'lengthwise', 'lentil', 'lentilles', 'lentils', 'leonardo', 'lepicerie', 'less', 'let', 'letherbee', 'letters', 'lettuce', 'lettuces', 'level', 'leveled', 'leveling', 'libby', 'licor', 'licorice', 'lid', 'lids', 'lie', 'life', 'ligament', 'light', 'lighter', 'lightlife', 'lightly', 'lightlysweetened', 'lightning', 'lightweight', 'ligurian', 'like', 'lil', 'lilac', 'lillet', 'lily', 'lima', 'limas', 'lime', 'limeade', 'limes', 'limezest', 'limited', 'limo', 'limonada', 'limonata', 'limoncello', 'limoncillo', 'limu', 'lindemans', 'lindsay', 'lindt', 'line', 'lined', 'linen', 'liner', 'liners', 'lines', 'lingcod', 'lingonberries', 'lingonberry', 'lingots', 'linguine', 'linguini', 'linguiça', 'lini', 'lining', 'link', 'links', 'linseed', 'linseeds', 'lint', 'lion', 'lip', 'liquefy', 'liqueuer', 'liqueur', 'liquid', 'liquor', 'list', 'lit', 'liter', 'literally', 'liters', 'litre', 'litres', 'little', 'littleneck', 'littlenecks', 'live', 'liver', 'livers', 'liverwurst', 'lo', 'loaf', 'loaves', 'lobes', 'lobster', 'lobsters', 'local', 'locust', 'lodge', 'log', 'logs', 'loin', 'loins', 'lolla', 'lollipop', 'lollo', 'london', 'long', 'longaniza', 'longhorn', 'look', 'looks', 'loose', 'loosely', 'loosen', 'looza', 'lop', 'lopez', 'lord', 'los', 'lots', 'lotus', 'louis', 'louisiana', 'loup', 'lour', 'lovage', 'love', 'low', 'lower', 'lowering', 'lowfat', 'lox', 'loóza', 'lucini', 'lucques', 'lucía', 'luganega', 'luis', 'luke', 'lukewarm', 'lulo', 'lumaconi', 'lump', 'lumpia', 'lumps', 'lumpy', 'luo', 'luscious', 'lustau', 'luster', 'lusterdust', 'luxardo', 'lychees', 'lye', 'lying', 'lyle', 'lópez', 'maca', 'macadamia', 'macapuno', 'macaroni', 'macaroons', 'mace', 'macerated', 'machine', 'macintosh', 'mackerel', 'mackeson', 'madagascar', 'maddalena', 'made', 'madeira', 'madeleine', 'madness', 'madras', 'mae', 'maesri', 'mafaldine', 'maggi', 'magnificent', 'magpie', 'magret', 'magrets', 'maguey', 'mahatma', 'mahi', 'mahimahi', 'mahlab', 'mahleb', 'mahón', 'maida', 'maiden', 'maifun', 'main', 'maine', 'maitake', 'major', 'make', 'maker', 'makes', 'making', 'makrut', 'malabar', 'malaga', 'malagueta', 'malaguetas', 'malanga', 'malaysian', 'malbec', 'maldive', 'maldon', 'malibu', 'mallet', 'malloreddus', 'malt', 'maltaise', 'malted', 'mam', 'mama', 'maman', 'mamey', 'mamé', 'man', 'manageable', 'manchego', 'mandarin', 'mandarine', 'mandarins', 'mandioca', 'mandolin', 'mandoline', 'mango', 'mangoes', 'mangos', 'manicotti', 'manila', 'manioc', 'manis', 'manischewitz', 'manjari', 'manual', 'manuka', 'many', 'manzanilla', 'manzanos', 'maple', 'maque', 'mara', 'maracuyá', 'maras', 'maraschino', 'marash', 'maraska', 'marble', 'marbled', 'marbles', 'marcona', 'marcos', 'margarine', 'margarita', 'margherita', 'maria', 'mariage', 'marinade', 'marinara', 'marinated', 'marinating', 'marionberries', 'marionberry', 'maris', 'marjoram', 'mark', 'marked', 'marker', 'market', 'markets', 'marmalade', 'marnier', 'maroon', 'marrow', 'marrowbones', 'marsala', 'marscapone', 'marshmallow', 'marshmallows', 'martin', 'martini', 'mary', 'marzano', 'marzipan', 'masa', 'masala', 'masarepa', 'mascarpone', 'maseca', 'mash', 'mashed', 'masher', 'masking', 'mason', 'masoor', 'mass', 'massage', 'massaged', 'massaman', 'massenez', 'massey', 'master', 'mastic', 'mat', 'match', 'matcha', 'matches', 'matchstick', 'matchsticks', 'material', 'mathilde', 'mats', 'matter', 'mature', 'matza', 'matzah', 'matzo', 'matzoh', 'matzos', 'maui', 'max', 'may', 'mayo', 'mayonnaise', 'maytag', 'maître', 'mccollum', 'mccollums', 'mccormick', 'mccoy', 'mche', 'mcintosh', 'mead', 'meal', 'means', 'meanwhile', 'measure', 'measured', 'measurement', 'measurements', 'measures', 'measuring', 'meat', 'meatballs', 'meatloaf', 'meats', 'meaty', 'meaux', 'medaglia', 'medal', 'medallion', 'medicinals', 'medieval', 'mediterranean', 'medjool', 'meiji', 'mein', 'melange', 'melissa', 'melissas', 'mellocreme', 'mellow', 'melon', 'melons', 'melt', 'melted', 'melting', 'melts', 'members', 'membrane', 'membranes', 'membrillo', 'memphis', 'menlo', 'menma', 'mentaiko', 'menthe', 'mer', 'merguez', 'meringue', 'meringues', 'merlot', 'mes', 'mesclun', 'mesh', 'mesquite', 'metal', 'metallic', 'methi', 'method', 'mexican', 'mexicana', 'mexico', 'mexicos', 'meyer', 'mezcal', 'mezze', 'mezzi', 'mg', 'mian', 'miche', 'micro', 'microgreens', 'microplane', 'microwavable', 'microwave', 'middle', 'midnight', 'midori', 'midribs', 'mie', 'mignon', 'mignons', 'mild', 'milder', 'mildflavored', 'mildly', 'mililiters', 'milk', 'milkimchi', 'mill', 'milled', 'miller', 'millet', 'milliliter', 'milliliters', 'mills', 'mimolette', 'mimosa', 'minced', 'mincemeat', 'mind', 'mined', 'mineral', 'mini', 'miniature', 'minimum', 'minneolas', 'mint', 'minted', 'mints', 'minus', 'minute', 'minutes', 'miracle', 'mirasol', 'mirin', 'mirliton', 'mirlitons', 'mislabeled', 'miso', 'misshapen', 'mission', 'mister', 'misua', 'mitica', 'mitts', 'mix', 'mixed', 'mixer', 'mixers', 'mixing', 'mixture', 'miyoko', 'mizuna', 'ml', 'mm', 'moby', 'mocha', 'mochiko', 'modelo', 'moderately', 'mograbiah', 'moist', 'moistened', 'moistening', 'moisture', 'mojito', 'mojo', 'molasses', 'mold', 'molds', 'mole', 'molecular', 'molokhieh', 'momiji', 'monde', 'monger', 'monin', 'monitor', 'monkfish', 'montana', 'monte', 'montenegro', 'monterey', 'montereyjack', 'monterrey', 'months', 'montrachet', 'montreal', 'moon', 'moong', 'moonglow', 'moons', 'moonshine', 'morcilla', 'morel', 'morello', 'morels', 'mori', 'morita', 'moritas', 'morning', 'moroccan', 'morris', 'morsels', 'mortadella', 'mortar', 'morton', 'moscatel', 'moscato', 'mote', 'mother', 'mott', 'moulard', 'mount', 'mountain', 'mousse', 'moutarde', 'moved', 'movie', 'mozzarella', 'mrs', 'ms', 'msc', 'msg', 'mt', 'mu', 'much', 'muddle', 'muddler', 'muddlers', 'muddling', 'mueller', 'muenster', 'muffin', 'muffins', 'muffuletta', 'mug', 'mugs', 'muir', 'mulato', 'mulberries', 'mullet', 'mullets', 'multi', 'multicolored', 'multigrain', 'mung', 'murcott', 'murray', 'murrayscheese', 'muscadet', 'muscat', 'muscle', 'muscles', 'muscovado', 'muscovy', 'mushroom', 'mushrooms', 'musir', 'muslin', 'mussels', 'must', 'mustard', 'mutabal', 'mutsu', 'myers', 'mymouné', 'mâche', 'märzen', 'mélange', 'mûre', 'münster', 'naam', 'naan', 'naans', 'nabisco', 'nam', 'name', 'nano', 'nantucket', 'napa', 'napoléon', 'naranjilla', 'nardello', 'narrow', 'narrowing', 'nashville', 'nasturtium', 'nasturtiums', 'nationwide', 'native', 'natural', 'naturally', 'naughty', 'navan', 'navel', 'navy', 'nduja', 'neal', 'near', 'necessary', 'neck', 'necks', 'nectar', 'nectarine', 'nectarines', 'need', 'needed', 'needle', 'needlenose', 'needles', 'neely', 'neem', 'neera', 'negi', 'negra', 'negro', 'neither', 'nellie', 'nem', 'nepenthe', 'neri', 'nerigoma', 'nero', 'nest', 'nestlé', 'nests', 'net', 'netted', 'nettles', 'neufchaåtel', 'neufchâtel', 'neutral', 'never', 'new', 'newman', 'newsom', 'newspaper', 'next', 'nguyen', 'nib', 'nibs', 'nice', 'nicoise', 'nielsen', 'nigella', 'nilla', 'nine', 'niçoise', 'nobody', 'nocello', 'noilly', 'noir', 'non', 'nonalcoholic', 'nondairy', 'none', 'nonfat', 'nonhydrogenated', 'nonino', 'nonpareil', 'nonpareils', 'nonreactive', 'nonstick', 'nonsweet', 'nontoxic', 'noodle', 'noodles', 'noor', 'nopales', 'nordic', 'nori', 'north', 'northern', 'northwest', 'nose', 'nosed', 'note', 'noted', 'notes', 'nothing', 'notice', 'nougat', 'nova', 'novo', 'ntlde', 'nto', 'nu', 'nucoa', 'nueske', 'nuggets', 'number', 'nuoc', 'nut', 'nutella', 'nutmeg', 'nutmegs', 'nutri', 'nutritional', 'nuts', 'nyons', 'nyora', 'oak', 'oaky', 'oat', 'oatcakes', 'oatmeal', 'oats', 'oaxaca', 'oaxacan', 'oblaten', 'oblong', 'ocean', 'octagonal', 'octopus', 'octopuses', 'ocute', 'oeil', 'oelek', 'offers', 'offset', 'often', 'ogo', 'ohnuts', 'oil', 'oiled', 'oiling', 'oils', 'oily', 'oince', 'oka', 'okay', 'okinawan', 'okra', 'old', 'oldfashioned', 'oleic', 'olio', 'olive', 'olivenation', 'olives', 'olla', 'oloroso', 'omani', 'omega', 'omelet', 'omit', 'omitting', 'onaise', 'one', 'ones', 'onetik', 'onion', 'onions', 'online', 'oolong', 'oounce', 'oounces', 'opal', 'open', 'opened', 'opening', 'optioinal', 'optional', 'optionally', 'orange', 'oranges', 'orchids', 'order', 'ordered', 'ore', 'orecchiette', 'oregano', 'oregon', 'oreo', 'oreos', 'organic', 'organs', 'orgeat', 'oriental', 'original', 'orleans', 'ornament', 'ornaments', 'oro', 'oroshiepi', 'oroweat', 'ortiz', 'orvieto', 'orzata', 'orzo', 'osetra', 'ossetra', 'osso', 'ossobuco', 'ostrich', 'otafuku', 'others', 'ouncec', 'ouncecs', 'outer', 'outside', 'ouzo', 'oval', 'ovalpie', 'ovals', 'ovaltine', 'oven', 'ovenproof', 'overly', 'overnight', 'overproof', 'overripe', 'ovoline', 'ox', 'oxheart', 'oxtail', 'oxtails', 'oyster', 'oysters', 'oz', 'pabst', 'paccheri', 'pacific', 'pacifico', 'pack', 'packag', 'package', 'packaged', 'packages', 'packet', 'packets', 'packs', 'pad', 'padano', 'paddle', 'paddlefish', 'paddles', 'padrón', 'paella', 'paese', 'page', 'pain', 'paint', 'paintbrush', 'paintbrushes', 'paints', 'pair', 'pajeon', 'palabok', 'pale', 'palegreen', 'palm', 'palmful', 'pama', 'pamplemousse', 'pan', 'panang', 'panca', 'pancake', 'pancakes', 'pancetta', 'panda', 'pandan', 'pandoro', 'paneer', 'panela', 'panettone', 'panfried', 'panfrying', 'panini', 'panko', 'panna', 'pans', 'pansies', 'papadums', 'papas', 'papaya', 'papayas', 'paper', 'papers', 'papery', 'pappadams', 'pappadum', 'pappardelle', 'paprika', 'par', 'paratha', 'parboiled', 'parchment', 'parcooked', 'parents', 'pareve', 'parfait', 'paring', 'parlsey', 'parma', 'parmesan', 'parmiggiano', 'parmigian', 'parmigiano', 'parsely', 'parsley', 'parsnip', 'parsnips', 'part', 'partial', 'partially', 'particles', 'partida', 'parts', 'party', 'parve', 'pasilla', 'pasillas', 'passata', 'passing', 'passion', 'passionfruit', 'passover', 'pasta', 'paste', 'pastel', 'pasteurized', 'pastina', 'pastis', 'pastourma', 'pastrami', 'pastry', 'pasture', 'pastured', 'pasty', 'pat', 'patak', 'patna', 'patron', 'pats', 'patted', 'pattern', 'patties', 'patty', 'pattypan', 'paul', 'paula', 'pea', 'peach', 'peaches', 'peaks', 'pealed', 'peanut', 'peanuts', 'pear', 'pearl', 'pearled', 'pearls', 'pears', 'peas', 'peasant', 'peasy', 'pecan', 'pecans', 'pecorino', 'pectin', 'pedro', 'peekytoe', 'peel', 'peeler', 'peels', 'peg', 'pekin', 'peking', 'pekoe', 'pelargonium', 'pellegrino', 'peltier', 'pen', 'pencil', 'penne', 'pennette', 'pennies', 'penzeys', 'people', 'pepe', 'peperonata', 'peperoncini', 'peperoncino', 'pepitas', 'peppadew', 'peppadews', 'peppar', 'pepper', 'peppercorn', 'peppercorns', 'peppered', 'pepperidge', 'peppermint', 'pepperoncini', 'pepperoni', 'peppers', 'peppery', 'pequin', 'per', 'percent', 'percentage', 'perch', 'perciatelli', 'perfect', 'perfection', 'perfectly', 'perforated', 'perilla', 'perlato', 'permitting', 'pernod', 'perrier', 'persian', 'persimmon', 'persimmons', 'person', 'personal', 'perugina', 'peruvian', 'pesticide', 'pestle', 'pesto', 'pet', 'petal', 'petals', 'pete', 'petit', 'petite', 'petits', 'petrale', 'peychaud', 'phase', 'pheasant', 'pheasants', 'philadelphia', 'phin', 'pho', 'phon', 'phrik', 'phu', 'phyllo', 'piave', 'picada', 'picante', 'piccante', 'picholine', 'pick', 'pickapeppa', 'picked', 'pickerel', 'pickle', 'pickled', 'pickles', 'pickling', 'picks', 'picnic', 'pico', 'picot', 'pie', 'piece', 'piecrust', 'piecrusts', 'pieepi', 'pierced', 'pierogi', 'pierre', 'pies', 'pig', 'pigeon', 'pigeons', 'pigs', 'pike', 'pikeplacefish', 'pilaf', 'pillsbury', 'piloncillo', 'pilot', 'pilpelchuma', 'pilsner', 'pilsners', 'piment', 'pimentn', 'pimento', 'pimenton', 'pimentos', 'pimentón', 'pimiento', 'pimientos', 'pimm', 'pin', 'pina', 'pinbones', 'pinch', 'pinched', 'pinches', 'pine', 'pineapple', 'pineapples', 'pinenuts', 'pinhead', 'pink', 'pinkerton', 'pinkie', 'pinot', 'pins', 'pint', 'pintcherry', 'pinto', 'pints', 'pinza', 'pioppini', 'piper', 'pipette', 'piping', 'pippin', 'piquant', 'piquillo', 'piquin', 'piri', 'pirozhki', 'pisco', 'pistachio', 'pistachios', 'pistils', 'pistoles', 'pistou', 'pit', 'pita', 'pitas', 'pitcher', 'pith', 'pits', 'pitta', 'pitted', 'pizza', 'pizzelle', 'pizzelles', 'pkg', 'pla', 'place', 'places', 'plain', 'plane', 'plank', 'planks', 'plans', 'plant', 'plantain', 'plantains', 'plants', 'plastic', 'plate', 'plates', 'platter', 'pleated', 'plenty', 'pliable', 'pliers', 'ploy', 'plugra', 'plugrá', 'plum', 'plump', 'plumped', 'plums', 'plunge', 'plunger', 'pluot', 'pluots', 'plymouth', 'plátanos', 'poached', 'poaching', 'poblano', 'poblanos', 'pocket', 'pocketless', 'pockets', 'pod', 'podded', 'pods', 'point', 'pointer', 'points', 'poire', 'pois', 'poked', 'pole', 'polenta', 'polentaepi', 'polish', 'polished', 'pollack', 'pollen', 'pollock', 'polpette', 'pom', 'pomegranate', 'pomegranates', 'pomelo', 'pomelos', 'pomi', 'pommery', 'pomodoro', 'pomona', 'pomì', 'pony', 'ponzu', 'poolish', 'poon', 'pop', 'popcorn', 'poplar', 'popover', 'popovers', 'popped', 'popper', 'poppy', 'pops', 'popsicle', 'porcini', 'porgy', 'pork', 'port', 'portabella', 'porter', 'porterhouse', 'portion', 'portioned', 'portions', 'portobellini', 'portobello', 'portobellos', 'portuguese', 'position', 'possible', 'possibly', 'pot', 'potato', 'potatoes', 'pots', 'poudre', 'poultry', 'pounded', 'pounder', 'pounding', 'poupon', 'pour', 'pourable', 'poured', 'pouring', 'poussins', 'povilho', 'powder', 'powdered', 'powders', 'powdery', 'power', 'powered', 'powerful', 'pozole', 'prague', 'prairie', 'praline', 'prat', 'prawn', 'prawns', 'pre', 'prebaked', 'precise', 'precooked', 'precrumbled', 'precut', 'predominantly', 'prefer', 'preferabbly', 'preferable', 'preferably', 'preference', 'preferred', 'preferredmeats', 'prefers', 'prego', 'preheat', 'premade', 'premium', 'prep', 'prepackaged', 'preparation', 'prepare', 'prepared', 'preparing', 'prepped', 'prerolled', 'presentation', 'preserved', 'preserves', 'presidente', 'presliced', 'presoaked', 'press', 'pressed', 'pressing', 'pressure', 'pressé', 'pretty', 'pretzel', 'pretzels', 'prevent', 'prevents', 'previous', 'prewashed', 'pricked', 'prickly', 'prime', 'prince', 'printed', 'probiotic', 'problem', 'process', 'processed', 'processor', 'produce', 'product', 'products', 'pronged', 'proof', 'propane', 'properly', 'proportion', 'prosciutto', 'prosecco', 'protective', 'protein', 'provencal', 'provence', 'provençe', 'provolone', 'prudhomme', 'pruitt', 'prune', 'prunes', 'psyllium', 'pt', 'ptitim', 'pté', 'pudding', 'puff', 'puffed', 'puffs', 'pulled', 'pullman', 'pulp', 'pulse', 'pulsed', 'pulsing', 'pulverized', 'pumpernickel', 'pumpkin', 'pumpkins', 'puna', 'punch', 'punds', 'pungent', 'punt', 'puntarelle', 'puppies', 'pura', 'purchase', 'purchased', 'purchasing', 'pure', 'puree', 'pureed', 'purified', 'purlsoho', 'purple', 'purpose', 'purslane', 'purée', 'puréed', 'pushed', 'put', 'puy', 'puya', 'pyongo', 'pyrex', 'pápalo', 'páté', 'pâte', 'pâté', 'périgord', 'pêches', 'qt', 'qts', 'quahogs', 'quail', 'quaker', 'quality', 'quantities', 'quantity', 'quark', 'quart', 'quarter', 'quartered', 'quarters', 'quarts', 'quartt', 'quatre', 'queen', 'quemada', 'quesillo', 'queso', 'quiche', 'quick', 'quickcooking', 'quickly', 'quills', 'quince', 'quinces', 'quinoa', 'quite', 'quoc', 'rabarbaro', 'rabbit', 'rabbits', 'rabe', 'rack', 'racks', 'raclette', 'radiatori', 'radicchio', 'radish', 'radishes', 'raffia', 'rainbow', 'rainier', 'raised', 'raisin', 'raising', 'raisins', 'raita', 'ram', 'rambutan', 'ramekin', 'ramekins', 'ramen', 'ramp', 'ramps', 'ramyun', 'ran', 'ranch', 'ranchero', 'rancho', 'random', 'range', 'ranging', 'rani', 'rao', 'rapid', 'rapini', 'rare', 'ras', 'rasam', 'rashers', 'rasp', 'raspberries', 'raspberry', 'rated', 'rather', 'ratio', 'rau', 'ravioli', 'raw', 'ray', 'razberi', 'razor', 'rbol', 'reactive', 'read', 'readily', 'ready', 'real', 'realfruit', 'really', 'reblochon', 'recado', 'recao', 'recently', 'recipe', 'recipeepi', 'recipelink', 'recipelinkand', 'recipelinkpie', 'recipes', 'recommend', 'recommended', 'recommends', 'reconstituted', 'rectangles', 'rectangular', 'red', 'redbreast', 'redhot', 'redskinned', 'reduce', 'reduced', 'reducing', 'reduction', 'reed', 'reese', 'referred', 'refill', 'refined', 'refreshed', 'refreshment', 'refried', 'refrigerate', 'refrigerated', 'refrigerator', 'regan', 'reggiano', 'reginetti', 'regional', 'regular', 'regulating', 'reheated', 'reheating', 'rehydrated', 'reims', 'reishi', 'relative', 'release', 'relish', 'remainder', 'remaining', 'remains', 'remoulade', 'removable', 'remove', 'rendered', 'rennet', 'replace', 'replacer', 'replacing', 'reposado', 'reprodepot', 'require', 'required', 'requires', 'resealable', 'reserve', 'reserved', 'reserving', 'resistant', 'resources', 'rest', 'restaurant', 'result', 'results', 'retain', 'return', 'reuben', 'reyes', 'rhubarb', 'rhum', 'rhône', 'rib', 'ribbed', 'ribbon', 'ribbons', 'ribeye', 'riblets', 'ribs', 'rice', 'riced', 'ricer', 'rich', 'rick', 'rico', 'ricotta', 'ridge', 'ridged', 'riesling', 'rigate', 'rigati', 'rigatoni', 'rim', 'rimless', 'rimmed', 'rimming', 'rims', 'rind', 'rindless', 'rinds', 'ring', 'rings', 'rinse', 'rinsed', 'rio', 'rioja', 'ripasso', 'ripe', 'ripen', 'ripened', 'ripped', 'ripple', 'rise', 'rising', 'riso', 'risotto', 'rittenhouse', 'ritz', 'river', 'riz', 'roast', 'roasted', 'roaster', 'roasting', 'roasts', 'robby', 'robert', 'robin', 'robiola', 'robot', 'robust', 'roca', 'rocco', 'rock', 'rocket', 'rockfish', 'rocks', 'rocoto', 'rod', 'rods', 'roe', 'roja', 'rok', 'roll', 'rolled', 'roller', 'rolling', 'rolls', 'roma', 'romaine', 'roman', 'romanesco', 'romano', 'romas', 'romesco', 'ron', 'roncal', 'rooibos', 'root', 'roots', 'roquefort', 'rosa', 'rosato', 'rose', 'rosebud', 'rosebuds', 'rosemary', 'roses', 'rosettes', 'rosewater', 'rossa', 'rosso', 'rosé', 'rotel', 'rotelle', 'rothman', 'roti', 'rotini', 'rotisserie', 'rougaroux', 'rouge', 'rough', 'roughly', 'roughy', 'rouille', 'round', 'rounded', 'rounds', 'royal', 'royale', 'rub', 'rubbed', 'rubber', 'rubbing', 'ruby', 'rudy', 'ruffle', 'ruin', 'ruler', 'rum', 'rump', 'runner', 'running', 'runny', 'runs', 'russet', 'russian', 'rust', 'rustic', 'rustique', 'rutabaga', 'rutabagas', 'rye', 'ryvita', 'rémoulade', 'rústico', 'saambhar', 'saba', 'sabayon', 'sable', 'sablefish', 'sablé', 'sablés', 'sabra', 'sachet', 'sack', 'safe', 'safflower', 'saffron', 'saga', 'sagardo', 'sagatiba', 'sage', 'sahadis', 'saifun', 'saikyo', 'sailor', 'saint', 'sake', 'saké', 'salad', 'salamandra', 'salami', 'salata', 'salep', 'sales', 'salmon', 'salmonella', 'salsa', 'salsify', 'salt', 'salted', 'saltine', 'saltines', 'saltiness', 'salting', 'salts', 'saltworks', 'salty', 'salumi', 'salut', 'salvadoran', 'salvation', 'sambal', 'sambar', 'sambuca', 'sami', 'samoas', 'samuel', 'san', 'sand', 'sandbakkel', 'sandies', 'sanding', 'sandwich', 'sandwiches', 'sansho', 'sansyo', 'santa', 'santo', 'sapphire', 'sapporo', 'sara', 'sardines', 'sardo', 'sargento', 'saronno', 'sarticious', 'sarvecchio', 'sashimi', 'sassafras', 'satay', 'sato', 'satsumas', 'sau', 'sauce', 'sauceepi', 'saucepan', 'sauces', 'saucisson', 'sauerkraut', 'sausage', 'sausagemaker', 'sausages', 'sauteing', 'sauterne', 'sauternes', 'sauté', 'sautéed', 'sautéing', 'sauvignon', 'savarin', 'save', 'saved', 'saveur', 'savoiardi', 'savory', 'savoryspiceshop', 'savoy', 'saw', 'sawsawan', 'sazón', 'sc', 'scalded', 'scalding', 'scale', 'scaled', 'scales', 'scallion', 'scallions', 'scalloped', 'scallopini', 'scallops', 'scaloppine', 'scamorza', 'scandinavian', 'scant', 'scapes', 'scarlet', 'scented', 'scharfen', 'scharffen', 'schmaltz', 'schnapps', 'scissors', 'scleaned', 'scoop', 'scooped', 'scooping', 'scoops', 'scored', 'scotch', 'scotia', 'scottish', 'scout', 'scouting', 'scrambled', 'scraped', 'scraper', 'scraps', 'scratch', 'screw', 'scrod', 'scrubbed', 'sea', 'seafood', 'sealable', 'sealed', 'sealing', 'searing', 'seasnax', 'season', 'seasonal', 'seasonally', 'seasoned', 'seasoning', 'seasonings', 'seasons', 'seaweed', 'sec', 'seckel', 'second', 'seconds', 'secret', 'section', 'sectioned', 'sections', 'secured', 'sedaris', 'sediment', 'see', 'seed', 'seeded', 'seedless', 'seedpods', 'seeds', 'seedy', 'seek', 'seekers', 'segment', 'segmented', 'segments', 'seitan', 'sel', 'select', 'selection', 'self', 'selim', 'seller', 'seltzer', 'semi', 'semiaged', 'semiboneless', 'semicircles', 'semifirm', 'semipearled', 'semiseet', 'semisoft', 'semisweet', 'semolina', 'sendai', 'sendexnet', 'sense', 'separate', 'separated', 'separately', 'separator', 'sercial', 'seriously', 'serrano', 'serranos', 'serrated', 'serrrano', 'serve', 'served', 'servings', 'sesame', 'set', 'sets', 'sev', 'seven', 'several', 'seville', 'shades', 'shado', 'shake', 'shaken', 'shaker', 'shakers', 'shaking', 'shallot', 'shallots', 'shallow', 'shame', 'shandong', 'shanghai', 'shank', 'shanks', 'shao', 'shaohsing', 'shaoxing', 'shape', 'shaped', 'shaped_coeur', 'shapes', 'shaping', 'shards', 'shark', 'sharlyn', 'sharp', 'sharpened', 'shave', 'shaved', 'shaver', 'shaving', 'shavings', 'shears', 'sheep', 'sheet', 'sheets', 'shell', 'shelled', 'shellfish', 'shelling', 'shells', 'sherbet', 'sherry', 'shichimi', 'shield', 'shiitake', 'shiitakes', 'shimeji', 'shin', 'shiny', 'shio', 'shipped', 'shirataki', 'shiraz', 'shiro', 'shishito', 'shiso', 'shitake', 'shitakes', 'shito', 'shoe', 'shoga', 'shoot', 'shoots', 'shop', 'shops', 'short', 'shortbread', 'shortcakes', 'shortcrust', 'shortcut', 'shortening', 'shorter', 'shortgrain', 'shot', 'shoulder', 'shown', 'shoyu', 'shred', 'shredded', 'shredding', 'shreds', 'shrimp', 'shrink', 'shrub', 'shrubb', 'shu', 'shucked', 'shuk', 'sichuan', 'sicilia', 'sicilian', 'side', 'sided', 'sides', 'siembra', 'sierra', 'sieve', 'sieved', 'sift', 'sifted', 'sifter', 'sifting', 'silan', 'silicone', 'silk', 'silken', 'silpain', 'silpat', 'silpats', 'silver', 'silverside', 'silverskin', 'similar', 'similarly', 'simmer', 'simple', 'simply', 'simón', 'sinclair', 'sinew', 'sinews', 'single', 'sini', 'sirloin', 'sister', 'sit', 'sites', 'siu', 'six', 'sixteen', 'sixths', 'size', 'sized', 'sizes', 'skate', 'skeins', 'skewer', 'skewered', 'skewers', 'skillet', 'skillets', 'skim', 'skimmed', 'skimmer', 'skin', 'skinless', 'skinned', 'skins', 'skip', 'skipping', 'skippy', 'skirt', 'skor', 'skordalia', 'skyy', 'slab', 'slabs', 'slaked', 'slate', 'slather', 'slathering', 'slaw', 'sleeve', 'sleeves', 'slender', 'slice', 'slicer', 'slices', 'slicing', 'slider', 'sliders', 'slight', 'slightly', 'slim', 'slipper', 'slit', 'sliver', 'slivered', 'slivers', 'sloe', 'sloping', 'slotted', 'slow', 'slowly', 'small', 'smaller', 'smallish', 'smarties', 'smash', 'smashed', 'smells', 'smelts', 'smidgen', 'smith', 'smithfield', 'smiths', 'smoke', 'smoked', 'smokehouse', 'smoker', 'smokies', 'smokin', 'smoking', 'smoky', 'smooth', 'smoothly', 'snack', 'snacks', 'snail', 'snails', 'snake', 'snap', 'snapped', 'snapper', 'snappers', 'snapping', 'snipped', 'snow', 'snowflake', 'soak', 'soaked', 'soaking', 'soba', 'sochu', 'sockeye', 'soda', 'sodium', 'sofra', 'sofrito', 'soft', 'soften', 'softened', 'softer', 'softly', 'soggy', 'soju', 'sold', 'sole', 'solera', 'solid', 'solidify', 'solids', 'solomonov', 'soluble', 'somali', 'somen', 'something', 'sometimes', 'somewhat', 'sooji', 'sooks', 'soppressata', 'sopressata', 'sorbet', 'sorbets', 'sorghum', 'sorrel', 'sort', 'sorted', 'souchong', 'soufflé', 'soup', 'soupspoons', 'sour', 'sources', 'sourdough', 'soured', 'soursop', 'sous', 'south', 'southeast', 'southern', 'southwestern', 'soy', 'soybean', 'soybeans', 'soymilk', 'spa', 'space', 'spaetzle', 'spaghetti', 'spaghettini', 'spain', 'spam', 'spanish', 'spare', 'spareribs', 'sparingly', 'sparkling', 'spatchcock', 'spatchcocked', 'spatula', 'spatulas', 'spear', 'spearmint', 'spears', 'special', 'specialty', 'specific', 'specified', 'speck', 'speckled', 'spectrumorganics', 'speculoos', 'speed', 'spell', 'spelt', 'spent', 'sphere', 'spice', 'spicebarn', 'spiced', 'spices', 'spicier', 'spicy', 'spider', 'spiders', 'spiked', 'spikes', 'spinach', 'spines', 'spiral', 'spiralized', 'spiralizer', 'spirit', 'spirited', 'spirulina', 'splash', 'splashes', 'splenda', 'split', 'sponge', 'spongy', 'spoon', 'spooned', 'spoonful', 'spoons', 'sports', 'spot', 'spots', 'spotted', 'spotty', 'spout', 'spouts', 'spray', 'sprayed', 'spraying', 'spread', 'spreadable', 'spreading', 'sprig', 'sprightly', 'sprigs', 'spring', 'springform', 'springs', 'sprinkle', 'sprinkled', 'sprinkles', 'sprinkling', 'spritz', 'sprout', 'sprouted', 'sprouting', 'sprouts', 'spun', 'spy', 'squacquerone', 'square', 'squares', 'squash', 'squashed', 'squashes', 'squeeze', 'squeezed', 'squeezing', 'squid', 'squirt', 'squish', 'sri', 'sriracha', 'ssupermarkets', 'ssäm', 'ssämjang', 'st', 'stabilizing', 'stack', 'stackable', 'stacked', 'stainless', 'stale', 'stalk', 'stalks', 'stalky', 'stamen', 'stamens', 'stand', 'standard', 'standing', 'stands', 'star', 'starch', 'starchy', 'stars', 'start', 'starter', 'starters', 'states', 'steak', 'steaks', 'steam', 'steamed', 'steamer', 'steaming', 'steel', 'steels', 'steen', 'steep', 'steeped', 'stem', 'stemmed', 'stems', 'stencil', 'step', 'sterile', 'sterilized', 'sterling', 'stevia', 'stew', 'stewed', 'stewing', 'stick', 'sticker', 'stickers', 'sticking', 'sticks', 'sticky', 'stiff', 'still', 'stilton', 'stinging', 'stir', 'stirred', 'stix', 'stock', 'stockpot', 'stoli', 'stolichnaya', 'stone', 'stoned', 'stoneground', 'stones', 'stop', 'storage', 'store', 'storebought', 'stores', 'storing', 'stout', 'stovetop', 'stracciatella', 'straight', 'strained', 'strainer', 'straining', 'strand', 'strands', 'straw', 'strawberries', 'strawberry', 'straws', 'streaky', 'streamers', 'street', 'strega', 'strength', 'stress', 'streusel', 'strictly', 'string', 'stringed', 'stringless', 'strings', 'stringy', 'strip', 'stripe', 'striped', 'stripes', 'stripped', 'strips', 'strong', 'stronger', 'strongly', 'strozzapreti', 'stubb', 'stuck', 'studded', 'stuffed', 'stuffing', 'sturdy', 'sturgeon', 'style', 'styles', 'styrofoam', 'sub', 'submarine', 'submerged', 'substitute', 'substituted', 'substitutes', 'substitutions', 'sucanat', 'sucrée', 'sucuk', 'suet', 'sugaar', 'sugar', 'sugarcane', 'sugarcoated', 'sugarcraft', 'sugared', 'sugars', 'suggested', 'suggests', 'suit', 'suits', 'suji', 'sukang', 'sukiyaki', 'sulmitti', 'sultana', 'sultanas', 'sum', 'sumac', 'summer', 'sun', 'sunbutter', 'sunchoke', 'sunchokes', 'sundried', 'sunflower', 'sung', 'sunny', 'super', 'superfine', 'supermarket', 'supermarkets', 'superpremium', 'supersized', 'supplement', 'supplier', 'suppliers', 'supply', 'supreme', 'supremes', 'suprêmes', 'sure', 'surface', 'suribachi', 'surlatable', 'sushi', 'sustainably', 'suze', 'suzette', 'swad', 'swans', 'swanson', 'swedish', 'sweet', 'sweetbreads', 'sweeten', 'sweetened', 'sweetener', 'sweeter', 'sweetness', 'sweets', 'swirl', 'swiss', 'switch', 'switzerland', 'swordfish', 'syphon', 'syrah', 'syrian', 'syrup', 'syrupepi', 'syrups', 'szechuan', 'sōmen', 'taaka', 'tabasco', 'tabbouleh', 'tabil', 'table', 'tablebspoons', 'tablecloth', 'tablepoons', 'tablepsoon', 'tables', 'tablesepoon', 'tablespons', 'tablespoona', 'tablespoonsfinely', 'tablespoonsimple', 'tablespoonsn', 'tablespoonss', 'tablet', 'tablspoon', 'tablspoons', 'tac', 'taco', 'tagalongs', 'taggiasca', 'tagine', 'tagliardi', 'tagliatelle', 'tagliolini', 'tahina', 'tahini', 'tail', 'tailed', 'tails', 'tajin', 'tajín', 'take', 'takeout', 'tale', 'taleggio', 'talenti', 'tall', 'tallow', 'tamales', 'tamari', 'tamarillo', 'tamarillos', 'tamarind', 'tamicon', 'tamis', 'tamp', 'tan', 'tandoori', 'tangelo', 'tangelos', 'tangerine', 'tangerines', 'tangy', 'tank', 'tanqueray', 'tap', 'tapatío', 'tape', 'tapenade', 'tapioca', 'tapped', 'tarama', 'taramasalata', 'tarantulas', 'tarbais', 'tardivo', 'target', 'taro', 'tarragon', 'tart', 'tartar', 'tartlet', 'tasso', 'taste', 'tastes', 'tasting', 'tasty', 'tater', 'tatin', 'tatsoi', 'tawny', 'taylor', 'tbs', 'tbsps', 'tea', 'teaaspoon', 'teabags', 'teacups', 'teapoon', 'teapot', 'teapsoon', 'teapsoons', 'tear', 'teardrop', 'teasoon', 'teaspooon', 'teaspsoon', 'tecate', 'tehina', 'teleme', 'teleras', 'tellicherry', 'temp', 'tempeh', 'temperatur', 'temperatures', 'tempered', 'template', 'tempura', 'ten', 'tender', 'tenderloin', 'tenderloins', 'tenders', 'tendril', 'tendrils', 'tends', 'tennessee', 'tenneyson', 'tennis', 'tentacles', 'teotitlán', 'tepid', 'tequila', 'teriyaki', 'terra', 'terrasonoma', 'terrine', 'terry', 'tesoro', 'test', 'tester', 'testing', 'tetilla', 'texas', 'texture', 'textured', 'th', 'thai', 'thanksgiving', 'thaw', 'thawed', 'theater', 'thebaking', 'therefore', 'thermometer', 'thermos', 'thespicehouse', 'thick', 'thicken', 'thickener', 'thickeners', 'thicker', 'thickest', 'thickly', 'thickness', 'thigh', 'thighs', 'thimble', 'thin', 'thing', 'things', 'think', 'thinluy', 'thinned', 'thinning', 'thins', 'third', 'thirds', 'thirty', 'thomcord', 'thoor', 'thoroughly', 'though', 'thoureads', 'thousand', 'thread', 'threads', 'three', 'throughout', 'throw', 'ths', 'thumb', 'thumbelina', 'thyme', 'thymeepi', 'ti', 'tia', 'tic', 'tie', 'tied', 'tienda', 'tiers', 'tiger', 'tight', 'tightly', 'tiki', 'tikka', 'tilapia', 'tiles', 'till', 'tillamook', 'tilt', 'time', 'timer', 'times', 'tin', 'tinapa', 'tinfoil', 'tinkyada', 'tins', 'tinted', 'tiny', 'tip', 'tiparos', 'tipo', 'tipped', 'tips', 'tiramisù', 'tissue', 'titanfood', 'tito', 'tk', 'toast', 'toasted', 'toastedcooled', 'toastedepi', 'toastedin', 'toasting', 'toasts', 'toban', 'tobanjan', 'tobiko', 'todd', 'toffee', 'tofu', 'togarashi', 'together', 'tokyo', 'tolerant', 'tolerated', 'toll', 'tolstoi', 'tomatillo', 'tomatillos', 'tomato', 'tomatoes', 'ton', 'tone', 'tongs', 'tongue', 'tonic', 'tonkatsu', 'tonnarelli', 'toor', 'tooth', 'toothpick', 'toothpicks', 'top', 'topped', 'topping', 'toppings', 'tops', 'torani', 'torch', 'torino', 'torn', 'torpedo', 'torta', 'tortellini', 'tortelloni', 'tortiglioni', 'tortilla', 'tortillas', 'tortue', 'toscano', 'toss', 'tossed', 'tossing', 'tostada', 'tostadas', 'total', 'totally', 'tots', 'touch', 'tough', 'toulouse', 'toum', 'towel', 'towels', 'trace', 'trader', 'traditional', 'trail', 'trans', 'transfer', 'translucent', 'transparent', 'tray', 'trays', 'treacle', 'trebbiano', 'tree', 'treviso', 'tri', 'triangle', 'triangles', 'triangular', 'trick', 'tricolor', 'trifle', 'trim', 'trimmed', 'trimming', 'trimmings', 'trinidad', 'tripe', 'tripel', 'triple', 'tripoline', 'trips', 'trompe', 'tropical', 'trout', 'true', 'truffle', 'truffled', 'truffles', 'truly', 'trumpet', 'trumpets', 'trung', 'trungnguyen', 'truroots', 'truth', 'truvia', 'try', 'tsps', 'tteok', 'tuaca', 'tub', 'tube', 'tubers', 'tubes', 'tubetti', 'tubs', 'tubular', 'tucked', 'tuiles', 'tukmaria', 'tumeric', 'tuna', 'turbinado', 'turbot', 'turkey', 'turkeys', 'turkish', 'turmeric', 'turned', 'turning', 'turnip', 'turnips', 'turns', 'turntable', 'turtle', 'tuscan', 'tvorog', 'tvp', 'tweezers', 'twelve', 'twenty', 'twice', 'twine', 'twist', 'twisted', 'twisting', 'twists', 'twizzlers', 'two', 'tying', 'type', 'types', 'typically', 'tzatziki', 'tía', 'tõgarashi', 'udon', 'uku', 'ulek', 'ultimate', 'ultra', 'ultrathin', 'umbrellas', 'ume', 'umeboshi', 'un', 'unaged', 'unappetizing', 'unavailable', 'unbaked', 'unblanched', 'unbleached', 'uncertain', 'uncle', 'uncoated', 'uncooked', 'uncovered', 'uncracked', 'uncured', 'uncut', 'undecorated', 'underripe', 'undiluted', 'undrained', 'undyed', 'unfiltered', 'unflavored', 'unfolded', 'unfrenched', 'unglazed', 'unheated', 'unhulled', 'unhusked', 'uni', 'uniform', 'uniformly', 'unique', 'united', 'unless', 'unlike', 'unmarinated', 'unmelted', 'unpacked', 'unpasteurized', 'unpeeled', 'unpitted', 'unrefined', 'unripe', 'unroasted', 'unrolled', 'unsalted', 'unscented', 'unseasoned', 'unseeded', 'unshelled', 'unshucked', 'unsifted', 'unskinned', 'unsliced', 'unsmoked', 'unsprayed', 'unsulfured', 'unsulphured', 'unsweetened', 'unthawed', 'untied', 'untoasted', 'untreated', 'untrimmed', 'unwaxed', 'unwrapped', 'upholstery', 'upland', 'upper', 'upscale', 'urad', 'urchin', 'urfa', 'us', 'use', 'used', 'uses', 'using', 'usli', 'usually', 'usukuchi', 'uwajimaya', 'uziza', 'vacu', 'vacuum', 'vadouvan', 'vago', 'valdeón', 'valencia', 'valentina', 'vali', 'valles', 'valley', 'valpolicella', 'valrhona', 'vanilla', 'vanille', 'vareniki', 'variant', 'variation', 'variations', 'varieties', 'variety', 'various', 'vary', 'varying', 'vase', 'vases', 'veal', 'veau', 'vegan', 'vegannaise', 'vegenaise', 'vegetable', 'vegetables', 'vegetarian', 'vegetarians', 'veggie', 'veggies', 'vegizest', 'veined', 'veins', 'velouté', 'veltliner', 'velveeta', 'velvet', 'venezuelan', 'venise', 'venison', 'ventrèche', 'vera', 'verbena', 'verde', 'verdelho', 'verjus', 'vermentino', 'vermicelli', 'vermont', 'vermouth', 'versa', 'version', 'vertical', 'vertically', 'verts', 'vessel', 'veuve', 'vialone', 'vida', 'vidalia', 'vide', 'vie', 'vietnamese', 'vieux', 'vigo', 'vigorously', 'vikos', 'vin', 'vinagre', 'vinaigrette', 'vincotto', 'vindaloo', 'vine', 'vinegar', 'vinegared', 'vinegary', 'vines', 'vinho', 'vintage', 'viognier', 'violets', 'violette', 'virgin', 'virginia', 'virginiatraditions', 'visible', 'visit', 'vita', 'vital', 'vitamin', 'vitaminutes', 'vitamix', 'vodka', 'vollrath', 'volume', 'vs', 'vsop', 'wafer', 'wafers', 'waffle', 'wagon', 'wagyu', 'waiting', 'wakame', 'walden', 'walkers', 'walkerswood', 'walla', 'walled', 'walnut', 'walnuts', 'want', 'warabi', 'ware', 'warm', 'warmed', 'warqa', 'wasa', 'wasabi', 'wash', 'washed', 'waste', 'watchers', 'water', 'watercress', 'waterlogged', 'watermelon', 'waterpacked', 'waterproof', 'watrecress', 'wavy', 'wax', 'waxed', 'waxy', 'ways', 'wear', 'weave', 'web', 'weblike', 'webstaurantstore', 'wedge', 'wedges', 'weed', 'week', 'weeks', 'weelicious', 'weigh', 'weighed', 'weighing', 'weight', 'weighting', 'weights', 'well', 'wells', 'west', 'western', 'westphalian', 'wet', 'whacked', 'whatever', 'wheat', 'wheatmeal', 'wheel', 'wheels', 'whether', 'whey', 'whip', 'whipped', 'whipping', 'whisk', 'whisked', 'whiskey', 'whisky', 'white', 'whitefish', 'whites', 'whitestriped', 'whiting', 'whittled', 'whole', 'wholegrain', 'wholemeal', 'wholesome', 'wholespice', 'whoppers', 'wickedgoodcharcoal', 'wide', 'width', 'widthwise', 'wieners', 'wild', 'wildflower', 'william', 'williams', 'wilt', 'wilted', 'wilton', 'wine', 'wineglass', 'winesap', 'winevinegar', 'wing', 'wingettes', 'wings', 'winter', 'wipe', 'wiped', 'wire', 'wisconsin', 'wise', 'wish', 'wispy', 'within', 'without', 'wok', 'wonder', 'wonderful', 'wondra', 'wonton', 'wontons', 'wood', 'wooden', 'woodford', 'woods', 'woody', 'worcestershire', 'work', 'working', 'works', 'worms', 'worth', 'would', 'wrangler', 'wrap', 'wrapped', 'wrappers', 'wrapping', 'wraps', 'wrinkled', 'writer', 'writing', 'www', 'xadbought', 'xadincluding', 'xadraised', 'xadsized', 'xadvirgin', 'xanh', 'xanthan', 'xanthum', 'xcm', 'ximénez', 'xing', 'xocolatl', 'xtabentún', 'xuxu', 'xx', 'xylitol', 'yakinori', 'yakisoba', 'yam', 'yamasa', 'yams', 'yard', 'yards', 'yau', 'yautía', 'year', 'years', 'yeast', 'yellow', 'yellowfin', 'yellowtail', 'yeo', 'yes', 'yet', 'yield', 'yields', 'yodel', 'yoghurt', 'yogurt', 'yola', 'yolk', 'yolks', 'york', 'young', 'yu', 'yuba', 'yuca', 'yucatecan', 'yufka', 'yukon', 'yuzu', 'yuzupassion', 'za', 'zabaglione', 'zanshõ', 'zarame', 'zatarain', 'zaâtar', 'zealand', 'zebra', 'zebras', 'zereshk', 'zergüt', 'zest', 'zested', 'zestepi', 'zester', 'zhoug', 'zinfandel', 'zingermans', 'ziti', 'zucca', 'zucchini', 'zucchinis', 'zwieback', '½oz', 'árbol', 'épices', 'ñame', 'źrbol', '⅔lb', 'ﬁne', 'ﬁnely', 'ﬂakes', 'ﬂour']\n"
     ]
    }
   ],
   "source": [
    "tf_vec = TfidfVectorizer(stop_words=stopwords_ingr)\n",
    "ingr_tfidf = tf_vec.fit_transform(corpus)\n",
    "\n",
    "print(tf_vec.get_feature_names())"
   ]
  },
  {
   "cell_type": "code",
   "execution_count": 72,
   "metadata": {
    "ExecuteTime": {
     "end_time": "2019-11-15T07:07:05.692693Z",
     "start_time": "2019-11-15T07:07:03.929768Z"
    }
   },
   "outputs": [],
   "source": [
    "#lsa_10 = TruncatedSVD(10)  \n",
    "tf_lsa_10 = lsa_10.fit_transform(ingr_tfidf)"
   ]
  },
  {
   "cell_type": "code",
   "execution_count": 73,
   "metadata": {
    "ExecuteTime": {
     "end_time": "2019-11-15T07:07:05.736626Z",
     "start_time": "2019-11-15T07:07:05.695009Z"
    }
   },
   "outputs": [
    {
     "name": "stdout",
     "output_type": "stream",
     "text": [
      "\n",
      "Topic  0\n",
      "salt, ground, oil, pepper, sugar, kosher, olive, butter, lemon, garlic, unsalted, black, grated, juice, red, flour, leaves, cloves, white, extra\n",
      "\n",
      "Topic  1\n",
      "sugar, vanilla, flour, butter, unsalted, extract, purpose, baking, cream, egg, chocolate, powder, stick, milk, eggs, sticks, granulated, heavy, brown, soda\n",
      "\n",
      "Topic  2\n",
      "lemon, juice, grated, zest, extra, virgin, olive, orange, peel, parmesan, cheese, parsley, oz, cream, ice, leaves, chilled, mint, basil, italian\n",
      "\n",
      "Topic  3\n",
      "juice, lime, lemon, sauce, sugar, orange, ginger, cilantro, seeds, rice, soy, sesame, zest, coconut, water, ice, mint, chiles, chile, syrup\n",
      "\n",
      "Topic  4\n",
      "ground, kosher, lemon, pepper, black, salt, seeds, cinnamon, juice, zest, baking, cumin, flour, purpose, yogurt, coriander, plain, grated, paprika, soda\n",
      "\n",
      "Topic  5\n",
      "chicken, broth, butter, low, grated, stick, unsalted, lemon, sodium, thyme, juice, dry, cubes, water, celery, minced, sauce, stock, white, purpose\n",
      "\n",
      "Topic  6\n",
      "vinegar, wine, white, sugar, red, dry, cider, mustard, apple, unsalted, butter, lemon, sprigs, sherry, dijon, trimmed, seeds, thick, chilled, stick\n",
      "\n",
      "Topic  7\n",
      "cream, ground, heavy, whipping, chocolate, ice, black, pepper, vanilla, sprigs, whole, bittersweet, thyme, chilled, milk, sour, cumin, cinnamon, yolks, cubes\n",
      "\n",
      "Topic  8\n",
      "oz, grated, sesame, cream, rice, ground, sauce, toasted, black, kosher, heavy, soy, pepper, seeds, ginger, parmesan, cheese, scallions, vinegar, unseasoned\n",
      "\n",
      "Topic  9\n",
      "oz, ml, chicken, sprigs, water, leaf, dried, sea, flat, bay, leaves, broth, dry, thyme, unsalted, fl, rosemary, parsley, seeds, salt\n"
     ]
    }
   ],
   "source": [
    "functions.display_topics(lsa_10, tf_vec.get_feature_names(), 20) "
   ]
  },
  {
   "cell_type": "markdown",
   "metadata": {},
   "source": [
    "### Count Vectorized NMF, new stopwords"
   ]
  },
  {
   "cell_type": "code",
   "execution_count": 74,
   "metadata": {
    "ExecuteTime": {
     "end_time": "2019-11-15T07:07:26.139228Z",
     "start_time": "2019-11-15T07:07:05.751231Z"
    }
   },
   "outputs": [],
   "source": [
    "nmf_10 = NMF(n_components=10, init='nndsvda', max_iter=1000, tol=1e-4) \n",
    "rb_nmf_10 = nmf_10.fit_transform(ingr_ct) "
   ]
  },
  {
   "cell_type": "code",
   "execution_count": 75,
   "metadata": {
    "ExecuteTime": {
     "end_time": "2019-11-15T07:07:26.175951Z",
     "start_time": "2019-11-15T07:07:26.141794Z"
    }
   },
   "outputs": [
    {
     "name": "stdout",
     "output_type": "stream",
     "text": [
      "\n",
      "Topic  0\n",
      "oblaten, oil, expressed, vermont, ganache, layers, paprika, tip, clover, clotted, tostada, basil, tends, dpdspirits, scharfen, todd, mildflavored, baby, legs, irish\n",
      "\n",
      "Topic  1\n",
      "strong, butter, uncovered, floral, untoasted, cre, pulsing, baking, extact, safe, edges, portuguese, starter, eggcups, chocolate, brown, microwavable, heaping, vitamin, weelicious\n",
      "\n",
      "Topic  2\n",
      "grit, pelargonium, black, cinder, cultures, clover, giblet, cores, notice, portuguese, allspice, panfried, safe, cayenne, oblaten, cardamom, brown, olive, true, ganache\n",
      "\n",
      "Topic  3\n",
      "oblaten, sandbakkel, usually, reserve, lightlife, season, sometimes, giblet, cider, strong, semiboneless, ganache, mildflavored, gravy, layers, tienda, chiles, sauterne, asian, jivara\n",
      "\n",
      "Topic  4\n",
      "lee, jivara, yellowfin, onetik, lightlife, strong, layers, pealed, grapes, milliliter, gardein, vitamin, slather, walla, husked, paprika, spreadable, chilled, xadvirgin, cider\n",
      "\n",
      "Topic  5\n",
      "chicken, webstaurantstore, ganache, clover, broth, draught, olive, butter, drumettes, thicker, weelicious, layers, paprika, spirulina, mildflavored, looza, wheels, bay, black, celery\n",
      "\n",
      "Topic  6\n",
      "grapes, cheese, coarse, weelicious, papers, microwavable, yellowfin, eggcups, floral, butter, pealed, pulsing, onetik, edges, cre, notice, bread, skimmed, cheddar, irish\n",
      "\n",
      "Topic  7\n",
      "read, pelargonium, venison, wheels, olive, crunchy, fixed, slather, bell, draught, diamond, black, tip, sealing, penzeys, legs, gravy, ganache, honeynut, wrapping\n",
      "\n",
      "Topic  8\n",
      "ovalpie, misshapen, vitamin, safe, fit, black, expressed, reserve, scharfen, pelargonium, gardein, slather, filtered, microwavable, vermont, heaping, one, suribachi, unglazed, kept\n",
      "\n",
      "Topic  9\n",
      "safe, kolsch, pelargonium, black, season, scharfen, coal, slather, oblaten, fl, coarse, usually, murray, venison, pilaf, layers, crunchy, one, uncovered, stamens\n"
     ]
    }
   ],
   "source": [
    "functions.display_topics(nmf_10, ct_vectorizer.get_feature_names(), 20)"
   ]
  },
  {
   "cell_type": "code",
   "execution_count": 76,
   "metadata": {
    "ExecuteTime": {
     "end_time": "2019-11-15T07:07:26.182393Z",
     "start_time": "2019-11-15T07:07:26.178632Z"
    }
   },
   "outputs": [],
   "source": [
    "#nmf has some unusal words when using count-vectorized data (brand names?)"
   ]
  },
  {
   "cell_type": "code",
   "execution_count": 77,
   "metadata": {
    "ExecuteTime": {
     "end_time": "2019-11-15T07:07:35.705129Z",
     "start_time": "2019-11-15T07:07:26.184587Z"
    },
    "scrolled": true
   },
   "outputs": [],
   "source": [
    "nmf_5 = NMF(n_components=5, init='nndsvda', max_iter=1000, tol=1e-4) \n",
    "rb_nmf_5 = nmf_5.fit_transform(ingr_ct) "
   ]
  },
  {
   "cell_type": "code",
   "execution_count": 78,
   "metadata": {
    "ExecuteTime": {
     "end_time": "2019-11-15T07:07:35.735123Z",
     "start_time": "2019-11-15T07:07:35.706954Z"
    }
   },
   "outputs": [
    {
     "name": "stdout",
     "output_type": "stream",
     "text": [
      "\n",
      "Topic  0\n",
      "oblaten, oil, expressed, vermont, safe, ganache, read, pelargonium, kolsch, layers, venison, wheels, paprika, slather, clover, cheese, tip, black, tends, ovalpie\n",
      "\n",
      "Topic  1\n",
      "strong, butter, uncovered, safe, floral, cre, pulsing, untoasted, baking, extact, edges, portuguese, starter, eggcups, microwavable, weelicious, chocolate, heaping, brown, vitamin\n",
      "\n",
      "Topic  2\n",
      "grit, pelargonium, safe, black, kolsch, cultures, cinder, grapes, butter, olive, uncovered, clover, chicken, panfried, cayenne, ganache, weelicious, portuguese, cores, coarse\n",
      "\n",
      "Topic  3\n",
      "ganache, oblaten, sandbakkel, webstaurantstore, read, clover, chicken, usually, draught, olive, mildflavored, season, gravy, layers, reserve, cider, lightlife, slather, venison, giblet\n",
      "\n",
      "Topic  4\n",
      "lee, jivara, grapes, yellowfin, onetik, lightlife, pealed, strong, layers, milliliter, gardein, vitamin, walla, frisée, slather, husked, spreadable, paprika, cider, clotted\n"
     ]
    }
   ],
   "source": [
    "functions.display_topics(nmf_5, ct_vectorizer.get_feature_names(), 20)"
   ]
  },
  {
   "cell_type": "code",
   "execution_count": null,
   "metadata": {},
   "outputs": [],
   "source": []
  },
  {
   "cell_type": "markdown",
   "metadata": {},
   "source": [
    "### TF-IDF, NMF, new stopwords\n"
   ]
  },
  {
   "cell_type": "code",
   "execution_count": 79,
   "metadata": {
    "ExecuteTime": {
     "end_time": "2019-11-15T07:07:48.482333Z",
     "start_time": "2019-11-15T07:07:35.737567Z"
    }
   },
   "outputs": [],
   "source": [
    "nmf_10 = NMF(n_components=10, init='nndsvda', max_iter=500) \n",
    "rbtf_nmf_10 = nmf_10.fit_transform(ingr_tfidf) "
   ]
  },
  {
   "cell_type": "code",
   "execution_count": 80,
   "metadata": {
    "ExecuteTime": {
     "end_time": "2019-11-15T07:07:48.515632Z",
     "start_time": "2019-11-15T07:07:48.484303Z"
    }
   },
   "outputs": [
    {
     "name": "stdout",
     "output_type": "stream",
     "text": [
      "\n",
      "Topic  0\n",
      "grit, pelargonium, black, kolsch, safe, season, cultures, panfried, oblaten, cinder, cayenne, cores, xadvirgin, pistachios, murray, crunchy, scharfen, usually, clover, ganache\n",
      "\n",
      "Topic  1\n",
      "floral, pulsing, butter, uncovered, baking, strong, portuguese, starter, eggcups, safe, smoker, steaks, edges, extact, brown, untoasted, medieval, grams, smoothly, cinder\n",
      "\n",
      "Topic  2\n",
      "lee, jivara, yellowfin, onetik, grapes, pealed, strong, vitamin, gardein, milliliter, husked, chilled, hollandaise, frisée, giardiniera, stirred, spreadable, walla, xadvirgin, meringues\n",
      "\n",
      "Topic  3\n",
      "lightlife, cider, jivara, chiles, diamond, olive, sealing, chile, read, mildflavored, corkscrew, layers, israeli, walla, cocoa, gravy, draught, cultures, ganache, selection\n",
      "\n",
      "Topic  4\n",
      "oil, expressed, vermont, oblaten, read, venison, ganache, layers, wheels, slather, clover, tip, pelargonium, paprika, safe, todd, kolsch, crunchy, tostada, fixed\n",
      "\n",
      "Topic  5\n",
      "chicken, broth, looza, thicker, webstaurantstore, spirulina, drumettes, celery, smokies, bay, clover, ganache, paprika, lava, olive, wheels, olivenation, steeped, butter, draught\n",
      "\n",
      "Topic  6\n",
      "cheese, grapes, skimmed, papers, bread, weelicious, microwavable, coarse, tends, eggcups, bacon, cheddar, irish, butter, mortar, restaurant, pappadum, rectangles, habaneros, crumble\n",
      "\n",
      "Topic  7\n",
      "cre, untoasted, chocolate, strong, heaping, extact, unglazed, bittersweet, microwavable, ways, edges, husked, coco, seedpods, xanthum, chilled, cocoa, puffs, suribachi, weelicious\n",
      "\n",
      "Topic  8\n",
      "sandbakkel, reserve, semiboneless, sometimes, giblet, venison, tienda, season, oblaten, usually, sauterne, asian, uncured, webstaurantstore, strong, piave, brown, honeynut, mildflavored, gravy\n",
      "\n",
      "Topic  9\n",
      "ovalpie, misshapen, fit, vitamin, black, frisée, rectangles, pappadum, reserve, safe, gardein, overproof, expressed, ten, powders, clément, pelargonium, filtered, kept, seltzer\n"
     ]
    }
   ],
   "source": [
    "functions.display_topics(nmf_10, tf_vectorizer.get_feature_names(), 20)"
   ]
  },
  {
   "cell_type": "markdown",
   "metadata": {},
   "source": [
    "NMF has some unusal words, including words from other languages. Overall the NMF topics are nonsensical regardless of the number of topics. Choosing LSA for recommendations going forward."
   ]
  },
  {
   "cell_type": "markdown",
   "metadata": {},
   "source": [
    "# Find similar recipes within dataset\n",
    "## Cosine Similarity"
   ]
  },
  {
   "cell_type": "markdown",
   "metadata": {},
   "source": [
    "> cosine sim: from cos sim docs: input X, Y\n",
    "\n",
    "> X : ndarray or sparse array, shape: (n_samples_X, n_features) Input data.\n",
    "\n",
    "> Y : ndarray or sparse array, shape: (n_samples_Y, n_features) Input data. If None, the output will be the pairwise similarities between all samples in X. \n",
    "\n",
    "(previously running slowly because doing pairwise calculation between all documents in X; instead, want one vs. all)"
   ]
  },
  {
   "cell_type": "markdown",
   "metadata": {},
   "source": [
    "**Find the recipes with the highest cosine similarity to a few recipes, compare recommendations between ct-v data and tf-idf vectorized data.**"
   ]
  },
  {
   "cell_type": "markdown",
   "metadata": {},
   "source": [
    "### Count-Vectorized LSA"
   ]
  },
  {
   "cell_type": "markdown",
   "metadata": {},
   "source": [
    "#### Recipes similar to cookies"
   ]
  },
  {
   "cell_type": "code",
   "execution_count": 81,
   "metadata": {
    "ExecuteTime": {
     "end_time": "2019-11-15T07:07:48.528536Z",
     "start_time": "2019-11-15T07:07:48.518552Z"
    }
   },
   "outputs": [
    {
     "data": {
      "text/plain": [
       "Title                                     Instant Pot Lamb Haleem\n",
       "Ingredients     ['¾ cup assorted dals (such as chana dal, moon...\n",
       "Instructions    Combine dals, rice, and barley in a medium bow...\n",
       "Image_Name                                instant-pot-lamb-haleem\n",
       "Name: 8, dtype: object"
      ]
     },
     "execution_count": 81,
     "metadata": {},
     "output_type": "execute_result"
    }
   ],
   "source": [
    "data.iloc[8] #first we choose this recipe for recommendations"
   ]
  },
  {
   "cell_type": "code",
   "execution_count": 82,
   "metadata": {
    "ExecuteTime": {
     "end_time": "2019-11-15T07:07:48.549943Z",
     "start_time": "2019-11-15T07:07:48.530912Z"
    }
   },
   "outputs": [
    {
     "data": {
      "text/plain": [
       "'[\\'¾ cup assorted dals (such as chana dal, moong dal, masoor dal, and/or urad dal)\\', \\'¼ cup white jasmine rice or other long-grain rice\\', \\'¼ cup pearl barley\\', \\'½ lb. bone-in lamb stew meat\\', \\' tsp. kosher salt, divided, plus more\\', \\' \" piece fresh ginger\\', \\' medium shallots, thinly sliced\\', \\'⅓ cup ghee or vegetable oil\\', \\' garlic cloves, finely grated\\', \\' Tbsp. plus ½ tsp. garam masala\\', \\' tsp. (or more) cayenne pepper\\', \\' tsp. ground turmeric\\', \\' green Thai chiles, stems removed (optional)\\', \\'½ cup (lightly packed) chopped cilantro, plus more for serving\\', \\'½ white onion, finely chopped\\', \\' limes, cut into wedges\\']'"
      ]
     },
     "execution_count": 82,
     "metadata": {},
     "output_type": "execute_result"
    }
   ],
   "source": [
    "data_ingr[8] #ingredient list, before vectorizing and filtering out stopwords"
   ]
  },
  {
   "cell_type": "markdown",
   "metadata": {},
   "source": [
    "Find the cosine similarity between this recipe and the rest of the dimensionally-reduced (via LSA) dataset:"
   ]
  },
  {
   "cell_type": "code",
   "execution_count": 83,
   "metadata": {
    "ExecuteTime": {
     "end_time": "2019-11-15T07:07:48.584382Z",
     "start_time": "2019-11-15T07:07:48.552819Z"
    }
   },
   "outputs": [
    {
     "data": {
      "text/plain": [
       "array([[0.604, 0.557, 0.564, ..., 0.565, 0.129, 0.611]])"
      ]
     },
     "execution_count": 83,
     "metadata": {},
     "output_type": "execute_result"
    }
   ],
   "source": [
    "#lsa_10 = TruncatedSVD(10)  \n",
    "#ct_lsa_10 = lsa_10.fit_transform(ingr_ct)\n",
    "lsa_s_choc_ctv=cosine_similarity(ct_lsa_10[8].reshape(1, -1), ct_lsa_10).round(3) \n",
    "lsa_s_choc_ctv"
   ]
  },
  {
   "cell_type": "code",
   "execution_count": 84,
   "metadata": {
    "ExecuteTime": {
     "end_time": "2019-11-15T07:07:48.603223Z",
     "start_time": "2019-11-15T07:07:48.586638Z"
    }
   },
   "outputs": [
    {
     "data": {
      "text/plain": [
       "array([[5726, 1554, 1893, ..., 6330, 5011,    8]], dtype=int64)"
      ]
     },
     "execution_count": 84,
     "metadata": {},
     "output_type": "execute_result"
    }
   ],
   "source": [
    "#argsort returns sorted array pf indices with their values from low to high \n",
    "lsa_s_choc_ctv.argsort()"
   ]
  },
  {
   "cell_type": "code",
   "execution_count": 85,
   "metadata": {
    "ExecuteTime": {
     "end_time": "2019-11-15T07:07:48.622622Z",
     "start_time": "2019-11-15T07:07:48.605338Z"
    }
   },
   "outputs": [
    {
     "data": {
      "text/plain": [
       "array([[   8, 5011, 6330, ..., 1893, 1554, 5726]], dtype=int64)"
      ]
     },
     "execution_count": 85,
     "metadata": {},
     "output_type": "execute_result"
    }
   ],
   "source": [
    "a = lsa_s_choc_ctv.argsort()\n",
    "np.fliplr(a) #flip array sorted by argsort, slower though\n",
    "\n",
    "#expect the first result to be the recipe itself [3], with cosine similarity=1"
   ]
  },
  {
   "cell_type": "code",
   "execution_count": 86,
   "metadata": {
    "ExecuteTime": {
     "end_time": "2019-11-15T07:07:48.627660Z",
     "start_time": "2019-11-15T07:07:48.624813Z"
    }
   },
   "outputs": [],
   "source": [
    "#reverse array (-lsa_s) - sometimes order changes when flipped this way?\n",
    "#(-(lsa_s_choc)).argsort() "
   ]
  },
  {
   "cell_type": "code",
   "execution_count": 87,
   "metadata": {
    "ExecuteTime": {
     "end_time": "2019-11-15T07:07:48.649240Z",
     "start_time": "2019-11-15T07:07:48.641536Z"
    }
   },
   "outputs": [
    {
     "data": {
      "text/plain": [
       "Title                     Soba and Maitake Mushrooms in Soy Broth\n",
       "Ingredients     ['2 garlic cloves, peeled, crushed', '1 1\" pie...\n",
       "Instructions    Bring garlic, ginger, and 4 cups water to a bo...\n",
       "Image_Name       soba-and-maitake-mushrooms-in-soy-broth-51205280\n",
       "Name: 5011, dtype: object"
      ]
     },
     "execution_count": 87,
     "metadata": {},
     "output_type": "execute_result"
    }
   ],
   "source": [
    "#look at the other recipes, see if the recommendation makes sense\n",
    "data.iloc[5011]"
   ]
  },
  {
   "cell_type": "code",
   "execution_count": 88,
   "metadata": {
    "ExecuteTime": {
     "end_time": "2019-11-15T07:07:48.663138Z",
     "start_time": "2019-11-15T07:07:48.655314Z"
    }
   },
   "outputs": [
    {
     "data": {
      "text/plain": [
       "\"[' / tablespoons vegetable oil, such as grapeseed, divided', ' tablespoons rice wine vinegar', ' / tablespoons soy sauce', ' garlic cloves, finely grated, divided', ' teaspoons finely grated ginger', ' / tablespoon hot chile paste, such as sambal oelek', '/ teaspoon kosher salt', ' pork tenderloins (each about  pound)', ' tablespoons fish sauce', ' tablespoons lime juice', '/ teaspoon honey', '/ to  red Thai chile pepper, very thinly sliced', ' / tablespoons finely chopped roasted unsalted peanuts', ' / pounds Brussels sprouts, trimmed and halved', '/ cup low-sodium chicken broth or water', ' tablespoon butter', ' tablespoon roughly chopped mint', 'Large oven-safe skillet']\""
      ]
     },
     "execution_count": 88,
     "metadata": {},
     "output_type": "execute_result"
    }
   ],
   "source": [
    "data_ingr[1539]"
   ]
  },
  {
   "cell_type": "code",
   "execution_count": 89,
   "metadata": {
    "ExecuteTime": {
     "end_time": "2019-11-15T07:07:48.681343Z",
     "start_time": "2019-11-15T07:07:48.665753Z"
    }
   },
   "outputs": [
    {
     "data": {
      "text/plain": [
       "Title            Spicy Chicken Thighs with Rhubarb-Cucumber Salsa\n",
       "Ingredients     ['1 habanero, Scotch bonnet, or Thai chile, wi...\n",
       "Instructions    Preheat oven to 500°F. Line a baking sheet wit...\n",
       "Image_Name      spicy-chicken-thighs-with-rhubarb-cucumber-sal...\n",
       "Name: 6330, dtype: object"
      ]
     },
     "execution_count": 89,
     "metadata": {},
     "output_type": "execute_result"
    }
   ],
   "source": [
    "data.iloc[6330]"
   ]
  },
  {
   "cell_type": "code",
   "execution_count": 90,
   "metadata": {
    "ExecuteTime": {
     "end_time": "2019-11-15T07:07:48.693117Z",
     "start_time": "2019-11-15T07:07:48.684285Z"
    }
   },
   "outputs": [
    {
     "data": {
      "text/plain": [
       "'[\\' habanero, Scotch bonnet, or Thai chile, with seeds, stemmed\\', \\' garlic cloves\\', \\' scallions, thinly sliced, white and green parts divided\\', \\' tablespoon soy sauce\\', \\'/ cup olive oil\\', \\' large skin-on, bone-in chicken thighs\\', \\'Kosher salt\\', \\' / cups /\" cubes rhubarb\\', \\' cup /\" cubes unpeeled seeded English hothouse cucumber\\', \\'/ cup coarsely chopped fresh cilantro\\', \\' tablespoon honey\\', \\' tablespoon vegetable oil\\', \\' teaspoon fresh lime juice\\', \\'Freshly ground black pepper\\']'"
      ]
     },
     "execution_count": 90,
     "metadata": {},
     "output_type": "execute_result"
    }
   ],
   "source": [
    "data_ingr[6330]"
   ]
  },
  {
   "cell_type": "markdown",
   "metadata": {},
   "source": [
    "Yay! It worked! The two recipes most similar to Best Chocolate Chip Cookies are also cookies with chocolate"
   ]
  },
  {
   "cell_type": "code",
   "execution_count": 60,
   "metadata": {
    "ExecuteTime": {
     "end_time": "2019-11-15T07:07:48.702195Z",
     "start_time": "2019-11-15T07:07:48.696163Z"
    }
   },
   "outputs": [],
   "source": [
    "#quickly look at the most and least similar recipes\n",
    "rev_a = np.fliplr(a)"
   ]
  },
  {
   "cell_type": "code",
   "execution_count": 61,
   "metadata": {
    "ExecuteTime": {
     "end_time": "2019-11-15T07:07:48.829878Z",
     "start_time": "2019-11-15T07:07:48.708082Z"
    }
   },
   "outputs": [
    {
     "data": {
      "text/html": [
       "<div>\n",
       "<style scoped>\n",
       "    .dataframe tbody tr th:only-of-type {\n",
       "        vertical-align: middle;\n",
       "    }\n",
       "\n",
       "    .dataframe tbody tr th {\n",
       "        vertical-align: top;\n",
       "    }\n",
       "\n",
       "    .dataframe thead th {\n",
       "        text-align: right;\n",
       "    }\n",
       "</style>\n",
       "<table border=\"1\" class=\"dataframe\">\n",
       "  <thead>\n",
       "    <tr style=\"text-align: right;\">\n",
       "      <th></th>\n",
       "      <th>title</th>\n",
       "      <th>ingredients</th>\n",
       "      <th>instructions</th>\n",
       "    </tr>\n",
       "  </thead>\n",
       "  <tbody>\n",
       "    <tr>\n",
       "      <th>8</th>\n",
       "      <td>Classic Peanut Butter Cookies</td>\n",
       "      <td>1 cup unsalted butter ; 1 cup crunchy peanut b...</td>\n",
       "      <td>Cream butter, peanut butter, and sugars togeth...</td>\n",
       "    </tr>\n",
       "    <tr>\n",
       "      <th>3552</th>\n",
       "      <td>Chef John's Peanut Butter Cookies</td>\n",
       "      <td>½ cup unsalted butter ; ½ cup white sugar ; ½ ...</td>\n",
       "      <td>Beat butter, white sugar, brown sugar, peanut ...</td>\n",
       "    </tr>\n",
       "    <tr>\n",
       "      <th>28309</th>\n",
       "      <td>Heart-Shaped Cookies</td>\n",
       "      <td>1 cup white sugar ; 1 cup unsalted butter ; 1 ...</td>\n",
       "      <td>Preheat the oven to 350 degrees F (175 degrees...</td>\n",
       "    </tr>\n",
       "    <tr>\n",
       "      <th>17686</th>\n",
       "      <td>Jeanne's Chocolate Kiss Cookies</td>\n",
       "      <td>1 ¼ cups butter ; 2 cups white sugar ; 2  egg ...</td>\n",
       "      <td>Preheat oven to 350 degrees F (175 degrees C)....</td>\n",
       "    </tr>\n",
       "    <tr>\n",
       "      <th>1030</th>\n",
       "      <td>Brookies (Brownie Cookies)</td>\n",
       "      <td>½ cup butter, softened ; ½ cup light brown sug...</td>\n",
       "      <td>Preheat oven to 350 degrees F (175 degrees C)....</td>\n",
       "    </tr>\n",
       "    <tr>\n",
       "      <th>...</th>\n",
       "      <td>...</td>\n",
       "      <td>...</td>\n",
       "      <td>...</td>\n",
       "    </tr>\n",
       "    <tr>\n",
       "      <th>22089</th>\n",
       "      <td>Pizzadillas</td>\n",
       "      <td>4 each Mission® Sundried Tomato Basil Wraps ; ...</td>\n",
       "      <td>Evenly spread 3 tablespoons of marinara on eac...</td>\n",
       "    </tr>\n",
       "    <tr>\n",
       "      <th>4533</th>\n",
       "      <td>Pepperoncini Beef</td>\n",
       "      <td>1 (3 pound) beef chuck roast ; 4 cloves garlic...</td>\n",
       "      <td>Make small cuts in roast, and insert garlic sl...</td>\n",
       "    </tr>\n",
       "    <tr>\n",
       "      <th>20395</th>\n",
       "      <td>A Potato Salad Sandwich</td>\n",
       "      <td>1  hamburger bun ; 1 ½ tablespoons mayonnaise ...</td>\n",
       "      <td>Open bun and spread each side with mayonnaise....</td>\n",
       "    </tr>\n",
       "    <tr>\n",
       "      <th>32776</th>\n",
       "      <td>Summer Salad on a Stick</td>\n",
       "      <td>8  honeydew melon balls ; 16  salami ; 24  bab...</td>\n",
       "      <td>Thread 1 melon ball, 2 slices salami, and 3 ar...</td>\n",
       "    </tr>\n",
       "    <tr>\n",
       "      <th>34897</th>\n",
       "      <td>Avo Spoon Snack</td>\n",
       "      <td>2  Avocados from Mexico ;   Salsa ;   Balsamic...</td>\n",
       "      <td>Cut avocados lengthwise and remove pits. Drizz...</td>\n",
       "    </tr>\n",
       "  </tbody>\n",
       "</table>\n",
       "<p>35516 rows × 3 columns</p>\n",
       "</div>"
      ],
      "text/plain": [
       "                                   title  \\\n",
       "8          Classic Peanut Butter Cookies   \n",
       "3552   Chef John's Peanut Butter Cookies   \n",
       "28309               Heart-Shaped Cookies   \n",
       "17686    Jeanne's Chocolate Kiss Cookies   \n",
       "1030          Brookies (Brownie Cookies)   \n",
       "...                                  ...   \n",
       "22089                        Pizzadillas   \n",
       "4533                   Pepperoncini Beef   \n",
       "20395            A Potato Salad Sandwich   \n",
       "32776            Summer Salad on a Stick   \n",
       "34897                    Avo Spoon Snack   \n",
       "\n",
       "                                             ingredients  \\\n",
       "8      1 cup unsalted butter ; 1 cup crunchy peanut b...   \n",
       "3552   ½ cup unsalted butter ; ½ cup white sugar ; ½ ...   \n",
       "28309  1 cup white sugar ; 1 cup unsalted butter ; 1 ...   \n",
       "17686  1 ¼ cups butter ; 2 cups white sugar ; 2  egg ...   \n",
       "1030   ½ cup butter, softened ; ½ cup light brown sug...   \n",
       "...                                                  ...   \n",
       "22089  4 each Mission® Sundried Tomato Basil Wraps ; ...   \n",
       "4533   1 (3 pound) beef chuck roast ; 4 cloves garlic...   \n",
       "20395  1  hamburger bun ; 1 ½ tablespoons mayonnaise ...   \n",
       "32776  8  honeydew melon balls ; 16  salami ; 24  bab...   \n",
       "34897  2  Avocados from Mexico ;   Salsa ;   Balsamic...   \n",
       "\n",
       "                                            instructions  \n",
       "8      Cream butter, peanut butter, and sugars togeth...  \n",
       "3552   Beat butter, white sugar, brown sugar, peanut ...  \n",
       "28309  Preheat the oven to 350 degrees F (175 degrees...  \n",
       "17686  Preheat oven to 350 degrees F (175 degrees C)....  \n",
       "1030   Preheat oven to 350 degrees F (175 degrees C)....  \n",
       "...                                                  ...  \n",
       "22089  Evenly spread 3 tablespoons of marinara on eac...  \n",
       "4533   Make small cuts in roast, and insert garlic sl...  \n",
       "20395  Open bun and spread each side with mayonnaise....  \n",
       "32776  Thread 1 melon ball, 2 slices salami, and 3 ar...  \n",
       "34897  Cut avocados lengthwise and remove pits. Drizz...  \n",
       "\n",
       "[35516 rows x 3 columns]"
      ]
     },
     "execution_count": 61,
     "metadata": {},
     "output_type": "execute_result"
    }
   ],
   "source": [
    "data.iloc[rev_a[0]]"
   ]
  },
  {
   "cell_type": "markdown",
   "metadata": {},
   "source": [
    "I'm a bit surprised by the least-similar recipe (as I like both cookies and pretzels, and they are not that different to make). This is likely due to it having missing ingredients."
   ]
  },
  {
   "cell_type": "code",
   "execution_count": 62,
   "metadata": {},
   "outputs": [],
   "source": []
  },
  {
   "cell_type": "code",
   "execution_count": null,
   "metadata": {},
   "outputs": [],
   "source": []
  },
  {
   "cell_type": "markdown",
   "metadata": {},
   "source": [
    "#### Fried Rice"
   ]
  },
  {
   "cell_type": "code",
   "execution_count": 91,
   "metadata": {
    "ExecuteTime": {
     "end_time": "2019-11-15T07:07:48.842819Z",
     "start_time": "2019-11-15T07:07:48.833264Z"
    }
   },
   "outputs": [
    {
     "data": {
      "text/plain": [
       "Title                                                Newton's Law\n",
       "Ingredients     ['1 teaspoon dark brown sugar', '1 teaspoon ho...\n",
       "Instructions    Stir together brown sugar and hot water in a c...\n",
       "Image_Name                     newtons-law-apple-bourbon-cocktail\n",
       "Name: 4, dtype: object"
      ]
     },
     "execution_count": 91,
     "metadata": {},
     "output_type": "execute_result"
    }
   ],
   "source": [
    "data.iloc[4]"
   ]
  },
  {
   "cell_type": "code",
   "execution_count": 92,
   "metadata": {
    "ExecuteTime": {
     "end_time": "2019-11-15T07:07:48.878650Z",
     "start_time": "2019-11-15T07:07:48.850258Z"
    }
   },
   "outputs": [
    {
     "data": {
      "text/plain": [
       "array([[0.245, 0.222, 0.589, ..., 0.338, 0.427, 0.418]])"
      ]
     },
     "execution_count": 92,
     "metadata": {},
     "output_type": "execute_result"
    }
   ],
   "source": [
    "lsa_s_rst_ct=cosine_similarity(ct_lsa_10[4].reshape(1, -1), ct_lsa_10).round(3) \n",
    "lsa_s_rst_ct"
   ]
  },
  {
   "cell_type": "code",
   "execution_count": 93,
   "metadata": {
    "ExecuteTime": {
     "end_time": "2019-11-15T07:07:48.903114Z",
     "start_time": "2019-11-15T07:07:48.883630Z"
    }
   },
   "outputs": [
    {
     "data": {
      "text/plain": [
       "array([[10189,   459,  2174, ..., 11383,     6,     4]], dtype=int64)"
      ]
     },
     "execution_count": 93,
     "metadata": {},
     "output_type": "execute_result"
    }
   ],
   "source": [
    "rst_ct = lsa_s_rst_ct.argsort()\n",
    "rst_ct"
   ]
  },
  {
   "cell_type": "code",
   "execution_count": 94,
   "metadata": {
    "ExecuteTime": {
     "end_time": "2019-11-15T07:07:48.912949Z",
     "start_time": "2019-11-15T07:07:48.905819Z"
    }
   },
   "outputs": [
    {
     "data": {
      "text/plain": [
       "array([[    4,     6, 11383, ...,  2174,   459, 10189]], dtype=int64)"
      ]
     },
     "execution_count": 94,
     "metadata": {},
     "output_type": "execute_result"
    }
   ],
   "source": [
    "sorted_roast_ct= np.fliplr(rst_ct) #expect the first result to be the recipe itself [3], with cosine similarity=1\n",
    "sorted_roast_ct"
   ]
  },
  {
   "cell_type": "code",
   "execution_count": 95,
   "metadata": {
    "ExecuteTime": {
     "end_time": "2019-11-15T07:07:48.968653Z",
     "start_time": "2019-11-15T07:07:48.915689Z"
    }
   },
   "outputs": [
    {
     "data": {
      "text/html": [
       "<div>\n",
       "<style scoped>\n",
       "    .dataframe tbody tr th:only-of-type {\n",
       "        vertical-align: middle;\n",
       "    }\n",
       "\n",
       "    .dataframe tbody tr th {\n",
       "        vertical-align: top;\n",
       "    }\n",
       "\n",
       "    .dataframe thead th {\n",
       "        text-align: right;\n",
       "    }\n",
       "</style>\n",
       "<table border=\"1\" class=\"dataframe\">\n",
       "  <thead>\n",
       "    <tr style=\"text-align: right;\">\n",
       "      <th></th>\n",
       "      <th>Title</th>\n",
       "      <th>Ingredients</th>\n",
       "      <th>Instructions</th>\n",
       "      <th>Image_Name</th>\n",
       "    </tr>\n",
       "  </thead>\n",
       "  <tbody>\n",
       "    <tr>\n",
       "      <th>4</th>\n",
       "      <td>Newton's Law</td>\n",
       "      <td>['1 teaspoon dark brown sugar', '1 teaspoon ho...</td>\n",
       "      <td>Stir together brown sugar and hot water in a c...</td>\n",
       "      <td>newtons-law-apple-bourbon-cocktail</td>\n",
       "    </tr>\n",
       "    <tr>\n",
       "      <th>6</th>\n",
       "      <td>Apples and Oranges</td>\n",
       "      <td>['3 oz. Grand Marnier', '1 oz. Amaro Averna', ...</td>\n",
       "      <td>Add 3 oz. Grand Marnier, 1 oz. Amaro Averna, a...</td>\n",
       "      <td>apples-and-oranges-spiked-cider</td>\n",
       "    </tr>\n",
       "    <tr>\n",
       "      <th>11383</th>\n",
       "      <td>Pear-Cranberry Mincemeat Lattice Pie</td>\n",
       "      <td>['2 firm-ripe Anjou pears, peeled, cored, and ...</td>\n",
       "      <td>Stir together all ingredients except pastry do...</td>\n",
       "      <td>pear-cranberry-mincemeat-lattice-pie-236429</td>\n",
       "    </tr>\n",
       "    <tr>\n",
       "      <th>12644</th>\n",
       "      <td>Kiwi Tart</td>\n",
       "      <td>['1 (9-inch) round of refrigerated pie dough (...</td>\n",
       "      <td>Put oven rack in middle position and preheat o...</td>\n",
       "      <td>kiwi-tart-231819</td>\n",
       "    </tr>\n",
       "    <tr>\n",
       "      <th>11379</th>\n",
       "      <td>Mascarpone and Prune Tartlets</td>\n",
       "      <td>['10 pitted prunes (2 oz; sometimes called dri...</td>\n",
       "      <td>Bring prunes and Armagnac just to a simmer in ...</td>\n",
       "      <td>mascarpone-and-prune-tartlets-236435</td>\n",
       "    </tr>\n",
       "    <tr>\n",
       "      <th>...</th>\n",
       "      <td>...</td>\n",
       "      <td>...</td>\n",
       "      <td>...</td>\n",
       "      <td>...</td>\n",
       "    </tr>\n",
       "    <tr>\n",
       "      <th>922</th>\n",
       "      <td>Shingled Sweet Potatoes with Harissa</td>\n",
       "      <td>['2/3 cup plus 2 Tbsp. extra-virgin olive oil'...</td>\n",
       "      <td>Preheat oven to 400°F. Whisk 2/3 cup oil, 2/3 ...</td>\n",
       "      <td>shingled-sweet-potatoes-with-harissa</td>\n",
       "    </tr>\n",
       "    <tr>\n",
       "      <th>10756</th>\n",
       "      <td>Warm Potato Salad with Bacon</td>\n",
       "      <td>['3 pound medium boiling potatoes, scrubbed', ...</td>\n",
       "      <td>Cover potatoes generously with cold salted wat...</td>\n",
       "      <td>warm-potato-salad-with-bacon-238933</td>\n",
       "    </tr>\n",
       "    <tr>\n",
       "      <th>2174</th>\n",
       "      <td>Gluten-Free Sticky Rice Buns</td>\n",
       "      <td>['2 cups white sushi rice', '2 teaspoons koshe...</td>\n",
       "      <td>Bring rice (do not rinse rice before cooking t...</td>\n",
       "      <td>gluten-free-sticky-rice-buns</td>\n",
       "    </tr>\n",
       "    <tr>\n",
       "      <th>459</th>\n",
       "      <td>Oysters with Balsamic</td>\n",
       "      <td>['24 raw oysters, freshly shucked', 'Balsamic ...</td>\n",
       "      <td>Spoon a few drops of vinegar over each oyster ...</td>\n",
       "      <td>oysters-with-balsamicandnbsp</td>\n",
       "    </tr>\n",
       "    <tr>\n",
       "      <th>10189</th>\n",
       "      <td>Chicken with Shallots, Prunes, and Armagnac</td>\n",
       "      <td>['1 cup large pitted prunes (about 20)', '2/3 ...</td>\n",
       "      <td>Boil prunes with 1/3 cup Armagnac in small sau...</td>\n",
       "      <td>chicken-with-shallots-prunes-and-armagnac-241327</td>\n",
       "    </tr>\n",
       "  </tbody>\n",
       "</table>\n",
       "<p>13488 rows × 4 columns</p>\n",
       "</div>"
      ],
      "text/plain": [
       "                                             Title  \\\n",
       "4                                     Newton's Law   \n",
       "6                               Apples and Oranges   \n",
       "11383         Pear-Cranberry Mincemeat Lattice Pie   \n",
       "12644                                    Kiwi Tart   \n",
       "11379                Mascarpone and Prune Tartlets   \n",
       "...                                            ...   \n",
       "922           Shingled Sweet Potatoes with Harissa   \n",
       "10756                 Warm Potato Salad with Bacon   \n",
       "2174                  Gluten-Free Sticky Rice Buns   \n",
       "459                          Oysters with Balsamic   \n",
       "10189  Chicken with Shallots, Prunes, and Armagnac   \n",
       "\n",
       "                                             Ingredients  \\\n",
       "4      ['1 teaspoon dark brown sugar', '1 teaspoon ho...   \n",
       "6      ['3 oz. Grand Marnier', '1 oz. Amaro Averna', ...   \n",
       "11383  ['2 firm-ripe Anjou pears, peeled, cored, and ...   \n",
       "12644  ['1 (9-inch) round of refrigerated pie dough (...   \n",
       "11379  ['10 pitted prunes (2 oz; sometimes called dri...   \n",
       "...                                                  ...   \n",
       "922    ['2/3 cup plus 2 Tbsp. extra-virgin olive oil'...   \n",
       "10756  ['3 pound medium boiling potatoes, scrubbed', ...   \n",
       "2174   ['2 cups white sushi rice', '2 teaspoons koshe...   \n",
       "459    ['24 raw oysters, freshly shucked', 'Balsamic ...   \n",
       "10189  ['1 cup large pitted prunes (about 20)', '2/3 ...   \n",
       "\n",
       "                                            Instructions  \\\n",
       "4      Stir together brown sugar and hot water in a c...   \n",
       "6      Add 3 oz. Grand Marnier, 1 oz. Amaro Averna, a...   \n",
       "11383  Stir together all ingredients except pastry do...   \n",
       "12644  Put oven rack in middle position and preheat o...   \n",
       "11379  Bring prunes and Armagnac just to a simmer in ...   \n",
       "...                                                  ...   \n",
       "922    Preheat oven to 400°F. Whisk 2/3 cup oil, 2/3 ...   \n",
       "10756  Cover potatoes generously with cold salted wat...   \n",
       "2174   Bring rice (do not rinse rice before cooking t...   \n",
       "459    Spoon a few drops of vinegar over each oyster ...   \n",
       "10189  Boil prunes with 1/3 cup Armagnac in small sau...   \n",
       "\n",
       "                                             Image_Name  \n",
       "4                    newtons-law-apple-bourbon-cocktail  \n",
       "6                       apples-and-oranges-spiked-cider  \n",
       "11383       pear-cranberry-mincemeat-lattice-pie-236429  \n",
       "12644                                  kiwi-tart-231819  \n",
       "11379              mascarpone-and-prune-tartlets-236435  \n",
       "...                                                 ...  \n",
       "922                shingled-sweet-potatoes-with-harissa  \n",
       "10756               warm-potato-salad-with-bacon-238933  \n",
       "2174                       gluten-free-sticky-rice-buns  \n",
       "459                        oysters-with-balsamicandnbsp  \n",
       "10189  chicken-with-shallots-prunes-and-armagnac-241327  \n",
       "\n",
       "[13488 rows x 4 columns]"
      ]
     },
     "execution_count": 95,
     "metadata": {},
     "output_type": "execute_result"
    }
   ],
   "source": [
    "data.iloc[sorted_roast_ct[0]]"
   ]
  },
  {
   "cell_type": "markdown",
   "metadata": {},
   "source": [
    "So it seems for this slowcooker pot roast, the count-vectorized LSA model is recommending other European meat dishes with condensed cream of mushroom soup and some kind of noodles.\n",
    "\n",
    "The 4 least similar recipes are all consistently drinks.\n",
    "\n",
    "So does it recommend drink recipes for drinks?"
   ]
  },
  {
   "cell_type": "markdown",
   "metadata": {},
   "source": [
    "#### Fizzy drink"
   ]
  },
  {
   "cell_type": "code",
   "execution_count": 98,
   "metadata": {
    "ExecuteTime": {
     "end_time": "2019-11-15T07:07:48.979435Z",
     "start_time": "2019-11-15T07:07:48.971183Z"
    }
   },
   "outputs": [
    {
     "data": {
      "text/plain": [
       "title                               The REAL Long Island Iced Tea\n",
       "ingredients     ½ fluid ounce vodka ; ½ fluid ounce rum ; ½ fl...\n",
       "instructions    Fill a cocktail shaker with ice. Pour vodka, r...\n",
       "Name: 143, dtype: object"
      ]
     },
     "execution_count": 98,
     "metadata": {},
     "output_type": "execute_result"
    }
   ],
   "source": [
    "data.iloc[143]"
   ]
  },
  {
   "cell_type": "code",
   "execution_count": 100,
   "metadata": {
    "ExecuteTime": {
     "end_time": "2019-11-15T07:07:49.007820Z",
     "start_time": "2019-11-15T07:07:48.982318Z"
    }
   },
   "outputs": [
    {
     "data": {
      "text/plain": [
       "array([[ 0.432,  0.538,  0.185, ..., -0.064,  0.453,  0.396]])"
      ]
     },
     "execution_count": 100,
     "metadata": {},
     "output_type": "execute_result"
    }
   ],
   "source": [
    "lsa_s_fizz_ct=cosine_similarity(ct_lsa_10[143].reshape(1, -1), ct_lsa_10).round(3) \n",
    "lsa_s_fizz_ct"
   ]
  },
  {
   "cell_type": "code",
   "execution_count": 101,
   "metadata": {
    "ExecuteTime": {
     "end_time": "2019-11-15T07:07:49.028885Z",
     "start_time": "2019-11-15T07:07:49.010619Z"
    }
   },
   "outputs": [
    {
     "data": {
      "text/plain": [
       "array([[14321, 33443,  1684, ..., 35448, 25189,   143]], dtype=int64)"
      ]
     },
     "execution_count": 101,
     "metadata": {},
     "output_type": "execute_result"
    }
   ],
   "source": [
    "fizz_ct = lsa_s_fizz_ct.argsort()\n",
    "fizz_ct"
   ]
  },
  {
   "cell_type": "code",
   "execution_count": 102,
   "metadata": {
    "ExecuteTime": {
     "end_time": "2019-11-15T07:07:49.038191Z",
     "start_time": "2019-11-15T07:07:49.031243Z"
    }
   },
   "outputs": [
    {
     "data": {
      "text/plain": [
       "array([[  143, 25189, 35448, ...,  1684, 33443, 14321]], dtype=int64)"
      ]
     },
     "execution_count": 102,
     "metadata": {},
     "output_type": "execute_result"
    }
   ],
   "source": [
    "sorted_fizz_ct= np.fliplr(fizz_ct) #expect the first result to be the recipe itself [3], with cosine similarity=1\n",
    "sorted_fizz_ct\n"
   ]
  },
  {
   "cell_type": "code",
   "execution_count": 103,
   "metadata": {
    "ExecuteTime": {
     "end_time": "2019-11-15T07:07:49.057011Z",
     "start_time": "2019-11-15T07:07:49.040635Z"
    }
   },
   "outputs": [
    {
     "data": {
      "text/plain": [
       "'½ fluid ounce vodka ; ½ fluid ounce rum ; ½ fluid ounce gin ; ½ fluid ounce tequila ; ½ fluid ounce triple sec (orange-flavored liqueur) ;  fluid ounce sweet and sour mix ;  fluid ounce cola, or to taste ;   lemon slice'"
      ]
     },
     "execution_count": 103,
     "metadata": {},
     "output_type": "execute_result"
    }
   ],
   "source": [
    "data_ingr[143]"
   ]
  },
  {
   "cell_type": "code",
   "execution_count": 104,
   "metadata": {
    "ExecuteTime": {
     "end_time": "2019-11-15T07:07:49.067439Z",
     "start_time": "2019-11-15T07:07:49.060392Z"
    }
   },
   "outputs": [
    {
     "data": {
      "text/plain": [
       "' fluid ounces lemon-lime soda (such as Sprite®), or more to taste ;  (. fluid ounce) jigger grenadine syrup ;  scoop vanilla ice cream, or more to taste'"
      ]
     },
     "execution_count": 104,
     "metadata": {},
     "output_type": "execute_result"
    }
   ],
   "source": [
    "data_ingr[25189]"
   ]
  },
  {
   "cell_type": "code",
   "execution_count": 105,
   "metadata": {
    "ExecuteTime": {
     "end_time": "2019-11-15T07:07:49.120935Z",
     "start_time": "2019-11-15T07:07:49.070341Z"
    }
   },
   "outputs": [
    {
     "data": {
      "text/html": [
       "<div>\n",
       "<style scoped>\n",
       "    .dataframe tbody tr th:only-of-type {\n",
       "        vertical-align: middle;\n",
       "    }\n",
       "\n",
       "    .dataframe tbody tr th {\n",
       "        vertical-align: top;\n",
       "    }\n",
       "\n",
       "    .dataframe thead th {\n",
       "        text-align: right;\n",
       "    }\n",
       "</style>\n",
       "<table border=\"1\" class=\"dataframe\">\n",
       "  <thead>\n",
       "    <tr style=\"text-align: right;\">\n",
       "      <th></th>\n",
       "      <th>title</th>\n",
       "      <th>ingredients</th>\n",
       "      <th>instructions</th>\n",
       "    </tr>\n",
       "  </thead>\n",
       "  <tbody>\n",
       "    <tr>\n",
       "      <th>143</th>\n",
       "      <td>The REAL Long Island Iced Tea</td>\n",
       "      <td>½ fluid ounce vodka ; ½ fluid ounce rum ; ½ fl...</td>\n",
       "      <td>Fill a cocktail shaker with ice. Pour vodka, r...</td>\n",
       "    </tr>\n",
       "    <tr>\n",
       "      <th>25189</th>\n",
       "      <td>Shirley Temple Ice Cream Float</td>\n",
       "      <td>8 fluid ounces lemon-lime soda (such as Sprite...</td>\n",
       "      <td>Pour soda into a mug and mix in grenadine. Car...</td>\n",
       "    </tr>\n",
       "    <tr>\n",
       "      <th>35448</th>\n",
       "      <td>Chipotle Guacamole</td>\n",
       "      <td>2  avocados, peeled, seeded and cubed ; 1 tabl...</td>\n",
       "      <td>Mash together cubed avocado, lime juice, sour ...</td>\n",
       "    </tr>\n",
       "    <tr>\n",
       "      <th>8702</th>\n",
       "      <td>The Real Rum Runner</td>\n",
       "      <td>2 cups ice, divided, or as needed ; 1 fluid ou...</td>\n",
       "      <td>Combine 1 cup ice, pineapple juice, orange jui...</td>\n",
       "    </tr>\n",
       "    <tr>\n",
       "      <th>17219</th>\n",
       "      <td>Strawberry Milkshake</td>\n",
       "      <td>13  fresh strawberries ; 4 scoops strawberry i...</td>\n",
       "      <td>Blend strawberries, ice cream, milk, honey, an...</td>\n",
       "    </tr>\n",
       "    <tr>\n",
       "      <th>...</th>\n",
       "      <td>...</td>\n",
       "      <td>...</td>\n",
       "      <td>...</td>\n",
       "    </tr>\n",
       "    <tr>\n",
       "      <th>16448</th>\n",
       "      <td>Spinach Salad with Peaches and Pecans</td>\n",
       "      <td>¾ cup pecans ; 2  ripe peaches ; 4 cups baby s...</td>\n",
       "      <td>Preheat oven to 350 degrees F (175 degrees C)....</td>\n",
       "    </tr>\n",
       "    <tr>\n",
       "      <th>33912</th>\n",
       "      <td>Runners Trail Mix</td>\n",
       "      <td>1 cup  dried cherries ; 1 cup walnut halves ; ...</td>\n",
       "      <td>Mix cherries, walnuts, pumpkin seeds, soy nuts...</td>\n",
       "    </tr>\n",
       "    <tr>\n",
       "      <th>1684</th>\n",
       "      <td>Herbs de Provence</td>\n",
       "      <td>2 tablespoons dried rosemary ; 1 tablespoon fe...</td>\n",
       "      <td>Grind rosemary and fennel seed in a spice grin...</td>\n",
       "    </tr>\n",
       "    <tr>\n",
       "      <th>33443</th>\n",
       "      <td>Festive Nut Bowl</td>\n",
       "      <td>1 cup macadamia nuts ; 1 cup cashews ; 1 cup s...</td>\n",
       "      <td>In a large bowl, mix together macadamia nuts, ...</td>\n",
       "    </tr>\n",
       "    <tr>\n",
       "      <th>14321</th>\n",
       "      <td>Italian Seasoning II</td>\n",
       "      <td>2 tablespoons dried basil ; 2 tablespoons drie...</td>\n",
       "      <td>In a food processor, combine basil, oregano, t...</td>\n",
       "    </tr>\n",
       "  </tbody>\n",
       "</table>\n",
       "<p>35516 rows × 3 columns</p>\n",
       "</div>"
      ],
      "text/plain": [
       "                                       title  \\\n",
       "143            The REAL Long Island Iced Tea   \n",
       "25189         Shirley Temple Ice Cream Float   \n",
       "35448                     Chipotle Guacamole   \n",
       "8702                     The Real Rum Runner   \n",
       "17219                   Strawberry Milkshake   \n",
       "...                                      ...   \n",
       "16448  Spinach Salad with Peaches and Pecans   \n",
       "33912                      Runners Trail Mix   \n",
       "1684                       Herbs de Provence   \n",
       "33443                       Festive Nut Bowl   \n",
       "14321                   Italian Seasoning II   \n",
       "\n",
       "                                             ingredients  \\\n",
       "143    ½ fluid ounce vodka ; ½ fluid ounce rum ; ½ fl...   \n",
       "25189  8 fluid ounces lemon-lime soda (such as Sprite...   \n",
       "35448  2  avocados, peeled, seeded and cubed ; 1 tabl...   \n",
       "8702   2 cups ice, divided, or as needed ; 1 fluid ou...   \n",
       "17219  13  fresh strawberries ; 4 scoops strawberry i...   \n",
       "...                                                  ...   \n",
       "16448  ¾ cup pecans ; 2  ripe peaches ; 4 cups baby s...   \n",
       "33912  1 cup  dried cherries ; 1 cup walnut halves ; ...   \n",
       "1684   2 tablespoons dried rosemary ; 1 tablespoon fe...   \n",
       "33443  1 cup macadamia nuts ; 1 cup cashews ; 1 cup s...   \n",
       "14321  2 tablespoons dried basil ; 2 tablespoons drie...   \n",
       "\n",
       "                                            instructions  \n",
       "143    Fill a cocktail shaker with ice. Pour vodka, r...  \n",
       "25189  Pour soda into a mug and mix in grenadine. Car...  \n",
       "35448  Mash together cubed avocado, lime juice, sour ...  \n",
       "8702   Combine 1 cup ice, pineapple juice, orange jui...  \n",
       "17219  Blend strawberries, ice cream, milk, honey, an...  \n",
       "...                                                  ...  \n",
       "16448  Preheat oven to 350 degrees F (175 degrees C)....  \n",
       "33912  Mix cherries, walnuts, pumpkin seeds, soy nuts...  \n",
       "1684   Grind rosemary and fennel seed in a spice grin...  \n",
       "33443  In a large bowl, mix together macadamia nuts, ...  \n",
       "14321  In a food processor, combine basil, oregano, t...  \n",
       "\n",
       "[35516 rows x 3 columns]"
      ]
     },
     "execution_count": 105,
     "metadata": {},
     "output_type": "execute_result"
    }
   ],
   "source": [
    "data.iloc[sorted_fizz_ct[0]]"
   ]
  },
  {
   "cell_type": "markdown",
   "metadata": {},
   "source": [
    "Yes! The top 4 most similar recipes to Tangerine-Gin Fizz are all also cocktails, and even all involve some kind of citrus fruit (tangerine, grapefruit, lime). The top recommendation, Grapefruit Sparkle, is also a fizzy drink (it probably caught the word \"sparkling\" in a topic).\n",
    "\n",
    "The least similar ones are less consistent at first glance, from ribs to wakame (Japanese seaweed salad) and chocolate. But the recommendation is topic-based, and the topics are not exclusively ingredient items (also involve some description of the items which hints at the preparation method)."
   ]
  },
  {
   "cell_type": "markdown",
   "metadata": {},
   "source": [
    "### TF-IDF LSA\n",
    "\n",
    "#### Choco cookies\n",
    "check recommendations for the same cookie recipe"
   ]
  },
  {
   "cell_type": "code",
   "execution_count": 131,
   "metadata": {
    "ExecuteTime": {
     "end_time": "2019-11-15T07:07:49.129758Z",
     "start_time": "2019-11-15T07:07:49.123267Z"
    }
   },
   "outputs": [
    {
     "data": {
      "text/plain": [
       "title                               Classic Peanut Butter Cookies\n",
       "ingredients     1 cup unsalted butter ; 1 cup crunchy peanut b...\n",
       "instructions    Cream butter, peanut butter, and sugars togeth...\n",
       "Name: 8, dtype: object"
      ]
     },
     "execution_count": 131,
     "metadata": {},
     "output_type": "execute_result"
    }
   ],
   "source": [
    "data.iloc[8] "
   ]
  },
  {
   "cell_type": "code",
   "execution_count": 87,
   "metadata": {
    "ExecuteTime": {
     "end_time": "2019-11-15T07:07:49.135319Z",
     "start_time": "2019-11-15T07:07:49.132181Z"
    }
   },
   "outputs": [],
   "source": [
    "#lsa_10 = TruncatedSVD(10)  \n",
    "#tf_lsa_10 = lsa_10.fit_transform(ingr_tfidf)"
   ]
  },
  {
   "cell_type": "code",
   "execution_count": 132,
   "metadata": {
    "ExecuteTime": {
     "end_time": "2019-11-15T07:07:49.162733Z",
     "start_time": "2019-11-15T07:07:49.137560Z"
    }
   },
   "outputs": [
    {
     "data": {
      "text/plain": [
       "array([[0.402, 0.148, 0.853, ..., 0.626, 0.083, 0.132]])"
      ]
     },
     "execution_count": 132,
     "metadata": {},
     "output_type": "execute_result"
    }
   ],
   "source": [
    "lsa_s_choc_tf=cosine_similarity(tf_lsa_10[8].reshape(1, -1), tf_lsa_10).round(3) \n",
    "lsa_s_choc_tf"
   ]
  },
  {
   "cell_type": "code",
   "execution_count": 133,
   "metadata": {
    "ExecuteTime": {
     "end_time": "2019-11-15T07:07:49.181072Z",
     "start_time": "2019-11-15T07:07:49.165052Z"
    }
   },
   "outputs": [
    {
     "data": {
      "text/plain": [
       "array([[24394, 23221, 30534, ..., 26703,  3552,     8]], dtype=int64)"
      ]
     },
     "execution_count": 133,
     "metadata": {},
     "output_type": "execute_result"
    }
   ],
   "source": [
    "tf = lsa_s_choc_tf.argsort()\n",
    "tf"
   ]
  },
  {
   "cell_type": "code",
   "execution_count": 134,
   "metadata": {
    "ExecuteTime": {
     "end_time": "2019-11-15T07:07:49.188933Z",
     "start_time": "2019-11-15T07:07:49.183286Z"
    }
   },
   "outputs": [
    {
     "data": {
      "text/plain": [
       "array([[    8,  3552, 26703, ..., 30534, 23221, 24394]], dtype=int64)"
      ]
     },
     "execution_count": 134,
     "metadata": {},
     "output_type": "execute_result"
    }
   ],
   "source": [
    "sorted_choc_rec_tf= np.fliplr(tf) #expect the first result to be the recipe itself [3], with cosine similarity=1\n",
    "sorted_choc_rec_tf"
   ]
  },
  {
   "cell_type": "code",
   "execution_count": 135,
   "metadata": {
    "ExecuteTime": {
     "end_time": "2019-11-15T07:07:49.252668Z",
     "start_time": "2019-11-15T07:07:49.191563Z"
    }
   },
   "outputs": [
    {
     "data": {
      "text/html": [
       "<div>\n",
       "<style scoped>\n",
       "    .dataframe tbody tr th:only-of-type {\n",
       "        vertical-align: middle;\n",
       "    }\n",
       "\n",
       "    .dataframe tbody tr th {\n",
       "        vertical-align: top;\n",
       "    }\n",
       "\n",
       "    .dataframe thead th {\n",
       "        text-align: right;\n",
       "    }\n",
       "</style>\n",
       "<table border=\"1\" class=\"dataframe\">\n",
       "  <thead>\n",
       "    <tr style=\"text-align: right;\">\n",
       "      <th></th>\n",
       "      <th>title</th>\n",
       "      <th>ingredients</th>\n",
       "      <th>instructions</th>\n",
       "    </tr>\n",
       "  </thead>\n",
       "  <tbody>\n",
       "    <tr>\n",
       "      <th>8</th>\n",
       "      <td>Classic Peanut Butter Cookies</td>\n",
       "      <td>1 cup unsalted butter ; 1 cup crunchy peanut b...</td>\n",
       "      <td>Cream butter, peanut butter, and sugars togeth...</td>\n",
       "    </tr>\n",
       "    <tr>\n",
       "      <th>3552</th>\n",
       "      <td>Chef John's Peanut Butter Cookies</td>\n",
       "      <td>½ cup unsalted butter ; ½ cup white sugar ; ½ ...</td>\n",
       "      <td>Beat butter, white sugar, brown sugar, peanut ...</td>\n",
       "    </tr>\n",
       "    <tr>\n",
       "      <th>26703</th>\n",
       "      <td>Dark Chocolate Marbled Banana Bread with Greek...</td>\n",
       "      <td>1 ½ cups all-purpose flour ; 1 teaspoon baking...</td>\n",
       "      <td>Preheat oven to 350 degrees F (175 degrees C)....</td>\n",
       "    </tr>\n",
       "    <tr>\n",
       "      <th>7150</th>\n",
       "      <td>Keto Brownies</td>\n",
       "      <td>¾ cup cocoa powder  ; ½ teaspoon baking soda ;...</td>\n",
       "      <td>Preheat oven to 350 degrees F (175 degrees C)....</td>\n",
       "    </tr>\n",
       "    <tr>\n",
       "      <th>6889</th>\n",
       "      <td>Fast and Easy Pancakes</td>\n",
       "      <td>2 cups milk ; ¾ cup white sugar ; 2  eggs ; 1 ...</td>\n",
       "      <td>Place milk, sugar, eggs, oil and vanilla in th...</td>\n",
       "    </tr>\n",
       "    <tr>\n",
       "      <th>...</th>\n",
       "      <td>...</td>\n",
       "      <td>...</td>\n",
       "      <td>...</td>\n",
       "    </tr>\n",
       "    <tr>\n",
       "      <th>20715</th>\n",
       "      <td>Pantry Pasta Salad</td>\n",
       "      <td>1 (15 ounce) can garbanzo beans, drained ; 1 (...</td>\n",
       "      <td>Combine garbanzo beans, artichoke hearts, froz...</td>\n",
       "    </tr>\n",
       "    <tr>\n",
       "      <th>31802</th>\n",
       "      <td>Leek and Onion Vegetable Dip</td>\n",
       "      <td>½ (1 ounce) package dry onion soup mix ; 1 (1....</td>\n",
       "      <td>In a medium bowl, mix together dry onion soup ...</td>\n",
       "    </tr>\n",
       "    <tr>\n",
       "      <th>30534</th>\n",
       "      <td>Tortellini Skewers</td>\n",
       "      <td>1 (20 ounce) package refrigerated tortellini ;...</td>\n",
       "      <td>Fill a large pot with lightly salted water and...</td>\n",
       "    </tr>\n",
       "    <tr>\n",
       "      <th>23221</th>\n",
       "      <td>Instant Pot® Black Beans</td>\n",
       "      <td>1 ¼ cups dry black beans</td>\n",
       "      <td>Pour beans into a multi-functional pressure co...</td>\n",
       "    </tr>\n",
       "    <tr>\n",
       "      <th>24394</th>\n",
       "      <td>Slow Cooker London Broil</td>\n",
       "      <td>2 pounds flank steak ; 1 (10.75 ounce) can  co...</td>\n",
       "      <td>Place meat in the bottom of the slow cooker; i...</td>\n",
       "    </tr>\n",
       "  </tbody>\n",
       "</table>\n",
       "<p>35516 rows × 3 columns</p>\n",
       "</div>"
      ],
      "text/plain": [
       "                                                   title  \\\n",
       "8                          Classic Peanut Butter Cookies   \n",
       "3552                   Chef John's Peanut Butter Cookies   \n",
       "26703  Dark Chocolate Marbled Banana Bread with Greek...   \n",
       "7150                                       Keto Brownies   \n",
       "6889                              Fast and Easy Pancakes   \n",
       "...                                                  ...   \n",
       "20715                                 Pantry Pasta Salad   \n",
       "31802                       Leek and Onion Vegetable Dip   \n",
       "30534                                 Tortellini Skewers   \n",
       "23221                           Instant Pot® Black Beans   \n",
       "24394                           Slow Cooker London Broil   \n",
       "\n",
       "                                             ingredients  \\\n",
       "8      1 cup unsalted butter ; 1 cup crunchy peanut b...   \n",
       "3552   ½ cup unsalted butter ; ½ cup white sugar ; ½ ...   \n",
       "26703  1 ½ cups all-purpose flour ; 1 teaspoon baking...   \n",
       "7150   ¾ cup cocoa powder  ; ½ teaspoon baking soda ;...   \n",
       "6889   2 cups milk ; ¾ cup white sugar ; 2  eggs ; 1 ...   \n",
       "...                                                  ...   \n",
       "20715  1 (15 ounce) can garbanzo beans, drained ; 1 (...   \n",
       "31802  ½ (1 ounce) package dry onion soup mix ; 1 (1....   \n",
       "30534  1 (20 ounce) package refrigerated tortellini ;...   \n",
       "23221                           1 ¼ cups dry black beans   \n",
       "24394  2 pounds flank steak ; 1 (10.75 ounce) can  co...   \n",
       "\n",
       "                                            instructions  \n",
       "8      Cream butter, peanut butter, and sugars togeth...  \n",
       "3552   Beat butter, white sugar, brown sugar, peanut ...  \n",
       "26703  Preheat oven to 350 degrees F (175 degrees C)....  \n",
       "7150   Preheat oven to 350 degrees F (175 degrees C)....  \n",
       "6889   Place milk, sugar, eggs, oil and vanilla in th...  \n",
       "...                                                  ...  \n",
       "20715  Combine garbanzo beans, artichoke hearts, froz...  \n",
       "31802  In a medium bowl, mix together dry onion soup ...  \n",
       "30534  Fill a large pot with lightly salted water and...  \n",
       "23221  Pour beans into a multi-functional pressure co...  \n",
       "24394  Place meat in the bottom of the slow cooker; i...  \n",
       "\n",
       "[35516 rows x 3 columns]"
      ]
     },
     "execution_count": 135,
     "metadata": {},
     "output_type": "execute_result"
    }
   ],
   "source": [
    "data.iloc[sorted_choc_rec_tf[0]]"
   ]
  },
  {
   "cell_type": "markdown",
   "metadata": {},
   "source": [
    "The TF-IDF vectorized data with LSA seems to work better for this type of recipe. The top 4 most similar (recommended) recipes are all cookies. And other than the last two with missing ingredients, the least similar recipes are indeed quite different from chocolate chip cookies (chicken dishes and mashed cauliflower)."
   ]
  },
  {
   "cell_type": "markdown",
   "metadata": {},
   "source": [
    "#### Pot roast "
   ]
  },
  {
   "cell_type": "code",
   "execution_count": 136,
   "metadata": {
    "ExecuteTime": {
     "end_time": "2019-11-15T07:07:49.267019Z",
     "start_time": "2019-11-15T07:07:49.257481Z"
    }
   },
   "outputs": [
    {
     "data": {
      "text/plain": [
       "title                                                 Pork Steaks\n",
       "ingredients     ¼ cup butter ; ¼ cup soy sauce ; 1 bunch green...\n",
       "instructions    Melt butter in a skillet, and mix in the soy s...\n",
       "Name: 3, dtype: object"
      ]
     },
     "execution_count": 136,
     "metadata": {},
     "output_type": "execute_result"
    }
   ],
   "source": [
    "data.iloc[3]"
   ]
  },
  {
   "cell_type": "code",
   "execution_count": 137,
   "metadata": {
    "ExecuteTime": {
     "end_time": "2019-11-15T07:07:49.299018Z",
     "start_time": "2019-11-15T07:07:49.270656Z"
    }
   },
   "outputs": [
    {
     "data": {
      "text/plain": [
       "array([[-0.088,  0.348, -0.084, ...,  0.35 ,  0.561,  0.358]])"
      ]
     },
     "execution_count": 137,
     "metadata": {},
     "output_type": "execute_result"
    }
   ],
   "source": [
    "lsa_s_rst_tf=cosine_similarity(tf_lsa_10[3].reshape(1, -1), tf_lsa_10).round(3) \n",
    "lsa_s_rst_tf"
   ]
  },
  {
   "cell_type": "code",
   "execution_count": 138,
   "metadata": {
    "ExecuteTime": {
     "end_time": "2019-11-15T07:07:49.318637Z",
     "start_time": "2019-11-15T07:07:49.301162Z"
    }
   },
   "outputs": [
    {
     "data": {
      "text/plain": [
       "array([[20028,  8760, 14399, ..., 25416, 16082,     3]], dtype=int64)"
      ]
     },
     "execution_count": 138,
     "metadata": {},
     "output_type": "execute_result"
    }
   ],
   "source": [
    "rst_tf = lsa_s_rst_tf.argsort()\n",
    "rst_tf"
   ]
  },
  {
   "cell_type": "code",
   "execution_count": 139,
   "metadata": {
    "ExecuteTime": {
     "end_time": "2019-11-15T07:07:49.326973Z",
     "start_time": "2019-11-15T07:07:49.320796Z"
    }
   },
   "outputs": [
    {
     "data": {
      "text/plain": [
       "array([[    3, 16082, 25416, ..., 14399,  8760, 20028]], dtype=int64)"
      ]
     },
     "execution_count": 139,
     "metadata": {},
     "output_type": "execute_result"
    }
   ],
   "source": [
    "sorted_roast_tf= np.fliplr(rst_tf) #expect the first result to be the recipe itself [3], with cosine similarity=1\n",
    "sorted_roast_tf"
   ]
  },
  {
   "cell_type": "code",
   "execution_count": 142,
   "metadata": {
    "ExecuteTime": {
     "end_time": "2019-11-15T07:07:49.337646Z",
     "start_time": "2019-11-15T07:07:49.328993Z"
    }
   },
   "outputs": [
    {
     "data": {
      "text/plain": [
       "title                                Korean Marinated Flank Steak\n",
       "ingredients     4 cloves garlic ; 1 teaspoon minced fresh ging...\n",
       "instructions    Place garlic, ginger, and onion in the bowl of...\n",
       "Name: 16082, dtype: object"
      ]
     },
     "execution_count": 142,
     "metadata": {},
     "output_type": "execute_result"
    }
   ],
   "source": [
    "data.iloc[16082]"
   ]
  },
  {
   "cell_type": "code",
   "execution_count": 143,
   "metadata": {
    "ExecuteTime": {
     "end_time": "2019-11-15T07:07:49.346947Z",
     "start_time": "2019-11-15T07:07:49.341062Z"
    }
   },
   "outputs": [
    {
     "data": {
      "text/plain": [
       "' cloves garlic ;  teaspoon minced fresh ginger ;   onion, roughly chopped ; \\u2009½ cups low sodium soy sauce ; ¼ cup toasted sesame oil ;  tablespoons Worcestershire sauce ;  tablespoons unseasoned meat tenderizer ;  cup white sugar ;  pounds beef flank steak, trimmed of excess fat'"
      ]
     },
     "execution_count": 143,
     "metadata": {},
     "output_type": "execute_result"
    }
   ],
   "source": [
    "data_ingr[16082]"
   ]
  },
  {
   "cell_type": "code",
   "execution_count": 144,
   "metadata": {
    "ExecuteTime": {
     "end_time": "2019-11-15T07:07:49.358346Z",
     "start_time": "2019-11-15T07:07:49.349725Z"
    }
   },
   "outputs": [
    {
     "data": {
      "text/plain": [
       "title                                 Spicy Asian Noodles for One\n",
       "ingredients     1 tablespoon creamy peanut butter ; 1 tablespo...\n",
       "instructions    Combine peanut butter, ginger paste, chili oil...\n",
       "Name: 25416, dtype: object"
      ]
     },
     "execution_count": 144,
     "metadata": {},
     "output_type": "execute_result"
    }
   ],
   "source": [
    "data.iloc[25416]"
   ]
  },
  {
   "cell_type": "code",
   "execution_count": 145,
   "metadata": {
    "ExecuteTime": {
     "end_time": "2019-11-15T07:07:49.366853Z",
     "start_time": "2019-11-15T07:07:49.360737Z"
    }
   },
   "outputs": [
    {
     "data": {
      "text/plain": [
       "' tablespoon creamy peanut butter ;  tablespoon ginger paste ;  tablespoon chili oil ;  tablespoon apricot preserves ;  tablespoon balsamic vinegar ;  clove garlic, minced ; ½ tablespoon soy sauce ; ½ tablespoon sesame oil ; ½ teaspoon chili powder ; ¼ teaspoon crushed red pepper ;  ( ounce) package ramen noodles ; ½ tablespoon chopped unsalted peanuts'"
      ]
     },
     "execution_count": 145,
     "metadata": {},
     "output_type": "execute_result"
    }
   ],
   "source": [
    "data_ingr[25416]"
   ]
  },
  {
   "cell_type": "code",
   "execution_count": 146,
   "metadata": {
    "ExecuteTime": {
     "end_time": "2019-11-15T07:07:49.418458Z",
     "start_time": "2019-11-15T07:07:49.369209Z"
    }
   },
   "outputs": [
    {
     "data": {
      "text/html": [
       "<div>\n",
       "<style scoped>\n",
       "    .dataframe tbody tr th:only-of-type {\n",
       "        vertical-align: middle;\n",
       "    }\n",
       "\n",
       "    .dataframe tbody tr th {\n",
       "        vertical-align: top;\n",
       "    }\n",
       "\n",
       "    .dataframe thead th {\n",
       "        text-align: right;\n",
       "    }\n",
       "</style>\n",
       "<table border=\"1\" class=\"dataframe\">\n",
       "  <thead>\n",
       "    <tr style=\"text-align: right;\">\n",
       "      <th></th>\n",
       "      <th>title</th>\n",
       "      <th>ingredients</th>\n",
       "      <th>instructions</th>\n",
       "    </tr>\n",
       "  </thead>\n",
       "  <tbody>\n",
       "    <tr>\n",
       "      <th>3</th>\n",
       "      <td>Pork Steaks</td>\n",
       "      <td>¼ cup butter ; ¼ cup soy sauce ; 1 bunch green...</td>\n",
       "      <td>Melt butter in a skillet, and mix in the soy s...</td>\n",
       "    </tr>\n",
       "    <tr>\n",
       "      <th>16082</th>\n",
       "      <td>Korean Marinated Flank Steak</td>\n",
       "      <td>4 cloves garlic ; 1 teaspoon minced fresh ging...</td>\n",
       "      <td>Place garlic, ginger, and onion in the bowl of...</td>\n",
       "    </tr>\n",
       "    <tr>\n",
       "      <th>25416</th>\n",
       "      <td>Spicy Asian Noodles for One</td>\n",
       "      <td>1 tablespoon creamy peanut butter ; 1 tablespo...</td>\n",
       "      <td>Combine peanut butter, ginger paste, chili oil...</td>\n",
       "    </tr>\n",
       "    <tr>\n",
       "      <th>5247</th>\n",
       "      <td>My Favorite Sesame Noodles</td>\n",
       "      <td>½ (8 ounce) package spaghetti ; 2 tablespoons ...</td>\n",
       "      <td>Fill a large pot with lightly salted water and...</td>\n",
       "    </tr>\n",
       "    <tr>\n",
       "      <th>7582</th>\n",
       "      <td>Asian Beef Skewers</td>\n",
       "      <td>3 tablespoons hoisin sauce ; 3 tablespoons she...</td>\n",
       "      <td>In a small bowl, mix together hoisin sauce, sh...</td>\n",
       "    </tr>\n",
       "    <tr>\n",
       "      <th>...</th>\n",
       "      <td>...</td>\n",
       "      <td>...</td>\n",
       "      <td>...</td>\n",
       "    </tr>\n",
       "    <tr>\n",
       "      <th>5920</th>\n",
       "      <td>Hard-Steamed Eggs</td>\n",
       "      <td>12  eggs, at room temperature</td>\n",
       "      <td>Place a steamer insert into a pot and fill wit...</td>\n",
       "    </tr>\n",
       "    <tr>\n",
       "      <th>26130</th>\n",
       "      <td>Simple Yorkshire Pudding</td>\n",
       "      <td>2  eggs ; 1 pinch salt ; 1 cup all-purpose flo...</td>\n",
       "      <td>Preheat oven to 350 degrees F (175 degrees C)....</td>\n",
       "    </tr>\n",
       "    <tr>\n",
       "      <th>14399</th>\n",
       "      <td>Quark (Homemade Cheese)</td>\n",
       "      <td>2 cups milk ; ½ cup buttermilk</td>\n",
       "      <td>Bring milk to a simmer in a saucepan; remove f...</td>\n",
       "    </tr>\n",
       "    <tr>\n",
       "      <th>8760</th>\n",
       "      <td>Syracuse Salt Potatoes</td>\n",
       "      <td>4 pounds new potatoes ; 1 ½ cups fine salt ; 8...</td>\n",
       "      <td>Wash the potatoes and set aside. Fill a large ...</td>\n",
       "    </tr>\n",
       "    <tr>\n",
       "      <th>20028</th>\n",
       "      <td>Roesti</td>\n",
       "      <td>2 ¼ pounds potatoes, scrubbed ; 3 tablespoons ...</td>\n",
       "      <td>Place the potatoes in a large pot. Cover the p...</td>\n",
       "    </tr>\n",
       "  </tbody>\n",
       "</table>\n",
       "<p>35516 rows × 3 columns</p>\n",
       "</div>"
      ],
      "text/plain": [
       "                              title  \\\n",
       "3                       Pork Steaks   \n",
       "16082  Korean Marinated Flank Steak   \n",
       "25416   Spicy Asian Noodles for One   \n",
       "5247     My Favorite Sesame Noodles   \n",
       "7582             Asian Beef Skewers   \n",
       "...                             ...   \n",
       "5920              Hard-Steamed Eggs   \n",
       "26130      Simple Yorkshire Pudding   \n",
       "14399       Quark (Homemade Cheese)   \n",
       "8760         Syracuse Salt Potatoes   \n",
       "20028                        Roesti   \n",
       "\n",
       "                                             ingredients  \\\n",
       "3      ¼ cup butter ; ¼ cup soy sauce ; 1 bunch green...   \n",
       "16082  4 cloves garlic ; 1 teaspoon minced fresh ging...   \n",
       "25416  1 tablespoon creamy peanut butter ; 1 tablespo...   \n",
       "5247   ½ (8 ounce) package spaghetti ; 2 tablespoons ...   \n",
       "7582   3 tablespoons hoisin sauce ; 3 tablespoons she...   \n",
       "...                                                  ...   \n",
       "5920                       12  eggs, at room temperature   \n",
       "26130  2  eggs ; 1 pinch salt ; 1 cup all-purpose flo...   \n",
       "14399                     2 cups milk ; ½ cup buttermilk   \n",
       "8760   4 pounds new potatoes ; 1 ½ cups fine salt ; 8...   \n",
       "20028  2 ¼ pounds potatoes, scrubbed ; 3 tablespoons ...   \n",
       "\n",
       "                                            instructions  \n",
       "3      Melt butter in a skillet, and mix in the soy s...  \n",
       "16082  Place garlic, ginger, and onion in the bowl of...  \n",
       "25416  Combine peanut butter, ginger paste, chili oil...  \n",
       "5247   Fill a large pot with lightly salted water and...  \n",
       "7582   In a small bowl, mix together hoisin sauce, sh...  \n",
       "...                                                  ...  \n",
       "5920   Place a steamer insert into a pot and fill wit...  \n",
       "26130  Preheat oven to 350 degrees F (175 degrees C)....  \n",
       "14399  Bring milk to a simmer in a saucepan; remove f...  \n",
       "8760   Wash the potatoes and set aside. Fill a large ...  \n",
       "20028  Place the potatoes in a large pot. Cover the p...  \n",
       "\n",
       "[35516 rows x 3 columns]"
      ]
     },
     "execution_count": 146,
     "metadata": {},
     "output_type": "execute_result"
    }
   ],
   "source": [
    "data.iloc[sorted_roast_tf[0]]"
   ]
  },
  {
   "cell_type": "code",
   "execution_count": 147,
   "metadata": {
    "ExecuteTime": {
     "end_time": "2019-11-15T07:07:49.426709Z",
     "start_time": "2019-11-15T07:07:49.420856Z"
    }
   },
   "outputs": [
    {
     "data": {
      "text/plain": [
       "'½ ( ounce) package spaghetti ;  tablespoons peanut butter ;  tablespoon honey ;  tablespoons tamari ;  teaspoon Thai chili sauce ;  teaspoon sesame oil ;  teaspoon ground ginger ;  clove garlic, minced ;   green onion, chopped ;  teaspoons sesame seeds'"
      ]
     },
     "execution_count": 147,
     "metadata": {},
     "output_type": "execute_result"
    }
   ],
   "source": [
    "data_ingr[5247] #Lemon Granola, makes sense it's very different from beef roast!"
   ]
  },
  {
   "cell_type": "code",
   "execution_count": 148,
   "metadata": {
    "ExecuteTime": {
     "end_time": "2019-11-15T07:07:49.435836Z",
     "start_time": "2019-11-15T07:07:49.429513Z"
    }
   },
   "outputs": [
    {
     "data": {
      "text/plain": [
       "' tablespoons hoisin sauce ;  tablespoons sherry ; ¼ cup soy sauce ;  teaspoon barbeque sauce ;   green onions, chopped ;  cloves garlic, minced ;  tablespoon minced fresh ginger root ; \\u2009½ pounds flank steak ;   skewers'"
      ]
     },
     "execution_count": 148,
     "metadata": {},
     "output_type": "execute_result"
    }
   ],
   "source": [
    "data_ingr[7582]"
   ]
  },
  {
   "cell_type": "markdown",
   "metadata": {},
   "source": [
    "The top 3 recipes similar to Awesome Slow Cooker Pot Roast (including itself) are all meat recipes using some pre-made ingredients such as canned condensed soup. The second-most similar (Slow Cooker London Broil) is also a slow cooker recipe.\n",
    "\n",
    "Also the model seems to recognize beef, pot roast, and steak as similar (good!), likely due to them being in the same topics. This also shows we probably don't need to use soft cosine similarity (might try it in the future to see how \"blurry\" it makes things).\n",
    "\n",
    "The least similar recipes have fewer ingredients, and there are quite a few recipes with lemons. Although it's interesting that Herbed Tuna Steaks was considered least similar to roasts using beef steaks."
   ]
  },
  {
   "cell_type": "markdown",
   "metadata": {},
   "source": [
    "#### waffles\n",
    "Try another, more complicated recipe:"
   ]
  },
  {
   "cell_type": "code",
   "execution_count": 149,
   "metadata": {
    "ExecuteTime": {
     "end_time": "2019-11-15T07:07:49.446013Z",
     "start_time": "2019-11-15T07:07:49.438124Z"
    }
   },
   "outputs": [
    {
     "data": {
      "text/plain": [
       "title                                             Classic Waffles\n",
       "ingredients     2 cups all-purpose flour ; 1 teaspoon salt ; 4...\n",
       "instructions    In a large bowl, mix together flour, salt, bak...\n",
       "Name: 14, dtype: object"
      ]
     },
     "execution_count": 149,
     "metadata": {},
     "output_type": "execute_result"
    }
   ],
   "source": [
    "data.iloc[14]"
   ]
  },
  {
   "cell_type": "code",
   "execution_count": 153,
   "metadata": {
    "ExecuteTime": {
     "end_time": "2019-11-15T07:07:49.473217Z",
     "start_time": "2019-11-15T07:07:49.448494Z"
    }
   },
   "outputs": [
    {
     "data": {
      "text/plain": [
       "array([[0.473, 0.192, 0.961, ..., 0.518, 0.02 , 0.062]])"
      ]
     },
     "execution_count": 153,
     "metadata": {},
     "output_type": "execute_result"
    }
   ],
   "source": [
    "lsa_s_tc_tf=cosine_similarity(tf_lsa_10[14].reshape(1, -1), tf_lsa_10).round(3) \n",
    "lsa_s_tc_tf"
   ]
  },
  {
   "cell_type": "code",
   "execution_count": 154,
   "metadata": {
    "ExecuteTime": {
     "end_time": "2019-11-15T07:07:49.494237Z",
     "start_time": "2019-11-15T07:07:49.475799Z"
    }
   },
   "outputs": [
    {
     "data": {
      "text/plain": [
       "array([[11723, 34897,  8163, ..., 13084, 18913,    14]], dtype=int64)"
      ]
     },
     "execution_count": 154,
     "metadata": {},
     "output_type": "execute_result"
    }
   ],
   "source": [
    "tc_tf = lsa_s_tc_tf.argsort()\n",
    "tc_tf"
   ]
  },
  {
   "cell_type": "code",
   "execution_count": 155,
   "metadata": {
    "ExecuteTime": {
     "end_time": "2019-11-15T07:07:49.502757Z",
     "start_time": "2019-11-15T07:07:49.496686Z"
    }
   },
   "outputs": [
    {
     "data": {
      "text/plain": [
       "array([[   14, 18913, 13084, ...,  8163, 34897, 11723]], dtype=int64)"
      ]
     },
     "execution_count": 155,
     "metadata": {},
     "output_type": "execute_result"
    }
   ],
   "source": [
    "sorted_tc_tf= np.fliplr(tc_tf) #expect the first result to be the recipe itself [3], with cosine similarity=1\n",
    "sorted_tc_tf\n"
   ]
  },
  {
   "cell_type": "code",
   "execution_count": 156,
   "metadata": {
    "ExecuteTime": {
     "end_time": "2019-11-15T07:07:49.512978Z",
     "start_time": "2019-11-15T07:07:49.504862Z"
    }
   },
   "outputs": [
    {
     "data": {
      "text/plain": [
       "title                                               Berry Cobbler\n",
       "ingredients     2 cups all-purpose flour ; 1 cup white sugar ;...\n",
       "instructions    Preheat oven to 350 degrees F (175 degrees C)....\n",
       "Name: 18913, dtype: object"
      ]
     },
     "execution_count": 156,
     "metadata": {},
     "output_type": "execute_result"
    }
   ],
   "source": [
    "data.iloc[18913]"
   ]
  },
  {
   "cell_type": "code",
   "execution_count": 157,
   "metadata": {
    "ExecuteTime": {
     "end_time": "2019-11-15T07:07:49.521662Z",
     "start_time": "2019-11-15T07:07:49.515716Z"
    }
   },
   "outputs": [
    {
     "data": {
      "text/plain": [
       "' cups all-purpose flour ;  cup white sugar ; \\u2009½ teaspoons baking powder ; ½ teaspoon salt ;  tablespoons butter, melted ; . cup milk ;  teaspoon vanilla extract ;   egg, beaten ;  cups raspberries'"
      ]
     },
     "execution_count": 157,
     "metadata": {},
     "output_type": "execute_result"
    }
   ],
   "source": [
    "data_ingr[18913] #did not expect this asian fish recipe as the top rec"
   ]
  },
  {
   "cell_type": "code",
   "execution_count": 158,
   "metadata": {
    "ExecuteTime": {
     "end_time": "2019-11-15T07:07:49.531674Z",
     "start_time": "2019-11-15T07:07:49.524060Z"
    },
    "scrolled": true
   },
   "outputs": [
    {
     "data": {
      "text/plain": [
       "title                                Mini Chocolate Chip Pancakes\n",
       "ingredients     1 cup all-purpose flour ; 2 tablespoons white ...\n",
       "instructions    Sift flour, sugar, baking powder, and salt tog...\n",
       "Name: 13084, dtype: object"
      ]
     },
     "execution_count": 158,
     "metadata": {},
     "output_type": "execute_result"
    }
   ],
   "source": [
    "data.iloc[13084]"
   ]
  },
  {
   "cell_type": "code",
   "execution_count": 159,
   "metadata": {
    "ExecuteTime": {
     "end_time": "2019-11-15T07:07:49.539965Z",
     "start_time": "2019-11-15T07:07:49.534143Z"
    },
    "scrolled": true
   },
   "outputs": [
    {
     "data": {
      "text/plain": [
       "' cup all-purpose flour ;  tablespoons white sugar ;  tablespoon baking powder ; ¼ teaspoon salt ;   egg ;  cup milk ;  tablespoons butter, melted and cooled ; ½ cup miniature chocolate chips'"
      ]
     },
     "execution_count": 159,
     "metadata": {},
     "output_type": "execute_result"
    }
   ],
   "source": [
    "data_ingr[13084] #this nachos recipe is more similar to tacos"
   ]
  },
  {
   "cell_type": "code",
   "execution_count": 160,
   "metadata": {
    "ExecuteTime": {
     "end_time": "2019-11-15T07:07:49.592678Z",
     "start_time": "2019-11-15T07:07:49.542274Z"
    }
   },
   "outputs": [
    {
     "data": {
      "text/html": [
       "<div>\n",
       "<style scoped>\n",
       "    .dataframe tbody tr th:only-of-type {\n",
       "        vertical-align: middle;\n",
       "    }\n",
       "\n",
       "    .dataframe tbody tr th {\n",
       "        vertical-align: top;\n",
       "    }\n",
       "\n",
       "    .dataframe thead th {\n",
       "        text-align: right;\n",
       "    }\n",
       "</style>\n",
       "<table border=\"1\" class=\"dataframe\">\n",
       "  <thead>\n",
       "    <tr style=\"text-align: right;\">\n",
       "      <th></th>\n",
       "      <th>title</th>\n",
       "      <th>ingredients</th>\n",
       "      <th>instructions</th>\n",
       "    </tr>\n",
       "  </thead>\n",
       "  <tbody>\n",
       "    <tr>\n",
       "      <th>14</th>\n",
       "      <td>Classic Waffles</td>\n",
       "      <td>2 cups all-purpose flour ; 1 teaspoon salt ; 4...</td>\n",
       "      <td>In a large bowl, mix together flour, salt, bak...</td>\n",
       "    </tr>\n",
       "    <tr>\n",
       "      <th>18913</th>\n",
       "      <td>Berry Cobbler</td>\n",
       "      <td>2 cups all-purpose flour ; 1 cup white sugar ;...</td>\n",
       "      <td>Preheat oven to 350 degrees F (175 degrees C)....</td>\n",
       "    </tr>\n",
       "    <tr>\n",
       "      <th>13084</th>\n",
       "      <td>Mini Chocolate Chip Pancakes</td>\n",
       "      <td>1 cup all-purpose flour ; 2 tablespoons white ...</td>\n",
       "      <td>Sift flour, sugar, baking powder, and salt tog...</td>\n",
       "    </tr>\n",
       "    <tr>\n",
       "      <th>18360</th>\n",
       "      <td>Huckleberry Muffins</td>\n",
       "      <td>¾ cup butter ; 1 cup white sugar ; 1  egg ; ¾ ...</td>\n",
       "      <td>Preheat the oven to 400 degrees F (200 degrees...</td>\n",
       "    </tr>\n",
       "    <tr>\n",
       "      <th>27352</th>\n",
       "      <td>Treacle Scones</td>\n",
       "      <td>3 ⅔ cups all-purpose flour ; 1 teaspoon baking...</td>\n",
       "      <td>Preheat the oven to 400 degrees F (200 degrees...</td>\n",
       "    </tr>\n",
       "    <tr>\n",
       "      <th>...</th>\n",
       "      <td>...</td>\n",
       "      <td>...</td>\n",
       "      <td>...</td>\n",
       "    </tr>\n",
       "    <tr>\n",
       "      <th>4371</th>\n",
       "      <td>Chipotle Mayo</td>\n",
       "      <td>½ cup mayonnaise ; 2  chipotle chilies in adob...</td>\n",
       "      <td>In a food processor, combine the mayonnaise, c...</td>\n",
       "    </tr>\n",
       "    <tr>\n",
       "      <th>2526</th>\n",
       "      <td>Sriracha Aioli</td>\n",
       "      <td>1 cup mayonnaise ; 2 tablespoons sriracha hot ...</td>\n",
       "      <td>Stir mayonnaise and sriracha hot sauce togethe...</td>\n",
       "    </tr>\n",
       "    <tr>\n",
       "      <th>8163</th>\n",
       "      <td>Mustard Mayonnaise Sauce</td>\n",
       "      <td>1 ½ cups mayonnaise ; 3 tablespoons Dijon must...</td>\n",
       "      <td>Stir mayonnaise, mustard, horseradish, and Wor...</td>\n",
       "    </tr>\n",
       "    <tr>\n",
       "      <th>34897</th>\n",
       "      <td>Avo Spoon Snack</td>\n",
       "      <td>2  Avocados from Mexico ;   Salsa ;   Balsamic...</td>\n",
       "      <td>Cut avocados lengthwise and remove pits. Drizz...</td>\n",
       "    </tr>\n",
       "    <tr>\n",
       "      <th>11723</th>\n",
       "      <td>Dragon's Breath Grilled Salmon</td>\n",
       "      <td>4  jalapeno peppers, seeded and minced ; 3 tab...</td>\n",
       "      <td>In the container of a food processor, combine ...</td>\n",
       "    </tr>\n",
       "  </tbody>\n",
       "</table>\n",
       "<p>35516 rows × 3 columns</p>\n",
       "</div>"
      ],
      "text/plain": [
       "                                title  \\\n",
       "14                    Classic Waffles   \n",
       "18913                   Berry Cobbler   \n",
       "13084    Mini Chocolate Chip Pancakes   \n",
       "18360             Huckleberry Muffins   \n",
       "27352                  Treacle Scones   \n",
       "...                               ...   \n",
       "4371                    Chipotle Mayo   \n",
       "2526                   Sriracha Aioli   \n",
       "8163         Mustard Mayonnaise Sauce   \n",
       "34897                 Avo Spoon Snack   \n",
       "11723  Dragon's Breath Grilled Salmon   \n",
       "\n",
       "                                             ingredients  \\\n",
       "14     2 cups all-purpose flour ; 1 teaspoon salt ; 4...   \n",
       "18913  2 cups all-purpose flour ; 1 cup white sugar ;...   \n",
       "13084  1 cup all-purpose flour ; 2 tablespoons white ...   \n",
       "18360  ¾ cup butter ; 1 cup white sugar ; 1  egg ; ¾ ...   \n",
       "27352  3 ⅔ cups all-purpose flour ; 1 teaspoon baking...   \n",
       "...                                                  ...   \n",
       "4371   ½ cup mayonnaise ; 2  chipotle chilies in adob...   \n",
       "2526   1 cup mayonnaise ; 2 tablespoons sriracha hot ...   \n",
       "8163   1 ½ cups mayonnaise ; 3 tablespoons Dijon must...   \n",
       "34897  2  Avocados from Mexico ;   Salsa ;   Balsamic...   \n",
       "11723  4  jalapeno peppers, seeded and minced ; 3 tab...   \n",
       "\n",
       "                                            instructions  \n",
       "14     In a large bowl, mix together flour, salt, bak...  \n",
       "18913  Preheat oven to 350 degrees F (175 degrees C)....  \n",
       "13084  Sift flour, sugar, baking powder, and salt tog...  \n",
       "18360  Preheat the oven to 400 degrees F (200 degrees...  \n",
       "27352  Preheat the oven to 400 degrees F (200 degrees...  \n",
       "...                                                  ...  \n",
       "4371   In a food processor, combine the mayonnaise, c...  \n",
       "2526   Stir mayonnaise and sriracha hot sauce togethe...  \n",
       "8163   Stir mayonnaise, mustard, horseradish, and Wor...  \n",
       "34897  Cut avocados lengthwise and remove pits. Drizz...  \n",
       "11723  In the container of a food processor, combine ...  \n",
       "\n",
       "[35516 rows x 3 columns]"
      ]
     },
     "execution_count": 160,
     "metadata": {},
     "output_type": "execute_result"
    }
   ],
   "source": [
    "data.iloc[sorted_tc_tf[0]]"
   ]
  },
  {
   "cell_type": "markdown",
   "metadata": {},
   "source": [
    "The top recommendations for Jalapeño and Lime–Marinated Skirt Steak Tacos\t are quite intersting, as there are 2 Asian recipes (Fish and curry noodles) and 2 Mexican recipes (Nachos and Fish Tacos). In a way this confirmed the hunch I had that Mexican dishes popular in North America are quite similar to the popular Asian dishes.\n",
    "\n",
    "Once again the least similar recipes are mainly the ones that have very few ingredients. This makes sense as the 10 topics from LSA are mostly ingredients. If there's no overlap in ingredients, the two recipes cannot have a high cosine similarity."
   ]
  },
  {
   "cell_type": "code",
   "execution_count": null,
   "metadata": {},
   "outputs": [],
   "source": []
  },
  {
   "cell_type": "markdown",
   "metadata": {},
   "source": [
    "## Recommendation on new data"
   ]
  },
  {
   "cell_type": "markdown",
   "metadata": {},
   "source": [
    "### Small test data "
   ]
  },
  {
   "cell_type": "code",
   "execution_count": 161,
   "metadata": {
    "ExecuteTime": {
     "end_time": "2019-11-15T07:07:49.604105Z",
     "start_time": "2019-11-15T07:07:49.595182Z"
    }
   },
   "outputs": [],
   "source": [
    "testdata=pd.DataFrame(columns = [\"title\",\"ingredients\"])"
   ]
  },
  {
   "cell_type": "code",
   "execution_count": 162,
   "metadata": {
    "ExecuteTime": {
     "end_time": "2019-11-15T07:07:49.610815Z",
     "start_time": "2019-11-15T07:07:49.606379Z"
    }
   },
   "outputs": [],
   "source": [
    "inglist1=['''\n",
    "2 tablespoons reduced sodium soy sauce\n",
    "2 tablespoons freshly squeezed lime juice\n",
    "2 tablespoons canola oil, divided\n",
    "3 cloves garlic, minced\n",
    "2 teaspoons chili powder\n",
    "1 teaspoon ground cumin\n",
    "1 teaspoon dried oregano\n",
    "1 1/2 pounds skirt steak, cut into 1/2-inch pieces\n",
    "12 mini flour tortillas\n",
    "3/4 cup diced red onion\n",
    "\n",
    "1/2 cup chopped fresh cilantro leaves\n",
    "1 lime, cut into wedges\n",
    "''']\n",
    "title1='Mexican Street Tacos by DamnDelicious'"
   ]
  },
  {
   "cell_type": "code",
   "execution_count": 163,
   "metadata": {
    "ExecuteTime": {
     "end_time": "2019-11-15T07:07:49.616886Z",
     "start_time": "2019-11-15T07:07:49.613403Z"
    }
   },
   "outputs": [],
   "source": [
    "inglist2=['''375g/13oz butter\n",
    "375g/13oz dark chocolate\n",
    "6 free-range eggs\n",
    "350g/12oz caster sugar\n",
    "1 tbsp vanilla extract\n",
    "225g/8oz plain flour\n",
    "1 tsp salt\n",
    "250g/9oz white chocolate, chopped\n",
    "2 tsp icing sugar, to decorate (optional)''']\n",
    "\n",
    "title2='Double chocolate brownies'"
   ]
  },
  {
   "cell_type": "code",
   "execution_count": 164,
   "metadata": {
    "ExecuteTime": {
     "end_time": "2019-11-15T07:07:49.625518Z",
     "start_time": "2019-11-15T07:07:49.619580Z"
    }
   },
   "outputs": [],
   "source": [
    "testdatalst = []\n",
    "testdatalst.append([title1, inglist1]) \n",
    "#cheaper computationally to append list, then create df once have all the data! https://stackoverflow.com/questions/13784192/creating-an-empty-pandas-dataframe-then-filling-it?rq=1"
   ]
  },
  {
   "cell_type": "code",
   "execution_count": 165,
   "metadata": {
    "ExecuteTime": {
     "end_time": "2019-11-15T07:07:49.632887Z",
     "start_time": "2019-11-15T07:07:49.627546Z"
    }
   },
   "outputs": [],
   "source": [
    "testdatalst.append([title2, inglist2]) #need to vectorize and do lsa for one document at a time (write in function?)"
   ]
  },
  {
   "cell_type": "code",
   "execution_count": 166,
   "metadata": {
    "ExecuteTime": {
     "end_time": "2019-11-15T07:07:49.646990Z",
     "start_time": "2019-11-15T07:07:49.635187Z"
    }
   },
   "outputs": [
    {
     "data": {
      "text/html": [
       "<div>\n",
       "<style scoped>\n",
       "    .dataframe tbody tr th:only-of-type {\n",
       "        vertical-align: middle;\n",
       "    }\n",
       "\n",
       "    .dataframe tbody tr th {\n",
       "        vertical-align: top;\n",
       "    }\n",
       "\n",
       "    .dataframe thead th {\n",
       "        text-align: right;\n",
       "    }\n",
       "</style>\n",
       "<table border=\"1\" class=\"dataframe\">\n",
       "  <thead>\n",
       "    <tr style=\"text-align: right;\">\n",
       "      <th></th>\n",
       "      <th>title</th>\n",
       "      <th>ingredients</th>\n",
       "    </tr>\n",
       "  </thead>\n",
       "  <tbody>\n",
       "    <tr>\n",
       "      <th>0</th>\n",
       "      <td>Mexican Street Tacos by DamnDelicious</td>\n",
       "      <td>[\\n2 tablespoons reduced sodium soy sauce\\n2 t...</td>\n",
       "    </tr>\n",
       "    <tr>\n",
       "      <th>1</th>\n",
       "      <td>Double chocolate brownies</td>\n",
       "      <td>[375g/13oz butter\\n375g/13oz dark chocolate\\n6...</td>\n",
       "    </tr>\n",
       "  </tbody>\n",
       "</table>\n",
       "</div>"
      ],
      "text/plain": [
       "                                   title  \\\n",
       "0  Mexican Street Tacos by DamnDelicious   \n",
       "1              Double chocolate brownies   \n",
       "\n",
       "                                         ingredients  \n",
       "0  [\\n2 tablespoons reduced sodium soy sauce\\n2 t...  \n",
       "1  [375g/13oz butter\\n375g/13oz dark chocolate\\n6...  "
      ]
     },
     "execution_count": 166,
     "metadata": {},
     "output_type": "execute_result"
    }
   ],
   "source": [
    "testdf = pd.DataFrame(testdatalst, columns=[\"title\",\"ingredients\"])\n",
    "testdf"
   ]
  },
  {
   "cell_type": "markdown",
   "metadata": {},
   "source": [
    "Now have test data, can clean, vectorize, lemmatize, and calc cos similarity!\n",
    "\n",
    "Remove digits"
   ]
  },
  {
   "cell_type": "code",
   "execution_count": 168,
   "metadata": {
    "ExecuteTime": {
     "end_time": "2019-11-15T07:07:49.654013Z",
     "start_time": "2019-11-15T07:07:49.648830Z"
    }
   },
   "outputs": [],
   "source": [
    "testdf_ingr=testdf['ingredients'].apply(project4_functions_n.regex_nodigits_new)"
   ]
  },
  {
   "cell_type": "code",
   "execution_count": 169,
   "metadata": {
    "ExecuteTime": {
     "end_time": "2019-11-15T07:07:49.659943Z",
     "start_time": "2019-11-15T07:07:49.656202Z"
    }
   },
   "outputs": [],
   "source": [
    "##! This new document is the test set, only .transform for vectorizer and tfidf (fit on train set),\n",
    "#don't use .fit_transform on test set!"
   ]
  },
  {
   "cell_type": "markdown",
   "metadata": {},
   "source": [
    "#### Vectorize with TF-IDF\n"
   ]
  },
  {
   "cell_type": "code",
   "execution_count": 170,
   "metadata": {
    "ExecuteTime": {
     "end_time": "2019-11-15T07:07:55.272954Z",
     "start_time": "2019-11-15T07:07:49.662057Z"
    }
   },
   "outputs": [],
   "source": [
    "#previously, already fit in 2.2.3:\n",
    "tf_vec = TfidfVectorizer(stop_words=stopwords_ingr) \n",
    "ingr_tfidf = tf_vec.fit_transform(data_ingr)"
   ]
  },
  {
   "cell_type": "code",
   "execution_count": 171,
   "metadata": {
    "ExecuteTime": {
     "end_time": "2019-11-15T07:07:55.280083Z",
     "start_time": "2019-11-15T07:07:55.275092Z"
    }
   },
   "outputs": [],
   "source": [
    "testvec = tf_vec.transform(testdf_ingr)"
   ]
  },
  {
   "cell_type": "code",
   "execution_count": 172,
   "metadata": {
    "ExecuteTime": {
     "end_time": "2019-11-15T07:07:56.682359Z",
     "start_time": "2019-11-15T07:07:55.282693Z"
    }
   },
   "outputs": [],
   "source": [
    "tf_lsa_10 = lsa_10.fit_transform(ingr_tfidf)"
   ]
  },
  {
   "cell_type": "code",
   "execution_count": 173,
   "metadata": {
    "ExecuteTime": {
     "end_time": "2019-11-15T07:07:56.692049Z",
     "start_time": "2019-11-15T07:07:56.684332Z"
    }
   },
   "outputs": [
    {
     "data": {
      "text/plain": [
       "array([[ 0.30055879, -0.13564671, -0.12985653,  0.02092   ,  0.00211679,\n",
       "        -0.01196131,  0.07340965,  0.12421433, -0.07587063,  0.03980802],\n",
       "       [ 0.06849832,  0.08989513,  0.00431821,  0.04786151,  0.00872394,\n",
       "        -0.01616644,  0.01440772, -0.01174029, -0.00444904,  0.01569404]])"
      ]
     },
     "execution_count": 173,
     "metadata": {},
     "output_type": "execute_result"
    }
   ],
   "source": [
    "test_tf = lsa_10.transform(testvec)\n",
    "\n",
    "test_tf"
   ]
  },
  {
   "cell_type": "markdown",
   "metadata": {},
   "source": [
    "#### Cosine similarity with RB dataset\n",
    "##### Tacos"
   ]
  },
  {
   "cell_type": "code",
   "execution_count": 174,
   "metadata": {
    "ExecuteTime": {
     "end_time": "2019-11-15T07:07:56.720960Z",
     "start_time": "2019-11-15T07:07:56.694494Z"
    }
   },
   "outputs": [
    {
     "data": {
      "text/plain": [
       "array([[0.131, 0.559, 0.065, ..., 0.608, 0.824, 0.517]])"
      ]
     },
     "execution_count": 174,
     "metadata": {},
     "output_type": "execute_result"
    }
   ],
   "source": [
    "test_csim=cosine_similarity(test_tf[0].reshape(1,-1), tf_lsa_10).round(3) \n",
    "test_csim"
   ]
  },
  {
   "cell_type": "code",
   "execution_count": 175,
   "metadata": {
    "ExecuteTime": {
     "end_time": "2019-11-15T07:07:56.744370Z",
     "start_time": "2019-11-15T07:07:56.723838Z"
    }
   },
   "outputs": [
    {
     "data": {
      "text/plain": [
       "array([[13901, 24303, 24228, ...,  4201, 20042, 29251]], dtype=int64)"
      ]
     },
     "execution_count": 175,
     "metadata": {},
     "output_type": "execute_result"
    }
   ],
   "source": [
    "csim_tacos = test_csim.argsort()\n",
    "csim_tacos"
   ]
  },
  {
   "cell_type": "code",
   "execution_count": 176,
   "metadata": {
    "ExecuteTime": {
     "end_time": "2019-11-15T07:07:56.754792Z",
     "start_time": "2019-11-15T07:07:56.746877Z"
    }
   },
   "outputs": [
    {
     "data": {
      "text/plain": [
       "array([[29251, 20042,  4201, ..., 24228, 24303, 13901]], dtype=int64)"
      ]
     },
     "execution_count": 176,
     "metadata": {},
     "output_type": "execute_result"
    }
   ],
   "source": [
    "sorted_test_tacos= np.fliplr(csim_tacos) #expect the first result to be the recipe itself, with cosine similarity=1\n",
    "sorted_test_tacos"
   ]
  },
  {
   "cell_type": "code",
   "execution_count": 177,
   "metadata": {
    "ExecuteTime": {
     "end_time": "2019-11-15T07:07:56.817395Z",
     "start_time": "2019-11-15T07:07:56.757253Z"
    }
   },
   "outputs": [
    {
     "data": {
      "text/html": [
       "<div>\n",
       "<style scoped>\n",
       "    .dataframe tbody tr th:only-of-type {\n",
       "        vertical-align: middle;\n",
       "    }\n",
       "\n",
       "    .dataframe tbody tr th {\n",
       "        vertical-align: top;\n",
       "    }\n",
       "\n",
       "    .dataframe thead th {\n",
       "        text-align: right;\n",
       "    }\n",
       "</style>\n",
       "<table border=\"1\" class=\"dataframe\">\n",
       "  <thead>\n",
       "    <tr style=\"text-align: right;\">\n",
       "      <th></th>\n",
       "      <th>title</th>\n",
       "      <th>ingredients</th>\n",
       "      <th>instructions</th>\n",
       "    </tr>\n",
       "  </thead>\n",
       "  <tbody>\n",
       "    <tr>\n",
       "      <th>29251</th>\n",
       "      <td>Spicy Cucumber Soup</td>\n",
       "      <td>2 tablespoons olive oil ; ½  onion, chopped ; ...</td>\n",
       "      <td>Heat the olive oil in a saucepan over medium h...</td>\n",
       "    </tr>\n",
       "    <tr>\n",
       "      <th>20042</th>\n",
       "      <td>Authentic Mexican Torta - Tortas Ahogadas</td>\n",
       "      <td>16 cloves garlic, minced ; 2 tablespoons mince...</td>\n",
       "      <td>Preheat an oven to 475 degrees F (245 degrees ...</td>\n",
       "    </tr>\n",
       "    <tr>\n",
       "      <th>4201</th>\n",
       "      <td>Arroz Rojo (Mexican Red Rice)</td>\n",
       "      <td>2  Roma (plum tomatoes), cored ; 2 tablespoons...</td>\n",
       "      <td>Grate tomatoes into a bowl using a box grater;...</td>\n",
       "    </tr>\n",
       "    <tr>\n",
       "      <th>31498</th>\n",
       "      <td>Japanese Salted Chicken Wings</td>\n",
       "      <td>14 ounces chicken wings ; 1 tablespoon sake (J...</td>\n",
       "      <td>Combine chicken wings, sake, garlic, sesame oi...</td>\n",
       "    </tr>\n",
       "    <tr>\n",
       "      <th>26140</th>\n",
       "      <td>Bison Stew</td>\n",
       "      <td>2 tablespoons canola oil ; 2 pounds bison meat...</td>\n",
       "      <td>Heat 2 tablespoons canola oil in a Dutch oven ...</td>\n",
       "    </tr>\n",
       "    <tr>\n",
       "      <th>...</th>\n",
       "      <td>...</td>\n",
       "      <td>...</td>\n",
       "      <td>...</td>\n",
       "    </tr>\n",
       "    <tr>\n",
       "      <th>17120</th>\n",
       "      <td>Easy Creamy Mac 'N Cheese</td>\n",
       "      <td>8 ounces elbow macaroni ; 1 ½ cups milk ; ¼ cu...</td>\n",
       "      <td>Cook pasta in large pot according to package d...</td>\n",
       "    </tr>\n",
       "    <tr>\n",
       "      <th>5920</th>\n",
       "      <td>Hard-Steamed Eggs</td>\n",
       "      <td>12  eggs, at room temperature</td>\n",
       "      <td>Place a steamer insert into a pot and fill wit...</td>\n",
       "    </tr>\n",
       "    <tr>\n",
       "      <th>24228</th>\n",
       "      <td>Individual Baked Eggs</td>\n",
       "      <td>1 slice bacon ; 1 teaspoon melted butter ; 1  ...</td>\n",
       "      <td>Preheat oven to 350 degrees F (175 degrees C)....</td>\n",
       "    </tr>\n",
       "    <tr>\n",
       "      <th>24303</th>\n",
       "      <td>Toad In a Hole</td>\n",
       "      <td>6 slices bread ; 2 tablespoons butter, softene...</td>\n",
       "      <td>Preheat a large skillet to a high heat. With a...</td>\n",
       "    </tr>\n",
       "    <tr>\n",
       "      <th>13901</th>\n",
       "      <td>Bacon &amp; Egg Biscuit Cups</td>\n",
       "      <td>6 slices bacon ; 1 (16.3 ounce) can refrigerat...</td>\n",
       "      <td>Preheat oven to 350 degrees F (175 degrees C)....</td>\n",
       "    </tr>\n",
       "  </tbody>\n",
       "</table>\n",
       "<p>35516 rows × 3 columns</p>\n",
       "</div>"
      ],
      "text/plain": [
       "                                           title  \\\n",
       "29251                        Spicy Cucumber Soup   \n",
       "20042  Authentic Mexican Torta - Tortas Ahogadas   \n",
       "4201               Arroz Rojo (Mexican Red Rice)   \n",
       "31498              Japanese Salted Chicken Wings   \n",
       "26140                                 Bison Stew   \n",
       "...                                          ...   \n",
       "17120                  Easy Creamy Mac 'N Cheese   \n",
       "5920                           Hard-Steamed Eggs   \n",
       "24228                      Individual Baked Eggs   \n",
       "24303                             Toad In a Hole   \n",
       "13901                   Bacon & Egg Biscuit Cups   \n",
       "\n",
       "                                             ingredients  \\\n",
       "29251  2 tablespoons olive oil ; ½  onion, chopped ; ...   \n",
       "20042  16 cloves garlic, minced ; 2 tablespoons mince...   \n",
       "4201   2  Roma (plum tomatoes), cored ; 2 tablespoons...   \n",
       "31498  14 ounces chicken wings ; 1 tablespoon sake (J...   \n",
       "26140  2 tablespoons canola oil ; 2 pounds bison meat...   \n",
       "...                                                  ...   \n",
       "17120  8 ounces elbow macaroni ; 1 ½ cups milk ; ¼ cu...   \n",
       "5920                       12  eggs, at room temperature   \n",
       "24228  1 slice bacon ; 1 teaspoon melted butter ; 1  ...   \n",
       "24303  6 slices bread ; 2 tablespoons butter, softene...   \n",
       "13901  6 slices bacon ; 1 (16.3 ounce) can refrigerat...   \n",
       "\n",
       "                                            instructions  \n",
       "29251  Heat the olive oil in a saucepan over medium h...  \n",
       "20042  Preheat an oven to 475 degrees F (245 degrees ...  \n",
       "4201   Grate tomatoes into a bowl using a box grater;...  \n",
       "31498  Combine chicken wings, sake, garlic, sesame oi...  \n",
       "26140  Heat 2 tablespoons canola oil in a Dutch oven ...  \n",
       "...                                                  ...  \n",
       "17120  Cook pasta in large pot according to package d...  \n",
       "5920   Place a steamer insert into a pot and fill wit...  \n",
       "24228  Preheat oven to 350 degrees F (175 degrees C)....  \n",
       "24303  Preheat a large skillet to a high heat. With a...  \n",
       "13901  Preheat oven to 350 degrees F (175 degrees C)....  \n",
       "\n",
       "[35516 rows x 3 columns]"
      ]
     },
     "execution_count": 177,
     "metadata": {},
     "output_type": "execute_result"
    }
   ],
   "source": [
    "data.iloc[sorted_test_tacos[0]]"
   ]
  },
  {
   "cell_type": "markdown",
   "metadata": {},
   "source": [
    "##### Brownies"
   ]
  },
  {
   "cell_type": "code",
   "execution_count": 178,
   "metadata": {
    "ExecuteTime": {
     "end_time": "2019-11-15T07:07:56.844803Z",
     "start_time": "2019-11-15T07:07:56.819798Z"
    }
   },
   "outputs": [
    {
     "data": {
      "text/plain": [
       "array([[0.225, 0.178, 0.744, ..., 0.244, 0.197, 0.018]])"
      ]
     },
     "execution_count": 178,
     "metadata": {},
     "output_type": "execute_result"
    }
   ],
   "source": [
    "test_csim=cosine_similarity(test_tf[1].reshape(1,-1), tf_lsa_10).round(3) \n",
    "test_csim"
   ]
  },
  {
   "cell_type": "code",
   "execution_count": 179,
   "metadata": {
    "ExecuteTime": {
     "end_time": "2019-11-15T07:07:56.865187Z",
     "start_time": "2019-11-15T07:07:56.847202Z"
    }
   },
   "outputs": [
    {
     "data": {
      "text/plain": [
       "array([[32656,  4149, 30842, ...,  7502, 17860,  1825]], dtype=int64)"
      ]
     },
     "execution_count": 179,
     "metadata": {},
     "output_type": "execute_result"
    }
   ],
   "source": [
    "csim_b = test_csim.argsort()\n",
    "csim_b"
   ]
  },
  {
   "cell_type": "code",
   "execution_count": 180,
   "metadata": {
    "ExecuteTime": {
     "end_time": "2019-11-15T07:07:56.875445Z",
     "start_time": "2019-11-15T07:07:56.868621Z"
    }
   },
   "outputs": [
    {
     "data": {
      "text/plain": [
       "array([[ 1825, 17860,  7502, ..., 30842,  4149, 32656]], dtype=int64)"
      ]
     },
     "execution_count": 180,
     "metadata": {},
     "output_type": "execute_result"
    }
   ],
   "source": [
    "sorted_test_b= np.fliplr(csim_b) \n",
    "#expect the first result to be the recipe itself, with cosine similarity=1\n",
    "sorted_test_b"
   ]
  },
  {
   "cell_type": "code",
   "execution_count": 181,
   "metadata": {
    "ExecuteTime": {
     "end_time": "2019-11-15T07:07:56.962549Z",
     "start_time": "2019-11-15T07:07:56.879182Z"
    }
   },
   "outputs": [
    {
     "data": {
      "text/html": [
       "<div>\n",
       "<style scoped>\n",
       "    .dataframe tbody tr th:only-of-type {\n",
       "        vertical-align: middle;\n",
       "    }\n",
       "\n",
       "    .dataframe tbody tr th {\n",
       "        vertical-align: top;\n",
       "    }\n",
       "\n",
       "    .dataframe thead th {\n",
       "        text-align: right;\n",
       "    }\n",
       "</style>\n",
       "<table border=\"1\" class=\"dataframe\">\n",
       "  <thead>\n",
       "    <tr style=\"text-align: right;\">\n",
       "      <th></th>\n",
       "      <th>title</th>\n",
       "      <th>ingredients</th>\n",
       "      <th>instructions</th>\n",
       "    </tr>\n",
       "  </thead>\n",
       "  <tbody>\n",
       "    <tr>\n",
       "      <th>1825</th>\n",
       "      <td>Heide's Kentucky Derby Dessert</td>\n",
       "      <td>1 ¼ cups chopped pecans ; 4 large eggs ; ¾ cup...</td>\n",
       "      <td>Preheat oven to 300 degrees F (150 degrees C)....</td>\n",
       "    </tr>\n",
       "    <tr>\n",
       "      <th>17860</th>\n",
       "      <td>Tar Heel Pie</td>\n",
       "      <td>½ cup butter, melted ; ¾ cup chocolate chips ;...</td>\n",
       "      <td>Preheat oven to 350 degrees F (175 degrees C.)...</td>\n",
       "    </tr>\n",
       "    <tr>\n",
       "      <th>7502</th>\n",
       "      <td>German Strawberry Roll</td>\n",
       "      <td>4  eggs, divided ; ½ cup white sugar ; 2 teasp...</td>\n",
       "      <td>Preheat the oven to 400 degrees F (200 degrees...</td>\n",
       "    </tr>\n",
       "    <tr>\n",
       "      <th>15530</th>\n",
       "      <td>Coconut Date Balls</td>\n",
       "      <td>2  eggs, beaten ; 1 cup white sugar ; 1 cup ch...</td>\n",
       "      <td>In a medium saucepan over medium heat, combine...</td>\n",
       "    </tr>\n",
       "    <tr>\n",
       "      <th>13364</th>\n",
       "      <td>White Chocolate Blondie Brownies</td>\n",
       "      <td>1 cup butter ; 3 (1 ounce) squares white choco...</td>\n",
       "      <td>Preheat oven to 350 degrees F (175 degrees C)....</td>\n",
       "    </tr>\n",
       "    <tr>\n",
       "      <th>...</th>\n",
       "      <td>...</td>\n",
       "      <td>...</td>\n",
       "      <td>...</td>\n",
       "    </tr>\n",
       "    <tr>\n",
       "      <th>10321</th>\n",
       "      <td>Kelly's Pan Fried Tilapia</td>\n",
       "      <td>1 ½ cups Italian-seasoned bread crumbs ; 5  ti...</td>\n",
       "      <td>Put bread crumbs into a shallow dish. Gently p...</td>\n",
       "    </tr>\n",
       "    <tr>\n",
       "      <th>32004</th>\n",
       "      <td>Sausage and Cheese Balls</td>\n",
       "      <td>1 pound pork sausage, casings removed ; 1 poun...</td>\n",
       "      <td>Preheat the oven to 375 degrees F (190 degrees...</td>\n",
       "    </tr>\n",
       "    <tr>\n",
       "      <th>30842</th>\n",
       "      <td>Kale Krisps</td>\n",
       "      <td>2 bunches kale, washed and dried ; 2 cups shre...</td>\n",
       "      <td>Preheat  oven to 425 degrees F (220 degrees C)...</td>\n",
       "    </tr>\n",
       "    <tr>\n",
       "      <th>4149</th>\n",
       "      <td>Easy and Elegant Pork Tenderloin</td>\n",
       "      <td>2 cups Italian seasoned bread crumbs ; ½ cup o...</td>\n",
       "      <td>Preheat oven to 425 degrees F (220 degrees C)....</td>\n",
       "    </tr>\n",
       "    <tr>\n",
       "      <th>32656</th>\n",
       "      <td>Easy Sauerkraut and Sausage Balls</td>\n",
       "      <td>1 (20 ounce) can sauerkraut ; 1 pound bulk por...</td>\n",
       "      <td>Preheat oven to 350 degrees F (175 degrees C)....</td>\n",
       "    </tr>\n",
       "  </tbody>\n",
       "</table>\n",
       "<p>35516 rows × 3 columns</p>\n",
       "</div>"
      ],
      "text/plain": [
       "                                   title  \\\n",
       "1825      Heide's Kentucky Derby Dessert   \n",
       "17860                       Tar Heel Pie   \n",
       "7502              German Strawberry Roll   \n",
       "15530                 Coconut Date Balls   \n",
       "13364   White Chocolate Blondie Brownies   \n",
       "...                                  ...   \n",
       "10321          Kelly's Pan Fried Tilapia   \n",
       "32004           Sausage and Cheese Balls   \n",
       "30842                        Kale Krisps   \n",
       "4149    Easy and Elegant Pork Tenderloin   \n",
       "32656  Easy Sauerkraut and Sausage Balls   \n",
       "\n",
       "                                             ingredients  \\\n",
       "1825   1 ¼ cups chopped pecans ; 4 large eggs ; ¾ cup...   \n",
       "17860  ½ cup butter, melted ; ¾ cup chocolate chips ;...   \n",
       "7502   4  eggs, divided ; ½ cup white sugar ; 2 teasp...   \n",
       "15530  2  eggs, beaten ; 1 cup white sugar ; 1 cup ch...   \n",
       "13364  1 cup butter ; 3 (1 ounce) squares white choco...   \n",
       "...                                                  ...   \n",
       "10321  1 ½ cups Italian-seasoned bread crumbs ; 5  ti...   \n",
       "32004  1 pound pork sausage, casings removed ; 1 poun...   \n",
       "30842  2 bunches kale, washed and dried ; 2 cups shre...   \n",
       "4149   2 cups Italian seasoned bread crumbs ; ½ cup o...   \n",
       "32656  1 (20 ounce) can sauerkraut ; 1 pound bulk por...   \n",
       "\n",
       "                                            instructions  \n",
       "1825   Preheat oven to 300 degrees F (150 degrees C)....  \n",
       "17860  Preheat oven to 350 degrees F (175 degrees C.)...  \n",
       "7502   Preheat the oven to 400 degrees F (200 degrees...  \n",
       "15530  In a medium saucepan over medium heat, combine...  \n",
       "13364  Preheat oven to 350 degrees F (175 degrees C)....  \n",
       "...                                                  ...  \n",
       "10321  Put bread crumbs into a shallow dish. Gently p...  \n",
       "32004  Preheat the oven to 375 degrees F (190 degrees...  \n",
       "30842  Preheat  oven to 425 degrees F (220 degrees C)...  \n",
       "4149   Preheat oven to 425 degrees F (220 degrees C)....  \n",
       "32656  Preheat oven to 350 degrees F (175 degrees C)....  \n",
       "\n",
       "[35516 rows x 3 columns]"
      ]
     },
     "execution_count": 181,
     "metadata": {},
     "output_type": "execute_result"
    }
   ],
   "source": [
    "data.iloc[sorted_test_b[0]]"
   ]
  },
  {
   "cell_type": "code",
   "execution_count": 182,
   "metadata": {
    "ExecuteTime": {
     "end_time": "2019-11-15T07:07:56.970523Z",
     "start_time": "2019-11-15T07:07:56.964558Z"
    }
   },
   "outputs": [
    {
     "data": {
      "text/plain": [
       "'\\u2009¼ cups chopped pecans ;  large eggs ; ¾ cup brown sugar ; ¾ cup light corn syrup ; ½ cup all-purpose flour ; ½ cup butter, melted and cooled ; ¼ cup white sugar ;  tablespoons bourbon ; \\u2009½ teaspoons vanilla extract ; ¾ cup miniature semisweet chocolate chips ;  ( inch) unbaked deep dish pie crust'"
      ]
     },
     "execution_count": 182,
     "metadata": {},
     "output_type": "execute_result"
    }
   ],
   "source": [
    "data_ingr[1825]"
   ]
  },
  {
   "cell_type": "code",
   "execution_count": 183,
   "metadata": {
    "ExecuteTime": {
     "end_time": "2019-11-15T07:07:56.979163Z",
     "start_time": "2019-11-15T07:07:56.972923Z"
    }
   },
   "outputs": [
    {
     "data": {
      "text/plain": [
       "'½ cup butter, melted ; ¾ cup chocolate chips ; ½ cup all-purpose flour ; ½ cup brown sugar ; ½ cup white sugar ;   eggs, beaten ;  teaspoon vanilla extract ;  cup chopped pecans ; ½ cup flaked coconut ; ¼ cup chocolate chips ;  ( inch) deep dish pie crust'"
      ]
     },
     "execution_count": 183,
     "metadata": {},
     "output_type": "execute_result"
    }
   ],
   "source": [
    "data_ingr[17860]"
   ]
  },
  {
   "cell_type": "markdown",
   "metadata": {},
   "source": [
    "Top recommendations for Double chocolate brownie mostly chocolate-based desserts, though the chocolate-espresso martini also got in there (only using ingredient column of data, if recommendations are based on instructions, they would likely be considered quite different)."
   ]
  },
  {
   "cell_type": "code",
   "execution_count": null,
   "metadata": {},
   "outputs": [],
   "source": [
    "pickel.dump"
   ]
  },
  {
   "cell_type": "markdown",
   "metadata": {},
   "source": [
    "#### ^Next steps"
   ]
  },
  {
   "cell_type": "code",
   "execution_count": 184,
   "metadata": {
    "ExecuteTime": {
     "end_time": "2019-11-15T07:07:56.984282Z",
     "start_time": "2019-11-15T07:07:56.981617Z"
    }
   },
   "outputs": [],
   "source": [
    "#lemmatization fix; https://discuss.analyticsvidhya.com/t/lemmatizing-dataframe-using-nltk/67092\n",
    "#soft cosine similarity?"
   ]
  },
  {
   "cell_type": "code",
   "execution_count": 185,
   "metadata": {
    "ExecuteTime": {
     "end_time": "2019-11-15T07:07:56.989657Z",
     "start_time": "2019-11-15T07:07:56.986514Z"
    }
   },
   "outputs": [],
   "source": [
    "#also tried Kmeans clustering after normalization in my original code,\n",
    "#but it wasn't immediately helpful for getting to recommendations, so it was omitted here."
   ]
  },
  {
   "cell_type": "markdown",
   "metadata": {},
   "source": [
    "##### Aside: Visualize Topics with Word Clouds?"
   ]
  },
  {
   "cell_type": "code",
   "execution_count": 187,
   "metadata": {
    "ExecuteTime": {
     "end_time": "2019-11-15T07:07:57.023495Z",
     "start_time": "2019-11-15T07:07:56.992071Z"
    }
   },
   "outputs": [],
   "source": [
    "from matplotlib import pyplot as plt\n",
    "import wordcloud\n",
    "from wordcloud import WordCloud, STOPWORDS\n",
    "import matplotlib.colors as mcolors"
   ]
  },
  {
   "cell_type": "code",
   "execution_count": 188,
   "metadata": {
    "ExecuteTime": {
     "end_time": "2019-11-15T07:07:57.038290Z",
     "start_time": "2019-11-15T07:07:57.032959Z"
    }
   },
   "outputs": [],
   "source": [
    "topics_lsa_tf = ['chopped, salt, pepper, fresh, ground, oil, black, garlic, olive, freshly, sliced, large, red, finely, sugar, cut, butter, onion, leaves, minced',\n",
    "'sugar, butter, flour, vanilla, purpose, extract, baking, cream, unsalted, powder, salt, eggs, egg, milk, chocolate, large, white, brown, temperature, room',\n",
    "'ground, pepper, black, salt, freshly, oil, kosher, sliced, olive, minced, diced, vinegar, red, garlic, sauce, thinly, cut, taste, extra, virgin',\n",
    "'fresh, sliced, cut, juice, lemon, oil, thinly, leaves, olive, large, peeled, minced, extra, virgin, pieces, plus, lime, sugar, halved, orange'\n",
    "'fresh, ground, freshly, lemon, juice, kosher, black, leaves, finely, grated, salt, parsley, extra, zest, plus, virgin, cinnamon, olive, orange, unsalted',\n",
    "'fresh, ground, sauce, juice, sugar, minced, diced, sliced, lime, ginger, taste, green, onion, white, cinnamon, cilantro, water, brown, soy, powder',\n",
    "'cut, large, peeled, pieces, ground, butter, unsalted, freshly, chicken, medium, slices, small, cubes, potatoes, stick, black, celery, carrots, thick, broth',\n",
    "'sliced, cheese, thinly, cream, grated, freshly, butter, shredded, package, parmesan, ground, cheddar, black, fresh, slices, kosher, bread, unsalted, mushrooms, heavy',\n",
    "'diced, cheese, pepper, minced, cream, taste, fresh, butter, salt, shredded, grated, chicken, package, onion, parmesan, garlic, heavy, milk, cheddar, black',\n",
    "'pepper, red, finely, juice, diced, lemon, salt, freshly, sugar, kosher, bell, lime, black, vinegar, orange, small, seeded, recipe, follows, zest']"
   ]
  },
  {
   "cell_type": "code",
   "execution_count": 189,
   "metadata": {
    "ExecuteTime": {
     "end_time": "2019-11-15T07:07:57.049839Z",
     "start_time": "2019-11-15T07:07:57.041161Z"
    }
   },
   "outputs": [
    {
     "data": {
      "text/plain": [
       "['chopped,',\n",
       " 'salt,',\n",
       " 'pepper,',\n",
       " 'fresh,',\n",
       " 'ground,',\n",
       " 'oil,',\n",
       " 'black,',\n",
       " 'garlic,',\n",
       " 'olive,',\n",
       " 'freshly,',\n",
       " 'sliced,',\n",
       " 'large,',\n",
       " 'red,',\n",
       " 'finely,',\n",
       " 'sugar,',\n",
       " 'cut,',\n",
       " 'butter,',\n",
       " 'onion,',\n",
       " 'leaves,',\n",
       " 'minced']"
      ]
     },
     "execution_count": 189,
     "metadata": {},
     "output_type": "execute_result"
    }
   ],
   "source": [
    "topics=topics_lsa_tf[0].split()\n",
    "topics"
   ]
  },
  {
   "cell_type": "code",
   "execution_count": 190,
   "metadata": {
    "ExecuteTime": {
     "end_time": "2019-11-15T07:07:57.055167Z",
     "start_time": "2019-11-15T07:07:57.052328Z"
    }
   },
   "outputs": [],
   "source": [
    "#want to split by topic? write function to repeat this?\n",
    "#need to clean data better for word cloud to be informative"
   ]
  },
  {
   "cell_type": "code",
   "execution_count": 199,
   "metadata": {
    "ExecuteTime": {
     "end_time": "2019-11-15T07:07:58.654978Z",
     "start_time": "2019-11-15T07:07:57.057520Z"
    }
   },
   "outputs": [
    {
     "ename": "AttributeError",
     "evalue": "'TransposedFont' object has no attribute 'getbbox'",
     "output_type": "error",
     "traceback": [
      "\u001b[1;31m---------------------------------------------------------------------------\u001b[0m",
      "\u001b[1;31mAttributeError\u001b[0m                            Traceback (most recent call last)",
      "\u001b[1;32m<ipython-input-199-0308a3d86118>\u001b[0m in \u001b[0;36m<module>\u001b[1;34m\u001b[0m\n\u001b[0;32m     14\u001b[0m         \u001b[0mcomment_words\u001b[0m \u001b[1;33m=\u001b[0m \u001b[0mcomment_words\u001b[0m \u001b[1;33m+\u001b[0m \u001b[0mwords\u001b[0m \u001b[1;33m+\u001b[0m \u001b[1;34m' '\u001b[0m\u001b[1;33m\u001b[0m\u001b[1;33m\u001b[0m\u001b[0m\n\u001b[0;32m     15\u001b[0m \u001b[1;33m\u001b[0m\u001b[0m\n\u001b[1;32m---> 16\u001b[1;33m wordcloud = WordCloud(width=800, height=800,\n\u001b[0m\u001b[0;32m     17\u001b[0m                       \u001b[0mbackground_color\u001b[0m\u001b[1;33m=\u001b[0m\u001b[1;34m'white'\u001b[0m\u001b[1;33m,\u001b[0m\u001b[1;33m\u001b[0m\u001b[1;33m\u001b[0m\u001b[0m\n\u001b[0;32m     18\u001b[0m                       \u001b[0mstopwords\u001b[0m\u001b[1;33m=\u001b[0m\u001b[0mstopwords_ingr\u001b[0m\u001b[1;33m,\u001b[0m\u001b[1;33m\u001b[0m\u001b[1;33m\u001b[0m\u001b[0m\n",
      "\u001b[1;32m~\\anaconda3\\lib\\site-packages\\wordcloud\\wordcloud.py\u001b[0m in \u001b[0;36mgenerate\u001b[1;34m(self, text)\u001b[0m\n\u001b[0;32m    640\u001b[0m         \u001b[0mself\u001b[0m\u001b[1;33m\u001b[0m\u001b[1;33m\u001b[0m\u001b[0m\n\u001b[0;32m    641\u001b[0m         \"\"\"\n\u001b[1;32m--> 642\u001b[1;33m         \u001b[1;32mreturn\u001b[0m \u001b[0mself\u001b[0m\u001b[1;33m.\u001b[0m\u001b[0mgenerate_from_text\u001b[0m\u001b[1;33m(\u001b[0m\u001b[0mtext\u001b[0m\u001b[1;33m)\u001b[0m\u001b[1;33m\u001b[0m\u001b[1;33m\u001b[0m\u001b[0m\n\u001b[0m\u001b[0;32m    643\u001b[0m \u001b[1;33m\u001b[0m\u001b[0m\n\u001b[0;32m    644\u001b[0m     \u001b[1;32mdef\u001b[0m \u001b[0m_check_generated\u001b[0m\u001b[1;33m(\u001b[0m\u001b[0mself\u001b[0m\u001b[1;33m)\u001b[0m\u001b[1;33m:\u001b[0m\u001b[1;33m\u001b[0m\u001b[1;33m\u001b[0m\u001b[0m\n",
      "\u001b[1;32m~\\anaconda3\\lib\\site-packages\\wordcloud\\wordcloud.py\u001b[0m in \u001b[0;36mgenerate_from_text\u001b[1;34m(self, text)\u001b[0m\n\u001b[0;32m    622\u001b[0m         \"\"\"\n\u001b[0;32m    623\u001b[0m         \u001b[0mwords\u001b[0m \u001b[1;33m=\u001b[0m \u001b[0mself\u001b[0m\u001b[1;33m.\u001b[0m\u001b[0mprocess_text\u001b[0m\u001b[1;33m(\u001b[0m\u001b[0mtext\u001b[0m\u001b[1;33m)\u001b[0m\u001b[1;33m\u001b[0m\u001b[1;33m\u001b[0m\u001b[0m\n\u001b[1;32m--> 624\u001b[1;33m         \u001b[0mself\u001b[0m\u001b[1;33m.\u001b[0m\u001b[0mgenerate_from_frequencies\u001b[0m\u001b[1;33m(\u001b[0m\u001b[0mwords\u001b[0m\u001b[1;33m)\u001b[0m\u001b[1;33m\u001b[0m\u001b[1;33m\u001b[0m\u001b[0m\n\u001b[0m\u001b[0;32m    625\u001b[0m         \u001b[1;32mreturn\u001b[0m \u001b[0mself\u001b[0m\u001b[1;33m\u001b[0m\u001b[1;33m\u001b[0m\u001b[0m\n\u001b[0;32m    626\u001b[0m \u001b[1;33m\u001b[0m\u001b[0m\n",
      "\u001b[1;32m~\\anaconda3\\lib\\site-packages\\wordcloud\\wordcloud.py\u001b[0m in \u001b[0;36mgenerate_from_frequencies\u001b[1;34m(self, frequencies, max_font_size)\u001b[0m\n\u001b[0;32m    451\u001b[0m                 \u001b[0mfont_size\u001b[0m \u001b[1;33m=\u001b[0m \u001b[0mself\u001b[0m\u001b[1;33m.\u001b[0m\u001b[0mheight\u001b[0m\u001b[1;33m\u001b[0m\u001b[1;33m\u001b[0m\u001b[0m\n\u001b[0;32m    452\u001b[0m             \u001b[1;32melse\u001b[0m\u001b[1;33m:\u001b[0m\u001b[1;33m\u001b[0m\u001b[1;33m\u001b[0m\u001b[0m\n\u001b[1;32m--> 453\u001b[1;33m                 self.generate_from_frequencies(dict(frequencies[:2]),\n\u001b[0m\u001b[0;32m    454\u001b[0m                                                max_font_size=self.height)\n\u001b[0;32m    455\u001b[0m                 \u001b[1;31m# find font sizes\u001b[0m\u001b[1;33m\u001b[0m\u001b[1;33m\u001b[0m\u001b[1;33m\u001b[0m\u001b[0m\n",
      "\u001b[1;32m~\\anaconda3\\lib\\site-packages\\wordcloud\\wordcloud.py\u001b[0m in \u001b[0;36mgenerate_from_frequencies\u001b[1;34m(self, frequencies, max_font_size)\u001b[0m\n\u001b[0;32m    509\u001b[0m                     font, orientation=orientation)\n\u001b[0;32m    510\u001b[0m                 \u001b[1;31m# get size of resulting text\u001b[0m\u001b[1;33m\u001b[0m\u001b[1;33m\u001b[0m\u001b[1;33m\u001b[0m\u001b[0m\n\u001b[1;32m--> 511\u001b[1;33m                 \u001b[0mbox_size\u001b[0m \u001b[1;33m=\u001b[0m \u001b[0mdraw\u001b[0m\u001b[1;33m.\u001b[0m\u001b[0mtextbbox\u001b[0m\u001b[1;33m(\u001b[0m\u001b[1;33m(\u001b[0m\u001b[1;36m0\u001b[0m\u001b[1;33m,\u001b[0m \u001b[1;36m0\u001b[0m\u001b[1;33m)\u001b[0m\u001b[1;33m,\u001b[0m \u001b[0mword\u001b[0m\u001b[1;33m,\u001b[0m \u001b[0mfont\u001b[0m\u001b[1;33m=\u001b[0m\u001b[0mtransposed_font\u001b[0m\u001b[1;33m,\u001b[0m \u001b[0manchor\u001b[0m\u001b[1;33m=\u001b[0m\u001b[1;34m\"lt\"\u001b[0m\u001b[1;33m)\u001b[0m\u001b[1;33m\u001b[0m\u001b[1;33m\u001b[0m\u001b[0m\n\u001b[0m\u001b[0;32m    512\u001b[0m                 \u001b[1;31m# find possible places using integral image:\u001b[0m\u001b[1;33m\u001b[0m\u001b[1;33m\u001b[0m\u001b[1;33m\u001b[0m\u001b[0m\n\u001b[0;32m    513\u001b[0m                 result = occupancy.sample_position(box_size[3] + self.margin,\n",
      "\u001b[1;32m~\\anaconda3\\lib\\site-packages\\PIL\\ImageDraw.py\u001b[0m in \u001b[0;36mtextbbox\u001b[1;34m(self, xy, text, font, anchor, spacing, align, direction, features, language, stroke_width, embedded_color)\u001b[0m\n\u001b[0;32m    655\u001b[0m                 \u001b[1;32mpass\u001b[0m\u001b[1;33m\u001b[0m\u001b[1;33m\u001b[0m\u001b[0m\n\u001b[0;32m    656\u001b[0m             \u001b[1;32melif\u001b[0m \u001b[0malign\u001b[0m \u001b[1;33m==\u001b[0m \u001b[1;34m\"center\"\u001b[0m\u001b[1;33m:\u001b[0m\u001b[1;33m\u001b[0m\u001b[1;33m\u001b[0m\u001b[0m\n\u001b[1;32m--> 657\u001b[1;33m                 \u001b[0mleft\u001b[0m \u001b[1;33m+=\u001b[0m \u001b[0mwidth_difference\u001b[0m \u001b[1;33m/\u001b[0m \u001b[1;36m2.0\u001b[0m\u001b[1;33m\u001b[0m\u001b[1;33m\u001b[0m\u001b[0m\n\u001b[0m\u001b[0;32m    658\u001b[0m             \u001b[1;32melif\u001b[0m \u001b[0malign\u001b[0m \u001b[1;33m==\u001b[0m \u001b[1;34m\"right\"\u001b[0m\u001b[1;33m:\u001b[0m\u001b[1;33m\u001b[0m\u001b[1;33m\u001b[0m\u001b[0m\n\u001b[0;32m    659\u001b[0m                 \u001b[0mleft\u001b[0m \u001b[1;33m+=\u001b[0m \u001b[0mwidth_difference\u001b[0m\u001b[1;33m\u001b[0m\u001b[1;33m\u001b[0m\u001b[0m\n",
      "\u001b[1;31mAttributeError\u001b[0m: 'TransposedFont' object has no attribute 'getbbox'"
     ]
    }
   ],
   "source": [
    "from wordcloud import WordCloud\n",
    "import matplotlib.pyplot as plt \n",
    "import pandas as pd \n",
    "  \n",
    "comment_words = ' ' \n",
    "stopwords = stopwords_ingr.append('salt') #not working to remove salt, add to original stopwords?\n",
    "# iterate through the csv file \n",
    "for topic in topics_lsa_tf: \n",
    "  \n",
    "    # split the value \n",
    "    tokens = topic.split()  \n",
    "      \n",
    "    for words in tokens: \n",
    "        comment_words = comment_words + words + ' '\n",
    "  \n",
    "  \n",
    "wordcloud = WordCloud(width = 800, height = 800, \n",
    "                background_color ='white',  \n",
    "                stopwords = stopwords, \n",
    "                min_font_size = 10).generate(comment_words) \n",
    "  \n",
    "# plot the WordCloud image                        \n",
    "plt.figure(figsize = (8, 8), facecolor = None) \n",
    "plt.imshow(wordcloud) \n",
    "plt.axis(\"off\") \n",
    "plt.tight_layout(pad = 0) \n",
    "  \n",
    "plt.show() "
   ]
  },
  {
   "cell_type": "code",
   "execution_count": 204,
   "metadata": {
    "scrolled": true
   },
   "outputs": [
    {
     "name": "stderr",
     "output_type": "stream",
     "text": [
      "[nltk_data] Downloading package stopwords to\n",
      "[nltk_data]     C:\\Users\\pasan\\AppData\\Roaming\\nltk_data...\n",
      "[nltk_data]   Package stopwords is already up-to-date!\n"
     ]
    },
    {
     "ename": "AttributeError",
     "evalue": "'TransposedFont' object has no attribute 'getbbox'",
     "output_type": "error",
     "traceback": [
      "\u001b[1;31m---------------------------------------------------------------------------\u001b[0m",
      "\u001b[1;31mAttributeError\u001b[0m                            Traceback (most recent call last)",
      "\u001b[1;32m<ipython-input-204-2411ab01cad0>\u001b[0m in \u001b[0;36m<module>\u001b[1;34m\u001b[0m\n\u001b[0;32m     19\u001b[0m \u001b[1;33m\u001b[0m\u001b[0m\n\u001b[0;32m     20\u001b[0m \u001b[1;31m# Generate the word cloud\u001b[0m\u001b[1;33m\u001b[0m\u001b[1;33m\u001b[0m\u001b[1;33m\u001b[0m\u001b[0m\n\u001b[1;32m---> 21\u001b[1;33m wordcloud = WordCloud(width=800, height=800,\n\u001b[0m\u001b[0;32m     22\u001b[0m                       \u001b[0mbackground_color\u001b[0m\u001b[1;33m=\u001b[0m\u001b[1;34m'white'\u001b[0m\u001b[1;33m,\u001b[0m\u001b[1;33m\u001b[0m\u001b[1;33m\u001b[0m\u001b[0m\n\u001b[0;32m     23\u001b[0m                       \u001b[0mstopwords\u001b[0m\u001b[1;33m=\u001b[0m\u001b[0mstopwords_ingr\u001b[0m\u001b[1;33m,\u001b[0m\u001b[1;33m\u001b[0m\u001b[1;33m\u001b[0m\u001b[0m\n",
      "\u001b[1;32m~\\anaconda3\\lib\\site-packages\\wordcloud\\wordcloud.py\u001b[0m in \u001b[0;36mgenerate\u001b[1;34m(self, text)\u001b[0m\n\u001b[0;32m    640\u001b[0m         \u001b[0mself\u001b[0m\u001b[1;33m\u001b[0m\u001b[1;33m\u001b[0m\u001b[0m\n\u001b[0;32m    641\u001b[0m         \"\"\"\n\u001b[1;32m--> 642\u001b[1;33m         \u001b[1;32mreturn\u001b[0m \u001b[0mself\u001b[0m\u001b[1;33m.\u001b[0m\u001b[0mgenerate_from_text\u001b[0m\u001b[1;33m(\u001b[0m\u001b[0mtext\u001b[0m\u001b[1;33m)\u001b[0m\u001b[1;33m\u001b[0m\u001b[1;33m\u001b[0m\u001b[0m\n\u001b[0m\u001b[0;32m    643\u001b[0m \u001b[1;33m\u001b[0m\u001b[0m\n\u001b[0;32m    644\u001b[0m     \u001b[1;32mdef\u001b[0m \u001b[0m_check_generated\u001b[0m\u001b[1;33m(\u001b[0m\u001b[0mself\u001b[0m\u001b[1;33m)\u001b[0m\u001b[1;33m:\u001b[0m\u001b[1;33m\u001b[0m\u001b[1;33m\u001b[0m\u001b[0m\n",
      "\u001b[1;32m~\\anaconda3\\lib\\site-packages\\wordcloud\\wordcloud.py\u001b[0m in \u001b[0;36mgenerate_from_text\u001b[1;34m(self, text)\u001b[0m\n\u001b[0;32m    622\u001b[0m         \"\"\"\n\u001b[0;32m    623\u001b[0m         \u001b[0mwords\u001b[0m \u001b[1;33m=\u001b[0m \u001b[0mself\u001b[0m\u001b[1;33m.\u001b[0m\u001b[0mprocess_text\u001b[0m\u001b[1;33m(\u001b[0m\u001b[0mtext\u001b[0m\u001b[1;33m)\u001b[0m\u001b[1;33m\u001b[0m\u001b[1;33m\u001b[0m\u001b[0m\n\u001b[1;32m--> 624\u001b[1;33m         \u001b[0mself\u001b[0m\u001b[1;33m.\u001b[0m\u001b[0mgenerate_from_frequencies\u001b[0m\u001b[1;33m(\u001b[0m\u001b[0mwords\u001b[0m\u001b[1;33m)\u001b[0m\u001b[1;33m\u001b[0m\u001b[1;33m\u001b[0m\u001b[0m\n\u001b[0m\u001b[0;32m    625\u001b[0m         \u001b[1;32mreturn\u001b[0m \u001b[0mself\u001b[0m\u001b[1;33m\u001b[0m\u001b[1;33m\u001b[0m\u001b[0m\n\u001b[0;32m    626\u001b[0m \u001b[1;33m\u001b[0m\u001b[0m\n",
      "\u001b[1;32m~\\anaconda3\\lib\\site-packages\\wordcloud\\wordcloud.py\u001b[0m in \u001b[0;36mgenerate_from_frequencies\u001b[1;34m(self, frequencies, max_font_size)\u001b[0m\n\u001b[0;32m    451\u001b[0m                 \u001b[0mfont_size\u001b[0m \u001b[1;33m=\u001b[0m \u001b[0mself\u001b[0m\u001b[1;33m.\u001b[0m\u001b[0mheight\u001b[0m\u001b[1;33m\u001b[0m\u001b[1;33m\u001b[0m\u001b[0m\n\u001b[0;32m    452\u001b[0m             \u001b[1;32melse\u001b[0m\u001b[1;33m:\u001b[0m\u001b[1;33m\u001b[0m\u001b[1;33m\u001b[0m\u001b[0m\n\u001b[1;32m--> 453\u001b[1;33m                 self.generate_from_frequencies(dict(frequencies[:2]),\n\u001b[0m\u001b[0;32m    454\u001b[0m                                                max_font_size=self.height)\n\u001b[0;32m    455\u001b[0m                 \u001b[1;31m# find font sizes\u001b[0m\u001b[1;33m\u001b[0m\u001b[1;33m\u001b[0m\u001b[1;33m\u001b[0m\u001b[0m\n",
      "\u001b[1;32m~\\anaconda3\\lib\\site-packages\\wordcloud\\wordcloud.py\u001b[0m in \u001b[0;36mgenerate_from_frequencies\u001b[1;34m(self, frequencies, max_font_size)\u001b[0m\n\u001b[0;32m    509\u001b[0m                     font, orientation=orientation)\n\u001b[0;32m    510\u001b[0m                 \u001b[1;31m# get size of resulting text\u001b[0m\u001b[1;33m\u001b[0m\u001b[1;33m\u001b[0m\u001b[1;33m\u001b[0m\u001b[0m\n\u001b[1;32m--> 511\u001b[1;33m                 \u001b[0mbox_size\u001b[0m \u001b[1;33m=\u001b[0m \u001b[0mdraw\u001b[0m\u001b[1;33m.\u001b[0m\u001b[0mtextbbox\u001b[0m\u001b[1;33m(\u001b[0m\u001b[1;33m(\u001b[0m\u001b[1;36m0\u001b[0m\u001b[1;33m,\u001b[0m \u001b[1;36m0\u001b[0m\u001b[1;33m)\u001b[0m\u001b[1;33m,\u001b[0m \u001b[0mword\u001b[0m\u001b[1;33m,\u001b[0m \u001b[0mfont\u001b[0m\u001b[1;33m=\u001b[0m\u001b[0mtransposed_font\u001b[0m\u001b[1;33m,\u001b[0m \u001b[0manchor\u001b[0m\u001b[1;33m=\u001b[0m\u001b[1;34m\"lt\"\u001b[0m\u001b[1;33m)\u001b[0m\u001b[1;33m\u001b[0m\u001b[1;33m\u001b[0m\u001b[0m\n\u001b[0m\u001b[0;32m    512\u001b[0m                 \u001b[1;31m# find possible places using integral image:\u001b[0m\u001b[1;33m\u001b[0m\u001b[1;33m\u001b[0m\u001b[1;33m\u001b[0m\u001b[0m\n\u001b[0;32m    513\u001b[0m                 result = occupancy.sample_position(box_size[3] + self.margin,\n",
      "\u001b[1;32m~\\anaconda3\\lib\\site-packages\\PIL\\ImageDraw.py\u001b[0m in \u001b[0;36mtextbbox\u001b[1;34m(self, xy, text, font, anchor, spacing, align, direction, features, language, stroke_width, embedded_color)\u001b[0m\n\u001b[0;32m    655\u001b[0m                 \u001b[1;32mpass\u001b[0m\u001b[1;33m\u001b[0m\u001b[1;33m\u001b[0m\u001b[0m\n\u001b[0;32m    656\u001b[0m             \u001b[1;32melif\u001b[0m \u001b[0malign\u001b[0m \u001b[1;33m==\u001b[0m \u001b[1;34m\"center\"\u001b[0m\u001b[1;33m:\u001b[0m\u001b[1;33m\u001b[0m\u001b[1;33m\u001b[0m\u001b[0m\n\u001b[1;32m--> 657\u001b[1;33m                 \u001b[0mleft\u001b[0m \u001b[1;33m+=\u001b[0m \u001b[0mwidth_difference\u001b[0m \u001b[1;33m/\u001b[0m \u001b[1;36m2.0\u001b[0m\u001b[1;33m\u001b[0m\u001b[1;33m\u001b[0m\u001b[0m\n\u001b[0m\u001b[0;32m    658\u001b[0m             \u001b[1;32melif\u001b[0m \u001b[0malign\u001b[0m \u001b[1;33m==\u001b[0m \u001b[1;34m\"right\"\u001b[0m\u001b[1;33m:\u001b[0m\u001b[1;33m\u001b[0m\u001b[1;33m\u001b[0m\u001b[0m\n\u001b[0;32m    659\u001b[0m                 \u001b[0mleft\u001b[0m \u001b[1;33m+=\u001b[0m \u001b[0mwidth_difference\u001b[0m\u001b[1;33m\u001b[0m\u001b[1;33m\u001b[0m\u001b[0m\n",
      "\u001b[1;31mAttributeError\u001b[0m: 'TransposedFont' object has no attribute 'getbbox'"
     ]
    }
   ],
   "source": [
    "from wordcloud import WordCloud, STOPWORDS\n",
    "import matplotlib.pyplot as plt\n",
    "import pandas as pd\n",
    "from nltk.corpus import stopwords as nltk_stopwords\n",
    "import nltk\n",
    "\n",
    "# Ensure stopwords are downloaded\n",
    "nltk.download('stopwords')\n",
    "\n",
    "# Define the stopwords\n",
    "stopwords_ingr = set(nltk_stopwords.words('english'))\n",
    "stopwords_ingr.add('salt')  # Add 'salt' to the stopwords\n",
    "\n",
    "# Example topics list\n",
    "topics_lsa_tf = [\"salt sugar butter\", \"pepper onion garlic\", \"milk cream cheese\"]\n",
    "\n",
    "# Combine topics into a single string\n",
    "comment_words = ' '.join(topics_lsa_tf)\n",
    "\n",
    "# Generate the word cloud\n",
    "wordcloud = WordCloud(width=800, height=800,\n",
    "                      background_color='white',\n",
    "                      stopwords=stopwords_ingr,\n",
    "                      min_font_size=10).generate(comment_words)\n",
    "\n",
    "# Plot the WordCloud image\n",
    "plt.figure(figsize=(8, 8), facecolor=None)\n",
    "plt.imshow(wordcloud)\n",
    "plt.axis(\"off\")\n",
    "plt.tight_layout(pad=0)\n",
    "plt.show()\n"
   ]
  },
  {
   "cell_type": "code",
   "execution_count": 203,
   "metadata": {
    "ExecuteTime": {
     "end_time": "2019-11-15T07:07:58.665619Z",
     "start_time": "2019-11-15T07:07:58.657549Z"
    }
   },
   "outputs": [],
   "source": [
    "#topic_words = dict(topics[0].split())"
   ]
  },
  {
   "cell_type": "code",
   "execution_count": 142,
   "metadata": {
    "ExecuteTime": {
     "end_time": "2019-11-15T07:07:58.673464Z",
     "start_time": "2019-11-15T07:07:58.669051Z"
    }
   },
   "outputs": [],
   "source": [
    "# cols = [color for name, color in mcolors.TABLEAU_COLORS.items()]  # more colors: 'mcolors.XKCD_COLORS'\n",
    "\n",
    "# cloud = WordCloud(stopwords=stopwords_ingr,\n",
    "#                   background_color='white',\n",
    "#                   width=2500,\n",
    "#                   height=1800,\n",
    "#                   max_words=10,\n",
    "#                   colormap='tab10',\n",
    "#                   color_func=lambda *args, **kwargs: cols[i],\n",
    "#                   prefer_horizontal=1.0)\n",
    "\n",
    "# #topics = topics_lsa_tf\n",
    "# topics=topics_lsa_tf[0].split()\n",
    "# #project4_functions.display_topics(nmf_model, vectorizer.get_feature_names(), 20)\n",
    "# ##** need the show_topics option in gensim for lda? Example:\n",
    "# #topics = lda_model.show_topics(formatted=False)\n",
    "# #alt: just use a list\n",
    "# #topic_words = dict(topics[i][1])\n",
    "\n",
    "\n",
    "# fig, axes = plt.subplots(2, 2, figsize=(10,10), sharex=True, sharey=True)\n",
    "\n",
    "# for i, ax in enumerate(axes.flatten()):\n",
    "#     fig.add_subplot(ax)\n",
    "#     topic_words = dict(key=topics[i].split())##\n",
    "    \n",
    "#     cloud.generate_from_frequencies(topic_words, max_font_size=300)\n",
    "#     plt.gca().imshow(cloud)\n",
    "#     plt.gca().set_title('Topic ' + str(i), fontdict=dict(size=16))\n",
    "#     plt.gca().axis('off')\n",
    "\n",
    "\n",
    "# plt.subplots_adjust(wspace=0, hspace=0)\n",
    "# plt.axis('off')\n",
    "# plt.margins(x=0, y=0)\n",
    "# plt.tight_layout()\n",
    "# plt.show()"
   ]
  },
  {
   "cell_type": "code",
   "execution_count": null,
   "metadata": {},
   "outputs": [],
   "source": [
    "from sklearn.decomposition import TruncatedSVD\n",
    "from sklearn.metrics.pairwise import cosine_similarity\n",
    "\n",
    "# Get user input for the number of components for TruncatedSVD\n",
    "n_components = int(input(\"Enter the number of components for TruncatedSVD: \"))\n",
    "\n",
    "# Assuming 'ingr_ct' is already defined\n",
    "lsa_10 = TruncatedSVD(n_components)\n",
    "ct_lsa_10 = lsa_10.fit_transform(ingr_ct)\n",
    "\n",
    "# Get user input for the ingredient\n",
    "ingredient = input(\"Enter the ingredients separated by commas: \")\n",
    "\n",
    "# Split the input into individual ingredients\n",
    "ingredient_list = ingredient.split(',')\n",
    "\n",
    "# Find the indices of the ingredients in the list of ingredients\n",
    "ingredient_indices = []\n",
    "for ingr in ingredient_list:\n",
    "    try:\n",
    "        ingredient_indices.append(list_of_ingredients.index(ingr.strip()))\n",
    "    except ValueError:\n",
    "        print(\"Ingredient\", ingr.strip(), \"not found in the list.\")\n",
    "        continue\n",
    "\n",
    "# Calculate cosine similarity for the specified ingredients\n",
    "cosine_similarities = cosine_similarity(ct_lsa_10[ingredient_indices], ct_lsa_10)\n",
    "\n",
    "# Print the result\n",
    "print(\"Cosine similarity for\", ingredient, \"with all ingredients:\")\n",
    "print(cosine_similarities)\n"
   ]
  },
  {
   "cell_type": "code",
   "execution_count": 96,
   "metadata": {},
   "outputs": [
    {
     "ename": "SyntaxError",
     "evalue": "invalid syntax (<ipython-input-96-7963dc56b699>, line 1)",
     "output_type": "error",
     "traceback": [
      "\u001b[1;36m  File \u001b[1;32m\"<ipython-input-96-7963dc56b699>\"\u001b[1;36m, line \u001b[1;32m1\u001b[0m\n\u001b[1;33m    conda install openssl\u001b[0m\n\u001b[1;37m          ^\u001b[0m\n\u001b[1;31mSyntaxError\u001b[0m\u001b[1;31m:\u001b[0m invalid syntax\n"
     ]
    }
   ],
   "source": [
    "conda install openssl\n",
    "conda install pyopenssl\n"
   ]
  },
  {
   "cell_type": "code",
   "execution_count": null,
   "metadata": {},
   "outputs": [],
   "source": []
  }
 ],
 "metadata": {
  "kernelspec": {
   "display_name": "Python 3",
   "language": "python",
   "name": "python3"
  },
  "language_info": {
   "codemirror_mode": {
    "name": "ipython",
    "version": 3
   },
   "file_extension": ".py",
   "mimetype": "text/x-python",
   "name": "python",
   "nbconvert_exporter": "python",
   "pygments_lexer": "ipython3",
   "version": "3.8.8"
  },
  "toc": {
   "base_numbering": 1,
   "nav_menu": {},
   "number_sections": true,
   "sideBar": true,
   "skip_h1_title": false,
   "title_cell": "Table of Contents",
   "title_sidebar": "Contents",
   "toc_cell": false,
   "toc_position": {
    "height": "calc(100% - 180px)",
    "left": "10px",
    "top": "150px",
    "width": "256px"
   },
   "toc_section_display": true,
   "toc_window_display": true
  }
 },
 "nbformat": 4,
 "nbformat_minor": 2
}
