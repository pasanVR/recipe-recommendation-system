{
 "cells": [
  {
   "cell_type": "code",
   "execution_count": 3,
   "id": "f6d5f5a4",
   "metadata": {},
   "outputs": [],
   "source": [
    "import pandas as pd\n",
    "import numpy as np\n",
    "import matplotlib.pyplot as plt\n",
    "import seaborn as sns\n",
    "import pickle\n",
    "import nltk\n",
    "from sklearn.feature_extraction.text import CountVectorizer\n",
    "from sklearn.decomposition import TruncatedSVD, NMF\n",
    "from sklearn.metrics.pairwise import cosine_similarity\n",
    "from nltk.corpus import stopwords\n",
    "import project4_functions_n  # Assuming this contains custom functions"
   ]
  },
  {
   "cell_type": "code",
   "execution_count": 3,
   "id": "dff30d39",
   "metadata": {},
   "outputs": [
    {
     "name": "stdout",
     "output_type": "stream",
     "text": [
      "\n",
      "Topic  0\n",
      "chopped, fresh, salt, oil, ground, large, pepper, finely, olive, kosher, cut, sliced, sugar, garlic, plus, black, freshly, divided, butter, red\n",
      "\n",
      "Topic  1\n",
      "sugar, butter, unsalted, flour, vanilla, cream, purpose, large, salt, baking, extract, egg, temperature, room, powder, plus, eggs, stick, milk, brown\n",
      "\n",
      "Topic  2\n",
      "ground, tsp, pepper, tbsp, sliced, kosher, salt, freshly, oil, thinly, black, olive, plus, vinegar, red, virgin, extra, serving, divided, seeds\n",
      "\n",
      "Topic  3\n",
      "fresh, juice, lemon, sliced, cut, thinly, lime, sugar, leaves, peeled, minced, orange, halved, zest, lengthwise, water, mint, peel, grated, trimmed\n",
      "\n",
      "Topic  4\n",
      "tbsp, tsp, sliced, thinly, oz, chopped, lb, plus, finely, divided, rice, sauce, sugar, red, peeled, cut, pieces, soy, lime, green\n",
      "\n",
      "Topic  5\n",
      "cut, sliced, peeled, large, pieces, thinly, medium, chicken, red, white, onion, sauce, halved, thick, vinegar, lengthwise, green, cubes, broth, slices\n",
      "\n",
      "Topic  6\n",
      "sliced, thinly, ground, sugar, sauce, chopped, lime, ginger, vegetable, rice, brown, cilantro, soy, powder, seeds, scallions, finely, toasted, vanilla, chile\n",
      "\n",
      "Topic  7\n",
      "ground, tsp, cut, tbsp, fresh, peeled, lime, sauce, ginger, cilantro, pieces, juice, oz, seeds, black, pepper, cinnamon, lb, sugar, minced\n",
      "\n",
      "Topic  8\n",
      "finely, grated, cut, divided, lemon, pieces, sliced, plus, thinly, zest, freshly, unsalted, butter, peeled, ground, medium, serving, kosher, juice, stick\n",
      "\n",
      "Topic  9\n",
      "divided, plus, fresh, chopped, butter, sliced, tsp, kosher, unsalted, coarsely, tbsp, thyme, thinly, freshly, leaves, sprigs, black, chicken, parsley, broth\n",
      "\n",
      "Topic  0\n",
      "oil, olive, extra, virgin, salt, garlic, red, large, vinegar, pepper, wine, leaves, cloves, plus, divided, kosher, tomatoes, cheese, sea, halved\n",
      "\n",
      "Topic  1\n",
      "sugar, butter, unsalted, flour, salt, large, cream, purpose, vanilla, baking, extract, egg, temperature, room, plus, powder, eggs, stick, milk, brown\n",
      "\n",
      "Topic  2\n",
      "chopped, finely, coarsely, fresh, onion, large, garlic, parsley, cloves, medium, white, chicken, celery, green, broth, dried, leaf, tomatoes, red, drained\n",
      "\n",
      "Topic  3\n",
      "fresh, juice, lemon, leaves, lime, minced, mint, orange, sprigs, garnish, parsley, cilantro, water, frozen, packed, basil, zest, thyme, peel, salt\n",
      "\n",
      "Topic  4\n",
      "tsp, tbsp, oz, lb, plus, kosher, ml, serving, salt, extra, virgin, seeds, pieces, optional, juice, crushed, divided, powder, small, honey\n",
      "\n",
      "Topic  5\n",
      "finely, grated, lemon, zest, plus, divided, parmesan, juice, peel, serving, orange, cheese, clove, unsalted, milk, garlic, kosher, parmigiano, reggiano, oz\n",
      "\n",
      "Topic  6\n",
      "sliced, thinly, divided, red, leaves, small, halved, kosher, plus, white, green, vinegar, medium, lengthwise, onion, large, serving, crosswise, thick, pepper\n",
      "\n",
      "Topic  7\n",
      "ground, pepper, freshly, salt, black, kosher, cumin, plus, chicken, cinnamon, onion, paprika, garlic, cloves, cayenne, serving, sea, optional, whole, taste\n",
      "\n",
      "Topic  8\n",
      "cut, pieces, peeled, large, medium, thick, slices, cubes, halved, lengthwise, chicken, crosswise, butter, small, trimmed, white, wedges, potatoes, strips, carrots\n",
      "\n",
      "Topic  9\n",
      "oil, sauce, vegetable, peeled, seeds, garlic, rice, ginger, soy, cloves, sugar, dried, sesame, minced, lime, white, chiles, cilantro, vinegar, salt\n"
     ]
    }
   ],
   "source": [
    "import pandas as pd\n",
    "import numpy as np\n",
    "import matplotlib.pyplot as plt\n",
    "import seaborn as sns\n",
    "import pickle\n",
    "import nltk\n",
    "from sklearn.feature_extraction.text import CountVectorizer\n",
    "from sklearn.decomposition import TruncatedSVD, NMF\n",
    "from sklearn.metrics.pairwise import cosine_similarity\n",
    "from nltk.corpus import stopwords\n",
    "import functions\n",
    "\n",
    "# Set up for matplotlib inline\n",
    "%matplotlib inline\n",
    "\n",
    "# Load Data\n",
    "rbdata_ar = pd.read_csv('Food Ingredients and Recipe Dataset with Image Name Mapping.csv')\n",
    "rbdata_ar.index = range(len(rbdata_ar))\n",
    "data = rbdata_ar.loc[:, ['Title', 'Ingredients', 'Instructions','Image_Name']]\n",
    "data = data.dropna(how='any')\n",
    "data.index = range(len(data))\n",
    "\n",
    "# Define stopwords\n",
    "stopwords_nltk = stopwords.words('english')\n",
    "#stopwords_nltk.extend(['ADVERTISEMENT', 'advertisement'])\n",
    "\n",
    "# Process ingredients column\n",
    "data_ingr = data['Ingredients'].apply(functions.regex_nodigits_new)\n",
    "stopwords_ingr = stopwords_nltk + ['tablespoon', 'teaspoon', 'cup', 'ounce', 'pound', 'tablespoons', 'teaspoons', 'cups', 'ounces', 'pounds', 'inch', 'inches']\n",
    "\n",
    "# Vectorize ingredients\n",
    "corpus = data_ingr\n",
    "ct_vectorizer = CountVectorizer(stop_words=stopwords_ingr)\n",
    "ingr_ct = ct_vectorizer.fit_transform(corpus)\n",
    "\n",
    "# Apply LSA\n",
    "lsa_10 = TruncatedSVD(10)\n",
    "ct_lsa_10 = lsa_10.fit_transform(ingr_ct)\n",
    "functions.display_topics(lsa_10, ct_vectorizer.get_feature_names(), 20)\n",
    "\n",
    "# Apply NMF\n",
    "nmf_10 = NMF(n_components=10, init='nndsvda', max_iter=14000, tol=1e-4)\n",
    "rb_nmf_10 = nmf_10.fit_transform(ingr_ct)\n",
    "functions.display_topics(nmf_10, ct_vectorizer.get_feature_names(), 20)"
   ]
  },
  {
   "cell_type": "code",
   "execution_count": 4,
   "id": "0692a615",
   "metadata": {},
   "outputs": [],
   "source": [
    "# Compute similarity matrix\n",
    "similarity = cosine_similarity(ct_lsa_10)"
   ]
  },
  {
   "cell_type": "code",
   "execution_count": 7,
   "id": "ee77fc1e",
   "metadata": {},
   "outputs": [],
   "source": [
    "pickle.dump(data, open('Artifacts/RecipeList.pkl', 'wb'))\n",
    "pickle.dump(similarity, open('Artifacts/similarity.pkl', 'wb'))"
   ]
  },
  {
   "cell_type": "code",
   "execution_count": 5,
   "id": "aa1bb811",
   "metadata": {},
   "outputs": [],
   "source": []
  },
  {
   "cell_type": "code",
   "execution_count": null,
   "id": "5e591cf1",
   "metadata": {},
   "outputs": [],
   "source": []
  },
  {
   "cell_type": "code",
   "execution_count": 9,
   "id": "da6f5859",
   "metadata": {},
   "outputs": [],
   "source": [
    "similarity = pickle.load(open('Artifacts/similarity.pkl', 'rb'))"
   ]
  },
  {
   "cell_type": "code",
   "execution_count": 3,
   "id": "5d980fda",
   "metadata": {},
   "outputs": [],
   "source": []
  },
  {
   "cell_type": "code",
   "execution_count": 13,
   "id": "790db875",
   "metadata": {},
   "outputs": [],
   "source": [
    "def recommend(recipe):\n",
    "    index = data[data['Title'] == recipe ].index[0]\n",
    "    distance = sorted(list(enumerate(similarity[index])),reverse = True ,key = lambda x: x[1])\n",
    "    for i in distance[1:6]:\n",
    "        print(data.iloc[i[0]].Title)\n",
    "        print(data.iloc[i[0]].Ingredients)\n",
    "        print(data.iloc[i[0]].Instructions)"
   ]
  },
  {
   "cell_type": "code",
   "execution_count": 14,
   "id": "825c3c1c",
   "metadata": {},
   "outputs": [
    {
     "name": "stdout",
     "output_type": "stream",
     "text": [
      "Smash Burger Alfresco\n",
      "['1 cup finely chopped dill pickles', '1/2 cup mayonnaise', '2 Tbsp. ketchup', '2 Tbsp. sauce from a can of chipotles in adobo', '1/2 tsp. kosher salt, plus more', '1 1/2 lb. ground beef (20% percent fat)', '4 potato rolls', '1/2 head of iceberg lettuce, leaves separated, torn into pieces about the size of the buns', '1 white onion, very thinly sliced into rings on a mandoline', '4 thin tomato slices (optional)', '2 Tbsp. vegetable oil', '8 slices American cheese']\n",
      "Prepare a grill for high heat. Place a cast-iron griddle, flat side up, on grate; heat until very hot, at least 20 minutes.\n",
      "Mix together pickles, mayonnaise, ketchup, adobo sauce, and 1/2 tsp. salt in a medium bowl; set special sauce aside.\n",
      "Divide beef into eight 3-oz. portions (don’t form into patties). Place 4 portions between 2 sheets of parchment paper, spacing 6\" apart, and, using a meat mallet or skillet, firmly smash to create thin patties, about 5\" across. Transfer to a baking sheet. Repeat with remaining portions and fresh parchment paper.\n",
      "Wrap all the buns together in a large sheet of foil to make a packet (this will keep buns soft and from getting too toasted on the grill). Place packet on grate and grill, turning once, until buns are warmed through, about 1 minute. Spread sauce over cut sides of buns. Place 3–4 pieces of lettuce on bottom buns and top each with some onion and a tomato slice, if using.\n",
      "Drizzle oil over griddle and use paper towels to evenly coat surface. The oil needs to be hot; you should see smoke almost instantly. Season patties lightly with salt. Place 4 on griddle, seasoned side down, and season top sides lightly with salt. Cook, undisturbed, until outer edges are brown and undersides are very crisp, about 2 minutes. Flip and place a slice of cheese on top of each patty. Cook until cheese is melted, about 30 seconds. Transfer patties to buns with toppings, stacking 2 patties on each bun. Repeat with remaining 4 patties, scraping off any cheese stuck to griddle in between batches.\n",
      "Braised Leeks, Peas, and Lettuce\n",
      "['4 Tbsp. unsalted butter', '3 leeks, white and pale green parts only, thinly sliced, well rinsed', '1 tsp. kosher salt, plus more', '1 tsp. kosher salt, plus more', '1/2 tsp. freshly ground black pepper, plus more', '1/4 cup dry white wine', '2 heads of Little Gem lettuce or romaine hearts, thinly sliced', '1 lb. frozen peas, thawed', '2 Tbsp. finely chopped chives', '2 Tbsp. finely chopped mint', '1 tsp. finely grated lemon zest', '1/4 cup roasted, salted pistachios, coarsely chopped']\n",
      "Melt butter in a large wide saucepan over medium-low heat. Cook leeks, partially covered and stirring occasionally, until tender but not browned, 5–7 minutes. Season with 1 tsp. salt and 1/2 tsp. pepper, then pour in wine. Increase heat to medium-high and continue to cook, stirring occasionally, until wine is reduced by half, 1–2 minutes. Add lettuce, peas, and 1 cup water. Partially cover pan and bring liquid to a simmer. Reduce heat to medium-low to maintain a gentle simmer and cook, stirring occasionally, until lettuce and peas are tender, about 5 minutes.\n",
      "Remove from heat, then stir in chives, mint, and lemon zest; season with salt and pepper. Transfer to a platter. Top with pistachios.\n",
      "Instant Pot Refried Black Beans\n",
      "['1 lb. dried black beans (about 2 cups)', '1 white onion, peeled, halved', '2 Tbsp. lard or vegetable oil', '1 1/2 tsp. kosher salt', '1 sprig cilantro, plus more for serving', 'Grated cotija cheese, chopped radishes, and lime wedges (for serving)', 'An electric pressure cooker or Instant Pot']\n",
      "Combine beans, onion, lard, salt, cilantro sprig, and 6 cups water in cooker insert. Lock on lid, making sure steam-release valve is in the proper sealed position. Select “Manual” and program for 22 minutes at high pressure. (It will take about 12 minutes for pressure to build before cooking automatically begins.)\n",
      "As soon as the time has elapsed, turn off cooker, let pressure release naturally (it will take about 23 minutes). Unlock lid and turn the heat to medium or \"Sauté.\" Bring to a strong simmer and mash beans with a potato masher or large wooden spoon. Continue to cook, stirring occasionally, until liquid thickens, about 15 minutes. Taste and season with more salt if necessary.\n",
      "Divide beans among bowls. Top with cheese, cilantro, radishes, and limes.\n",
      "Homestyle Dosas with Tomato Chutney\n",
      "['2 cups long-grain white rice', '½ cup whole or split urad dal (black gram)', '½ tsp. fenugreek seeds', '1 tsp. kosher salt', '2 tsp. plus 2 Tbsp. vegetable oil', '1 small onion, finely chopped', '2–3 small green chiles (such as serrano), seeds removed if desired, finely chopped', '4 small tomatoes or canned whole peeled tomatoes, chopped', 'Kosher salt', '2 tsp. black mustard seeds', '8–10 fresh or frozen curry leaves', '1 dried red chile (such as bird or chile de árbol)', '1 tsp. split or whole urad dal (black gram)', 'A pinch of asafoetida (optional)', '1 tsp. ghee or clarified butter, melted, divided, plus more for griddle']\n",
      "The morning before you make your batter, rinse rice in a fine-mesh sieve under cold running water, until water runs almost clear. Transfer to a large bowl and cover with 4 cups cold water. If your tap water is heavily chlorinated, use filtered water for soaking as chlorine will inhibit fermentation later on.\n",
      "Pick over dal for debris, then rinse in sieve under cold running water. Transfer to a medium bowl and add fenugreek. Cover with 2 cups cold water (again using filtered if needed). Let rice and dal soak at least 8 hours and up to 10 hours.\n",
      "Drain rice, holding back grains with your hand and pouring off most of the soaking liquid into a pitcher or large measuring glass. Transfer rice to a blender. Pulse to get things going, then purée, sparingly adding soaking liquid as needed, until a paste forms (mixture should be foamy and still slightly gritty when rubbed between your fingers). Pour into a clean large bowl. Repeat process with dal mixture, then vigorously stir blended dal into rice paste.\n",
      "Add reserved soaking liquid as needed to create a pourable batter that falls off the spoon in a steady stream and gradually dissolves into itself. Stir in salt. (If you are in a warm climate, add salt after fermentation to keep batter from becoming overly sour.) Cover bowl with a kitchen towel, then a silicone lid (this will keep the surface of the batter from drying out). Set bowl in a warm spot (a proofing box or an oven with the light on and a bowl of hot water placed inside work well). Let batter sit until airy and pleasantly sour (when you drizzle it from a spoon, it should fall on itself in slowly dissolving ribbons), 4–6 hours in a very warm environment and as long as 2 days in a very cool environment. In general, 14 hours is a safe starting point.\n",
      "Do ahead: Batter can be made 1 week ahead. Once fermented, cover and chill. Bring to room temperature before cooking. Thin with water if needed to reach a thick but pourable consistency.\n",
      "Heat 2 tsp. oil in a medium skillet over medium. Cook onion, stirring occasionally, until translucent, about 3 minutes. Add green chiles and cook, stirring, 1 minute. Reduce heat to low, add tomatoes and any juices and a generous pinch of salt. Cook, stirring often, until tomatoes are tender, 7–9 minutes. Carefully transfer to clean blender or a food processor and blend until smooth; reserve skillet. Taste chutney and season with more salt if needed. Transfer to a small bowl.\n",
      "Wipe out reserved skillet and heat remaining 2 Tbsp. oil in skillet over medium. Cook mustard seeds, stirring constantly, until they start to pop, about 30 seconds. Add curry leaves, dried red chile, and dal and cook, stirring occasionally, until curry leaves wilt and crisp and dal is starting to brown, about 2 minutes. Mix in asafoetida, if using, and remove spice oil from heat. Mix into chutney.\n",
      "To cook dosas, heat a griddle or large skillet (the larger the better; you want the batter to have room to spread) over medium. Sprinkle a little water on surface; if it sizzles you’re good to go. (It’s important though not to let griddle get hotter than medium. If it’s too hot, the batter will start to cook before it’s fully spread out, yielding a thick dosa, or worse, a thin dosa that tears. Adjust heat as needed). Brush griddle with a thin layer of ghee, wiping off excess with a folded paper towel. Ladle a generous ⅓-cupful of batter in the center of griddle and use ladle to spread batter, working outward in continuous circles and never lifting ladle off surface, to create an 8\"-diameter round. Ridges of thick and thin batter will form naturally. Cook dosa 30 seconds, then drizzle ⅛ tsp. ghee over batter. For a spongier dosa, cover with a large bowl and steam until cooked through, about 2 minutes (cooked underside should show through thinner spots, and thicker spots should be opaque and bouncy). For a drier dosa, cook until surface is mostly set, about 2 minutes, then, using a fish spatula or other wide spatula, flip dosa over (it should easily lift from the griddle at this point) and cook until second side is lightly golden, about 20 seconds. Fold dosa in half so toasted side is facing out and transfer to a plate. Repeat process with remaining batter and ghee.\n",
      "Serve dosas as they are ready with chutney alongside for dipping.\n",
      "Fried Bologna Sandwich\n",
      "['2 Tbsp. spicy brown mustard', '1 Tbsp. mayonnaise', '1 Tbsp. finely chopped dill pickles, plus 2 Tbsp. brine', 'Freshly ground black pepper', '7 oz. thinly sliced bologna', '4 slices seeded rye bread', 'A few iceberg lettuce leaves, torn to size of bread']\n",
      "Mix mustard, mayonnaise, and chopped pickles in a small bowl to combine; season with pepper.\n",
      "Arrange half of bologna slices in a neat stack. Starting near the center and working toward the edges of the stack, cut four 1\"-long slits, spacing evenly. Repeat with remaining bologna. Heat a dry large skillet, preferably cast iron, over medium-high. Working in batches, arrange bologna slices in a single layer in skillet and cook until browned all over and crisp, about 2 minutes per side. Transfer to a plate as they are done. Save skillet with any fat.\n",
      "Arrange bread in a single layer in reserved skillet and cook over medium high until golden brown, about 2 minutes per side. Transfer to a cutting board.\n",
      "To build sandwiches, spread mustard mixture evenly over each slice of bread. Divide bologna between 2 slices and top with lettuce; drizzle with pickle brine. Close up sandwiches and cut in half.\n"
     ]
    }
   ],
   "source": [
    "recommend('Instant Pot Lamb Haleem')"
   ]
  },
  {
   "cell_type": "code",
   "execution_count": 7,
   "id": "4c36c88f",
   "metadata": {},
   "outputs": [
    {
     "ename": "NameError",
     "evalue": "name 'similarity' is not defined",
     "output_type": "error",
     "traceback": [
      "\u001b[1;31m---------------------------------------------------------------------------\u001b[0m",
      "\u001b[1;31mNameError\u001b[0m                                 Traceback (most recent call last)",
      "\u001b[1;32m<ipython-input-7-4568d461d262>\u001b[0m in \u001b[0;36m<module>\u001b[1;34m\u001b[0m\n\u001b[1;32m----> 1\u001b[1;33m \u001b[0msimilarity\u001b[0m\u001b[1;33m\u001b[0m\u001b[1;33m\u001b[0m\u001b[0m\n\u001b[0m",
      "\u001b[1;31mNameError\u001b[0m: name 'similarity' is not defined"
     ]
    }
   ],
   "source": [
    "similarity"
   ]
  },
  {
   "cell_type": "code",
   "execution_count": 6,
   "id": "363c4262",
   "metadata": {},
   "outputs": [
    {
     "ename": "MemoryError",
     "evalue": "Unable to allocate 9.40 GiB for an array with shape (35516, 35516) and data type float64",
     "output_type": "error",
     "traceback": [
      "\u001b[1;31m---------------------------------------------------------------------------\u001b[0m",
      "\u001b[1;31mMemoryError\u001b[0m                               Traceback (most recent call last)",
      "\u001b[1;32m<ipython-input-6-8ebbbd6b2e34>\u001b[0m in \u001b[0;36m<module>\u001b[1;34m\u001b[0m\n\u001b[0;32m     16\u001b[0m \u001b[1;31m# Example usage\u001b[0m\u001b[1;33m\u001b[0m\u001b[1;33m\u001b[0m\u001b[1;33m\u001b[0m\u001b[0m\n\u001b[0;32m     17\u001b[0m \u001b[0mshape\u001b[0m \u001b[1;33m=\u001b[0m \u001b[1;33m(\u001b[0m\u001b[1;36m35516\u001b[0m\u001b[1;33m,\u001b[0m \u001b[1;36m35516\u001b[0m\u001b[1;33m)\u001b[0m  \u001b[1;31m# Define the shape of your original matrix\u001b[0m\u001b[1;33m\u001b[0m\u001b[1;33m\u001b[0m\u001b[0m\n\u001b[1;32m---> 18\u001b[1;33m \u001b[0msimilarity\u001b[0m \u001b[1;33m=\u001b[0m \u001b[0mload_similarity_from_chunks\u001b[0m\u001b[1;33m(\u001b[0m\u001b[1;34m'Artifacts/similarity_chunks'\u001b[0m\u001b[1;33m,\u001b[0m \u001b[0mshape\u001b[0m\u001b[1;33m)\u001b[0m\u001b[1;33m\u001b[0m\u001b[1;33m\u001b[0m\u001b[0m\n\u001b[0m",
      "\u001b[1;32m<ipython-input-6-8ebbbd6b2e34>\u001b[0m in \u001b[0;36mload_similarity_from_chunks\u001b[1;34m(folder_path, shape)\u001b[0m\n\u001b[0;32m      1\u001b[0m \u001b[1;32mdef\u001b[0m \u001b[0mload_similarity_from_chunks\u001b[0m\u001b[1;33m(\u001b[0m\u001b[0mfolder_path\u001b[0m\u001b[1;33m,\u001b[0m \u001b[0mshape\u001b[0m\u001b[1;33m)\u001b[0m\u001b[1;33m:\u001b[0m\u001b[1;33m\u001b[0m\u001b[1;33m\u001b[0m\u001b[0m\n\u001b[1;32m----> 2\u001b[1;33m     \u001b[0msimilarity\u001b[0m \u001b[1;33m=\u001b[0m \u001b[0mnp\u001b[0m\u001b[1;33m.\u001b[0m\u001b[0mzeros\u001b[0m\u001b[1;33m(\u001b[0m\u001b[0mshape\u001b[0m\u001b[1;33m)\u001b[0m\u001b[1;33m\u001b[0m\u001b[1;33m\u001b[0m\u001b[0m\n\u001b[0m\u001b[0;32m      3\u001b[0m     \u001b[0mnum_chunks\u001b[0m \u001b[1;33m=\u001b[0m \u001b[0mlen\u001b[0m\u001b[1;33m(\u001b[0m\u001b[1;33m[\u001b[0m\u001b[0mname\u001b[0m \u001b[1;32mfor\u001b[0m \u001b[0mname\u001b[0m \u001b[1;32min\u001b[0m \u001b[0mos\u001b[0m\u001b[1;33m.\u001b[0m\u001b[0mlistdir\u001b[0m\u001b[1;33m(\u001b[0m\u001b[0mfolder_path\u001b[0m\u001b[1;33m)\u001b[0m \u001b[1;32mif\u001b[0m \u001b[0mos\u001b[0m\u001b[1;33m.\u001b[0m\u001b[0mpath\u001b[0m\u001b[1;33m.\u001b[0m\u001b[0misfile\u001b[0m\u001b[1;33m(\u001b[0m\u001b[0mos\u001b[0m\u001b[1;33m.\u001b[0m\u001b[0mpath\u001b[0m\u001b[1;33m.\u001b[0m\u001b[0mjoin\u001b[0m\u001b[1;33m(\u001b[0m\u001b[0mfolder_path\u001b[0m\u001b[1;33m,\u001b[0m \u001b[0mname\u001b[0m\u001b[1;33m)\u001b[0m\u001b[1;33m)\u001b[0m\u001b[1;33m]\u001b[0m\u001b[1;33m)\u001b[0m\u001b[1;33m\u001b[0m\u001b[1;33m\u001b[0m\u001b[0m\n\u001b[0;32m      4\u001b[0m \u001b[1;33m\u001b[0m\u001b[0m\n\u001b[0;32m      5\u001b[0m     \u001b[1;32mfor\u001b[0m \u001b[0mi\u001b[0m \u001b[1;32min\u001b[0m \u001b[0mrange\u001b[0m\u001b[1;33m(\u001b[0m\u001b[0mnum_chunks\u001b[0m\u001b[1;33m)\u001b[0m\u001b[1;33m:\u001b[0m\u001b[1;33m\u001b[0m\u001b[1;33m\u001b[0m\u001b[0m\n",
      "\u001b[1;31mMemoryError\u001b[0m: Unable to allocate 9.40 GiB for an array with shape (35516, 35516) and data type float64"
     ]
    }
   ],
   "source": [
    "def load_similarity_from_chunks(folder_path, shape):\n",
    "    similarity = np.zeros(shape)\n",
    "    num_chunks = len([name for name in os.listdir(folder_path) if os.path.isfile(os.path.join(folder_path, name))])\n",
    "    \n",
    "    for i in range(num_chunks):\n",
    "        chunk_filename = os.path.join(folder_path, f'similarity_chunk_{i}.pkl')\n",
    "        with open(chunk_filename, 'rb') as chunk_file:\n",
    "            chunk = pickle.load(chunk_file)\n",
    "        \n",
    "        start_idx = i * chunk.shape[0]\n",
    "        end_idx = start_idx + chunk.shape[0]\n",
    "        similarity[start_idx:end_idx] = chunk\n",
    "    \n",
    "    return similarity\n",
    "\n",
    "# Example usage\n",
    "shape = (35516, 35516)  # Define the shape of your original matrix\n",
    "similarity = load_similarity_from_chunks('Artifacts/similarity_chunks', shape)\n"
   ]
  },
  {
   "cell_type": "code",
   "execution_count": 10,
   "id": "b597f25c",
   "metadata": {},
   "outputs": [
    {
     "ename": "MemoryError",
     "evalue": "Unable to allocate 9.40 GiB for an array with shape (35516, 35516) and data type float64",
     "output_type": "error",
     "traceback": [
      "\u001b[1;31m---------------------------------------------------------------------------\u001b[0m",
      "\u001b[1;31mMemoryError\u001b[0m                               Traceback (most recent call last)",
      "\u001b[1;32m<ipython-input-10-ea27a3220613>\u001b[0m in \u001b[0;36m<module>\u001b[1;34m\u001b[0m\n\u001b[0;32m     20\u001b[0m \u001b[1;31m# Example usage\u001b[0m\u001b[1;33m\u001b[0m\u001b[1;33m\u001b[0m\u001b[1;33m\u001b[0m\u001b[0m\n\u001b[0;32m     21\u001b[0m \u001b[0mshape\u001b[0m \u001b[1;33m=\u001b[0m \u001b[1;33m(\u001b[0m\u001b[1;36m35516\u001b[0m\u001b[1;33m,\u001b[0m \u001b[1;36m35516\u001b[0m\u001b[1;33m)\u001b[0m  \u001b[1;31m# Define the shape of your original matrix\u001b[0m\u001b[1;33m\u001b[0m\u001b[1;33m\u001b[0m\u001b[0m\n\u001b[1;32m---> 22\u001b[1;33m \u001b[0msimilarity\u001b[0m \u001b[1;33m=\u001b[0m \u001b[0mload_similarity_from_chunks\u001b[0m\u001b[1;33m(\u001b[0m\u001b[1;34m'Artifacts/similarity_chunks'\u001b[0m\u001b[1;33m,\u001b[0m \u001b[0mshape\u001b[0m\u001b[1;33m)\u001b[0m\u001b[1;33m\u001b[0m\u001b[1;33m\u001b[0m\u001b[0m\n\u001b[0m",
      "\u001b[1;32m<ipython-input-10-ea27a3220613>\u001b[0m in \u001b[0;36mload_similarity_from_chunks\u001b[1;34m(folder_path, shape)\u001b[0m\n\u001b[0;32m      4\u001b[0m \u001b[1;33m\u001b[0m\u001b[0m\n\u001b[0;32m      5\u001b[0m \u001b[1;32mdef\u001b[0m \u001b[0mload_similarity_from_chunks\u001b[0m\u001b[1;33m(\u001b[0m\u001b[0mfolder_path\u001b[0m\u001b[1;33m,\u001b[0m \u001b[0mshape\u001b[0m\u001b[1;33m)\u001b[0m\u001b[1;33m:\u001b[0m\u001b[1;33m\u001b[0m\u001b[1;33m\u001b[0m\u001b[0m\n\u001b[1;32m----> 6\u001b[1;33m     \u001b[0msimilarity\u001b[0m \u001b[1;33m=\u001b[0m \u001b[0mnp\u001b[0m\u001b[1;33m.\u001b[0m\u001b[0mzeros\u001b[0m\u001b[1;33m(\u001b[0m\u001b[0mshape\u001b[0m\u001b[1;33m)\u001b[0m\u001b[1;33m\u001b[0m\u001b[1;33m\u001b[0m\u001b[0m\n\u001b[0m\u001b[0;32m      7\u001b[0m     \u001b[0mnum_chunks\u001b[0m \u001b[1;33m=\u001b[0m \u001b[0mlen\u001b[0m\u001b[1;33m(\u001b[0m\u001b[1;33m[\u001b[0m\u001b[0mname\u001b[0m \u001b[1;32mfor\u001b[0m \u001b[0mname\u001b[0m \u001b[1;32min\u001b[0m \u001b[0mos\u001b[0m\u001b[1;33m.\u001b[0m\u001b[0mlistdir\u001b[0m\u001b[1;33m(\u001b[0m\u001b[0mfolder_path\u001b[0m\u001b[1;33m)\u001b[0m \u001b[1;32mif\u001b[0m \u001b[0mos\u001b[0m\u001b[1;33m.\u001b[0m\u001b[0mpath\u001b[0m\u001b[1;33m.\u001b[0m\u001b[0misfile\u001b[0m\u001b[1;33m(\u001b[0m\u001b[0mos\u001b[0m\u001b[1;33m.\u001b[0m\u001b[0mpath\u001b[0m\u001b[1;33m.\u001b[0m\u001b[0mjoin\u001b[0m\u001b[1;33m(\u001b[0m\u001b[0mfolder_path\u001b[0m\u001b[1;33m,\u001b[0m \u001b[0mname\u001b[0m\u001b[1;33m)\u001b[0m\u001b[1;33m)\u001b[0m\u001b[1;33m]\u001b[0m\u001b[1;33m)\u001b[0m\u001b[1;33m\u001b[0m\u001b[1;33m\u001b[0m\u001b[0m\n\u001b[0;32m      8\u001b[0m \u001b[1;33m\u001b[0m\u001b[0m\n",
      "\u001b[1;31mMemoryError\u001b[0m: Unable to allocate 9.40 GiB for an array with shape (35516, 35516) and data type float64"
     ]
    }
   ],
   "source": [
    "import os\n",
    "import numpy as np\n",
    "import pickle\n",
    "\n",
    "def load_similarity_from_chunks(folder_path, shape):\n",
    "    similarity = np.zeros(shape)\n",
    "    num_chunks = len([name for name in os.listdir(folder_path) if os.path.isfile(os.path.join(folder_path, name))])\n",
    "    \n",
    "    for i in range(num_chunks):\n",
    "        chunk_filename = os.path.join(folder_path, f'similarity_chunk_{i}.pkl')\n",
    "        with open(chunk_filename, 'rb') as chunk_file:\n",
    "            chunk = pickle.load(chunk_file)\n",
    "        \n",
    "        start_idx = i * chunk.shape[0]\n",
    "        end_idx = start_idx + chunk.shape[0]\n",
    "        similarity[start_idx:end_idx] = chunk\n",
    "    \n",
    "    return similarity\n",
    "\n",
    "# Example usage\n",
    "shape = (35516, 35516)  # Define the shape of your original matrix\n",
    "similarity = load_similarity_from_chunks('Artifacts/similarity_chunks', shape)\n"
   ]
  },
  {
   "cell_type": "code",
   "execution_count": 16,
   "id": "e16f62df",
   "metadata": {},
   "outputs": [
    {
     "name": "stdout",
     "output_type": "stream",
     "text": [
      "Recipe Title: Blue Cheese Crusted Tomatoes\n",
      "Ingredients: ['1/2 cup fine dry breadcrumbs', '1 tablespoon olive oil', '12 medium tomatoes', '3/4 cup crumbled blue cheese (about 3 ounces)']\n",
      "Instructions: Prepare barbecue (high heat), leaving opposite side unlit if gas grill or without coals if charcoal grill. Mix breadcrumbs and olive oil in small bowl, mashing to coat. Cut top 1/4 from each tomato. Sprinkle tomatoes with salt and pepper. Top each with 1 tablespoon blue cheese. Sprinkle with breadcrumb mixture.\n",
      "Arrange tomatoes (topping side up) on unlit side of grill. Cover grill and cook tomatoes until slightly soft and cheese melts, about 13 minutes. Serve immediately.\n",
      "\n",
      "Recipe Title: Slow-Roasted Tomatoes\n",
      "Ingredients: ['4 pounds plum tomatoes, halved lengthwise', '6 garlic cloves, minced', '5 tablespoons extra-virgin olive oil']\n",
      "Instructions: Preheat oven to 200°F.\n",
      "Put tomatoes, cut sides up, in 2 large shallow baking pans. Combine garlic and oil and spoon over tomatoes. Season tomatoes with salt and pepper and roast in oven 6 to 8 hours (tomatoes will be reduced in size but will retain their shape). Cool tomatoes.\n",
      "\n",
      "Recipe Title: Simple Garlic Confit with Herbs\n",
      "Ingredients: ['9–10 heads of garlic (about 3 cups cloves)', '9–10 sprigs of thyme or another woody herb like rosemary', '3 cups olive oil']\n",
      "Instructions: Peel garlic cloves and place in a medium heavy saucepan. Stir in thyme and oil. Cover and cook over very low heat (you want the garlic to gently poach, not deep fry!), about 30 minutes. Small bubbles will rise from the garlic, but don't let the oil simmer. The oil temperature should not go above 200°F. To test for doneness, spear a clove with a fork. If it's very soft, turn off heat; if not, poach 10–15 minutes more.\n",
      "Remove pan from heat, keep covered, and let cool to room temperature. Using a clean spoon, divide garlic and herbs among resealable glass jars. Fill jars with cooking oil, seal, and chill.\n",
      "Garlic confit can be chilled for up to 4 months.\n",
      "\n",
      "Recipe Title: Roasted Green Beans with Fresh Garlic\n",
      "Ingredients: ['1 pound green beans, trimmed', '2 tablespoons extra-virgin olive oil', '2 garlic cloves, minced']\n",
      "Instructions: Preheat oven to 450°F. Toss green beans with olive oil on large rimmed baking sheet. Roast until browned and almost tender, stirring occasionally, about 10 minutes. Sprinkle beans with garlic, salt, and pepper; toss to combine. Continue roasting until beans are tender, about 2 minutes longer. Transfer to bowl.\n",
      "\n",
      "Recipe Title: Pollo al Mattone: Chicken Under a Brick\n",
      "Ingredients: ['2 garlic cloves', '1 handful of parsley', 'Zest from 1 orange', '4 tablespoons extra-virgin olive oil', '1/2 teaspoon salt', '1/2 teaspoon pepper', '1 chicken, 3 to 4 pounds', '2 tablespoons red wine vinegar', '1/2 cup extra-virgin olive oil', '1/2 cup white wine']\n",
      "Instructions: Preheat oven to 400 degrees F.\n",
      "Mince the garlic and parsley and combine with the zest, 2 tablespoons of olive oil, and salt and pepper. Set aside.\n",
      "Wash the chicken under cold running water and dry. With poultry shears, remove the wing tips, any excess fat, and cut out the backbone. Put them aside for stock. You may want to remove the ribs and breastbone, too. Mix together the marinade ingredients. Lay the chicken flat, skin side up. Stuff the garlic mixture under the skin, place in the marinade, then cover and marinate for a few hours or, even better, overnight. Turn two or three times.\n",
      "Heat 2 tablespoons olive oil in a cast-iron pan large enough to hold the chicken (I use a 12-inch cast-iron skillet). Place the chicken skin side down and weigh it down with the two clean bricks wrapped in foil. Cook over medium heat for 5 minutes, then place the skillet and bricks in the oven for 15 to 20 minutes, after which you'll remove the weights and turn the chicken over, cooking another 10 minutes or so, until done. Cut into serving- sized pieces.\n",
      "\n"
     ]
    }
   ],
   "source": [
    "# Function to recommend recipes\n",
    "def recommend(ingredients):\n",
    "    # Load precomputed data and similarity matrix\n",
    "    data = pickle.load(open('Artifacts/RecipeList.pkl', 'rb'))\n",
    "    similarity = pickle.load(open('Artifacts/similarity.pkl', 'rb'))\n",
    "    \n",
    "    # Process the input ingredients\n",
    "    input_ingr = functions.regex_nodigits_new(ingredients)\n",
    "    input_vector = ct_vectorizer.transform([input_ingr])\n",
    "    \n",
    "    # Compute similarity scores\n",
    "    input_lsa = lsa_10.transform(input_vector)\n",
    "    scores = cosine_similarity(input_lsa, ct_lsa_10)\n",
    "    \n",
    "    # Get top 5 similar recipes\n",
    "    indices = np.argsort(scores[0])[::-1][1:6]\n",
    "    \n",
    "    # Display the recommended recipes\n",
    "    for idx in indices:\n",
    "        print(f\"Recipe Title: {data.iloc[idx]['Title']}\")\n",
    "        print(f\"Ingredients: {data.iloc[idx]['Ingredients']}\")\n",
    "        print(f\"Instructions: {data.iloc[idx]['Instructions']}\\n\")\n",
    "\n",
    "# Example usage\n",
    "recommend(\"chicken, potato, olive oil\")"
   ]
  },
  {
   "cell_type": "code",
   "execution_count": 19,
   "id": "02849309",
   "metadata": {},
   "outputs": [],
   "source": [
    "# Function to recommend recipes\n",
    "def recommend():\n",
    "    # Load precomputed data and similarity matrix\n",
    "    data = pickle.load(open('Artifacts/RecipeList.pkl', 'rb'))\n",
    "    similarity = pickle.load(open('Artifacts/similarity.pkl', 'rb'))\n",
    "    \n",
    "    # Get user input\n",
    "    user_input = input(\"Enter ingredients separated by commas: \")\n",
    "    \n",
    "    # Process the input ingredients\n",
    "    input_ingr = functions.regex_nodigits_new(user_input)\n",
    "    input_vector = ct_vectorizer.transform([input_ingr])\n",
    "    \n",
    "    # Compute similarity scores\n",
    "    input_lsa = lsa_10.transform(input_vector)\n",
    "    scores = cosine_similarity(input_lsa, ct_lsa_10)\n",
    "    \n",
    "    # Get top 5 similar recipes\n",
    "    indices = np.argsort(scores[0])[::-1][1:6]\n",
    "    \n",
    "    # Display the recommended recipes\n",
    "    for idx in indices:\n",
    "        print(f\"Recipe Title: {data.iloc[idx]['Title']}\")\n",
    "        print(f\"Ingredients: {data.iloc[idx]['Ingredients']}\")\n",
    "        print(f\"Instructions: {data.iloc[idx]['Instructions']}\\n\")\n",
    "        print(f\"_________________________________________________\")\n",
    "\n"
   ]
  },
  {
   "cell_type": "code",
   "execution_count": 22,
   "id": "a8cd51e7",
   "metadata": {},
   "outputs": [
    {
     "name": "stdout",
     "output_type": "stream",
     "text": [
      "Enter ingredients separated by commas: onion,carrot,potato\n",
      "Recipe Title: Peach-Lacquered Chicken Wings\n",
      "Ingredients: ['3 garlic cloves', '1 (3-inch) piece peeled ginger, coarsely chopped', '2/3 cup peach or apricot preserves or jam', '1/3 cup soy sauce', '2 tablespoons water', '1/4 teaspoon hot red-pepper flakes', '4 pounds chicken wings, tips removed if desired']\n",
      "Instructions: Preheat broiler.\n",
      "With motor running, drop garlic into a food processor and finely chop. Add ginger and finely chop.\n",
      "Add preserves, soy sauce, water, and red-pepper flakes and pulse until sauce is combined.\n",
      "Line bottom and sides of a large 4-sided sheet pan with foil and lightly oil foil.\n",
      "Pat wings dry and put in sheet pan. Season with 3/4 teaspoon salt. Pour sauce over wings and toss to coat, then spread in 1 layer.\n",
      "Broil wings 4 to 6 inches from heat 5 minutes, then turn over and baste with sauce from pan. Continue to broil, rotating pan and turning and basting 3 more times, until chicken is cooked through and browned in spots, 20 to 25 minutes.\n",
      "\n",
      "_________________________________________________\n",
      "Recipe Title: Hoppin' John\n",
      "Ingredients: ['1 cup small dried beans such as cowpeas or black-eyes', '5 to 6 cups water', '1 dried hot pepper (optional)', '1 smoked ham hock', '1 medium onion, chopped (about 3/4 cup)', '1 cup long-grain white rice']\n",
      "Instructions: Wash and sort the peas. Place them in a saucepan, add the water, and discard any peas that float. Gently boil the peas with the pepper, ham hock, and onion, uncovered, until tender but not mushy — about 1 1/2 hours — or until 2 cups of liquid remain. Add the rice to the pot, cover, and simmer over low heat for about 20 minutes, never lifting the lid.\n",
      "Remove from the heat and allow to steam, still covered, for another 10 minutes. Remove the cover, fluff with a fork, and serve immediately.\n",
      "\n",
      "_________________________________________________\n",
      "Recipe Title: Dried Chile Salsa\n",
      "Ingredients: ['1 1/2 ounces dried chiles de árbol', '1 1/2 ounces ancho chiles', '1 medium white onion, chopped', '4 garlic cloves, peeled', '1 tablespoon kosher salt', '1/3 cup distilled white vinegar']\n",
      "Instructions: Toast chiles in a dry medium skillet over high heat, turning often, until fragrant, about 3 minutes. Let cool slightly, then remove stems and seeds. Place chiles, onion, garlic, salt, and 1 1/2 cups water in a medium saucepan. Bring to a boil. Reduce heat and simmer until very soft, 15–20 minutes. Purée chile mixture in a blender until smooth. Strain into a medium bowl and mix in vinegar.\n",
      "DO AHEAD: Salsa can be made 4 days ahead. Cover and chill.\n",
      "\n",
      "_________________________________________________\n",
      "Recipe Title: Waldorf Salad\n",
      "Ingredients: ['1 cup diced celery', '1 cup diced cored, peeled apples', '1/2 cup coarsely chopped walnuts', '1/2 cup seedless red grapes, halved, optional', '1/2 to 3/4 cup mayonnaise']\n",
      "Instructions: Combine celery, apples, walnuts, and grapes in a medium bowl.\n",
      "Stir in mayonnaise.\n",
      "Serve at room temperature or chilled.\n",
      "\n",
      "_________________________________________________\n",
      "Recipe Title: Spicy Chicken Stock\n",
      "Ingredients: ['1 (3-pound) whole chicken', '1/2 bunch celery, coarsely chopped', '1 medium onion, coarsely chopped', '1 bunch cilantro or parsley stems', '2 medium carrots, scrubbed, coarsely chopped', '1 lemongrass stalk, tough outer layers removed, lightly smashed, coarsely chopped', '8 dried chiles de árbol', '2 dried guajillo chiles', '2 jalapeños, halved lengthwise', '1 head of garlic, cut in half crosswise', '1 (3-inch) piece ginger, peeled', '3 bay leaves', '1 tablespoon coriander seeds']\n",
      "Instructions: Place chicken, celery, onion, cilantro, carrots, lemongrass, chiles de árbol, guajillo chiles, jalapeños, garlic, ginger, bay leaves, and coriander in a large stockpot. Add cold water to cover, then bring to a boil over medium heat. Reduce heat and simmer, occasionally skimming fat and foam from surface, 30 minutes. Transfer chicken to a rimmed baking sheet; simmer stock 30 minutes longer.\n",
      "Once chicken is cool enough to handle, remove skin and shred meat (you should have about 4 cups); discard bones and skin.\n",
      "Let stock cool, then strain through a fine-mesh sieve into a large bowl, pressing on solids; discard solids.\n",
      "Stock can be made 3 days ahead. Let cool; cover and chill, or freeze up to 3 months.\n",
      "\n",
      "_________________________________________________\n"
     ]
    }
   ],
   "source": [
    "# Example usage\n",
    "recommend()"
   ]
  },
  {
   "cell_type": "code",
   "execution_count": null,
   "id": "f0f13983",
   "metadata": {},
   "outputs": [],
   "source": []
  }
 ],
 "metadata": {
  "kernelspec": {
   "display_name": "Python 3",
   "language": "python",
   "name": "python3"
  },
  "language_info": {
   "codemirror_mode": {
    "name": "ipython",
    "version": 3
   },
   "file_extension": ".py",
   "mimetype": "text/x-python",
   "name": "python",
   "nbconvert_exporter": "python",
   "pygments_lexer": "ipython3",
   "version": "3.8.8"
  }
 },
 "nbformat": 4,
 "nbformat_minor": 5
}
