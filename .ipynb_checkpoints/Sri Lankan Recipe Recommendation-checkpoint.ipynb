{
 "cells": [
  {
   "cell_type": "code",
   "execution_count": 5,
   "id": "5a99b27f",
   "metadata": {},
   "outputs": [
    {
     "name": "stdout",
     "output_type": "stream",
     "text": [
      "\n",
      "Topic  0\n",
      "curry, salt, coconut, leaves, chili, seeds, oil, onion, turmeric, garlic, milk, pep, cloves, water, cooking, ginger, black, red, thick, mustard\n",
      "\n",
      "Topic  1\n",
      "pep, chili, cut, ginger, black, ground, chicken, salt, akes, paste, cloves, garlic, minced, water, crushed, sugar, oil, butter, beef, sauce\n",
      "\n",
      "Topic  2\n",
      "seeds, cooking, mustard, fennel, cumin, paste, cori, ginger, black, dried, onion, oil, garlic, chicken, leaves, pep, cinnamon, cardamom, turmeric, tamarind\n",
      "\n",
      "Topic  3\n",
      "curry, leaves, cloves, leaf, beef, garlic, cinnamon, broken, minced, cut, fenugreek, long, roasted, cayenne, ginger, vegetable, ground, youre, chilies, making\n",
      "\n",
      "Topic  4\n",
      "pep, seeds, black, coconut, cumin, ground, cardamom, cloves, cut, cinnamon, fennel, freshly, cori, milk, sugar, grated, corns, vinegar, rice, pods\n",
      "\n",
      "Topic  5\n",
      "easter, cake, food, coloring, vanilla, recipe, yellow, curry, pink, buttercream, wilton, tip, green, eggs, ground, grass, batter, fect, bunnies, coloringvanilla\n",
      "\n",
      "Topic  6\n",
      "milk, ground, pep, sugar, curry, tamarind, minced, thick, black, salt, juice, cayenne, paste, thin, fish, turmeric, prefer, egg, lime, butter\n",
      "\n",
      "Topic  7\n",
      "chili, lime, pep, fish, green, akes, turmeric, onion, black, easter, juice, maldive, minced, coconut, food, red, ground, thin, shallots, chilies\n",
      "\n",
      "Topic  8\n",
      "beef, cut, curry, sugar, water, seeds, oil, akes, butter, cloves, white, red, vinegar, leaf, broken, dough, dried, chili, make, sauce\n",
      "\n",
      "Topic  9\n",
      "oil, cut, garlic, thin, onion, cooking, ginger, thick, juice, vinegar, minced, tomato, pep, beef, banana, tamarind, akes, sugar, cloves, slices\n",
      "\n",
      "Topic  0\n",
      "curry, leaves, turmeric, onion, salt, garlic, oil, water, tomato, cinnamon, ground, potatoes, fenugreek, tamarind, leaf, diced, mustard, cloves, powder, long\n",
      "\n",
      "Topic  1\n",
      "pep, black, ground, chili, minced, salt, fish, cayenne, cut, freshly, ginger, cumin, cloves, prefer, sea, lime, sauce, diced, vinegar, kashmiri\n",
      "\n",
      "Topic  2\n",
      "coconut, milk, thick, thin, salt, turmeric, fenugreek, juice, onion, tamarind, chilies, fish, garlic, shallots, grated, cloves, lime, freshly, eggplants, seeds\n",
      "\n",
      "Topic  3\n",
      "chili, onion, salt, green, oil, turmeric, cooking, lime, water, red, wish, leaves, fish, akes, clove, dried, mustard, juice, potato, garlic\n",
      "\n",
      "Topic  4\n",
      "seeds, mustard, fennel, cumin, cooking, dried, black, thin, cori, red, oil, cloves, garlic, leaves, cardamom, fenugreek, tamarind, onion, juice, cinnamon\n",
      "\n",
      "Topic  5\n",
      "easter, cake, food, coloring, vanilla, green, pink, yellow, recipe, buttercream, tip, wilton, eggs, batter, fect, coloringvanilla, sprinkles, cakedecorating, edible, bunnies\n",
      "\n",
      "Topic  6\n",
      "coconut, red, push, portions, fresh, needed, crushed, cut, ntic, tools, leaves, pot, clay, mortar, rice, grated, vegetable, cloves, chili, onions\n",
      "\n",
      "Topic  7\n",
      "water, sugar, salt, butter, egg, white, warm, yeast, bread, rice, dry, oil, vanilla, dough, baking, milk, batter, eggs, brown, syrup\n",
      "\n",
      "Topic  8\n",
      "paste, ginger, chicken, garlic, crushed, salt, turmeric, oil, onion, cooking, cardamom, cinnamon, carrot, tomato, leeks, meat, cabbage, banana, boneless, leaves\n",
      "\n",
      "Topic  9\n",
      "cloves, oil, garlic, beef, cut, chili, leaf, broken, onion, salt, coconut, akes, curry, vinegar, chilies, roasted, ginger, cinnamon, white, make\n"
     ]
    }
   ],
   "source": [
    "import pandas as pd\n",
    "import numpy as np\n",
    "import matplotlib.pyplot as plt\n",
    "import seaborn as sns\n",
    "import pickle\n",
    "import nltk\n",
    "from sklearn.feature_extraction.text import CountVectorizer\n",
    "from sklearn.decomposition import TruncatedSVD, NMF\n",
    "from sklearn.metrics.pairwise import cosine_similarity\n",
    "from nltk.corpus import stopwords\n",
    "import functions\n",
    "\n",
    "# Set up for matplotlib inline\n",
    "%matplotlib inline\n",
    "\n",
    "# Load Data\n",
    "rbdata_ar = pd.read_csv('CleanSrilankanRecipes.csv')\n",
    "rbdata_ar.index = range(len(rbdata_ar))\n",
    "data = rbdata_ar.loc[:, ['Title', 'Ingredients', 'Instructions','CleanIngredients']]\n",
    "data = data.dropna(how='any')\n",
    "data.index = range(len(data))\n",
    "\n",
    "# Process ingredients column\n",
    "data_ingr = data['CleanIngredients']\n",
    "\n",
    "# Vectorize ingredients\n",
    "corpus = data_ingr\n",
    "ct_vectorizer = CountVectorizer(stop_words=stopwords_ingr)\n",
    "ingr_ct = ct_vectorizer.fit_transform(corpus)\n",
    "\n",
    "# Apply LSA\n",
    "lsa_10 = TruncatedSVD(10)\n",
    "ct_lsa_10 = lsa_10.fit_transform(ingr_ct)\n",
    "functions.display_topics(lsa_10, ct_vectorizer.get_feature_names(), 20)\n",
    "\n",
    "# Apply NMF\n",
    "nmf_10 = NMF(n_components=10, init='nndsvda', max_iter=14000, tol=1e-4)\n",
    "rb_nmf_10 = nmf_10.fit_transform(ingr_ct)\n",
    "functions.display_topics(nmf_10, ct_vectorizer.get_feature_names(), 20)"
   ]
  },
  {
   "cell_type": "code",
   "execution_count": 6,
   "id": "8943f857",
   "metadata": {},
   "outputs": [
    {
     "data": {
      "text/plain": [
       "0      ['chicken potatoes cheddar cheese garlic onion...\n",
       "1      ['chicken potatoes cheddar cheese habanero chi...\n",
       "2      ['bone chicken curry red chili onion cloves ga...\n",
       "3      ['beans chili cinnamon pearl onions Asian shal...\n",
       "4      ['cooked rice eggs gheecooking oil onion ginge...\n",
       "                             ...                        \n",
       "374    [' Payatham Urundai Mung bean Green moong dhal...\n",
       "375    ['Butter Granulated sugar Egg Vanilla extract ...\n",
       "376    ['peanut Butter Brown sugar White sugar Vanill...\n",
       "377      ['palmyra fruit juice Sugar Water Cooking oil']\n",
       "378    ['Banana Wood apple Papaya Mango Raisins cashe...\n",
       "Name: CleanIngredients, Length: 379, dtype: object"
      ]
     },
     "execution_count": 6,
     "metadata": {},
     "output_type": "execute_result"
    }
   ],
   "source": [
    "data_ingr"
   ]
  },
  {
   "cell_type": "code",
   "execution_count": 7,
   "id": "0b4dff2b",
   "metadata": {},
   "outputs": [],
   "source": [
    "# Compute similarity matrix\n",
    "similarity = cosine_similarity(ct_lsa_10)"
   ]
  },
  {
   "cell_type": "code",
   "execution_count": 8,
   "id": "fb4ffc25",
   "metadata": {},
   "outputs": [],
   "source": [
    "pickle.dump(ct_vectorizer, open('Artifacts/sl_ct_vectorizer.pkl', 'wb'))\n",
    "pickle.dump(lsa_10, open('Artifacts/sl_lsa_10.pkl', 'wb'))\n",
    "pickle.dump(ct_lsa_10, open('Artifacts/sl_ct_lsa_10.pkl', 'wb'))"
   ]
  },
  {
   "cell_type": "code",
   "execution_count": 9,
   "id": "30130484",
   "metadata": {},
   "outputs": [],
   "source": [
    "pickle.dump(data, open('Artifacts/sl_RecipeList.pkl', 'wb'))\n",
    "pickle.dump(similarity, open('Artifacts/sl_similarity.pkl', 'wb'))"
   ]
  },
  {
   "cell_type": "code",
   "execution_count": 10,
   "id": "95136c6f",
   "metadata": {},
   "outputs": [
    {
     "name": "stdout",
     "output_type": "stream",
     "text": [
      "Recipe Title: Air-fried eggplant salad\n",
      "Ingredients: ['To fry eggplants\\n2 long eggplants\\n1â\\x81„4 tsp turmeric powder (optional)\\noil, enough to coat eggplant slices\\nTo make the salad\\n1â\\x81„4 cup thinly sliced shallots or red onions\\n1 green chili sliced (adjust to your liking)\\n1â\\x81„2 cup cherry tomatoes/ sliced regular tomatoes\\n1 tsp maldive fish flakes (optional)\\n1 tsp lime juice\\nsalt as needed\\npepper as needed']\n",
      "Instructions: [\"Cut eggplants into long strips. About 1 cm thick. Use long Asian eggplants for this (not the big Mediterranean eggplants)\\nPut all the eggplants into a bowl, add turmeric, some oil about 2 tsp and mix well so that each and every piece gets covered with oil. Add more or less according to the amount of eggplant you use. The only requirement here is to coat all the eggplant pieces with a very thin layer of oil. Turmeric is totally optional. If you want you can add salt too. But I like to add salt at the end. That way it's easier to can control the saltiness of the final salad.\\nPut them into the air fryer basket and arrange them to a single layer. You may have to fry them for few batches depending on the size of the basket and the amount of eggplants you have. Do not overcrowd. Fry them on 375 F for 4 - 5 mins. Take the basket out. Shake and fry for 2 to 4 mins more. This time may vary depending on the air fryer you use.\\nWhen the eggplants are fried, transfer them to a bowl, add everything else, and mix well. If you feel like it needs more sourness, add more lime juice. Adjust salt and pepper however you like.\"]\n",
      "\n",
      "Recipe Title: Chicken Biryani\n",
      "Ingredients: ['2 lb chicken breast\\n6 cups basmati rice\\n2 tablespoons vegetable oil\\n3 tablespoons ghee\\n3 onions , minced\\nÂ½ teaspoon garam masala\\n2 tablespoons grated coconut\\nÂ¾ cup coconut milk\\nÂ¾ cup cashews\\nâ…“ cup raisins\\n3 tablespoons chopped cilantro leaves']\n",
      "Instructions: ['Cut the chicken into pieces and prick with a fork.\\nIn a bowl, prepare the first mixture of spices: turmeric, chili powder, salt, ginger and garlic paste, yogurt and the juice of half a lemon. Apply the paste to the chicken, mix and let marinate for 3 hours.\\nIn a large bowl, prepare the second mixture of spices: cumin, cloves, cinnamon, cardamom, bay leaves, and coriander.\\nHeat the oil in a large saucepan over medium heat.\\nFry the second spice mixture and Â¾ of the onions for 2 minutes then add the mint leaves.\\nWhen the onions turn brown, add the chicken with its marinade and cook for 20 to 30 minutes. Cook covered for the first 10 minutes and uncovered the last 10 minutes.\\nAdd the garam masala and the grated coconut, mix and remove from the heat.\\nWhile the chicken cooks, prepare the basmati rice.\\nWash the rice twice with water until clear then place it in a saucepan with the same volume of water as the volume of rice, and a little salt.\\nMelt the ghee in a small skillet over medium heat.\\nFry the cashews in the butter for 1 minute, then add the raisins and continue frying for 1 minute. Remove the dried fruits from the butter with a skimmer and set aside.\\nIn the same butter, fry the remaining onion and set aside.\\nIn the bottom of a large pot, add a layer of â…“ of the rice then a layer of half the chicken, a second layer of rice, then a second layer of chicken and finish with a third layer of rice.\\nSpread the onions, cashews and raisins on top.\\nPour the coconut milk over it and garnish with cilantro.\\nCover the pot and cook over very low heat for 10 minutes.\\nServe with raita.']\n",
      "\n",
      "Recipe Title: PRAWN FRIED NOODLES RECIPE | BEST FRIED SHRIMP NOODLES\n",
      "Ingredients: ['Noodle - 400g\\nPrawn/Shrimp - 300g (After clean)\\nCarrot - 150g\\nLeeks - 75g\\nCabbage - 75g\\nGreen bean - 75g\\nOnion - 150g\\nCurry leaves - 3 sprigs\\nGarlic paste - 2 teaspoons\\nGinger paste - 1 teaspoon\\nTurmeric powder - Â½ + Â½ teaspoon\\nSalt - As you need\\nCooking oil - As you need']\n",
      "Instructions: ['Clean the shrimps and rinse them thoroughly. Add turmeric powder and salt. Mix well and let them marinate for 30 minutes.\\nSlice the carrot, cabbage, leeks, green beans, and onions. Also, get read with curry leaves, ginger-garlic paste, turmeric powder, and salt.\\nBoil the noodles and put them in a flat tray. The noodles should be soft and chewy, but not mushy or soggy.\\nFry the onions till golden brown. For me, it takes about five minutes.\\nFry the curry leaves. It takes about 30 seconds.\\nAlso, fry the marinated prawns till they start turning brown. For me, it takes about five minutes.\\nNow, place a skillet on the stove. Add carrot, cabbage, green beans, turmeric powder, cooking oil, and salt. Give a good mix and switch on the flame.\\nCook covered under medium flame for about five minutes. In halfway through open the lid and give a good stir to avoid burning.\\nAdd leeks and ginger-garlic paste. Mix and cook uncovered under medium flame for two minutes. Stir occasionally to avoid burning.\\nSo, now you have the boiled noodles, fried onions, fried curry leaves, fried prawns, and vegetable mix.\\nUsing two forks mix them until totally combined. Taste and adjust salt if needed.\\nThis is how to make the best prawn fried noodles recipe at home. Serve and enjoy this Sri Lankan style delicious fried shrimp noodles.']\n",
      "\n",
      "Recipe Title: GOOD WHOLE ROAST CHICKEN RECIPE SRI LANKAN STYLE WITH LIME GARLIC\n",
      "Ingredients: ['Whole chicken - 1 Â¼ kg\\nChili powder - 1 Â½ tablespoons\\nGarlic paste - 1 tablespoon\\nGinger paste - Â¾ tablespoon\\nMaggi chicken soup cube - Â¾ tablespoon\\nButter - 15g\\nLime - Â½\\nTurmeric powder - Â½ teaspoon\\nSalt - As you need\\nCooking oil - As you need']\n",
      "Instructions: ['Take the whole chicken and rinse it well at least 2 or 3 times.\\nGet ready with garlic paste, ginger paste, turmeric powder, Maggi chicken soup cube, salt, lime, chili powder, and butter. (Refer Note 1 and Note 2)\\nPut the chicken in a large bowl. Add chili powder, garlic paste, ginger paste, turmeric powder, and salt.\\nPaste everything inside and outside of the chicken using your fingers. Let it marinate for 2 to 3 hours.\\nHeat the oil in a large frying pot and wait until the oil gets maximum heat. Now, carefully place the marinated whole chicken inside the oil. (Refer Note 3)\\nFry the chicken well. If you are using little oil, you should turn around and fry every little part of the chicken. At first, you can put the flame in high. But later turn the flame to medium. I used little cooking oil and for me, the frying process took about 15 minutes.\\nNow grease the fried chicken with the lime. Just squeeze the lime and rub every outer part of the chicken. (Refer Note 4 and Note 5)\\nAfter the lime, grease the chicken with Maggi chicken soup cube. Rub it with your fingers outside and inside of the chicken.\\nFinally, do the same with butter. Paste the butter outside and inside of the chicken.\\nPreheat the oven and place the chicken inside. Set the oven to 170 degree Celsius and 30 minutes on bake mode.\\nTake off the chicken and place it on a plate. You can decorate the chicken with sliced onions and limes.\\nServe and enjoy this delicious whole roast chicken in Sri Lankan style.']\n",
      "\n",
      "Recipe Title: SIMPLE VEGETABLE FRIED NOODLES RECIPE WITHOUT SOY SAUCE\n",
      "Ingredients: ['Noodles - 400g\\nCabbage - 100g\\nCarrot - 125g\\nBanana pepper - 50g\\nLeeks - 100g\\nOnion - 150g\\nSoya meat - 30g (Optional)\\nCurry leaves - 2 sprigs\\nGinger paste - Â½ teaspoon\\nGarlic paste - 1 teaspoon\\nTurmeric powder - Â¼ teaspoon\\nSalt - As you want\\nCooking oil - As you need']\n",
      "Instructions: ['Add soya meat and water in a bowl and let the soy meat to soak for 30 minutes.\\nAfter 30 minutes wash the soy meat 2 or 3 times and cut them in the half. Add some salt, mix and keep it aside.\\nTake carrot, leeks, cabbage, and banana pepper, clean and wash them.\\nChop the vegetables into small pieces.\\nSlice the onions and get ready with curry leaves.\\nGet ready with ginger paste, garlic paste, turmeric powder, and salt. (Refer Note 1)\\nBoil the noodles and spread it on a flat tray or on a large bowl. (Refer Note 2 & Note 3)\\nHeat the oil in deep fry cooking pot and add curry leaves. Fry them under the high flame for 20 to 30 seconds. Once it has done, add them on top of the noodles.\\nNow fry the onions. Fry them under high flame until it turns into brown color. You should stir occasionally. For me, it takes about 5 minutes. Once it has done, add them on top of the noodles. (Refer Note 4)\\nThen fry the salted soy meat. Fry them under high flame until it turns into little brown color. For me, it takes about 3 minutes. Once it fried, add them on top of the noodles.\\nNow heat the oil in a cooking pan and add cabbage. Stir and cook covered under medium flame for 1 or 2 minutes.\\nAdd the carrot and mix them well. Cook covered under medium flame for 1 or 2 minutes.\\nNow add long banana, leeks, turmeric powder, and salt. Mix and cook uncovered under medium flame for 2 or 3 minutes. You should stir occasionally to avoid burn.\\nAt last, add the ginger and garlic pastes. Stir, mix and cook uncovered under low flame for 1 minute. You should stir constantly.\\nAdd the vegetable mixture on top of the noodles. Now you have boiled noodles, all fried things, and vegetable mixture.\\nMix everything well until totally combined. I used two forks to mix them up. Though you can do by your own way.\\nTaste the noodles and adjust salt if needed.\\nThis is how to make simple vegetarian noodle recipe. Serve and enjoy this delicious and healthy vegetable noodles in Sri Lankan style.']\n",
      "\n"
     ]
    }
   ],
   "source": [
    "# Function to recommend recipes\n",
    "def recommend(ingredients):\n",
    "    # Load precomputed data and similarity matrix\n",
    "    data = pickle.load(open('Artifacts/sl_RecipeList.pkl', 'rb'))\n",
    "    similarity = pickle.load(open('Artifacts/sl_similarity.pkl', 'rb'))\n",
    "    \n",
    "    # Process the input ingredients\n",
    "    input_ingr = functions.regex_nodigits_new(ingredients)\n",
    "    input_vector = ct_vectorizer.transform([input_ingr])\n",
    "    \n",
    "    # Compute similarity scores\n",
    "    input_lsa = lsa_10.transform(input_vector)\n",
    "    scores = cosine_similarity(input_lsa, ct_lsa_10)\n",
    "    \n",
    "    # Get top 5 similar recipes\n",
    "    indices = np.argsort(scores[0])[::-1][1:6]\n",
    "    \n",
    "    # Display the recommended recipes\n",
    "    for idx in indices:\n",
    "        print(f\"Recipe Title: {data.iloc[idx]['Title']}\")\n",
    "        print(f\"Ingredients: {data.iloc[idx]['Ingredients']}\")\n",
    "        print(f\"Instructions: {data.iloc[idx]['Instructions']}\\n\")\n",
    "\n",
    "# Example usage\n",
    "recommend(\"chicken, potato, olive oil\")"
   ]
  },
  {
   "cell_type": "code",
   "execution_count": null,
   "id": "4f45923f",
   "metadata": {},
   "outputs": [],
   "source": []
  },
  {
   "cell_type": "code",
   "execution_count": null,
   "id": "3ad795f6",
   "metadata": {},
   "outputs": [],
   "source": []
  }
 ],
 "metadata": {
  "kernelspec": {
   "display_name": "Python 3",
   "language": "python",
   "name": "python3"
  },
  "language_info": {
   "codemirror_mode": {
    "name": "ipython",
    "version": 3
   },
   "file_extension": ".py",
   "mimetype": "text/x-python",
   "name": "python",
   "nbconvert_exporter": "python",
   "pygments_lexer": "ipython3",
   "version": "3.8.8"
  }
 },
 "nbformat": 4,
 "nbformat_minor": 5
}
